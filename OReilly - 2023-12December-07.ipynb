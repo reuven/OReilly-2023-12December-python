{
  "cells": [
    {
      "id": "7d24d074",
      "cell_type": "markdown",
      "source": "# Agenda\n\n1. Fundamentals of programming (and Python)\n    - What is a programming language?\n    - Values and variables\n    - Assignment to variables\n    - Different types of data\n    - Applying operators to that data\n    - Comparing values\n    - Conditionals with `if`\n    - Basic structure of Python programs\n2. Loops, lists, and tuples\n    - Additional data structures\n    - Converting from one type to another\n3. Dictionaries and files\n    - Storing and retrieving in dicts\n    - Reading from and writing to files\n4. Functions\n    - What is a function?\n    - Writing our own functions\n    - Arguments and parameters\n    - Default argument values\n    - Return values from functions\n5. Modules and packages\n    - Using modules with `import`\n    - Python standard library\n    - PyPI and using third-party modules\n    - What's next?\n\n...\n",
      "metadata": {
        "tags": [
          "show_line_numbers"
        ]
      }
    },
    {
      "id": "a3d02257-f2fa-40b8-bcde-f4e538e7888c",
      "cell_type": "markdown",
      "source": "# What is this?\n\nThis is a Jupyter notebook hosted at Noteable.io.  You can share it looking at the URL that I gave in the course notes and at the GitHub URL.\n\nJupyter works with \"cells.\"  If you just type, then enters the text that you type. The cell can contain text (Markdown format) or Python.  (You can choose at the top of the cell what type it is.)\n\n## Markdown lets me make lists:\n- One\n- Two \n- Three\n\nTo \"execute\" the cell and finish with it, I can press shift+enter.\n\n",
      "metadata": {
        "noteable": {
          "cell_type": "markdown"
        },
        "tags": [
          "show_line_numbers"
        ]
      }
    },
    {
      "id": "594dde89-8f87-4de1-89aa-ff2437e6398f",
      "cell_type": "code",
      "metadata": {
        "noteable": {
          "cell_type": "python",
          "output_collection_id": "0f177694-cf07-4451-aa02-8e2372eb8a0a"
        },
        "ExecuteTime": {
          "end_time": "2023-12-07T03:44:09.374958+00:00",
          "start_time": "2023-12-07T03:44:09.213515+00:00"
        },
        "tags": [
          "show_line_numbers"
        ]
      },
      "execution_count": null,
      "source": "print('Hello!')   # this is a call to the print function",
      "outputs": []
    },
    {
      "id": "02c7f3f1-050b-4abd-8812-dc3d65796df1",
      "cell_type": "markdown",
      "source": "# What is programming? What is Python?\n\nWhen computers were invented, each computer could solve one problem using hardware.  If your program changed, you needed to change your computer, physically!\n\nVery soon, people realized that it was better to have a general-purpose computer, and then to write different programs using languages.\n\nThe computer uses 1s and 0s for its instructions and data.  Can you write instructions using 1s and 0s? Yes, but it's really hard!\n\nProgramming languages were invented: You write in a high-level, English-like language, and the language is then translated into 1s and 0s.\n\nThere are many thousands of programming languages. Each expresses things a bit differently. Each has different advantages and disadvantges:\n\n- C runs very very fast, but is very hard to learn, and very hard to debug.\n- Java runs pretty fast, but it uses only object-oriented programming, which can be hard to learn.\n- Python doesn't run all that fast (although it's getting better). Its big advantage is readability.  It's extremely consistent and easy to understand.\n\nLow floors and high ceilings -- it's easy to get in and understand, but it doesn't have any real, inherent limits.\n\nWhere is Python used?\n\nPython is perfect for places where people are expensive and computers are cheap.  In Python, you can write and maintain your programs very quickly -- saving you on people time.  If it runs a bit more slowly... that's usually OK.\n\nPython's domains nowadays include:\n\n- Education\n- Web applications\n- Data science and machine learning\n- Automated testing\n- Devops\n\nPython is an open-source language. Yes, that means it is free of charge! But it's also maintained and developed by the people who use it.\n\n# Two ladders\n\nI think of learning a programming language as being like learning a foreign language.  That means: Lots of practice! Lots of mistakes!\n\nIf you had to learn a foreign language without a mother tongue, it would be very hard!  If you already know a language, you can say, \"This is a noun, or a verb, or an adjective.\"\n\n",
      "metadata": {
        "tags": [
          "show_line_numbers"
        ]
      }
    },
    {
      "id": "bdf4ee1b-230c-4028-8e9f-d26341735811",
      "cell_type": "code",
      "metadata": {
        "noteable": {
          "cell_type": "python",
          "output_collection_id": "b2043c7a-6c06-4684-9aac-0f2a138c8982"
        },
        "ExecuteTime": {
          "end_time": "2023-12-07T03:55:34.384104+00:00",
          "start_time": "2023-12-07T03:55:34.229121+00:00"
        },
        "tags": [
          "show_line_numbers"
        ]
      },
      "execution_count": null,
      "source": "# This is a comment. It starts with a # and goes to the end of the line.\n# Python ignores any comments in the program.\n# They are meant for people who are reading/maintaining the code.\n\n# print is a function -- a verb in the Python world\n# print displays on the screen whatever we put in its parentheses\n# here, I'm printing some text, which we call a \"string\" -- it's inside of quotes\n# Python lets you use either single quotes or double quotes. Your choice!\n\n# I can execute the cell either with shift+enter or by pressing the \"Play\" button \n# in the bottom left\nprint('Hello, world!')",
      "outputs": []
    },
    {
      "id": "b0d0f458-28bc-42b9-a99c-beea07405dd8",
      "cell_type": "code",
      "metadata": {
        "jupyter": {
          "outputs_hidden": false,
          "source_hidden": false
        },
        "noteable": {
          "cell_type": "code",
          "output_collection_id": "4c1280af-f801-4604-8447-0a6bd132b889"
        },
        "ExecuteTime": {
          "end_time": "2023-12-07T03:56:51.834146+00:00",
          "start_time": "2023-12-07T03:56:51.678971+00:00"
        },
        "tags": [
          "show_line_numbers"
        ]
      },
      "execution_count": null,
      "source": "# Python is all about data and values\n# each value has a type\n# meaning: We just printed a text string, inside of quotes\n# but there are other types of values in a language.\n# for example, we have numbers\n\nprint(5)   # here, I'm printing the number 5",
      "outputs": []
    },
    {
      "id": "1737e6b8-5ee9-4eb5-9cea-ab730376227d",
      "cell_type": "code",
      "metadata": {
        "jupyter": {
          "outputs_hidden": false,
          "source_hidden": false
        },
        "noteable": {
          "cell_type": "code",
          "output_collection_id": "661f6dc0-b5dc-41d2-81cd-6a17e50b4ae5"
        },
        "ExecuteTime": {
          "end_time": "2023-12-07T03:57:19.686890+00:00",
          "start_time": "2023-12-07T03:57:19.530678+00:00"
        },
        "tags": [
          "show_line_numbers"
        ]
      },
      "execution_count": null,
      "source": "# In Jupyter/Noteable (and not in a regular Python program!) the final\n# line of a cell, if it has a value, is displayed for us -- no print is needed!\n\n5",
      "outputs": []
    },
    {
      "id": "fd4c615a-4587-49e4-9c0e-e8fc0b388902",
      "cell_type": "code",
      "metadata": {
        "jupyter": {
          "outputs_hidden": false,
          "source_hidden": false
        },
        "noteable": {
          "cell_type": "code",
          "output_collection_id": "b5c231d8-0ebb-4aab-a932-ac9200553b68"
        },
        "ExecuteTime": {
          "end_time": "2023-12-07T03:57:38.948420+00:00",
          "start_time": "2023-12-07T03:57:38.792793+00:00"
        },
        "tags": [
          "show_line_numbers"
        ]
      },
      "execution_count": null,
      "source": "# I can also use operators to combine and perform operations on my data\n\n10 + 3",
      "outputs": []
    },
    {
      "id": "99b6c15f-96d1-48d6-9244-16bb4dea88f8",
      "cell_type": "code",
      "metadata": {
        "jupyter": {
          "outputs_hidden": false,
          "source_hidden": false
        },
        "noteable": {
          "cell_type": "code",
          "output_collection_id": "dd7b7405-6bf5-433d-afd4-472969681646"
        },
        "ExecuteTime": {
          "end_time": "2023-12-07T03:58:12.393957+00:00",
          "start_time": "2023-12-07T03:58:12.237289+00:00"
        },
        "tags": [
          "show_line_numbers"
        ]
      },
      "execution_count": null,
      "source": "# I can also add together some other types of values\n# I can add together two text strings to get a new string!\n'abcd' + 'efgh'",
      "outputs": []
    },
    {
      "id": "326496c6-7635-4cdb-9005-0fa24a6602eb",
      "cell_type": "code",
      "metadata": {
        "jupyter": {
          "outputs_hidden": false,
          "source_hidden": false
        },
        "noteable": {
          "cell_type": "code",
          "output_collection_id": "fb216f68-1512-4c41-9399-1ed24537b021"
        },
        "ExecuteTime": {
          "end_time": "2023-12-07T03:59:02.841381+00:00",
          "start_time": "2023-12-07T03:59:02.685954+00:00"
        },
        "tags": [
          "show_line_numbers"
        ]
      },
      "execution_count": null,
      "source": "# what happens if I do this:\n'10' + '3'   # here, I don't have the numbers 10 and 3, but rather the strings '10' and '3'",
      "outputs": []
    },
    {
      "id": "26fa1049-7f64-4298-af45-d6e27fba9ff1",
      "cell_type": "code",
      "metadata": {
        "jupyter": {
          "outputs_hidden": false,
          "source_hidden": false
        },
        "noteable": {
          "cell_type": "code",
          "output_collection_id": "c4567e2e-189d-4d57-956a-bc65018b9237"
        },
        "ExecuteTime": {
          "end_time": "2023-12-07T04:02:02.865678+00:00",
          "start_time": "2023-12-07T04:02:02.710121+00:00"
        },
        "tags": [
          "show_line_numbers"
        ]
      },
      "execution_count": null,
      "source": "# this is fine... but a bit boring.\n# it's more interesting if I can store these values somewhere.\n# meaning, I want to write a value once and then be able to refer to it.\n# this sounds sort of like a pronoun in a human language\n\n# in a programming language, variables are our pronouns.\n# we assign a value to a variable, and then we can refer to the variable whenever we want\n\nnumber = 10\n\nnumber + 3",
      "outputs": []
    },
    {
      "id": "b7ad1f78-579a-4e1a-b434-c90096d19855",
      "cell_type": "code",
      "metadata": {
        "jupyter": {
          "outputs_hidden": false,
          "source_hidden": false
        },
        "noteable": {
          "cell_type": "code",
          "output_collection_id": "e36e9c71-1740-4df3-a074-b4930b351e1b"
        },
        "ExecuteTime": {
          "end_time": "2023-12-07T04:02:07.002918+00:00",
          "start_time": "2023-12-07T04:02:06.847530+00:00"
        },
        "tags": [
          "show_line_numbers"
        ]
      },
      "execution_count": null,
      "source": "number - 5",
      "outputs": []
    },
    {
      "id": "ac6cc2e2-a4fc-4a1b-ab51-1adfa7c35843",
      "cell_type": "code",
      "metadata": {
        "jupyter": {
          "outputs_hidden": false,
          "source_hidden": false
        },
        "noteable": {
          "cell_type": "code",
          "output_collection_id": "053fe664-2035-4c8f-81ec-db08b97ee75d"
        },
        "ExecuteTime": {
          "end_time": "2023-12-07T04:02:14.787825+00:00",
          "start_time": "2023-12-07T04:02:14.632046+00:00"
        },
        "tags": [
          "show_line_numbers"
        ]
      },
      "execution_count": null,
      "source": "number * number    # * is multiplication",
      "outputs": []
    },
    {
      "id": "7a559e08-948b-4c8a-9668-cf97a039f02c",
      "cell_type": "markdown",
      "source": "# Assignment to variables\n\nIn Python, we can assign a value to a variable with the `=`.  This is **NOT** the same as `=` in math class, where it means that the left and right sides have the same value.  \n\nRather, `=` (assignment) in Python means:\n\n- Take the value on the right side (which is checked first)\n- Assign that value to the variable named on the left.\n\nIf the variable hasn't yet been defined, it is now! If the variable has been defined, then it now has a new value.\n\nA few things to notice about Python variables:\n\n- We don't need to declare them in advance; the first time they're assigned to, they are created.\n- Variables don't have types. Any variable can refer to any type of data in a Python program -- number, text, list, dict, etc.\n\n## Variable names\n\n- You can use any letter, digit, or `_` (underscore)\n- `_` is treated specially at the start or end of a variable name; try not to use it there\n- You should start a variable with a letter\n- Capital and lowercase letters are DIFFERENT to Python\n- Normally, we only use lowercase letters and `_` (and maybe some digits) in our variable names\n- If you want more than one word in your variable, then use `_` between those words\n- Variables *never* have quotes around their names. Strings (text) must have quotes around its content.  That's how we can distinguish between variables and text.",
      "metadata": {
        "tags": [
          "show_line_numbers"
        ]
      }
    },
    {
      "id": "658ae78a-08a4-44da-a52a-5a41ce62e8a3",
      "cell_type": "code",
      "metadata": {
        "noteable": {
          "output_collection_id": "67a01f98-6ca4-4b08-b4d5-b81e081c60f4"
        },
        "ExecuteTime": {
          "end_time": "2023-12-07T04:07:51.884075+00:00",
          "start_time": "2023-12-07T04:07:51.728608+00:00"
        },
        "tags": [
          "show_line_numbers"
        ]
      },
      "execution_count": null,
      "source": "name = 'Reuven'\nprint(name)",
      "outputs": []
    },
    {
      "id": "dae3325d-e8ca-4181-8a86-5304454b5353",
      "cell_type": "code",
      "metadata": {
        "jupyter": {
          "outputs_hidden": false,
          "source_hidden": false
        },
        "noteable": {
          "cell_type": "code",
          "output_collection_id": "f3ed3730-464e-4159-956c-0a8e80adb622"
        },
        "ExecuteTime": {
          "end_time": "2023-12-07T04:08:14.887976+00:00",
          "start_time": "2023-12-07T04:08:14.733288+00:00"
        },
        "tags": [
          "show_line_numbers"
        ]
      },
      "execution_count": null,
      "source": "# 'Hello, ' is a string\n# name is a variable containing a string\n# we can connect them with +\n\nprint('Hello, ' + name)",
      "outputs": []
    },
    {
      "id": "31f040b9-69e1-4817-8310-5a897f64e816",
      "cell_type": "code",
      "metadata": {
        "jupyter": {
          "outputs_hidden": false,
          "source_hidden": false
        },
        "noteable": {
          "cell_type": "code",
          "output_collection_id": "d6dcc04a-6d02-4d08-b2cf-5d4786a1ccc1"
        },
        "ExecuteTime": {
          "end_time": "2023-12-07T04:09:00.124973+00:00",
          "start_time": "2023-12-07T04:08:59.970717+00:00"
        },
        "tags": [
          "show_line_numbers"
        ]
      },
      "execution_count": null,
      "source": "# what happens if there is no space after the comma?\nprint('Hello,' + name)",
      "outputs": []
    },
    {
      "id": "dadf90d2-b482-4fad-9d81-3ce157d36342",
      "cell_type": "code",
      "metadata": {
        "jupyter": {
          "outputs_hidden": false,
          "source_hidden": false
        },
        "noteable": {
          "cell_type": "code",
          "output_collection_id": "e5fcc368-802e-46fa-8098-a7a180680ca5"
        },
        "ExecuteTime": {
          "end_time": "2023-12-07T04:09:54.023197+00:00",
          "start_time": "2023-12-07T04:09:53.526891+00:00"
        },
        "tags": [
          "show_line_numbers"
        ]
      },
      "execution_count": null,
      "source": "# what happens if I try to combine (with +) text and a number?\nx = 10\ny = '20'\n\n# what is x + y?\n# if Python treats them both as numbers, we'll get 30\n# if Python treats them both as text, we'll get '1020'\n\nx + y",
      "outputs": []
    },
    {
      "id": "d7fa5991-2fc9-4c28-8ea2-912b7a1b4c4c",
      "cell_type": "code",
      "metadata": {
        "jupyter": {
          "outputs_hidden": false,
          "source_hidden": false
        },
        "noteable": {
          "cell_type": "code",
          "output_collection_id": "a7faf43b-79c4-4bd7-825f-9b0fcfda7e2a"
        },
        "ExecuteTime": {
          "end_time": "2023-12-07T04:10:52.197543+00:00",
          "start_time": "2023-12-07T04:10:52.043481+00:00"
        },
        "tags": [
          "show_line_numbers"
        ]
      },
      "execution_count": null,
      "source": "# these are different types of data -- numbers and strings\n# we need to convert one to the other before we can actually combine them with +\n\n\n",
      "outputs": []
    },
    {
      "id": "70cc2cbb-a503-49f8-a065-d7fcfc36afc9",
      "cell_type": "markdown",
      "source": "# Exercise: Simple calculator\n\n1. Assign a number to the variable `x`.\n2. Assign another number to the variable `y`.\n3. Print the sum of these two numbers.\n\n- If you get this to work, use the green thumbs-up\n- If you can't get it to work, use the red thumbs-down *AND* tell me in the Q&A what's going wrong, so that I can try to help! You can even paste code there.",
      "metadata": {
        "tags": [
          "show_line_numbers"
        ]
      }
    },
    {
      "id": "f5f761be-c0a5-4171-80bb-f485750e0c19",
      "cell_type": "code",
      "metadata": {
        "noteable": {
          "output_collection_id": "3a183539-2da3-46db-86e0-0dea567b214c"
        },
        "ExecuteTime": {
          "end_time": "2023-12-07T04:15:03.404493+00:00",
          "start_time": "2023-12-07T04:15:03.249672+00:00"
        },
        "tags": [
          "show_line_numbers"
        ]
      },
      "execution_count": null,
      "source": "x = 25\ny = 38\n\nprint(x+y)",
      "outputs": []
    },
    {
      "id": "4f370906-d780-4441-8253-82cb3f81edb3",
      "cell_type": "code",
      "metadata": {
        "jupyter": {
          "outputs_hidden": false,
          "source_hidden": false
        },
        "noteable": {
          "cell_type": "code",
          "output_collection_id": "a4736c6a-a6fe-4942-b0f8-bffcd81e4fc7"
        },
        "ExecuteTime": {
          "end_time": "2023-12-07T04:15:12.477920+00:00",
          "start_time": "2023-12-07T04:15:12.317572+00:00"
        },
        "tags": [
          "show_line_numbers"
        ]
      },
      "execution_count": null,
      "source": "total = x + y   # assign to a new variable\nprint(total)",
      "outputs": []
    },
    {
      "id": "e6ba0d19-e9dc-4d7e-85da-3bf573e1dbba",
      "cell_type": "markdown",
      "source": "# Exercise: Simple greeting\n\n1. Assign your name to a variable `name`\n2. Print a greeting to yourself starting with \"Hello\" and ending with a period or exclamation point.\n\nThe result should look like:\n\n    Hello, Reuven!\n    ",
      "metadata": {
        "tags": [
          "show_line_numbers"
        ]
      }
    },
    {
      "id": "85a11126-09e2-4571-ba43-43ae9cd80299",
      "cell_type": "code",
      "metadata": {
        "noteable": {
          "output_collection_id": "b18c8ac6-103d-40fa-a6f9-bb37f6051576"
        },
        "ExecuteTime": {
          "end_time": "2023-12-07T04:19:10.121493+00:00",
          "start_time": "2023-12-07T04:19:09.966930+00:00"
        },
        "tags": [
          "show_line_numbers"
        ]
      },
      "execution_count": null,
      "source": "name = 'Reuven'\n\nprint('Hello, ' + name + '!')",
      "outputs": []
    },
    {
      "id": "4ae3416e-cac7-4af3-a582-2ed3f8e64699",
      "cell_type": "code",
      "metadata": {
        "jupyter": {
          "outputs_hidden": false,
          "source_hidden": false
        },
        "noteable": {
          "cell_type": "code",
          "output_collection_id": "e2e80bc0-57b4-4a2e-b87e-1f1ee2e1cb04"
        },
        "ExecuteTime": {
          "end_time": "2023-12-07T04:21:02.584960+00:00",
          "start_time": "2023-12-07T04:21:02.428963+00:00"
        },
        "tags": [
          "show_line_numbers"
        ]
      },
      "execution_count": null,
      "source": "# why does this not work?\n\nname='Peter'\nprint('Hello, ' + name + '!')",
      "outputs": []
    },
    {
      "id": "b4ddf45a-4ef9-4af6-932d-da99a686ce58",
      "cell_type": "code",
      "metadata": {
        "jupyter": {
          "outputs_hidden": false,
          "source_hidden": false
        },
        "noteable": {
          "cell_type": "code",
          "output_collection_id": "d29dec44-7e74-419d-a3ce-a2ce473d8028"
        },
        "ExecuteTime": {
          "end_time": "2023-12-07T04:22:16.134036+00:00",
          "start_time": "2023-12-07T04:22:15.979547+00:00"
        },
        "tags": [
          "show_line_numbers"
        ]
      },
      "execution_count": null,
      "source": "name = 'Pradeep'\nprint(\"hello \" + name + \"!\")",
      "outputs": []
    },
    {
      "id": "05c3099c-8a34-471c-92ad-1d5d102cce57",
      "cell_type": "code",
      "metadata": {
        "noteable": {
          "output_collection_id": "69aabccb-e700-46d3-bf92-fc990a684510"
        },
        "ExecuteTime": {
          "end_time": "2023-12-07T04:23:17.301881+00:00",
          "start_time": "2023-12-07T04:23:17.147565+00:00"
        },
        "tags": [
          "show_line_numbers"
        ]
      },
      "execution_count": null,
      "source": "# this is boring, because we sometimes might want to get input from the user\n# we can do that with the \"input\" function!\n\n",
      "outputs": []
    },
    {
      "id": "725bc8cc-39b8-43f9-ae1a-de866ed69c0d",
      "cell_type": "markdown",
      "source": "# Next up\n\n- Getting input from the user with `input`\n- Assigning input to a variable\n- Operators\n- `if` and conditional operations\n\nResume in 10 minutes",
      "metadata": {
        "tags": [
          "show_line_numbers"
        ]
      }
    },
    {
      "id": "0883fd69-cecb-49a7-ae3a-d609ec6a2ff4",
      "cell_type": "code",
      "metadata": {
        "noteable": {
          "cell_type": "python",
          "output_collection_id": "ddc73e74-5b6c-4470-91b9-91ec2d0bbebf"
        },
        "ExecuteTime": {
          "end_time": "2023-12-07T04:37:27.781938+00:00",
          "start_time": "2023-12-07T04:37:27.621182+00:00"
        },
        "tags": [
          "show_line_numbers"
        ]
      },
      "execution_count": null,
      "source": "name = 'HG'\nprint(\"Hello \" +name +\" !\") ",
      "outputs": []
    },
    {
      "id": "96eb9d4f-e994-4364-be42-929f7bf71d58",
      "cell_type": "code",
      "metadata": {
        "jupyter": {
          "outputs_hidden": false,
          "source_hidden": false
        },
        "noteable": {
          "cell_type": "code",
          "output_collection_id": "e5672823-5796-4c93-ab4f-36a5dbed321b"
        },
        "ExecuteTime": {
          "end_time": "2023-12-07T04:40:29.856931+00:00",
          "start_time": "2023-12-07T04:40:20.628538+00:00"
        },
        "tags": [
          "show_line_numbers"
        ]
      },
      "execution_count": null,
      "source": "# so far, we have been hard-coding values into our variables -- that is, the \n# program can't really vary very much (or at all). What we want is to get\n# the user's input, and then we can use it in our program\n\n# the way we get input from the user is with the \"input\" function:\n# - we invoke input (all lowercase)\n# - inside of the round parentheses, we put whatever text string should be displayed\n#    (as a prompt/question)\n# - when we run the function, Python pauses and waits for the user to type something\n# - we get a value back from input -- whatever the user typed -- as a text string\n# - typically, we'll then assign that string value to a variable\n\n# once again, the right side of assignment executes before the left side\nname = input('Enter your name: ')",
      "outputs": []
    },
    {
      "id": "81921e07-7f5e-470d-a6c7-0f6e3f2b1200",
      "cell_type": "code",
      "metadata": {
        "jupyter": {
          "outputs_hidden": false,
          "source_hidden": false
        },
        "noteable": {
          "cell_type": "code",
          "output_collection_id": "6b2038ac-8924-4172-bb10-8bdd05cc03e0"
        },
        "ExecuteTime": {
          "end_time": "2023-12-07T04:40:37.513806+00:00",
          "start_time": "2023-12-07T04:40:37.359420+00:00"
        },
        "tags": [
          "show_line_numbers"
        ]
      },
      "execution_count": null,
      "source": "print('Hello, ' + name + '!')",
      "outputs": []
    },
    {
      "id": "d755b255-8b92-41f6-a142-2d1d78e4d3eb",
      "cell_type": "code",
      "metadata": {
        "jupyter": {
          "outputs_hidden": false,
          "source_hidden": false
        },
        "noteable": {
          "cell_type": "code",
          "output_collection_id": "e63384c9-09ed-44da-be3a-1a426f100fa7"
        },
        "ExecuteTime": {
          "end_time": "2023-12-07T04:42:11.084033+00:00",
          "start_time": "2023-12-07T04:42:10.926340+00:00"
        },
        "tags": [
          "show_line_numbers"
        ]
      },
      "execution_count": null,
      "source": "# many programming languages require that you end a command/statement with\n# a semicolon (;) at the end of the line.  Not so in Python -- the end of the \n# line is enough.\n\nprint('abcd')\nprint('efgh')\nprint('ijkl')\n",
      "outputs": []
    },
    {
      "id": "a43527c5-fb07-4000-872e-b5690744fc13",
      "cell_type": "code",
      "metadata": {
        "jupyter": {
          "outputs_hidden": false,
          "source_hidden": false
        },
        "noteable": {
          "cell_type": "code",
          "output_collection_id": "33b88c66-c125-4aa4-aed8-0321d391e16d"
        },
        "ExecuteTime": {
          "end_time": "2023-12-07T04:43:42.289119+00:00",
          "start_time": "2023-12-07T04:43:33.883976+00:00"
        },
        "tags": [
          "show_line_numbers"
        ]
      },
      "execution_count": null,
      "source": "# when I run input, I'm giving it a text string that I want it to display\n# that can be any string - including one that we built out of another variable.\n\nfirst_name = input('Enter your first name: ')\nlast_name = input('Enter your last name, ' + first_name + ': ')",
      "outputs": []
    },
    {
      "id": "6fdd1854-eb4a-46c5-bd78-b1f4d6aad566",
      "cell_type": "markdown",
      "source": "# Exercise: Name and country\n\n1. Ask the user to enter their name, and assign to the variable `name`.\n2. Ask the user to enter their country, and assign to the variable `country`.\n3. Print a nice greeting mentioning the user and their country.",
      "metadata": {
        "tags": [
          "show_line_numbers"
        ]
      }
    },
    {
      "id": "92d6f765-5408-41ef-bd93-2fd921f73b81",
      "cell_type": "code",
      "metadata": {
        "noteable": {
          "output_collection_id": "e906b231-4b60-42c2-bb92-37d0df0a6c71"
        },
        "ExecuteTime": {
          "end_time": "2023-12-07T04:49:41.575848+00:00",
          "start_time": "2023-12-07T04:49:38.886489+00:00"
        },
        "tags": [
          "show_line_numbers"
        ]
      },
      "execution_count": null,
      "source": "name = input ('Enter your name: ') ",
      "outputs": []
    },
    {
      "id": "5ede7192-256c-46f1-917e-2ecb0c707961",
      "cell_type": "code",
      "metadata": {
        "jupyter": {
          "outputs_hidden": false,
          "source_hidden": false
        },
        "noteable": {
          "cell_type": "code",
          "output_collection_id": "19ec61b2-4f67-4c1b-9861-f90ec2006e58"
        },
        "ExecuteTime": {
          "end_time": "2023-12-07T04:50:13.494035+00:00",
          "start_time": "2023-12-07T04:50:04.814130+00:00"
        },
        "tags": [
          "show_line_numbers"
        ]
      },
      "execution_count": null,
      "source": "name = input(\"Enter your name : \")\ncountry = input(\"ENter your country \"+name +\" : \")",
      "outputs": []
    },
    {
      "id": "ab8c3983-d578-4da6-8633-81c62c0d07ef",
      "cell_type": "code",
      "metadata": {
        "jupyter": {
          "outputs_hidden": false,
          "source_hidden": false
        },
        "noteable": {
          "cell_type": "code",
          "output_collection_id": "35804065-f8aa-49db-bdfa-dd2e4db1b7cf"
        },
        "ExecuteTime": {
          "end_time": "2023-12-07T04:51:25.905816+00:00",
          "start_time": "2023-12-07T04:51:23.233749+00:00"
        },
        "tags": [
          "show_line_numbers"
        ]
      },
      "execution_count": null,
      "source": "# you started the text string with double quotes, and ended with a single quote\nanme = input ('Enter your name:')",
      "outputs": []
    },
    {
      "id": "0a612fc4-4efe-4862-9dd8-3cc587d019d0",
      "cell_type": "code",
      "metadata": {
        "jupyter": {
          "outputs_hidden": false,
          "source_hidden": false
        },
        "noteable": {
          "cell_type": "code",
          "output_collection_id": "db5e6eb2-62b9-4f59-b07b-a25e0b227fbd"
        },
        "ExecuteTime": {
          "end_time": "2023-12-07T04:51:46.938974+00:00",
          "start_time": "2023-12-07T04:51:42.544569+00:00"
        },
        "tags": [
          "show_line_numbers"
        ]
      },
      "execution_count": null,
      "source": "name = input(\"please enter your name\")\ncountry = input(\"please enter your country\")\nprint(\"Hello \" + name + \" from \" + country)",
      "outputs": []
    },
    {
      "id": "83de8877-8849-4c25-b108-154b54046de4",
      "cell_type": "code",
      "metadata": {
        "jupyter": {
          "outputs_hidden": false,
          "source_hidden": false
        },
        "noteable": {
          "cell_type": "code",
          "output_collection_id": "baef256e-fe4c-4931-bcab-a9233ffaf0dc"
        },
        "ExecuteTime": {
          "end_time": "2023-12-07T04:52:11.721921+00:00",
          "start_time": "2023-12-07T04:52:09.376656+00:00"
        },
        "tags": [
          "show_line_numbers"
        ]
      },
      "execution_count": null,
      "source": "Country=input('Enter your country, ' + name + '! ' )",
      "outputs": []
    },
    {
      "id": "cf1811db-98ec-4592-94aa-a8ffa2a333a2",
      "cell_type": "code",
      "metadata": {
        "jupyter": {
          "outputs_hidden": false,
          "source_hidden": false
        },
        "noteable": {
          "cell_type": "code",
          "output_collection_id": "e8b5f8e9-17a6-4c8a-b980-35fb0c43ad2f"
        },
        "ExecuteTime": {
          "end_time": "2023-12-07T04:52:51.898148+00:00",
          "start_time": "2023-12-07T04:52:51.732528+00:00"
        },
        "tags": [
          "show_line_numbers"
        ]
      },
      "execution_count": null,
      "source": "# \"is not callable\" usually happens when you try to use () on a string\n\ns = 'abcd'\ns()",
      "outputs": []
    },
    {
      "id": "0f575f99-4654-458f-99b4-c373ddea2c7f",
      "cell_type": "code",
      "metadata": {
        "jupyter": {
          "outputs_hidden": false,
          "source_hidden": false
        },
        "noteable": {
          "cell_type": "code",
          "output_collection_id": "27a48414-d6ad-4f3e-b36f-395dd810d4f7"
        },
        "ExecuteTime": {
          "end_time": "2023-12-07T04:53:33.490677+00:00",
          "start_time": "2023-12-07T04:53:33.334635+00:00"
        },
        "tags": [
          "show_line_numbers"
        ]
      },
      "execution_count": null,
      "source": "# SC\nname = input ('enter your name: ')\ncountry = input ('enter your country, ' + name + '!')",
      "outputs": []
    },
    {
      "id": "81d0e7af-40e0-4ac5-bfff-343e28bf4294",
      "cell_type": "code",
      "metadata": {
        "jupyter": {
          "outputs_hidden": false,
          "source_hidden": false
        },
        "noteable": {
          "cell_type": "code",
          "output_collection_id": "1eacdb68-28e2-4904-8854-fe5e9c18c8b1"
        },
        "ExecuteTime": {
          "end_time": "2023-12-07T04:54:28.193223+00:00",
          "start_time": "2023-12-07T04:54:22.719442+00:00"
        },
        "tags": [
          "show_line_numbers"
        ]
      },
      "execution_count": null,
      "source": "name = input('Enter your name')\ncountry = input('Enter your country')\nprint ('Hello, '+name+' from '+ country)",
      "outputs": []
    },
    {
      "id": "32cbe24f-20db-4d34-ba1a-4680cbe49222",
      "cell_type": "code",
      "metadata": {
        "jupyter": {
          "outputs_hidden": false,
          "source_hidden": false
        },
        "noteable": {
          "cell_type": "code",
          "output_collection_id": "56ec8571-bd9b-4e44-a75c-d8b0b1d861b1"
        },
        "ExecuteTime": {
          "end_time": "2023-12-07T04:55:14.115884+00:00",
          "start_time": "2023-12-07T04:55:07.499786+00:00"
        },
        "tags": [
          "show_line_numbers"
        ]
      },
      "execution_count": null,
      "source": "# MH\nname=input('Enter your name')\ncountry=input('Enter your country?')\nprint('Hi ' + name + ' glad you could join from ' + country )",
      "outputs": []
    },
    {
      "id": "bd5606b8-d3db-4a50-b488-74a9d9025dd2",
      "cell_type": "code",
      "metadata": {
        "jupyter": {
          "outputs_hidden": false,
          "source_hidden": false
        },
        "noteable": {
          "cell_type": "code",
          "output_collection_id": "02219a0c-283b-42f9-a641-c6c8d17cd59f"
        },
        "ExecuteTime": {
          "end_time": "2023-12-07T04:56:05.294383+00:00",
          "start_time": "2023-12-07T04:55:58.343227+00:00"
        },
        "tags": [
          "show_line_numbers"
        ]
      },
      "execution_count": null,
      "source": "name = input('Enter your name: ')\ncountry = input('Enter your country: ')\n\nprint('Hello, ' + name + ', from ' + country + '.')",
      "outputs": []
    },
    {
      "id": "cb0eac5b-8cc6-4611-8c1d-05e4861021bf",
      "cell_type": "code",
      "metadata": {
        "jupyter": {
          "outputs_hidden": false,
          "source_hidden": false
        },
        "noteable": {
          "cell_type": "code",
          "output_collection_id": "26aa8284-dcbc-48a5-90d7-0210634ddccd"
        },
        "ExecuteTime": {
          "end_time": "2023-12-07T04:57:53.301009+00:00",
          "start_time": "2023-12-07T04:57:46.003299+00:00"
        },
        "tags": [
          "show_line_numbers"
        ]
      },
      "execution_count": null,
      "source": "# this whole business of using + between strings is ... frustrating\n# 1. Easy to get it wrong\n# 2. It's super ugly!\n# 3. It only works with strings. If I want to have a number in my greeting, it won't work\n\n# f-strings to the rescue! (F stands for either \"Format\" or \"Fancy\")\n\n# an f-string is just like a regular string, but it has f before the opening quote\n# inside of an f-string, you can have {}\n# inside of the {}, you can put any Python expression, including a variable\n\nname = input('Enter your name: ')\ncountry = input('Enter your country: ')\n\nprint(f'Hello, {name} from {country}.')",
      "outputs": []
    },
    {
      "id": "98a41630-38d7-4fe9-934b-9a9a7acab023",
      "cell_type": "code",
      "metadata": {
        "jupyter": {
          "outputs_hidden": false,
          "source_hidden": false
        },
        "noteable": {
          "cell_type": "code",
          "output_collection_id": "96051e48-6ca9-40db-8225-13216063ec5e"
        },
        "ExecuteTime": {
          "end_time": "2023-12-07T04:58:18.665756+00:00",
          "start_time": "2023-12-07T04:58:18.510820+00:00"
        },
        "tags": [
          "show_line_numbers"
        ]
      },
      "execution_count": null,
      "source": "# I can put any type of data in the {} of an f-string\n# The data is turned into a string\n\nx = 10\nprint(f'My favorite number is {x}.')",
      "outputs": []
    },
    {
      "id": "25d33dbd-c079-4b22-9978-da3803af4fb7",
      "cell_type": "code",
      "metadata": {
        "jupyter": {
          "outputs_hidden": false,
          "source_hidden": false
        },
        "noteable": {
          "cell_type": "code",
          "output_collection_id": "633ffb38-f7a0-4024-a15a-57c4a81bb5ed"
        },
        "ExecuteTime": {
          "end_time": "2023-12-07T04:58:39.882945+00:00",
          "start_time": "2023-12-07T04:58:39.728070+00:00"
        },
        "tags": [
          "show_line_numbers"
        ]
      },
      "execution_count": null,
      "source": "# I can even do this:\n\nx = 10\ny = 20\n\nprint(f'{x} + {y} = {x+y}')  # the {} can contain an expression",
      "outputs": []
    },
    {
      "id": "f0201bf5-51aa-4371-87b5-04b7b78bb02d",
      "cell_type": "markdown",
      "source": "# Comparison\n\nWe've seen that we can use `+` to add together two numbers or two strings. But there are many other operators in Python. Some of them are *comparison operators*, which compare two values.\n\nThe most famous and useful of them is `==`, which returns `True` if the two values are the same and `False` if the two values are not the same.\n\nNotice that we have to compare with `==`! We cannot compare with `=`, which is for assignment.",
      "metadata": {
        "tags": [
          "show_line_numbers"
        ]
      }
    },
    {
      "id": "5bfa36c2-24df-4309-8f1f-0ba5dda535be",
      "cell_type": "code",
      "metadata": {
        "noteable": {
          "output_collection_id": "981cc046-263b-4b45-b4d6-b5e47d599e17"
        },
        "ExecuteTime": {
          "end_time": "2023-12-07T05:01:28.385250+00:00",
          "start_time": "2023-12-07T05:01:28.228536+00:00"
        },
        "tags": [
          "show_line_numbers"
        ]
      },
      "execution_count": null,
      "source": "10 == 10    ",
      "outputs": []
    },
    {
      "id": "2a058367-8385-43df-957f-15050197d550",
      "cell_type": "code",
      "metadata": {
        "jupyter": {
          "outputs_hidden": false,
          "source_hidden": false
        },
        "noteable": {
          "cell_type": "code",
          "output_collection_id": "57fb63b9-ad71-4742-bc87-a76eee84e2f4"
        },
        "ExecuteTime": {
          "end_time": "2023-12-07T05:01:46.186051+00:00",
          "start_time": "2023-12-07T05:01:46.029030+00:00"
        },
        "tags": [
          "show_line_numbers"
        ]
      },
      "execution_count": null,
      "source": "# I can use variables, too\nx = 10\n\nx == 10  ",
      "outputs": []
    },
    {
      "id": "2af2e374-4e3d-43bb-adff-9c0aeab79d38",
      "cell_type": "code",
      "metadata": {
        "jupyter": {
          "outputs_hidden": false,
          "source_hidden": false
        },
        "noteable": {
          "cell_type": "code",
          "output_collection_id": "efe9f30a-a2b5-4b5c-8055-f441205c2263"
        },
        "ExecuteTime": {
          "end_time": "2023-12-07T05:01:56.017491+00:00",
          "start_time": "2023-12-07T05:01:55.862082+00:00"
        },
        "tags": [
          "show_line_numbers"
        ]
      },
      "execution_count": null,
      "source": "# two variables\nx = 10\ny = 10\n\nx == y",
      "outputs": []
    },
    {
      "id": "a4c55185-3208-430d-901f-2e059d627a63",
      "cell_type": "code",
      "metadata": {
        "jupyter": {
          "outputs_hidden": false,
          "source_hidden": false
        },
        "noteable": {
          "cell_type": "code",
          "output_collection_id": "ce6af39b-59f5-409b-93fd-3239953b75be"
        },
        "ExecuteTime": {
          "end_time": "2023-12-07T05:02:02.498332+00:00",
          "start_time": "2023-12-07T05:02:02.342403+00:00"
        },
        "tags": [
          "show_line_numbers"
        ]
      },
      "execution_count": null,
      "source": "x = 10\ny = 20\n\nx == y",
      "outputs": []
    },
    {
      "id": "68618ac1-611b-4499-af9f-170b36fc1c4c",
      "cell_type": "markdown",
      "source": "# All comparison operators\n\n- `==`, equality\n- `!=`, inequality (opposite of `==`), it's supposed to be ≠\n- `<`, less than\n- `>`, greater than\n- `<=`, less than or equals\n- `>=`, greater than or equals\n\nAll of these return `True` or `False`, what we call \"boolean values\" in programming.  Notice that `True` and `False` are capitalized, which is very unusual in Python. But they are special, unusual values.",
      "metadata": {
        "tags": [
          "show_line_numbers"
        ]
      }
    },
    {
      "id": "855ad3d8-56a1-44df-af67-775e19c1b262",
      "cell_type": "markdown",
      "source": "# Conditionals\n\nSoftware is all about making decisions.\n\n- If the cursor is over a menu, we want to show a hand cursor.\n- If your bank balance is negative, then we want to show it in red\n- If the e-mail contains suspicious content, then we want to mark it as spam.\n\nThe way that we make decisions is with an `if` statement. The way that `if` checks is with conditions -- checking if something is `True` or `False`.\n\n",
      "metadata": {
        "noteable": {
          "cell_type": "markdown"
        },
        "tags": [
          "show_line_numbers"
        ]
      }
    },
    {
      "id": "90a8e855-9d6a-475f-b27f-0719ae524331",
      "cell_type": "code",
      "metadata": {
        "noteable": {
          "output_collection_id": "e74bb221-a381-48de-8e0a-d2db5adca2c7"
        },
        "ExecuteTime": {
          "end_time": "2023-12-07T05:15:04.980225+00:00",
          "start_time": "2023-12-07T05:15:02.167972+00:00"
        },
        "tags": [
          "show_line_numbers"
        ]
      },
      "execution_count": null,
      "source": "name = input('Enter your name: ')\n\n# let's compare name (the variable) with 'Reuven' the string\n# that comparison will give us True or False\n\n# if looks to its right, and checks if it has a True or False value\n# - if it's True, then the if's block is executed\n# - if not, then the else's block is executed\n\n# at the end of the \"if\" line, we have a : which tells Python: a block is coming\n# no colon, no block -- they always go together\n# a block is one or more indented lines\n# - Python does *not* use {} or begin/end or if/fi to indicate that blocks start and end\n# - indentation is the way that we do it in Python\n# - traditionally, we use 4 spaces for each level of indentation, not tabs\n# - in Jupyter/Noteable, hitting tab will indent you 1 level (4 spaces), shift tab un-indents\n\n# else is optional; you don't need an else block\n# else doesn't take a condition -- it's the opposite of if\n# if/else guarantees that one, and only one, of these blocks will run\n\nif name == 'Reuven':\n    print('Hello, boss!')\n    print('It has been far too long!')\nelse:\n    print(f'Hello, {name}.')\n    \nprint('Whoever you are, welcome!')    ",
      "outputs": []
    },
    {
      "id": "c041d011-5e5d-4981-a086-dc7910872eb9",
      "cell_type": "code",
      "metadata": {
        "jupyter": {
          "outputs_hidden": false,
          "source_hidden": false
        },
        "noteable": {
          "cell_type": "code"
        },
        "tags": [
          "show_line_numbers"
        ]
      },
      "execution_count": null,
      "source": "name=input('enter name')\nif name == 'safal':\n    print('hi')\nelse:\n    print('bye')",
      "outputs": []
    },
    {
      "id": "4b6983b4-ef11-46ba-bb09-b4aeb6f8fbac",
      "cell_type": "code",
      "metadata": {
        "jupyter": {
          "outputs_hidden": false,
          "source_hidden": false
        },
        "noteable": {
          "cell_type": "code",
          "output_collection_id": "ce842968-6cf7-44a6-a81d-46db87da87e4"
        },
        "ExecuteTime": {
          "end_time": "2023-12-07T05:16:47.155174+00:00",
          "start_time": "2023-12-07T05:16:46.999977+00:00"
        },
        "tags": [
          "show_line_numbers"
        ]
      },
      "execution_count": null,
      "source": "x = 10\ny = 20\n\nif x == 10:\n    if y == 20:\n        print('Great -- both are what we want!')\n    else:\n        print('oh no -- x is 10, but y is not 20')\nelse:\n    print(f'Worst of all, x is not 10')",
      "outputs": []
    },
    {
      "id": "fe515072-e75f-490d-8046-23b57868d34f",
      "cell_type": "code",
      "metadata": {
        "jupyter": {
          "outputs_hidden": false,
          "source_hidden": false
        },
        "noteable": {
          "cell_type": "code",
          "output_collection_id": "247383c8-7008-47b4-a438-1caaf3b0db95"
        },
        "ExecuteTime": {
          "end_time": "2023-12-07T05:17:15.106183+00:00",
          "start_time": "2023-12-07T05:17:14.950633+00:00"
        },
        "tags": [
          "show_line_numbers"
        ]
      },
      "execution_count": null,
      "source": "# comparisons work on numbers... but they also work on text!\n\nx = 'abcd'\ny = 'efgh'\n\nx == y",
      "outputs": []
    },
    {
      "id": "1f26fc84-b07b-4ed1-9bb4-24ac0a2d74ae",
      "cell_type": "code",
      "metadata": {
        "jupyter": {
          "outputs_hidden": false,
          "source_hidden": false
        },
        "noteable": {
          "cell_type": "code",
          "output_collection_id": "b39d2b5f-8f97-4efe-896e-979a16966c01"
        },
        "ExecuteTime": {
          "end_time": "2023-12-07T05:17:29.619162+00:00",
          "start_time": "2023-12-07T05:17:29.463505+00:00"
        },
        "tags": [
          "show_line_numbers"
        ]
      },
      "execution_count": null,
      "source": "# what if I do this:\n\nx < y",
      "outputs": []
    },
    {
      "id": "7a4782c5-72c3-4b3b-a86f-fbe0d73d6a2b",
      "cell_type": "code",
      "metadata": {
        "jupyter": {
          "outputs_hidden": false,
          "source_hidden": false
        },
        "noteable": {
          "cell_type": "code"
        },
        "tags": [
          "show_line_numbers"
        ]
      },
      "execution_count": null,
      "source": "# when we use < or > with text strings, it's a dictionary comparison - which \n# comes first alphabetically?\n\n# this assumes that all letters are lowercase, because all capital letters\n# come before all lowercase letters.",
      "outputs": []
    },
    {
      "id": "ac71fcbf-4ccf-4f9a-a49c-67e9fb3c368c",
      "cell_type": "code",
      "metadata": {
        "jupyter": {
          "outputs_hidden": false,
          "source_hidden": false
        },
        "noteable": {
          "cell_type": "code",
          "output_collection_id": "c2eb9d75-8153-49b2-a84d-aef4ec81e936"
        },
        "ExecuteTime": {
          "end_time": "2023-12-07T05:18:39.678443+00:00",
          "start_time": "2023-12-07T05:18:39.517429+00:00"
        },
        "tags": [
          "show_line_numbers"
        ]
      },
      "execution_count": null,
      "source": "x = 10\ny = 'hello'\n\ns = f'x is {x}, and y is {y}'\nprint(s)",
      "outputs": []
    },
    {
      "id": "044fdeb4-a396-484a-93fc-b2274f15c83d",
      "cell_type": "code",
      "metadata": {
        "jupyter": {
          "outputs_hidden": false,
          "source_hidden": false
        },
        "noteable": {
          "cell_type": "code",
          "output_collection_id": "72f8d185-039d-4a5a-b5ef-ec015d0c371f"
        },
        "ExecuteTime": {
          "end_time": "2023-12-07T05:19:10.951336+00:00",
          "start_time": "2023-12-07T05:19:10.795845+00:00"
        },
        "tags": [
          "show_line_numbers"
        ]
      },
      "execution_count": null,
      "source": "x = 'abcd'\ny = 'efgh'\n\nx < y",
      "outputs": []
    },
    {
      "id": "81316f63-7d04-4928-a801-13f0cf1218bf",
      "cell_type": "code",
      "metadata": {
        "jupyter": {
          "outputs_hidden": false,
          "source_hidden": false
        },
        "noteable": {
          "cell_type": "code",
          "output_collection_id": "5a83f9f9-97fe-484b-9ae6-ad7e0d1840da"
        },
        "ExecuteTime": {
          "end_time": "2023-12-07T05:19:13.986071+00:00",
          "start_time": "2023-12-07T05:19:13.830238+00:00"
        },
        "tags": [
          "show_line_numbers"
        ]
      },
      "execution_count": null,
      "source": "x > y",
      "outputs": []
    },
    {
      "id": "88f79577-2663-4642-bc29-48f75298389b",
      "cell_type": "markdown",
      "source": "# Exercise: Which word comes first?\n\n1. Ask the user to enter a word, and assign it to `first`.\n2. Ask the user to enter a different word, and assign it to `second`.\n3. Print whether `first` comes before `second` or `second` comes before `first`\n\nExample:\n\n    Enter first: taxi\n    Enter second: cab\n    cab comes before taxi\n    \nNote:\n- only enter lowercase letters\n- make sure to enter two different words",
      "metadata": {
        "tags": [
          "show_line_numbers"
        ]
      }
    },
    {
      "id": "c45c84f0-957a-448b-98db-e22361d2d4fe",
      "cell_type": "code",
      "metadata": {
        "noteable": {
          "cell_type": "python"
        },
        "tags": [
          "show_line_numbers"
        ]
      },
      "execution_count": null,
      "source": "# AL\nfirst=print('Enter first word')\nsecond=print('Enter second word')\nif first < second:\n    print(f'{first} comes before {second}')\nelse:\n     print(f'{second} comes before {first}')",
      "outputs": []
    },
    {
      "id": "4a317b39-eb5f-427e-bc70-db0c6eb4b870",
      "cell_type": "code",
      "metadata": {
        "jupyter": {
          "outputs_hidden": false,
          "source_hidden": false
        },
        "noteable": {
          "cell_type": "code",
          "output_collection_id": "f02a15e0-2847-4af4-be70-9a3da0bd5f9b"
        },
        "ExecuteTime": {
          "end_time": "2023-12-07T05:28:00.337598+00:00",
          "start_time": "2023-12-07T05:27:54.232181+00:00"
        },
        "tags": [
          "show_line_numbers"
        ]
      },
      "execution_count": null,
      "source": "first = input('Enter first word: ')\nsecond = input('Enter second word: ')\n\nif first < second: \n    print(f'{first} comes before {second}')\nelse:\n    print(f'{second} comes before {first}')",
      "outputs": []
    },
    {
      "id": "1c840d81-48ff-4e43-8349-6c9c5b535671",
      "cell_type": "code",
      "metadata": {
        "jupyter": {
          "outputs_hidden": false,
          "source_hidden": false
        },
        "noteable": {
          "cell_type": "code",
          "output_collection_id": "b7f0c3d3-c90a-43b7-80a0-c89bc18879c7"
        },
        "ExecuteTime": {
          "end_time": "2023-12-07T05:28:24.402721+00:00",
          "start_time": "2023-12-07T05:28:24.247283+00:00"
        },
        "tags": [
          "show_line_numbers"
        ]
      },
      "execution_count": null,
      "source": "ord('a')",
      "outputs": []
    },
    {
      "id": "d9fcb5ce-ec76-4bfe-bd2c-c498ff7e9d5e",
      "cell_type": "code",
      "metadata": {
        "jupyter": {
          "outputs_hidden": false,
          "source_hidden": false
        },
        "noteable": {
          "cell_type": "code",
          "output_collection_id": "24dfcad7-03c0-4862-a4ad-7c007b890af1"
        },
        "ExecuteTime": {
          "end_time": "2023-12-07T05:28:27.779730+00:00",
          "start_time": "2023-12-07T05:28:27.612922+00:00"
        },
        "tags": [
          "show_line_numbers"
        ]
      },
      "execution_count": null,
      "source": "ord('b')",
      "outputs": []
    },
    {
      "id": "fcc2dc36-1b96-4277-b765-55bd422e0135",
      "cell_type": "code",
      "metadata": {
        "jupyter": {
          "outputs_hidden": false,
          "source_hidden": false
        },
        "noteable": {
          "cell_type": "code",
          "output_collection_id": "90724ca4-70f0-43b2-9988-03edef4cbd2c"
        },
        "ExecuteTime": {
          "end_time": "2023-12-07T05:28:40.678294+00:00",
          "start_time": "2023-12-07T05:28:40.511256+00:00"
        },
        "tags": [
          "show_line_numbers"
        ]
      },
      "execution_count": null,
      "source": "ord(' ')",
      "outputs": []
    },
    {
      "id": "501dd712-8750-426e-b770-b2303d61149f",
      "cell_type": "code",
      "metadata": {
        "jupyter": {
          "outputs_hidden": false,
          "source_hidden": false
        },
        "noteable": {
          "cell_type": "code",
          "output_collection_id": "341b1161-9b21-4fcb-9643-0f1f4eb472f6"
        },
        "ExecuteTime": {
          "end_time": "2023-12-07T05:29:16.423120+00:00",
          "start_time": "2023-12-07T05:29:12.004001+00:00"
        },
        "tags": [
          "show_line_numbers"
        ]
      },
      "execution_count": null,
      "source": "# VC\n\nfirst=input('Enter first word')\nsecond=input('Enter second word')\n\nif first < second:\n    print(f'{first} comes before {second}')\nelse:\n     print(f'{second} comes before {first}')",
      "outputs": []
    },
    {
      "id": "7afb83cb-1c44-4972-b002-ce725cd675d9",
      "cell_type": "code",
      "metadata": {
        "jupyter": {
          "outputs_hidden": false,
          "source_hidden": false
        },
        "noteable": {
          "cell_type": "code",
          "output_collection_id": "88991980-d090-447d-9ab2-0be4073ec658"
        },
        "ExecuteTime": {
          "end_time": "2023-12-07T05:30:37.523222+00:00",
          "start_time": "2023-12-07T05:30:31.380404+00:00"
        },
        "tags": [
          "show_line_numbers"
        ]
      },
      "execution_count": null,
      "source": "# KU \n\nfirst = input (\"Enter first\")\nsecond = input (\"Enter Second\")\n\nif first > second:\n    print (first)\nelse: \n    print (second)\nprint(first +\" \"+ second)",
      "outputs": []
    },
    {
      "id": "5b0c30e9-0cea-45c9-bbca-914d7ccb2895",
      "cell_type": "code",
      "metadata": {
        "jupyter": {
          "outputs_hidden": false,
          "source_hidden": false
        },
        "noteable": {
          "cell_type": "code"
        },
        "tags": [
          "show_line_numbers"
        ]
      },
      "execution_count": null,
      "source": "# AL \nfirst = input('Input the first word: ')\nsecond = input('Input the second word: ')\n\nif first < second:\n    print(f'The {first} come before the {second}')\nelse:\n    if first == second:\n        print(f'The words are thcae same')\n    else:\n        print(f'The {second} come before the {first}')\n",
      "outputs": []
    },
    {
      "id": "58bc5cdb-c63f-4110-a805-14b87c836506",
      "cell_type": "code",
      "metadata": {
        "jupyter": {
          "outputs_hidden": false,
          "source_hidden": false
        },
        "noteable": {
          "cell_type": "code",
          "output_collection_id": "881aebda-3e8e-438f-94cb-6e92dbad4e7c"
        },
        "ExecuteTime": {
          "end_time": "2023-12-07T05:32:00.075495+00:00",
          "start_time": "2023-12-07T05:31:55.651736+00:00"
        },
        "tags": [
          "show_line_numbers"
        ]
      },
      "execution_count": null,
      "source": "# MH\nfirst = input ('enter a word')\nsecond = input ('enter another word')\n\nif first<second:\n    print(f'{first} comes before {second}')\nelse:\n    print(f'{second} comes before {first}')",
      "outputs": []
    },
    {
      "id": "88d933fc-317e-495a-917f-bb4e5cf0ba3c",
      "cell_type": "code",
      "metadata": {
        "jupyter": {
          "outputs_hidden": false,
          "source_hidden": false
        },
        "noteable": {
          "cell_type": "code",
          "output_collection_id": "32f1c515-5de5-4d4a-81b3-d57ba7f50325"
        },
        "ExecuteTime": {
          "end_time": "2023-12-07T05:32:56.627484+00:00",
          "start_time": "2023-12-07T05:32:49.320536+00:00"
        },
        "tags": [
          "show_line_numbers"
        ]
      },
      "execution_count": null,
      "source": "# NT\nfirst = input('Enter your first work: ')\nsecond = input('Enter your second work: ')\nif first > second:\n    print(f\"First word {first} is greater the {second}\")\nelse:\n    print(f\"Second word {second}is greater then {first}\")",
      "outputs": []
    },
    {
      "id": "d657baba-185f-4257-939a-f75e61b30dc4",
      "cell_type": "code",
      "metadata": {
        "jupyter": {
          "outputs_hidden": false,
          "source_hidden": false
        },
        "noteable": {
          "cell_type": "code",
          "output_collection_id": "d6d34d4a-6414-48e5-9817-d981fb8e559d"
        },
        "tags": [
          "show_line_numbers"
        ],
        "ExecuteTime": {
          "end_time": "2023-12-07T05:33:45.396918+00:00",
          "start_time": "2023-12-07T05:33:37.507538+00:00"
        }
      },
      "execution_count": null,
      "source": "# KU \nfirst = input (\"Enter first\")\nsecond = input (\"Enter Second\")\n\nif first > second:  # this will show which comes later, not earlier\n    print (first)\nelse: \n    print (second)\n    \nprint(first +\" \"+ second)",
      "outputs": []
    },
    {
      "id": "2bdf72a0-33f9-4b48-80d3-bd52cb26125b",
      "cell_type": "code",
      "metadata": {
        "jupyter": {
          "outputs_hidden": false,
          "source_hidden": false
        },
        "noteable": {
          "cell_type": "code",
          "output_collection_id": "c020883e-d9d3-43c5-aa8a-c9f57e5250fd"
        },
        "ExecuteTime": {
          "end_time": "2023-12-07T05:34:59.704458+00:00",
          "start_time": "2023-12-07T05:34:55.284050+00:00"
        },
        "tags": [
          "show_line_numbers"
        ]
      },
      "execution_count": null,
      "source": "# SD\nfirst=input(f'Enter First word/number:')\nsecond=input(f'Enter Second word/number:')\nprint(f'{first} comes before {second}')\n",
      "outputs": []
    },
    {
      "id": "d69a1cac-4fc5-4ea5-9256-7c9b540a9911",
      "cell_type": "code",
      "metadata": {
        "jupyter": {
          "outputs_hidden": false,
          "source_hidden": false
        },
        "noteable": {
          "cell_type": "code",
          "output_collection_id": "98876cc9-daf9-4497-9828-ab40e770b435"
        },
        "ExecuteTime": {
          "end_time": "2023-12-07T05:36:01.652769+00:00",
          "start_time": "2023-12-07T05:35:54.882124+00:00"
        },
        "tags": [
          "show_line_numbers"
        ]
      },
      "execution_count": null,
      "source": "# AD\nfirst = input('enter first word')\nsecond = input('enter second word')\n\nif first > second:\n    print ('first is greater than second')\nelse:\n    print('otherwise')",
      "outputs": []
    },
    {
      "id": "41456000-9f4c-4232-805b-8fd1d104911b",
      "cell_type": "code",
      "metadata": {
        "jupyter": {
          "outputs_hidden": false,
          "source_hidden": false
        },
        "noteable": {
          "cell_type": "code",
          "output_collection_id": "c877f9bf-c880-4c7c-b47b-0edd85fec8a4"
        },
        "ExecuteTime": {
          "end_time": "2023-12-07T05:36:45.497109+00:00",
          "start_time": "2023-12-07T05:36:45.328506+00:00"
        },
        "tags": [
          "show_line_numbers"
        ]
      },
      "execution_count": null,
      "source": "name = 'Reuven'\nname()   # this will give me \"str is not callable\"",
      "outputs": []
    },
    {
      "id": "bb9b6d7d-68f0-47a3-be7d-077a7c3b9043",
      "cell_type": "markdown",
      "source": "# Next up\n\n- More complex comparisons\n    - `elif` (for more options than just `if` and `else`)\n    - `and` and `or`\n    - `not`\n- Turning strings into numbers\n",
      "metadata": {
        "tags": [
          "show_line_numbers"
        ]
      }
    },
    {
      "id": "d0e86625-b486-41c6-af4b-b0443c8d948c",
      "cell_type": "markdown",
      "source": "# What about other options?\n\nIn the previous exercise, there should have been three options:\n\n- `first` comes earlier alphabetically\n- `second` comes earlier alphabetically\n- They are the same word!\n\nThere are many cases in which we need more than two options for our comparisons. How can we handle that?\n\nThe answer is `elif`, another clause that can go between `if` and `else`, which has its own condition and its own block. You can have as many `elif` clauses as you want.\n\n`elif` can only come after an `if` clause. It has its own condition, which is different from `else`, which doesn't have a condition. `else` now means: If none of the above conditions were `True`, then its clause will fire.",
      "metadata": {
        "noteable": {
          "cell_type": "markdown"
        },
        "tags": [
          "show_line_numbers"
        ]
      }
    },
    {
      "id": "df5a06b4-1bba-4c97-93a6-667d4c7343fa",
      "cell_type": "code",
      "metadata": {
        "noteable": {
          "cell_type": "python",
          "output_collection_id": "53a3ecc1-df91-44ba-bb8c-4882ccccde19"
        },
        "ExecuteTime": {
          "end_time": "2023-12-07T05:53:00.310566+00:00",
          "start_time": "2023-12-07T05:52:53.993388+00:00"
        },
        "tags": [
          "show_line_numbers"
        ]
      },
      "execution_count": null,
      "source": "first = input('Enter first word: ')\nsecond = input('Enter second word: ')\n\nif first == second:\n    print(f'{first} and {second} are the same!')\nelif first < second: \n    print(f'{first} comes before {second}')\nelse:\n    print(f'{second} comes before {first}')",
      "outputs": []
    },
    {
      "id": "afe99133-ee86-47c7-a36c-8efb90646b2a",
      "cell_type": "code",
      "metadata": {
        "jupyter": {
          "outputs_hidden": false,
          "source_hidden": false
        },
        "noteable": {
          "cell_type": "code",
          "output_collection_id": "873eeab9-e5ff-4c38-878a-688240ac04a4"
        },
        "ExecuteTime": {
          "end_time": "2023-12-07T05:54:26.283699+00:00",
          "start_time": "2023-12-07T05:54:26.127753+00:00"
        },
        "tags": [
          "show_line_numbers"
        ]
      },
      "execution_count": null,
      "source": "x = 50\n\nif x > 10:\n    print(f'x > 10')\nelif x > 20:\n    print('x > 20')\nelif x > 30:\n    print('x > 30')\nelif x > 40:\n    print('x > 40')\nelse:\n    print('x is very big!')         ",
      "outputs": []
    },
    {
      "id": "62e7d60c-6d29-4161-b5a4-eb0dabfa9966",
      "cell_type": "markdown",
      "source": "# When should we use f-strings?\n\nF-strings are strings in every way imagineable. They can wherever you use strings.\n\nWhen should you use them? Whenever you have a variable or other value that you want inside of a string, and it would be annoying/ugly to have lots of + operators there.",
      "metadata": {
        "tags": [
          "show_line_numbers"
        ]
      }
    },
    {
      "id": "a0260521-7b40-4cb4-b674-2c1644604b0d",
      "cell_type": "markdown",
      "source": "# Combining conditions\n\nSometimes, we want to know if two things are `True`, not just one. Or we want to know if one of two things is `True`. \n\nWe can do this in Python with the `and` and `or` operators.\n\n- `and` connects two conditions, one on its left and another on its right. If both of these conditions return `True`, then `and` returns `True`, too. Otherwise, it returns `False`.\n- `or` connects two conditions, one on its left and another on its right. If one or both of these return `True`, then `or` returns `True`, too. Only if both of the conditions are `False` does `or` return `False`.",
      "metadata": {
        "tags": [
          "show_line_numbers"
        ]
      }
    },
    {
      "id": "5e3336bd-18ec-4a08-af75-9adade812c33",
      "cell_type": "code",
      "metadata": {
        "noteable": {
          "output_collection_id": "0c7fe2a6-9bd3-461c-bc58-3ea1dc9e0efc"
        },
        "ExecuteTime": {
          "end_time": "2023-12-07T05:58:38.899181+00:00",
          "start_time": "2023-12-07T05:58:38.743113+00:00"
        },
        "tags": [
          "show_line_numbers"
        ]
      },
      "execution_count": null,
      "source": "x = 10\ny = 20\n\n#  True   and   True    -> True\nx == 10   and  y == 20",
      "outputs": []
    },
    {
      "id": "b9ecf51c-7aca-4a56-907e-911a0e8f901b",
      "cell_type": "code",
      "metadata": {
        "jupyter": {
          "outputs_hidden": false,
          "source_hidden": false
        },
        "noteable": {
          "cell_type": "code",
          "output_collection_id": "f2633c54-9883-4103-a6f9-73d5515a4335"
        },
        "ExecuteTime": {
          "end_time": "2023-12-07T05:58:59.727637+00:00",
          "start_time": "2023-12-07T05:58:59.572413+00:00"
        },
        "tags": [
          "show_line_numbers"
        ]
      },
      "execution_count": null,
      "source": "if x == 10   and  y == 20:\n    print('Yes, both are True')\nelse:\n    print('Bad news!')",
      "outputs": []
    },
    {
      "id": "2251a6ee-f2de-40c6-b7c8-ad370628597a",
      "cell_type": "code",
      "metadata": {
        "jupyter": {
          "outputs_hidden": false,
          "source_hidden": false
        },
        "noteable": {
          "cell_type": "code",
          "output_collection_id": "9ef6c44e-d2d2-456b-950f-89124ee0e59f"
        },
        "ExecuteTime": {
          "end_time": "2023-12-07T05:59:24.932989+00:00",
          "start_time": "2023-12-07T05:59:24.777132+00:00"
        },
        "tags": [
          "show_line_numbers"
        ]
      },
      "execution_count": null,
      "source": "x = 10\ny = 20\n\n#  True   and   False --> False\nx == 10   and  y == 50",
      "outputs": []
    },
    {
      "id": "b5eb5248-a860-475d-9bf2-e22f5475c454",
      "cell_type": "code",
      "metadata": {
        "jupyter": {
          "outputs_hidden": false,
          "source_hidden": false
        },
        "noteable": {
          "cell_type": "code",
          "output_collection_id": "08f43bcd-8900-4437-80ad-d8b80ffe60d7"
        },
        "ExecuteTime": {
          "end_time": "2023-12-07T06:00:00.785245+00:00",
          "start_time": "2023-12-07T06:00:00.628332+00:00"
        },
        "tags": [
          "show_line_numbers"
        ]
      },
      "execution_count": null,
      "source": "# or works similarly, but it only needs one True value\n\nx = 10\ny = 20\n\n# True    or False -> True\nx == 10   or  y == 50",
      "outputs": []
    },
    {
      "id": "8a282721-e495-40d8-832f-59a8cb0937b9",
      "cell_type": "markdown",
      "source": "# Complex conditions\n\nWe now have the tools to perform lots of complex conditional operations:\n\n- We can compare with a large number of comparison operators\n- We can check a large number of conditions with `if`/`elif`/`else`\n- We can make a single clause dependent on multiple things by combining `and` and `or`",
      "metadata": {
        "tags": [
          "show_line_numbers"
        ]
      }
    },
    {
      "id": "58b3e572-c376-4f93-9686-b6909fdf9049",
      "cell_type": "markdown",
      "source": "# Exercise: Name and company\n\n1. Ask the user to enter their name.\n2. Ask the user to enter their company.\n3. Print one of four different options:\n    - If their name and company match yours, then say \"You must be me!\"\n    - If the name is the same but the company is different, then praise their name but be snarky about their employer.\n    - If the company is the same but the name is different, then greet your colleague\n    - If both are different, then be extra snarky.\n    ",
      "metadata": {
        "tags": [
          "show_line_numbers"
        ]
      }
    },
    {
      "id": "f12b61f8-72d6-4189-918e-c38e3e755f76",
      "cell_type": "code",
      "metadata": {
        "noteable": {
          "output_collection_id": "967f1147-5f92-4c16-98a0-d75e8dcb0051"
        },
        "ExecuteTime": {
          "end_time": "2023-12-07T06:03:38.884767+00:00",
          "start_time": "2023-12-07T06:03:38.729342+00:00"
        },
        "tags": [
          "show_line_numbers"
        ]
      },
      "execution_count": null,
      "source": "\nif (x == 10):      # () here don't help, but they don't hurt, either\n    print('Yes!')",
      "outputs": []
    },
    {
      "id": "aaca9751-c873-4382-a491-7ae501b1ed4f",
      "cell_type": "markdown",
      "source": "`!=` is the \"not equal\" operator",
      "metadata": {
        "noteable": {
          "cell_type": "markdown"
        },
        "tags": [
          "show_line_numbers"
        ]
      }
    },
    {
      "id": "7f1d348a-6ac2-44be-8e7a-2bad524136e0",
      "cell_type": "code",
      "metadata": {
        "noteable": {
          "cell_type": "python"
        },
        "tags": [
          "show_line_numbers"
        ]
      },
      "execution_count": null,
      "source": "name = input('enter name')\ncom = input('enter company')\nif name == \"Safal\" and com == 'TCS':\n    print('wow')\nelif name == 'safal' and com == 'TCS':\n    print('ok')\nelse:\n    print('bye')",
      "outputs": []
    },
    {
      "id": "3294f230-045f-429d-81ba-1da72046cc37",
      "cell_type": "code",
      "metadata": {
        "jupyter": {
          "outputs_hidden": false,
          "source_hidden": false
        },
        "noteable": {
          "cell_type": "code"
        },
        "tags": [
          "show_line_numbers"
        ]
      },
      "execution_count": null,
      "source": "name=input('enter first name')\ncompany=input('enter company name')\n\nif name=='gaurav' and company == 'abc' :\n    print(f'hello {name} welcome to comapny {company}')\nelif name =='gaurav' and company !='abc':\n    print(f'i suspect you are not from my company')\nelif name != 'gaurav' and company =='abc':\n    print(f'Welcome {name} to my company')\nelse:\n    print(f'hey {name} i suspect you are not from company')",
      "outputs": []
    },
    {
      "id": "1f3e7687-d4ca-41df-8ad2-4eee072ae6df",
      "cell_type": "code",
      "metadata": {
        "jupyter": {
          "outputs_hidden": false,
          "source_hidden": false
        },
        "noteable": {
          "cell_type": "code"
        },
        "tags": [
          "show_line_numbers"
        ]
      },
      "execution_count": null,
      "source": "if name == 'rajeev' and company == 'TCS':\n    print(f'it is me')\nelif name == 'rajeev':\n    print(f'Hey {name} you have same name.')\nelif company == 'TCS':\n    print(f'Hey {name} let us meet in {company} cafetaria')\nelse:\n    print(f'Hey {name}, tell something about your {company}')\n",
      "outputs": []
    },
    {
      "id": "74bb9dd6-562c-4960-b0bf-2816bc937694",
      "cell_type": "code",
      "metadata": {
        "jupyter": {
          "outputs_hidden": false,
          "source_hidden": false
        },
        "noteable": {
          "cell_type": "code",
          "output_collection_id": "a01f4c9e-df65-4aea-8eef-7509a84788cd"
        },
        "ExecuteTime": {
          "end_time": "2023-12-07T06:14:59.388079+00:00",
          "start_time": "2023-12-07T06:14:52.649654+00:00"
        },
        "tags": [
          "show_line_numbers"
        ]
      },
      "execution_count": null,
      "source": "name = input('Enter your name: ')\ncompany = input('Enter your company: ')\n\nif name == 'Reuven' and company == 'Lerner':\n    print('Hey, you are me!')\nelif name == 'Reuven':   \n    print('Great name, but awful company!')\nelif company == 'Lerner':\n    print('Hello, my colleague!')\nelse:\n    print('Your name and company are both awful.')",
      "outputs": []
    },
    {
      "id": "b4bd7baa-6d87-4d8f-bccf-131c15259321",
      "cell_type": "code",
      "metadata": {
        "noteable": {
          "cell_type": "python",
          "output_collection_id": "f36e78ca-b5d5-4035-a699-fc46efb92a46"
        },
        "ExecuteTime": {
          "end_time": "2023-12-07T06:16:46.223203+00:00",
          "start_time": "2023-12-07T06:16:46.064342+00:00"
        },
        "tags": [
          "show_line_numbers"
        ]
      },
      "execution_count": null,
      "source": "# SH\nname = input('enter your name')\ncompany = input('enter your company')\n\nif name =='sohan' and company =='abc':\n   print('You must be me')\nelif name =='sohan' and company !='abc':\n   print('Nice Name but different company')\nelif name !='sohan' and company=='abc':\n   print('Hello colleague')\nelse:\n    print('who are you?')\n",
      "outputs": []
    },
    {
      "id": "d3e14a36-d833-4fee-a289-4695a5d40351",
      "cell_type": "code",
      "metadata": {
        "jupyter": {
          "outputs_hidden": false,
          "source_hidden": false
        },
        "noteable": {
          "cell_type": "code",
          "output_collection_id": "16dab987-894c-4bdc-b27a-d8dc5e8ae878"
        },
        "ExecuteTime": {
          "end_time": "2023-12-07T06:18:37.196458+00:00",
          "start_time": "2023-12-07T06:18:30.765558+00:00"
        },
        "tags": [
          "show_line_numbers"
        ]
      },
      "execution_count": null,
      "source": "# VC\nname = input('Please enter your name: ')\ncompany = input('Please enter your company name:')\n\nmy_name = 'v'\nmy_company = 'vc'\n\nif name == my_name and company == my_company:\n    print(f'You must be me!')\nelif name == my_name and company != my_company:\n    print(f\"Nice name! 'Don't' here\")\nelif name != my_name and company == my_company:\n    print(f'Hi {name}!')\nelse:\n    print(f'Lost kid?!')",
      "outputs": []
    },
    {
      "id": "6cf39878-a998-4873-a91b-b33ad331a326",
      "cell_type": "markdown",
      "source": "# Converting values\n\nWe've seen that integers (whole numbers) and strings (text) are both legal Python values, but they cannot be mixed. \n\n- What if a string (e.g., from the user) needs to be turned into an integer?\n- What if an integer needs to be turned into a string?\n\nThe basic rule in Python is that if you have a value of one type, and you want to get it into another type, then you use the target type as a function. That returns a new value based on the old one, but in the new type.\n\n- Integers (whole numbers) are the `int` type in Python\n- strings (text) are the `str` type in Python",
      "metadata": {
        "tags": [
          "show_line_numbers"
        ]
      }
    },
    {
      "id": "20c1ceff-c000-444b-9603-db5eb37c6627",
      "cell_type": "code",
      "metadata": {
        "noteable": {
          "cell_type": "python",
          "output_collection_id": "d0bd7437-06bd-42d3-85e9-6c862d1fe549"
        },
        "ExecuteTime": {
          "end_time": "2023-12-07T06:19:54.027206+00:00",
          "start_time": "2023-12-07T06:19:53.863907+00:00"
        },
        "tags": [
          "show_line_numbers"
        ]
      },
      "execution_count": null,
      "source": "s = '1234'\n\ns + s",
      "outputs": []
    },
    {
      "id": "560c9662-9a24-4cf6-8132-3d619a2d62c6",
      "cell_type": "code",
      "metadata": {
        "jupyter": {
          "outputs_hidden": false,
          "source_hidden": false
        },
        "noteable": {
          "cell_type": "code",
          "output_collection_id": "73b6e756-a2ba-49e1-b0ae-16303804ba26"
        },
        "ExecuteTime": {
          "end_time": "2023-12-07T06:20:15.215217+00:00",
          "start_time": "2023-12-07T06:20:15.059161+00:00"
        },
        "tags": [
          "show_line_numbers"
        ]
      },
      "execution_count": null,
      "source": "# get a new integer based on s  -- this doesn't change s!\nint(s) ",
      "outputs": []
    },
    {
      "id": "c6bd9c59-640c-4a04-87e3-1892fe85c9f4",
      "cell_type": "code",
      "metadata": {
        "jupyter": {
          "outputs_hidden": false,
          "source_hidden": false
        },
        "noteable": {
          "cell_type": "code",
          "output_collection_id": "e02f74b0-f1ba-4e77-a402-5dab53030221"
        },
        "ExecuteTime": {
          "end_time": "2023-12-07T06:20:20.817874+00:00",
          "start_time": "2023-12-07T06:20:20.661965+00:00"
        },
        "tags": [
          "show_line_numbers"
        ]
      },
      "execution_count": null,
      "source": "int(s) + int(s)",
      "outputs": []
    },
    {
      "id": "acbcab45-0498-42fa-9afa-5637149ad090",
      "cell_type": "code",
      "metadata": {
        "jupyter": {
          "outputs_hidden": false,
          "source_hidden": false
        },
        "noteable": {
          "cell_type": "code",
          "output_collection_id": "6654e96d-7e76-4901-9330-d0a187e2b5c2"
        },
        "ExecuteTime": {
          "end_time": "2023-12-07T06:20:42.313083+00:00",
          "start_time": "2023-12-07T06:20:42.157155+00:00"
        },
        "tags": [
          "show_line_numbers"
        ]
      },
      "execution_count": null,
      "source": "# I can also say this:\ns = int(s)\n\n# this means: Take s, get an int based on it, and then assign the result back to s\n\ns * 10",
      "outputs": []
    },
    {
      "id": "28f9ba02-1a4a-4539-984f-fec1934fcdd0",
      "cell_type": "code",
      "metadata": {
        "jupyter": {
          "outputs_hidden": false,
          "source_hidden": false
        },
        "noteable": {
          "cell_type": "code",
          "output_collection_id": "8aa67b9a-84a9-46af-b78b-6a6d285f9c3c"
        },
        "ExecuteTime": {
          "end_time": "2023-12-07T06:20:57.989952+00:00",
          "start_time": "2023-12-07T06:20:57.820858+00:00"
        },
        "tags": [
          "show_line_numbers"
        ]
      },
      "execution_count": null,
      "source": "# what if the string isn't intable?\n\ns = '12ab'\n\nint(s)",
      "outputs": []
    },
    {
      "id": "695394bf-cdc4-474f-938a-a226fae32f45",
      "cell_type": "code",
      "metadata": {
        "jupyter": {
          "outputs_hidden": false,
          "source_hidden": false
        },
        "noteable": {
          "cell_type": "code",
          "output_collection_id": "99016857-6d96-4835-b5e0-2b86068bce5f"
        },
        "ExecuteTime": {
          "end_time": "2023-12-07T06:21:28.123015+00:00",
          "start_time": "2023-12-07T06:21:27.967427+00:00"
        },
        "tags": [
          "show_line_numbers"
        ]
      },
      "execution_count": null,
      "source": "# I can do the other direction, also\nn = 1234\nstr(n)  # this returns a new string, based on n",
      "outputs": []
    },
    {
      "id": "6c2fd486-eab3-4367-be8d-f230c6a49ccd",
      "cell_type": "code",
      "metadata": {
        "jupyter": {
          "outputs_hidden": false,
          "source_hidden": false
        },
        "noteable": {
          "cell_type": "code",
          "output_collection_id": "a43e1189-34fa-428c-b7b4-5337fdf1acfa"
        },
        "ExecuteTime": {
          "end_time": "2023-12-07T06:21:35.092785+00:00",
          "start_time": "2023-12-07T06:21:34.936871+00:00"
        },
        "tags": [
          "show_line_numbers"
        ]
      },
      "execution_count": null,
      "source": "str(n) * 2",
      "outputs": []
    },
    {
      "id": "3a212add-b264-4fed-b3b3-16c75f0571d8",
      "cell_type": "markdown",
      "source": "# Exercise: Guessing game\n\n1. Define a variable, `secret_number`, which contains an integer.  (Choose a good one!)\n2. Print `secret_number` for the user, so that we can debug more easily.\n3. Ask the user to guess the number\n4. Print one response:\n    - Too high\n    - Too low\n    - You got it\n\nThey only have one chance to guess.\n",
      "metadata": {
        "tags": [
          "show_line_numbers"
        ]
      }
    },
    {
      "id": "3e969337-819d-4ed4-8a84-9acafb227868",
      "cell_type": "code",
      "metadata": {
        "noteable": {
          "cell_type": "python",
          "output_collection_id": "427c7eac-b478-4803-8469-3e09a099ea15"
        },
        "ExecuteTime": {
          "end_time": "2023-12-07T06:31:44.380114+00:00",
          "start_time": "2023-12-07T06:31:40.829732+00:00"
        }
      },
      "execution_count": null,
      "source": "secret_number= 35\nprint(secret_number)\nnum=input('Guess the number: ')\nif  secret_number > 35:\n    print('Too high')\nelif secret_number < 35:\n    print('Too Low')\nelse:\n   print('You got it')",
      "outputs": []
    },
    {
      "id": "3fab99e3-d475-46ba-a1a5-fc9c085ea295",
      "cell_type": "code",
      "metadata": {
        "jupyter": {
          "outputs_hidden": false,
          "source_hidden": false
        },
        "noteable": {
          "cell_type": "code",
          "output_collection_id": "fbf88a5b-89fc-4a53-97f2-c65e8565f0c4"
        },
        "ExecuteTime": {
          "end_time": "2023-12-07T06:32:16.976353+00:00",
          "start_time": "2023-12-07T06:32:14.047864+00:00"
        }
      },
      "execution_count": null,
      "source": "# GN\ninput1 = int(input('enter any number'))\n\n",
      "outputs": []
    },
    {
      "id": "92ffe442-b237-485f-bb28-2172f40b8057",
      "cell_type": "code",
      "metadata": {
        "jupyter": {
          "outputs_hidden": false,
          "source_hidden": false
        },
        "noteable": {
          "cell_type": "code"
        }
      },
      "execution_count": null,
      "source": "# VC\nsecret_number = 98\nsecret_number\n\nuser_num = input('Guess the number!')\n\nif int(user_num) > secret_number:\n    print(f'Too High')\nelif int(user_num) < secret_number:\n    print(f'Too Low')\nelse:\n    print(f'You got it!')",
      "outputs": []
    },
    {
      "id": "82f30ebd-b5bf-4acd-bcd9-18a48ffab5ee",
      "cell_type": "code",
      "metadata": {
        "jupyter": {
          "outputs_hidden": false,
          "source_hidden": false
        },
        "noteable": {
          "cell_type": "code",
          "output_collection_id": "fe589ddf-ac9f-4334-b668-cef7d7880e49"
        },
        "ExecuteTime": {
          "end_time": "2023-12-07T06:33:28.623011+00:00",
          "start_time": "2023-12-07T06:33:22.428408+00:00"
        }
      },
      "execution_count": null,
      "source": "#SK\n\nsecret_number=input('enter a secret number')\nprint(f'secret number is {secret_number}')\nguess_num=input('Guess a number')\n\nif secret_number == guess_num:\n    print('here you go..!!')\nelif secret_number < guess_num:\n    print('high')\nelse:\n    print('low')",
      "outputs": []
    },
    {
      "id": "e636fa26-e94a-4c89-975f-c873073b78da",
      "cell_type": "code",
      "metadata": {
        "jupyter": {
          "outputs_hidden": false,
          "source_hidden": false
        },
        "noteable": {
          "cell_type": "code",
          "output_collection_id": "6b51f508-60ab-43ab-81f6-f2c93c88071c"
        },
        "ExecuteTime": {
          "end_time": "2023-12-07T06:36:05.581912+00:00",
          "start_time": "2023-12-07T06:36:00.223821+00:00"
        }
      },
      "execution_count": null,
      "source": "secret_number = 75\n\nprint(f'secret_number is {secret_number}')\n\nguess = input('Enter your guess: ')\nguess = int(guess)   # get the user's guess, and turn into an integer\n\nif guess == secret_number:\n    print('You got it!')\nelif guess < secret_number:\n    print('Too low!')\nelse:\n    print('Too high!')",
      "outputs": []
    },
    {
      "id": "3339fbe0-e4c7-4e58-8b84-7c56af98de77",
      "cell_type": "code",
      "metadata": {
        "jupyter": {
          "outputs_hidden": false,
          "source_hidden": false
        },
        "noteable": {
          "cell_type": "code",
          "output_collection_id": "770736e2-9d14-4a73-bf9c-5b92c883d19f"
        },
        "ExecuteTime": {
          "end_time": "2023-12-07T06:37:32.802846+00:00",
          "start_time": "2023-12-07T06:37:31.031282+00:00"
        }
      },
      "execution_count": null,
      "source": "# MG\n\nsecret_number= 35\nprint(secret_number)\nnum=input('Guess the number: ')\nnum = int(num)   # convert string to int\n\nif  num > secret_number :\n    print('Too high')\nelif num < secret_number :\n    print('Too Low')\nelse:\n   print('You got it')",
      "outputs": []
    },
    {
      "id": "0d470ad7-1af0-4420-9252-01e72c1e5ace",
      "cell_type": "code",
      "metadata": {
        "jupyter": {
          "outputs_hidden": false,
          "source_hidden": false
        },
        "noteable": {
          "cell_type": "code",
          "output_collection_id": "df9f7395-40f1-4d7d-a88d-6ec9ccd699f5"
        },
        "ExecuteTime": {
          "end_time": "2023-12-07T06:38:06.094474+00:00",
          "start_time": "2023-12-07T06:38:03.531520+00:00"
        }
      },
      "execution_count": null,
      "source": "# RK\nsecret_number = 1000\nuser_guess=input('Guess a integer:')\nuser_guess = int(user_guess)\n\nif secret_number == user_guess:\n    print('Excellent, you guessed correctly')\nelif user_guess > secret_number:\n    print('too high!')\nelse:\n    print('too small!')\n",
      "outputs": []
    },
    {
      "id": "107199ca-f52c-466b-986c-9ebb87c76106",
      "cell_type": "code",
      "metadata": {
        "jupyter": {
          "outputs_hidden": false,
          "source_hidden": false
        },
        "noteable": {
          "cell_type": "code",
          "output_collection_id": "e9a5ee21-6ea8-45eb-a465-a1b5a5e998e7"
        },
        "ExecuteTime": {
          "end_time": "2023-12-07T06:38:30.141759+00:00",
          "start_time": "2023-12-07T06:38:27.180180+00:00"
        }
      },
      "execution_count": null,
      "source": "# SS\nnumber = 9\nprint(number)\nguess_num = input(' guess the no.')\nif guess_num == number:\n    print('good')\nelse:\n    print('guess again')",
      "outputs": []
    },
    {
      "id": "48313fe2-c107-431d-8a5d-64e5482f8f47",
      "cell_type": "code",
      "metadata": {
        "jupyter": {
          "outputs_hidden": false,
          "source_hidden": false
        },
        "noteable": {
          "cell_type": "code"
        }
      },
      "execution_count": null,
      "source": "# SK\nsecret_number= 35\nprint(secret_number)\nnum=int(input('Guess the number: '))\nif  num > secret_number :\n    print('Too high')\nelif num < secret_number :\n    print('Too Low')\nelse:\n   print('You got it')",
      "outputs": []
    },
    {
      "id": "090b82de-383a-4d9e-b2e0-de4ce599aa54",
      "cell_type": "markdown",
      "source": "# Strings\n\nPython stores text in strings. We can define a string with quotes, either single quotes or double quotes.\n\n(If your string contains a single quote, then use double quotes around it. If your string contains double quotes, then put single quotes around it...  You can also put a backslash `\\` before a quote inside of a string so that it won't be seen as special, and thus close the string... but that's uglier.)\n\n",
      "metadata": {}
    },
    {
      "id": "dffc7641-380b-4f7a-afa1-81224c9a28c1",
      "cell_type": "code",
      "metadata": {
        "noteable": {
          "cell_type": "python",
          "output_collection_id": "83ff4d17-5441-48bf-bf64-9c3440a581d8"
        },
        "ExecuteTime": {
          "end_time": "2023-12-07T06:41:49.326165+00:00",
          "start_time": "2023-12-07T06:41:49.170130+00:00"
        }
      },
      "execution_count": null,
      "source": "s = 'abcdefghijklmnopqrstuvwxyz'\n\n# what can I do with my string?\n# one thing: get its length, with the len function\n\nlen(s)",
      "outputs": []
    },
    {
      "id": "997d4189-6ee8-46b4-b340-12e1d8d970af",
      "cell_type": "code",
      "metadata": {
        "jupyter": {
          "outputs_hidden": false,
          "source_hidden": false
        },
        "noteable": {
          "cell_type": "code",
          "output_collection_id": "7a89b669-a244-4a5f-b3a8-cce14d5ad618"
        },
        "ExecuteTime": {
          "end_time": "2023-12-07T06:42:32.179753+00:00",
          "start_time": "2023-12-07T06:42:32.023700+00:00"
        }
      },
      "execution_count": null,
      "source": "len('    ')",
      "outputs": []
    },
    {
      "id": "f7c9c99e-0f68-46ea-a438-8aedae1b14aa",
      "cell_type": "code",
      "metadata": {
        "jupyter": {
          "outputs_hidden": false,
          "source_hidden": false
        },
        "noteable": {
          "cell_type": "code",
          "output_collection_id": "2606ee85-dcdb-4cdc-9f28-10a16f7bc11b"
        },
        "ExecuteTime": {
          "end_time": "2023-12-07T06:43:07.935769+00:00",
          "start_time": "2023-12-07T06:43:07.779566+00:00"
        }
      },
      "execution_count": null,
      "source": "# what if I want the first character from the string?\n# I can use [], with an integer index inside\n# indexes start with 0\n\ns[0]   # this retrieves the first character from the string",
      "outputs": []
    },
    {
      "id": "4ecce492-a968-4985-9017-8efc1fa976e6",
      "cell_type": "code",
      "metadata": {
        "jupyter": {
          "outputs_hidden": false,
          "source_hidden": false
        },
        "noteable": {
          "cell_type": "code",
          "output_collection_id": "bef5eab3-5316-4143-af0f-0cbb567c61ff"
        },
        "ExecuteTime": {
          "end_time": "2023-12-07T06:43:15.748157+00:00",
          "start_time": "2023-12-07T06:43:15.591684+00:00"
        }
      },
      "execution_count": null,
      "source": "s[1]  # 2nd character",
      "outputs": []
    },
    {
      "id": "692bb5f4-2994-4bd8-8f34-c7cd4bed2ef0",
      "cell_type": "code",
      "metadata": {
        "jupyter": {
          "outputs_hidden": false,
          "source_hidden": false
        },
        "noteable": {
          "cell_type": "code",
          "output_collection_id": "5f2f79b7-6198-4e16-87b2-a1fafbd5d650"
        },
        "ExecuteTime": {
          "end_time": "2023-12-07T06:43:30.313701+00:00",
          "start_time": "2023-12-07T06:43:30.158065+00:00"
        }
      },
      "execution_count": null,
      "source": "# can I use a variable as an index? Of course!\ni = 5\ns[i]   # this retrieves the 6th character",
      "outputs": []
    },
    {
      "id": "391e6df0-ed3f-4815-b52d-5028a78a413e",
      "cell_type": "code",
      "metadata": {
        "jupyter": {
          "outputs_hidden": false,
          "source_hidden": false
        },
        "noteable": {
          "cell_type": "code",
          "output_collection_id": "816f72b1-2942-48a4-aeec-f1697f4a663e"
        },
        "ExecuteTime": {
          "end_time": "2023-12-07T06:44:02.983155+00:00",
          "start_time": "2023-12-07T06:44:02.819232+00:00"
        }
      },
      "execution_count": null,
      "source": "# what if I want the final character in the string?\ns[ len(s)-1 ]",
      "outputs": []
    },
    {
      "id": "241be257-712a-40c4-a88f-6ef606aa1156",
      "cell_type": "code",
      "metadata": {
        "jupyter": {
          "outputs_hidden": false,
          "source_hidden": false
        },
        "noteable": {
          "cell_type": "code",
          "output_collection_id": "3071d904-13e4-46a9-8180-138f215a9f8c"
        },
        "ExecuteTime": {
          "end_time": "2023-12-07T06:44:28.595428+00:00",
          "start_time": "2023-12-07T06:44:28.439402+00:00"
        }
      },
      "execution_count": null,
      "source": "# but why would I work so hard, when I can just use a negative index?\ns[-1]   # this counts from the right side...",
      "outputs": []
    },
    {
      "id": "375b5927-2c78-4ffb-853d-b69b1067f8b7",
      "cell_type": "code",
      "metadata": {
        "jupyter": {
          "outputs_hidden": false,
          "source_hidden": false
        },
        "noteable": {
          "cell_type": "code",
          "output_collection_id": "f86d8b2d-e8eb-41ac-af48-37cfd420a21b"
        },
        "ExecuteTime": {
          "end_time": "2023-12-07T06:44:31.586423+00:00",
          "start_time": "2023-12-07T06:44:31.429778+00:00"
        }
      },
      "execution_count": null,
      "source": "s[-2]",
      "outputs": []
    },
    {
      "id": "d06bb7da-a7d0-48fa-8346-bc0f5c34c2df",
      "cell_type": "code",
      "metadata": {
        "jupyter": {
          "outputs_hidden": false,
          "source_hidden": false
        },
        "noteable": {
          "cell_type": "code",
          "output_collection_id": "59f806e9-55bb-46f5-8a87-eb0c7f277d7c"
        },
        "ExecuteTime": {
          "end_time": "2023-12-07T06:44:40.727211+00:00",
          "start_time": "2023-12-07T06:44:40.560724+00:00"
        }
      },
      "execution_count": null,
      "source": "# what if my index is too big?\ns[1000]",
      "outputs": []
    },
    {
      "id": "738f5d7a-f517-4895-88dc-0f3598a86655",
      "cell_type": "code",
      "metadata": {
        "jupyter": {
          "outputs_hidden": false,
          "source_hidden": false
        },
        "noteable": {
          "cell_type": "code",
          "output_collection_id": "ebe378fc-cc63-46fb-9183-9f7eeae6ec88"
        },
        "ExecuteTime": {
          "end_time": "2023-12-07T06:45:17.293170+00:00",
          "start_time": "2023-12-07T06:45:17.136382+00:00"
        }
      },
      "execution_count": null,
      "source": "# how can I know whether a character is in a string?\n# I can use the \"in\" operator\n\n'j' in s     # this returns True or False -- is 'j' in the string s?",
      "outputs": []
    },
    {
      "id": "67f6cb83-c1bc-4f69-a742-5b4042d8295b",
      "cell_type": "code",
      "metadata": {
        "jupyter": {
          "outputs_hidden": false,
          "source_hidden": false
        },
        "noteable": {
          "cell_type": "code",
          "output_collection_id": "42c9509f-6a67-4cd8-833a-bd6d89723a7a"
        },
        "ExecuteTime": {
          "end_time": "2023-12-07T06:45:24.693566+00:00",
          "start_time": "2023-12-07T06:45:24.537189+00:00"
        }
      },
      "execution_count": null,
      "source": "'!' in s",
      "outputs": []
    },
    {
      "id": "0ce676ce-1542-4b26-8a67-17ed9e62f275",
      "cell_type": "code",
      "metadata": {
        "jupyter": {
          "outputs_hidden": false,
          "source_hidden": false
        },
        "noteable": {
          "cell_type": "code",
          "output_collection_id": "46c9dbb7-6a76-4aa9-be56-9bfb43fc9509"
        },
        "ExecuteTime": {
          "end_time": "2023-12-07T06:46:41.526864+00:00",
          "start_time": "2023-12-07T06:46:41.367500+00:00"
        }
      },
      "execution_count": null,
      "source": "# what if I want more than one character from a string?\n# I can use a slice\n# slice syntax is:   [start:end+1] \n# Meaning:\n# - first number is the index that we start at \n# - second number is one beyond the index we want\n\ns[10:20]  # this returns a string, based on s, starting at index 10 until (not including) 20",
      "outputs": []
    },
    {
      "id": "035cc608-dce2-4b75-a775-3ae4f824e420",
      "cell_type": "code",
      "metadata": {
        "jupyter": {
          "outputs_hidden": false,
          "source_hidden": false
        },
        "noteable": {
          "cell_type": "code",
          "output_collection_id": "a826fd3d-6b3a-42a5-b3f7-b8d0715a9db6"
        },
        "ExecuteTime": {
          "end_time": "2023-12-07T06:47:05.591052+00:00",
          "start_time": "2023-12-07T06:47:05.431924+00:00"
        }
      },
      "execution_count": null,
      "source": "# I can leave off either side of the slice\ns[:20]   #this means: from the start, until (not including) index 20",
      "outputs": []
    },
    {
      "id": "f2011c74-f30f-4567-af92-62c31a27be84",
      "cell_type": "code",
      "metadata": {
        "jupyter": {
          "outputs_hidden": false,
          "source_hidden": false
        },
        "noteable": {
          "cell_type": "code",
          "output_collection_id": "f4487a0c-a22f-4bc1-9f40-a22d88804347"
        },
        "ExecuteTime": {
          "end_time": "2023-12-07T06:47:17.191791+00:00",
          "start_time": "2023-12-07T06:47:17.032920+00:00"
        }
      },
      "execution_count": null,
      "source": "s[20:]   # this means: from index 20, through the end",
      "outputs": []
    },
    {
      "id": "2cad10a0-26fd-420a-a3bd-51618d26034b",
      "cell_type": "code",
      "metadata": {
        "jupyter": {
          "outputs_hidden": false,
          "source_hidden": false
        },
        "noteable": {
          "cell_type": "code",
          "output_collection_id": "f5e39b12-bc9d-4d1a-be5a-414afa941da4"
        },
        "ExecuteTime": {
          "end_time": "2023-12-07T06:48:14.451239+00:00",
          "start_time": "2023-12-07T06:48:14.284629+00:00"
        }
      },
      "execution_count": null,
      "source": "# strings are immutable!\n# meaning: you cannot ever ever ever change a string in Python\n\ns[0] = '!'   # can I change this string?",
      "outputs": []
    },
    {
      "id": "3d195449-965b-4df7-92b1-bf800c80ab67",
      "cell_type": "code",
      "metadata": {
        "jupyter": {
          "outputs_hidden": false,
          "source_hidden": false
        },
        "noteable": {
          "cell_type": "code",
          "output_collection_id": "57f7345b-275b-46bb-8c95-7fffbe5c926c"
        },
        "ExecuteTime": {
          "end_time": "2023-12-07T06:49:04.307627+00:00",
          "start_time": "2023-12-07T06:49:04.151952+00:00"
        }
      },
      "execution_count": null,
      "source": "# You can create a new string, and assign it back to the original variable\nx = 'abcd'\nx = x + 'efgh'\nx   # this feels like we changed the string, but we didn't -- we replaced it with another",
      "outputs": []
    },
    {
      "id": "ca8e920c-09b1-43cc-b345-9a7103459191",
      "cell_type": "markdown",
      "source": "# Exercise: Pig Latin\n\nPig Latin is a children's \"secret\" language in many English-speaking countries. The way that you translate a word from English into Pig Latin is as follows:\n\n- if the first letter of a word is a vowel (a, e, i, o, or u) then we add `way` to the word\n- in other cases, we move the first letter to the end, and then add `ay`.\n\nExamples:\n- `computer` -> `omputercay`\n- `apple` -> `appleway`\n- `papaya` -> `apayapay`\n- `away` -> `awayway`\n\nI want you to:\n- Ask the user to enter a word, all lowercase, no punctuation, etc.\n- Check the first letter to see if it's a vowel\n- Print the translation of the word into Pig Latin",
      "metadata": {}
    },
    {
      "id": "9ba55d8e-21cf-4100-9679-34c9dfdf9315",
      "cell_type": "code",
      "metadata": {
        "noteable": {
          "output_collection_id": "0af52df7-32d8-4204-9356-40ebaa5a99ce"
        },
        "ExecuteTime": {
          "end_time": "2023-12-07T06:59:15.078447+00:00",
          "start_time": "2023-12-07T06:59:09.110529+00:00"
        }
      },
      "execution_count": null,
      "source": "word = input('Enter a word: ')\n\n# is the first letter a vowel?\nif word[0] == 'a' or word[0] == 'e' or word[0] == 'i' or word[0] == 'o' or word[0] == 'u':\n    print(word + 'way')",
      "outputs": []
    },
    {
      "id": "d2d426f0-ade2-428a-9854-6979e17dc340",
      "cell_type": "code",
      "metadata": {
        "jupyter": {
          "outputs_hidden": false,
          "source_hidden": false
        },
        "noteable": {
          "cell_type": "code",
          "output_collection_id": "167888cc-1914-4d39-8f74-db8950a9b2ce"
        },
        "ExecuteTime": {
          "end_time": "2023-12-07T07:00:00.593946+00:00",
          "start_time": "2023-12-07T06:59:52.732296+00:00"
        }
      },
      "execution_count": null,
      "source": "# don't do this:\n# this will NOT work!\n\nword = input('Enter a word: ')\n\n# this is not checking if word[0] is a, e, i, o, or u\n# it *IS* asking whether word[0] is a, and then it asks whether 'e', 'i', 'o' or 'u' are True\n# every string in Python is True, except for the empty string\n# the below if is basically saying:\n\n# if word[0] == 'a' or True or True or True or True:\n\nif word[0] == 'a' or 'e' or 'i' or 'o' or 'u':\n    print(word + 'way')",
      "outputs": []
    },
    {
      "id": "04cd3e6c-2877-4228-91da-4c411bf2dc19",
      "cell_type": "code",
      "metadata": {
        "jupyter": {
          "outputs_hidden": false,
          "source_hidden": false
        },
        "noteable": {
          "cell_type": "code",
          "output_collection_id": "0a2a9320-b894-47bc-8f5c-efa79df55a21"
        },
        "ExecuteTime": {
          "end_time": "2023-12-07T07:02:43.712476+00:00",
          "start_time": "2023-12-07T07:02:40.232928+00:00"
        }
      },
      "execution_count": null,
      "source": "word = input('Enter a word: ')\n\n# here's a better way to check if the first letter is a vowel\n# Pythonic -- this is idiomatic Python that is *NOT* obvious to people in other languages\nif word[0] in 'aeiou':\n    print(word + 'way')\nelse:\n    print(word[1:] + word[0] + 'ay')",
      "outputs": []
    },
    {
      "id": "3ee06750-c25b-49ff-8b48-917df8e75466",
      "cell_type": "markdown",
      "source": "# Methods\n\nSo far, all of the verbs we've been talking about are functions. But Python has another kind of verb, known as a *method*, which has a slightly different syntax.\n\nInstead of saying FUNC(DATA), we say DATA.METHOD(). Notice that the method comes after a `.`, and after the data on which it's running.\n\nMost verbs in Python are actually methods. Having them connected to the data makes things more organized and easier to remember.",
      "metadata": {}
    },
    {
      "id": "d2e461aa-69c3-4a29-b324-d8f8c72d5846",
      "cell_type": "code",
      "metadata": {
        "noteable": {
          "output_collection_id": "b14c6df5-faab-4836-be7c-9f5a88e1a382"
        },
        "ExecuteTime": {
          "end_time": "2023-12-07T07:04:37.285037+00:00",
          "start_time": "2023-12-07T07:04:28.568764+00:00"
        }
      },
      "execution_count": null,
      "source": "# What methods do we have?\n\nname = input('Enter your name: ')\n\nprint(f'Hello, {name}!')",
      "outputs": []
    },
    {
      "id": "71fc544f-5a5f-4305-a283-2cd9d2bfdcb4",
      "cell_type": "code",
      "metadata": {
        "jupyter": {
          "outputs_hidden": false,
          "source_hidden": false
        },
        "noteable": {
          "cell_type": "code",
          "output_collection_id": "90da9dd7-3649-4cba-8a41-9994184811f7"
        },
        "ExecuteTime": {
          "end_time": "2023-12-07T07:05:11.625994+00:00",
          "start_time": "2023-12-07T07:05:11.464886+00:00"
        }
      },
      "execution_count": null,
      "source": "# how can I remove those spaces? I can use the \"strip\" method:\n# it returns a new string (because strings cannot be changed) without \n# the spaces on either side\n\nname.strip()",
      "outputs": []
    },
    {
      "id": "5629288e-1c2b-40bd-81f7-89477a369816",
      "cell_type": "code",
      "metadata": {
        "jupyter": {
          "outputs_hidden": false,
          "source_hidden": false
        },
        "noteable": {
          "cell_type": "code",
          "output_collection_id": "ff100b30-3200-49cf-a393-89407459e9a6"
        },
        "ExecuteTime": {
          "end_time": "2023-12-07T07:05:44.785437+00:00",
          "start_time": "2023-12-07T07:05:38.433519+00:00"
        }
      },
      "execution_count": null,
      "source": "# input returns a string\n# we can run strip on any string\n# we can run strip on the anonymous string we get back from input\n\nname = input('Enter your name: ').strip()\nprint(f'Hello, {name}!')",
      "outputs": []
    },
    {
      "id": "797d4c79-47f5-4d0c-ad09-b51a9b3d206a",
      "cell_type": "code",
      "metadata": {
        "jupyter": {
          "outputs_hidden": false,
          "source_hidden": false
        },
        "noteable": {
          "cell_type": "code",
          "output_collection_id": "a9a2a55f-f863-40cf-99cc-8b16bd6a2c18"
        },
        "ExecuteTime": {
          "end_time": "2023-12-07T07:05:48.383806+00:00",
          "start_time": "2023-12-07T07:05:48.224547+00:00"
        }
      },
      "execution_count": null,
      "source": "name",
      "outputs": []
    },
    {
      "id": "a497fc22-e63d-4aa8-921b-cd47a9f721fc",
      "cell_type": "code",
      "metadata": {
        "jupyter": {
          "outputs_hidden": false,
          "source_hidden": false
        },
        "noteable": {
          "cell_type": "code",
          "output_collection_id": "e494c301-0e82-4c42-8a98-361878869498"
        },
        "ExecuteTime": {
          "end_time": "2023-12-07T07:06:24.990627+00:00",
          "start_time": "2023-12-07T07:06:24.834527+00:00"
        }
      },
      "execution_count": null,
      "source": "# lots of other string methods:\n\ns = 'aBcD eFgH'\n\ns.lower()  # returns a new string based on s, all lowercase",
      "outputs": []
    },
    {
      "id": "1b692e7a-96d7-4614-8dbe-4fa28cf299f6",
      "cell_type": "code",
      "metadata": {
        "jupyter": {
          "outputs_hidden": false,
          "source_hidden": false
        },
        "noteable": {
          "cell_type": "code",
          "output_collection_id": "06ef45a0-dcc5-4eba-aae2-d5b6cccfe35e"
        },
        "ExecuteTime": {
          "end_time": "2023-12-07T07:06:32.824204+00:00",
          "start_time": "2023-12-07T07:06:32.668761+00:00"
        }
      },
      "execution_count": null,
      "source": "s.upper()  # same, but all uppercase",
      "outputs": []
    },
    {
      "id": "45171733-1f86-4351-a474-ca8b85ac3ef3",
      "cell_type": "code",
      "metadata": {
        "jupyter": {
          "outputs_hidden": false,
          "source_hidden": false
        },
        "noteable": {
          "cell_type": "code",
          "output_collection_id": "8151e738-2a30-4a97-b18c-76242a790c9b"
        },
        "ExecuteTime": {
          "end_time": "2023-12-07T07:06:42.196406+00:00",
          "start_time": "2023-12-07T07:06:42.040421+00:00"
        }
      },
      "execution_count": null,
      "source": "s.capitalize()   # first letter capitalized, the rest lowercase",
      "outputs": []
    },
    {
      "id": "1a1cac4d-5029-46ca-a5ab-0bc167e3b36a",
      "cell_type": "code",
      "metadata": {
        "jupyter": {
          "outputs_hidden": false,
          "source_hidden": false
        },
        "noteable": {
          "cell_type": "code",
          "output_collection_id": "d3632482-f137-407f-bb62-235909bce357"
        },
        "ExecuteTime": {
          "end_time": "2023-12-07T07:06:54.541929+00:00",
          "start_time": "2023-12-07T07:06:54.385053+00:00"
        }
      },
      "execution_count": null,
      "source": "# my favorite, and a totally useless method... swapcase\ns.swapcase()",
      "outputs": []
    },
    {
      "id": "504afafd-8ade-4edc-b229-2007989d3233",
      "cell_type": "code",
      "metadata": {
        "jupyter": {
          "outputs_hidden": false,
          "source_hidden": false
        },
        "noteable": {
          "cell_type": "code",
          "output_collection_id": "07d137c3-3802-43f6-9d2a-59179cfd5973"
        },
        "ExecuteTime": {
          "end_time": "2023-12-07T07:08:44.390770+00:00",
          "start_time": "2023-12-07T07:08:41.622321+00:00"
        }
      },
      "execution_count": null,
      "source": "# here's a useful one: .isdigit()\n# this returns True if a string only contains 0-9\n# this tells us, then, if we can turn a string into an integer without any errors\n\ns = input('Enter a number: ').strip()\n\nif s.isdigit():\n    n = int(s)\n    print(n * 5)\nelse:\n    print(f'{s} is not numeric; ignoring')",
      "outputs": []
    },
    {
      "id": "858e5e0c-96d0-4004-b387-d55b3120b843",
      "cell_type": "code",
      "metadata": {
        "jupyter": {
          "outputs_hidden": false,
          "source_hidden": false
        },
        "noteable": {
          "cell_type": "code"
        }
      },
      "execution_count": null,
      "source": "# what methods are available?\n# every data type has its own, and you have to learn (but not all of them)\n# in jupyter/Noteable, pressing tab after a . will show you the methods avaiable\n\ns = 'abcd'\ns.",
      "outputs": []
    },
    {
      "id": "ad6db0c2-cdc3-44c3-a2ce-b6166a35284c",
      "cell_type": "markdown",
      "source": "# Exercise: Get a character\n\n1. Ask the user to enter a string.\n2. Ask the user to enter a number.\n3. Print the character at the number's index in the string.\n    - If the index is < 0, give an error\n    - If the index is too big, give an error\n    \nExample:\n\n    Enter a word: computer\n    Enter an index: 3\n    index 3 in computer is p\n",
      "metadata": {}
    },
    {
      "id": "048363a1-f29d-4653-88fc-53546dc600db",
      "cell_type": "code",
      "metadata": {
        "noteable": {
          "output_collection_id": "c6361c4a-b308-473a-b819-17cba97405ac"
        },
        "ExecuteTime": {
          "end_time": "2023-12-07T07:18:54.184487+00:00",
          "start_time": "2023-12-07T07:18:48.228866+00:00"
        }
      },
      "execution_count": null,
      "source": "word = input('Enter a word: ').strip()\n\nindex = input('Enter an index: ').strip()\ni = int(index)   # let's assume it's an integer\n\nif i < 0:\n    print(f'Index is {i}; must be at least 0')\nelif i >= len(word):\n    print(f'Index is {i}; too high -- max is {len(word)-1}')\nelse:\n    print(f'Index {i} in {word} is {word[i]}')",
      "outputs": []
    },
    {
      "id": "42a47b9b-5d95-4e86-a280-39306044c480",
      "cell_type": "markdown",
      "source": "# Next week\n\n- Loops\n    - `for` and `while` loops\n    - Looping over strings\n    - Looping a number of times\n- Lists\n    - What are they?\n    - Turning strings into lists and vice versa\n- Tuples",
      "metadata": {}
    }
  ],
  "metadata": {
    "kernelspec": {
      "display_name": "Python 3.9",
      "identifier": "legacy",
      "language": "python",
      "language_version": "3.9",
      "name": "python3"
    },
    "language_info": {
      "codemirror_mode": {
        "name": "ipython",
        "version": 3
      },
      "file_extension": ".py",
      "mimetype": "text/x-python",
      "name": "python",
      "nbconvert_exporter": "python",
      "pygments_lexer": "ipython3",
      "version": "3.9.1"
    },
    "selected_hardware_size": "small",
    "kernel_info": {
      "name": "python3"
    }
  },
  "nbformat": 4,
  "nbformat_minor": 5
}