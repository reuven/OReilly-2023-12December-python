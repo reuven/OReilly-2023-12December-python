{
 "cells": [
  {
   "cell_type": "markdown",
   "id": "9c3d6743-839e-4e53-a34f-592f3bfa88ee",
   "metadata": {},
   "source": [
    "# Agenda: Functions!\n",
    "\n",
    "1. Q&A\n",
    "2. What are functions?\n",
    "3. Writing simple functions\n",
    "4. Arguments and parameters\n",
    "5. Return values\n",
    "6. Default argument values\n",
    "7. Complex return values and unpacking\n",
    "8. Local and global variables"
   ]
  },
  {
   "cell_type": "markdown",
   "id": "daf40dda-3fe4-4e5a-a6f1-c77324732d87",
   "metadata": {},
   "source": [
    "# Other notebook options\n",
    "\n",
    "- Google colab (https://colab.research.google.com/)\n",
    "- A list of notebooks: https://www.kdnuggets.com/2022/04/top-5-free-cloud-notebooks-2022.html\n",
    "- Another list of notebooks: https://www.dataschool.io/cloud-services-for-jupyter-notebook/\n",
    "- How to install Jupyter on your own computer: https://www.youtube.com/watch?v=i2zM8OwxZok\n",
    "- VSCode has Jupyter/notebook support built into it!"
   ]
  },
  {
   "cell_type": "code",
   "execution_count": null,
   "id": "33762706-5260-402e-b42c-b1493840d695",
   "metadata": {},
   "outputs": [],
   "source": []
  }
 ],
 "metadata": {
  "kernelspec": {
   "display_name": "Python 3 (ipykernel)",
   "language": "python",
   "name": "python3"
  },
  "language_info": {
   "codemirror_mode": {
    "name": "ipython",
    "version": 3
   },
   "file_extension": ".py",
   "mimetype": "text/x-python",
   "name": "python",
   "nbconvert_exporter": "python",
   "pygments_lexer": "ipython3",
   "version": "3.11.7"
  }
 },
 "nbformat": 4,
 "nbformat_minor": 5
}
