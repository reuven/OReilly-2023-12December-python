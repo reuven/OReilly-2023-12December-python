{
 "cells": [
  {
   "cell_type": "markdown",
   "id": "9c3d6743-839e-4e53-a34f-592f3bfa88ee",
   "metadata": {},
   "source": [
    "# Agenda: Functions!\n",
    "\n",
    "1. Q&A\n",
    "2. What are functions?\n",
    "3. Writing simple functions\n",
    "4. Arguments and parameters\n",
    "5. Return values\n",
    "6. Default argument values\n",
    "7. Complex return values and unpacking\n",
    "8. Local and global variables"
   ]
  },
  {
   "cell_type": "markdown",
   "id": "daf40dda-3fe4-4e5a-a6f1-c77324732d87",
   "metadata": {},
   "source": [
    "# Other notebook options\n",
    "\n",
    "- Google colab (https://colab.research.google.com/)\n",
    "- A list of notebooks: https://www.kdnuggets.com/2022/04/top-5-free-cloud-notebooks-2022.html\n",
    "- Another list of notebooks: https://www.dataschool.io/cloud-services-for-jupyter-notebook/\n",
    "- How to install Jupyter on your own computer: https://www.youtube.com/watch?v=i2zM8OwxZok\n",
    "- VSCode has Jupyter/notebook support built into it!"
   ]
  },
  {
   "cell_type": "code",
   "execution_count": 1,
   "id": "33762706-5260-402e-b42c-b1493840d695",
   "metadata": {},
   "outputs": [
    {
     "name": "stdout",
     "output_type": "stream",
     "text": [
      "x=10, y=[10, 20, 30], z={'a': 10, 'b': 20, 'c': 30}\n"
     ]
    }
   ],
   "source": [
    "# f-strings and printing values\n",
    "\n",
    "x = 10\n",
    "y = [10, 20, 30]\n",
    "z = {'a':10, 'b':20, 'c':30}\n",
    "\n",
    "# how can I print x, y, and z -- both the variable names and their values?\n",
    "print(f'x={x}, y={y}, z={z}')"
   ]
  },
  {
   "cell_type": "code",
   "execution_count": 2,
   "id": "85d5386f-88b2-4eba-805c-3a4a9e40271f",
   "metadata": {},
   "outputs": [
    {
     "name": "stdout",
     "output_type": "stream",
     "text": [
      "x=10, y=[10, 20, 30], z={'a': 10, 'b': 20, 'c': 30}\n"
     ]
    }
   ],
   "source": [
    "# in modern versions of Python, you can use special syntax as a shortcut to the above:\n",
    "print(f'{x=}, {y=}, {z=}')"
   ]
  },
  {
   "cell_type": "markdown",
   "id": "a07fef1e-f089-4898-80f8-9e7762e5840f",
   "metadata": {},
   "source": [
    "# What are functions?\n",
    "\n",
    "Functions are the verbs in a programming language. (I'm going to mix \"functions\" and \"methods\" together when I talk about them.) But do we need them? Especially: Do we need to define new functions?\n",
    "\n",
    "Answer: No, we don't need to. But we want to.\n",
    "\n",
    "Why? Because it allows us to express complex ideas in a small space/time. This is known as \"abstraction\" -- where we ignore the details, and thus can communicate at a higher level.\n",
    "\n",
    "Abstraction buys us several things:\n",
    "\n",
    "- It allows us to build higher and higher abstractions on top of the conceptual infrastructure we've already put in place.\n",
    "- It also allows us to concentrate on the parts of a problem that are most important and relevant\n",
    "\n",
    "When we define a function, we're abstracting away many different steps, so that we can think at that higher level. Then we can use our function as a step in another function, and that function in a higher one, etc."
   ]
  },
  {
   "cell_type": "code",
   "execution_count": null,
   "id": "54415872-d6c9-4dee-bb26-7853de03c106",
   "metadata": {},
   "outputs": [],
   "source": []
  }
 ],
 "metadata": {
  "kernelspec": {
   "display_name": "Python 3 (ipykernel)",
   "language": "python",
   "name": "python3"
  },
  "language_info": {
   "codemirror_mode": {
    "name": "ipython",
    "version": 3
   },
   "file_extension": ".py",
   "mimetype": "text/x-python",
   "name": "python",
   "nbconvert_exporter": "python",
   "pygments_lexer": "ipython3",
   "version": "3.11.7"
  }
 },
 "nbformat": 4,
 "nbformat_minor": 5
}
