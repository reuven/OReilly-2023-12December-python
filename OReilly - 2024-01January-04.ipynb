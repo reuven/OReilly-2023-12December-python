{
 "cells": [
  {
   "cell_type": "markdown",
   "id": "9c3d6743-839e-4e53-a34f-592f3bfa88ee",
   "metadata": {},
   "source": [
    "# Agenda: Functions!\n",
    "\n",
    "1. Q&A\n",
    "2. What are functions?\n",
    "3. Writing simple functions\n",
    "4. Arguments and parameters\n",
    "5. Return values\n",
    "6. Default argument values\n",
    "7. Complex return values and unpacking\n",
    "8. Local and global variables"
   ]
  },
  {
   "cell_type": "markdown",
   "id": "daf40dda-3fe4-4e5a-a6f1-c77324732d87",
   "metadata": {},
   "source": [
    "# Other notebook options\n",
    "\n",
    "- Google colab (https://colab.research.google.com/)\n",
    "- A list of notebooks: https://www.kdnuggets.com/2022/04/top-5-free-cloud-notebooks-2022.html\n",
    "- Another list of notebooks: https://www.dataschool.io/cloud-services-for-jupyter-notebook/\n",
    "- How to install Jupyter on your own computer: https://www.youtube.com/watch?v=i2zM8OwxZok\n",
    "- VSCode has Jupyter/notebook support built into it!"
   ]
  },
  {
   "cell_type": "code",
   "execution_count": 1,
   "id": "33762706-5260-402e-b42c-b1493840d695",
   "metadata": {},
   "outputs": [
    {
     "name": "stdout",
     "output_type": "stream",
     "text": [
      "x=10, y=[10, 20, 30], z={'a': 10, 'b': 20, 'c': 30}\n"
     ]
    }
   ],
   "source": [
    "# f-strings and printing values\n",
    "\n",
    "x = 10\n",
    "y = [10, 20, 30]\n",
    "z = {'a':10, 'b':20, 'c':30}\n",
    "\n",
    "# how can I print x, y, and z -- both the variable names and their values?\n",
    "print(f'x={x}, y={y}, z={z}')"
   ]
  },
  {
   "cell_type": "code",
   "execution_count": 2,
   "id": "85d5386f-88b2-4eba-805c-3a4a9e40271f",
   "metadata": {},
   "outputs": [
    {
     "name": "stdout",
     "output_type": "stream",
     "text": [
      "x=10, y=[10, 20, 30], z={'a': 10, 'b': 20, 'c': 30}\n"
     ]
    }
   ],
   "source": [
    "# in modern versions of Python, you can use special syntax as a shortcut to the above:\n",
    "print(f'{x=}, {y=}, {z=}')"
   ]
  },
  {
   "cell_type": "markdown",
   "id": "a07fef1e-f089-4898-80f8-9e7762e5840f",
   "metadata": {},
   "source": [
    "# What are functions?\n",
    "\n",
    "Functions are the verbs in a programming language. (I'm going to mix \"functions\" and \"methods\" together when I talk about them.) But do we need them? Especially: Do we need to define new functions?\n",
    "\n",
    "Answer: No, we don't need to. But we want to.\n",
    "\n",
    "Why? Because it allows us to express complex ideas in a small space/time. This is known as \"abstraction\" -- where we ignore the details, and thus can communicate at a higher level.\n",
    "\n",
    "Abstraction buys us several things:\n",
    "\n",
    "- It allows us to build higher and higher abstractions on top of the conceptual infrastructure we've already put in place.\n",
    "- It also allows us to concentrate on the parts of a problem that are most important and relevant\n",
    "\n",
    "When we define a function, we're abstracting away many different steps, so that we can think at that higher level. Then we can use our function as a step in another function, and that function in a higher one, etc."
   ]
  },
  {
   "cell_type": "markdown",
   "id": "43395a17-66ef-4e3c-b419-17a05a220942",
   "metadata": {},
   "source": [
    "# Defining a function\n",
    "\n",
    "To define a new function in Python, we use the `def` statement. (Short for \"define.\") A function has:\n",
    "\n",
    "- `def` followed by the name of the function you want to define\n",
    "- After the function name, put `()` parentheses, which will be empty for now\n",
    "- A colon (`:`) at the end of the line\n",
    "- One or more indented lines, as a block. This is the \"function body.\"\n",
    "- As soon as that indentation ends, the function definintion is complete.\n",
    "- Inside of the function body, you can have any code you want:\n",
    "    - `if`/`elif`/`else`\n",
    "    - Variable assignment\n",
    "    - Inputs and outputs\n",
    "    - `for` and `while` loops\n",
    "    - Call other functions!"
   ]
  },
  {
   "cell_type": "code",
   "execution_count": 3,
   "id": "32bde073-e981-49e6-8716-8a9dca53d03a",
   "metadata": {},
   "outputs": [],
   "source": [
    "def hello():\n",
    "    print('Hello!')"
   ]
  },
  {
   "cell_type": "code",
   "execution_count": 4,
   "id": "b8e4e5d5-40c9-430c-9220-f90544524045",
   "metadata": {},
   "outputs": [
    {
     "name": "stdout",
     "output_type": "stream",
     "text": [
      "Hello!\n"
     ]
    }
   ],
   "source": [
    "# once I have defined a function, I can run it -- also \"call it\" or \"execute it\" with parentheses\n",
    "\n",
    "hello()"
   ]
  },
  {
   "cell_type": "code",
   "execution_count": 5,
   "id": "a5efd5e1-f34d-4739-bfde-246fed406211",
   "metadata": {},
   "outputs": [
    {
     "data": {
      "text/plain": [
       "<function __main__.hello()>"
      ]
     },
     "execution_count": 5,
     "metadata": {},
     "output_type": "execute_result"
    }
   ],
   "source": [
    "# You *must* put the parentheses there -- otherwise, you get the function itself, not the result of running it\n",
    "\n",
    "hello"
   ]
  },
  {
   "cell_type": "markdown",
   "id": "eac7c1f3-073d-4916-8435-47c3a5233d12",
   "metadata": {},
   "source": [
    "# Function names\n",
    "\n",
    "Function names are actually variable names! For that reason, we usually stick with the same conventions as variable names:\n",
    "\n",
    "- all lowercase letters\n",
    "- `_` between words\n",
    "- Don't use `_` at the start or the end, except for certain special functions.\n",
    "    - If a function or variable name starts with `_`, it's considered to be \"private,\" or shouldn't be used by others\n",
    "    - If it starts and ends with `__`, that's called a \"dunder function\" or \"dunder method\" (for double underscore), and Python expects to see these defined in particular places. You won't do any harm defining it with this sort of name, but your colleagues will be confused, and Python might mistakenly think you want to do something special there.\n",
    "- Your function name can contain any combination of letters, numbers, and `_`, so long as it doesn't start with a number\n",
    "\n",
    "Because defining a function means that you're defining a variable, defining a function a second time overwrites the first definition.\n",
    "\n",
    "In fact, using `def` means that we're doing two things:\n",
    "- Creating a new function object, i.e., the plans/instructions needed to execute our function\n",
    "- Assigning that function object to a variable\n",
    "\n",
    "In many programming languages, we say that there are two \"namespaces,\" meaning groups of names: One for data (variables) and one for functions. In Python, we have a single namespace. You cannot have both a variable `x` referring to data and a function `x` that executes. The last one that was defined keeps the definition."
   ]
  },
  {
   "cell_type": "code",
   "execution_count": 6,
   "id": "a062d196-889f-4d10-96ef-45ea137cba1e",
   "metadata": {},
   "outputs": [],
   "source": [
    "# let's redefine our function\n",
    "\n",
    "def hello():\n",
    "    print('Hello?')"
   ]
  },
  {
   "cell_type": "code",
   "execution_count": 7,
   "id": "875fc0a9-3a90-423b-b41f-4c7601f20858",
   "metadata": {},
   "outputs": [
    {
     "name": "stdout",
     "output_type": "stream",
     "text": [
      "Hello?\n"
     ]
    }
   ],
   "source": [
    "hello()"
   ]
  },
  {
   "cell_type": "code",
   "execution_count": 8,
   "id": "84591bb2-7013-4d61-aceb-056539779cbd",
   "metadata": {},
   "outputs": [
    {
     "data": {
      "text/plain": [
       "function"
      ]
     },
     "execution_count": 8,
     "metadata": {},
     "output_type": "execute_result"
    }
   ],
   "source": [
    "type(hello)"
   ]
  },
  {
   "cell_type": "code",
   "execution_count": 9,
   "id": "89c7ba23-12e6-4483-aec6-cc33c58552e1",
   "metadata": {},
   "outputs": [
    {
     "name": "stdout",
     "output_type": "stream",
     "text": [
      "Hello?\n",
      "Hello?\n",
      "Hello?\n",
      "Hello?\n",
      "Hello?\n"
     ]
    }
   ],
   "source": [
    "# I can now use my function in other code\n",
    "\n",
    "for i in range(5):\n",
    "    hello()"
   ]
  },
  {
   "cell_type": "markdown",
   "id": "b668b51a-9341-443a-90e8-b1d2038ceeaf",
   "metadata": {},
   "source": [
    "# Exercise: Calculator\n",
    "\n",
    "1. Define a function, `calc`, that will ask the user to enter two numbers and an operator, and will perform the calculation.\n",
    "2. When the function runs, it should ask the user for three inputs:\n",
    "    - A first number\n",
    "    - An operator (should be `+` or `-`)\n",
    "    - A second number\n",
    "3. Get the result of running this operation\n",
    "4. Print the full set of inputs, plus the result.\n",
    "\n",
    "Example:\n",
    "\n",
    "    >>> calc()\n",
    "    Enter first number: 10\n",
    "    Enter operator: +\n",
    "    Enter second number: 3\n",
    "    10 + 3 = 13"
   ]
  },
  {
   "cell_type": "code",
   "execution_count": null,
   "id": "181e8e47-32a6-42bf-8cfa-74b56c8e5d2a",
   "metadata": {},
   "outputs": [],
   "source": [
    "def calc():\n",
    "    first = input('Enter first number: ').strip()\n",
    "    op = input('Enter operator: ').strip()\n",
    "    second = input('Enter second number: ').strip()\n",
    "\n",
    "    first = int(first)\n",
    "    second = int(second)\n",
    "\n",
    "    if op == '+':\n",
    "        result = first + second\n",
    "    elif op == '-':\n",
    "        result = "
   ]
  }
 ],
 "metadata": {
  "kernelspec": {
   "display_name": "Python 3 (ipykernel)",
   "language": "python",
   "name": "python3"
  },
  "language_info": {
   "codemirror_mode": {
    "name": "ipython",
    "version": 3
   },
   "file_extension": ".py",
   "mimetype": "text/x-python",
   "name": "python",
   "nbconvert_exporter": "python",
   "pygments_lexer": "ipython3",
   "version": "3.11.7"
  }
 },
 "nbformat": 4,
 "nbformat_minor": 5
}
