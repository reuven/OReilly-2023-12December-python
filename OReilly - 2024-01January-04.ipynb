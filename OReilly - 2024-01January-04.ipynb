{
 "cells": [
  {
   "cell_type": "markdown",
   "id": "9c3d6743-839e-4e53-a34f-592f3bfa88ee",
   "metadata": {},
   "source": [
    "# Agenda: Functions!\n",
    "\n",
    "1. Q&A\n",
    "2. What are functions?\n",
    "3. Writing simple functions\n",
    "4. Arguments and parameters\n",
    "5. Return values\n",
    "6. Default argument values\n",
    "7. Complex return values and unpacking\n",
    "8. Local and global variables"
   ]
  },
  {
   "cell_type": "markdown",
   "id": "daf40dda-3fe4-4e5a-a6f1-c77324732d87",
   "metadata": {},
   "source": [
    "# Other notebook options\n",
    "\n",
    "- Google colab (https://colab.research.google.com/)\n",
    "- A list of notebooks: https://www.kdnuggets.com/2022/04/top-5-free-cloud-notebooks-2022.html\n",
    "- Another list of notebooks: https://www.dataschool.io/cloud-services-for-jupyter-notebook/\n",
    "- How to install Jupyter on your own computer: https://www.youtube.com/watch?v=i2zM8OwxZok\n",
    "- VSCode has Jupyter/notebook support built into it!"
   ]
  },
  {
   "cell_type": "code",
   "execution_count": 1,
   "id": "33762706-5260-402e-b42c-b1493840d695",
   "metadata": {},
   "outputs": [
    {
     "name": "stdout",
     "output_type": "stream",
     "text": [
      "x=10, y=[10, 20, 30], z={'a': 10, 'b': 20, 'c': 30}\n"
     ]
    }
   ],
   "source": [
    "# f-strings and printing values\n",
    "\n",
    "x = 10\n",
    "y = [10, 20, 30]\n",
    "z = {'a':10, 'b':20, 'c':30}\n",
    "\n",
    "# how can I print x, y, and z -- both the variable names and their values?\n",
    "print(f'x={x}, y={y}, z={z}')"
   ]
  },
  {
   "cell_type": "code",
   "execution_count": 2,
   "id": "85d5386f-88b2-4eba-805c-3a4a9e40271f",
   "metadata": {},
   "outputs": [
    {
     "name": "stdout",
     "output_type": "stream",
     "text": [
      "x=10, y=[10, 20, 30], z={'a': 10, 'b': 20, 'c': 30}\n"
     ]
    }
   ],
   "source": [
    "# in modern versions of Python, you can use special syntax as a shortcut to the above:\n",
    "print(f'{x=}, {y=}, {z=}')"
   ]
  },
  {
   "cell_type": "markdown",
   "id": "a07fef1e-f089-4898-80f8-9e7762e5840f",
   "metadata": {},
   "source": [
    "# What are functions?\n",
    "\n",
    "Functions are the verbs in a programming language. (I'm going to mix \"functions\" and \"methods\" together when I talk about them.) But do we need them? Especially: Do we need to define new functions?\n",
    "\n",
    "Answer: No, we don't need to. But we want to.\n",
    "\n",
    "Why? Because it allows us to express complex ideas in a small space/time. This is known as \"abstraction\" -- where we ignore the details, and thus can communicate at a higher level.\n",
    "\n",
    "Abstraction buys us several things:\n",
    "\n",
    "- It allows us to build higher and higher abstractions on top of the conceptual infrastructure we've already put in place.\n",
    "- It also allows us to concentrate on the parts of a problem that are most important and relevant\n",
    "\n",
    "When we define a function, we're abstracting away many different steps, so that we can think at that higher level. Then we can use our function as a step in another function, and that function in a higher one, etc."
   ]
  },
  {
   "cell_type": "markdown",
   "id": "43395a17-66ef-4e3c-b419-17a05a220942",
   "metadata": {},
   "source": [
    "# Defining a function\n",
    "\n",
    "To define a new function in Python, we use the `def` statement. (Short for \"define.\") A function has:\n",
    "\n",
    "- `def` followed by the name of the function you want to define\n",
    "- After the function name, put `()` parentheses, which will be empty for now\n",
    "- A colon (`:`) at the end of the line\n",
    "- One or more indented lines, as a block. This is the \"function body.\"\n",
    "- As soon as that indentation ends, the function definintion is complete.\n",
    "- Inside of the function body, you can have any code you want:\n",
    "    - `if`/`elif`/`else`\n",
    "    - Variable assignment\n",
    "    - Inputs and outputs\n",
    "    - `for` and `while` loops\n",
    "    - Call other functions!"
   ]
  },
  {
   "cell_type": "code",
   "execution_count": 3,
   "id": "32bde073-e981-49e6-8716-8a9dca53d03a",
   "metadata": {},
   "outputs": [],
   "source": [
    "def hello():\n",
    "    print('Hello!')"
   ]
  },
  {
   "cell_type": "code",
   "execution_count": 4,
   "id": "b8e4e5d5-40c9-430c-9220-f90544524045",
   "metadata": {},
   "outputs": [
    {
     "name": "stdout",
     "output_type": "stream",
     "text": [
      "Hello!\n"
     ]
    }
   ],
   "source": [
    "# once I have defined a function, I can run it -- also \"call it\" or \"execute it\" with parentheses\n",
    "\n",
    "hello()"
   ]
  },
  {
   "cell_type": "code",
   "execution_count": 5,
   "id": "a5efd5e1-f34d-4739-bfde-246fed406211",
   "metadata": {},
   "outputs": [
    {
     "data": {
      "text/plain": [
       "<function __main__.hello()>"
      ]
     },
     "execution_count": 5,
     "metadata": {},
     "output_type": "execute_result"
    }
   ],
   "source": [
    "# You *must* put the parentheses there -- otherwise, you get the function itself, not the result of running it\n",
    "\n",
    "hello"
   ]
  },
  {
   "cell_type": "markdown",
   "id": "eac7c1f3-073d-4916-8435-47c3a5233d12",
   "metadata": {},
   "source": [
    "# Function names\n",
    "\n",
    "Function names are actually variable names! For that reason, we usually stick with the same conventions as variable names:\n",
    "\n",
    "- all lowercase letters\n",
    "- `_` between words\n",
    "- Don't use `_` at the start or the end, except for certain special functions.\n",
    "    - If a function or variable name starts with `_`, it's considered to be \"private,\" or shouldn't be used by others\n",
    "    - If it starts and ends with `__`, that's called a \"dunder function\" or \"dunder method\" (for double underscore), and Python expects to see these defined in particular places. You won't do any harm defining it with this sort of name, but your colleagues will be confused, and Python might mistakenly think you want to do something special there.\n",
    "- Your function name can contain any combination of letters, numbers, and `_`, so long as it doesn't start with a number\n",
    "\n",
    "Because defining a function means that you're defining a variable, defining a function a second time overwrites the first definition.\n",
    "\n",
    "In fact, using `def` means that we're doing two things:\n",
    "- Creating a new function object, i.e., the plans/instructions needed to execute our function\n",
    "- Assigning that function object to a variable\n",
    "\n",
    "In many programming languages, we say that there are two \"namespaces,\" meaning groups of names: One for data (variables) and one for functions. In Python, we have a single namespace. You cannot have both a variable `x` referring to data and a function `x` that executes. The last one that was defined keeps the definition."
   ]
  },
  {
   "cell_type": "code",
   "execution_count": 6,
   "id": "a062d196-889f-4d10-96ef-45ea137cba1e",
   "metadata": {},
   "outputs": [],
   "source": [
    "# let's redefine our function\n",
    "\n",
    "def hello():\n",
    "    print('Hello?')"
   ]
  },
  {
   "cell_type": "code",
   "execution_count": 7,
   "id": "875fc0a9-3a90-423b-b41f-4c7601f20858",
   "metadata": {},
   "outputs": [
    {
     "name": "stdout",
     "output_type": "stream",
     "text": [
      "Hello?\n"
     ]
    }
   ],
   "source": [
    "hello()"
   ]
  },
  {
   "cell_type": "code",
   "execution_count": 8,
   "id": "84591bb2-7013-4d61-aceb-056539779cbd",
   "metadata": {},
   "outputs": [
    {
     "data": {
      "text/plain": [
       "function"
      ]
     },
     "execution_count": 8,
     "metadata": {},
     "output_type": "execute_result"
    }
   ],
   "source": [
    "type(hello)"
   ]
  },
  {
   "cell_type": "code",
   "execution_count": 9,
   "id": "89c7ba23-12e6-4483-aec6-cc33c58552e1",
   "metadata": {},
   "outputs": [
    {
     "name": "stdout",
     "output_type": "stream",
     "text": [
      "Hello?\n",
      "Hello?\n",
      "Hello?\n",
      "Hello?\n",
      "Hello?\n"
     ]
    }
   ],
   "source": [
    "# I can now use my function in other code\n",
    "\n",
    "for i in range(5):\n",
    "    hello()"
   ]
  },
  {
   "cell_type": "markdown",
   "id": "b668b51a-9341-443a-90e8-b1d2038ceeaf",
   "metadata": {},
   "source": [
    "# Exercise: Calculator\n",
    "\n",
    "1. Define a function, `calc`, that will ask the user to enter two numbers and an operator, and will perform the calculation.\n",
    "2. When the function runs, it should ask the user for three inputs:\n",
    "    - A first number\n",
    "    - An operator (should be `+` or `-`)\n",
    "    - A second number\n",
    "3. Get the result of running this operation\n",
    "4. Print the full set of inputs, plus the result.\n",
    "\n",
    "Example:\n",
    "\n",
    "    >>> calc()\n",
    "    Enter first number: 10\n",
    "    Enter operator: +\n",
    "    Enter second number: 3\n",
    "    10 + 3 = 13"
   ]
  },
  {
   "cell_type": "code",
   "execution_count": 10,
   "id": "181e8e47-32a6-42bf-8cfa-74b56c8e5d2a",
   "metadata": {},
   "outputs": [],
   "source": [
    "def calc():\n",
    "    first = input('Enter first number: ').strip()\n",
    "    op = input('Enter operator: ').strip()\n",
    "    second = input('Enter second number: ').strip()\n",
    "\n",
    "    first = int(first)\n",
    "    second = int(second)\n",
    "\n",
    "    if op == '+':\n",
    "        result = first + second\n",
    "    elif op == '-':\n",
    "        result = first - second\n",
    "    else:\n",
    "        result = f'(Bad operator {op})'\n",
    "\n",
    "    print(f'{first} {op} {second} = {result}')"
   ]
  },
  {
   "cell_type": "code",
   "execution_count": 11,
   "id": "62e090b1-6b28-40cd-ad65-f44f829f3acd",
   "metadata": {},
   "outputs": [
    {
     "name": "stdin",
     "output_type": "stream",
     "text": [
      "Enter first number:  10\n",
      "Enter operator:  +\n",
      "Enter second number:  3\n"
     ]
    },
    {
     "name": "stdout",
     "output_type": "stream",
     "text": [
      "10 + 3 = 13\n"
     ]
    }
   ],
   "source": [
    "calc()"
   ]
  },
  {
   "cell_type": "code",
   "execution_count": 12,
   "id": "5baf3e07-5962-4114-a552-132d89953fc7",
   "metadata": {},
   "outputs": [
    {
     "name": "stdin",
     "output_type": "stream",
     "text": [
      "Enter first number:  20\n",
      "Enter operator:  -\n",
      "Enter second number:  2\n"
     ]
    },
    {
     "name": "stdout",
     "output_type": "stream",
     "text": [
      "20 - 2 = 18\n"
     ]
    }
   ],
   "source": [
    "calc()"
   ]
  },
  {
   "cell_type": "code",
   "execution_count": 14,
   "id": "936b670b-0183-49c9-aa31-9379da0c2ff9",
   "metadata": {},
   "outputs": [
    {
     "name": "stdin",
     "output_type": "stream",
     "text": [
      "Enter the first number:  10\n",
      "Enter an operator:  +\n",
      "Enter the second number:  3\n"
     ]
    },
    {
     "name": "stdout",
     "output_type": "stream",
     "text": [
      "output=13\n"
     ]
    }
   ],
   "source": [
    "# CD\n",
    "\n",
    "def calc():\n",
    "\n",
    "  first_num = input(\"Enter the first number: \").strip()\n",
    "  if first_num.isdigit():\n",
    "    first_num = int(first_num)\n",
    "\n",
    "  operator = input(\"Enter an operator: \").strip()\n",
    "\n",
    "  second_num = input(\"Enter the second number: \").strip()\n",
    "  if second_num.isdigit():\n",
    "    second_num = int(second_num)\n",
    "\n",
    "  if operator == '+':\n",
    "    output = first_num + second_num\n",
    "\n",
    "  if operator == '-':\n",
    "    output = first_num - second_num\n",
    "\n",
    "  if operator == '*':\n",
    "    output = first_num * second_num\n",
    "\n",
    "  if operator == '/':\n",
    "    output = first_num / second_num\n",
    "\n",
    "\n",
    "  print(f'{output=}')\n",
    "\n",
    "calc()"
   ]
  },
  {
   "cell_type": "code",
   "execution_count": 15,
   "id": "c761f9a2-c35d-4ddb-a55c-b3f57a0fc18a",
   "metadata": {},
   "outputs": [
    {
     "name": "stdin",
     "output_type": "stream",
     "text": [
      "enter num1 10\n",
      "enter num2 20\n"
     ]
    },
    {
     "name": "stdout",
     "output_type": "stream",
     "text": [
      "30\n"
     ]
    }
   ],
   "source": [
    "# SJ\n",
    "def calc():\n",
    "    first_num=int(input(\"enter num1\"))\n",
    "    second_num=int(input(\"enter num2\"))\n",
    "    print(first_num+second_num)\n",
    "\n",
    "calc()"
   ]
  },
  {
   "cell_type": "code",
   "execution_count": 16,
   "id": "6eb1b4f2-a020-41a2-865c-e56accba728f",
   "metadata": {},
   "outputs": [
    {
     "ename": "SyntaxError",
     "evalue": "'break' outside loop (1288334240.py, line 10)",
     "output_type": "error",
     "traceback": [
      "\u001b[1;36m  Cell \u001b[1;32mIn[16], line 10\u001b[1;36m\u001b[0m\n\u001b[1;33m    break\u001b[0m\n\u001b[1;37m    ^\u001b[0m\n\u001b[1;31mSyntaxError\u001b[0m\u001b[1;31m:\u001b[0m 'break' outside loop\n"
     ]
    }
   ],
   "source": [
    "# AJ\n",
    "\n",
    "def calc():\n",
    "    num1 = input('Enter first number: ').strip()\n",
    "    oper = input('Enter the operator (+/-)').strip()\n",
    "    num2 = input('Enter second number: ').strip()\n",
    "    \n",
    "    if not num1.isdigit() or not num2.isdigit():\n",
    "        print('Please enter numbers')\n",
    "        break\n",
    "    \n",
    "    if not oper in ('+-'):\n",
    "        print('Please enter correct operator')\n",
    "        break\n",
    "    \n",
    "    if oper == '+':\n",
    "        tot = int(num1) + int(num2)\n",
    "    else:\n",
    "        tot = int(num1) - int(num2)\n",
    "    \n",
    "    print(f'{num1} {oper} {num2} = {tot}')\n",
    "\n",
    "calc()"
   ]
  },
  {
   "cell_type": "markdown",
   "id": "57fed315-1a63-4257-a069-fc4df3a75248",
   "metadata": {},
   "source": [
    "# Arguments and parameters\n",
    "\n",
    "If we had to type the values we want to pass to a function, we would quickly get very frustrated! We want to be able to print the value of a variable, not be asked by `print` (each time!) what we want to display.\n",
    "\n",
    "In order to handle this, functions take *arguments*, values that we pass to them. We've seen this a lot:\n",
    "\n",
    "- `print('abc')` -- here, `'abc'` is an argument\n",
    "- `len('abc')` -- here, `'abc'` is an argument\n",
    "\n",
    "Arguments are values that go inside of the parentheses. In order to accept those arguments, a function needs to have *parameters*, variables to which the arguments will be assigned.\n",
    "\n",
    "## Quick aside: \n",
    "\n",
    "- Arguments are the values we pass to a function\n",
    "- Parameters are the variables to which the arguments are assigned\n",
    "\n",
    "Almost every programmer I know mixes this up, and that's pretty much OK.\n",
    "\n",
    "## How can our function accept arguments?\n",
    "\n",
    "We can name one or more parameters inside of the parentheses when we define our function. Each parameter will effectively require that the caller pass an argument."
   ]
  },
  {
   "cell_type": "code",
   "execution_count": 19,
   "id": "418a2c3e-f3fa-41cc-9c8e-909c354d80ba",
   "metadata": {},
   "outputs": [],
   "source": [
    "def hello(name):    # this function requires one argument, which will be assigned to name\n",
    "    print(f'Hello, {name}')"
   ]
  },
  {
   "cell_type": "code",
   "execution_count": 21,
   "id": "3ca1137b-3aa3-4eed-9384-4dac252844f3",
   "metadata": {},
   "outputs": [
    {
     "name": "stdout",
     "output_type": "stream",
     "text": [
      "Hello, world\n"
     ]
    }
   ],
   "source": [
    "# parameters:  name\n",
    "# arguments:  'world'\n",
    "\n",
    "hello('world')"
   ]
  },
  {
   "cell_type": "code",
   "execution_count": 22,
   "id": "15f352a6-e377-41ef-a9f2-61bf959b12d0",
   "metadata": {},
   "outputs": [
    {
     "ename": "TypeError",
     "evalue": "hello() missing 1 required positional argument: 'name'",
     "output_type": "error",
     "traceback": [
      "\u001b[1;31m---------------------------------------------------------------------------\u001b[0m",
      "\u001b[1;31mTypeError\u001b[0m                                 Traceback (most recent call last)",
      "Cell \u001b[1;32mIn[22], line 3\u001b[0m\n\u001b[0;32m      1\u001b[0m \u001b[38;5;66;03m# what happens if I want to call it without any argument?\u001b[39;00m\n\u001b[1;32m----> 3\u001b[0m \u001b[43mhello\u001b[49m\u001b[43m(\u001b[49m\u001b[43m)\u001b[49m\n",
      "\u001b[1;31mTypeError\u001b[0m: hello() missing 1 required positional argument: 'name'"
     ]
    }
   ],
   "source": [
    "# what happens if I want to call it without any argument?\n",
    "\n",
    "hello()"
   ]
  },
  {
   "cell_type": "markdown",
   "id": "4c43d137-f37c-4386-ad6f-a350bde9589b",
   "metadata": {},
   "source": [
    "# Each function is defined *once*\n",
    "\n",
    "In many programming languages, you can define a function multiple times, each time taking a different number or type of argument. Then, when you call the function, the language tries to figure out which version of the function matches the argument you're passing. \n",
    "\n",
    "This is *not* the case in Python. You have a single chance to define a function in Python. The most recent definition is the one that the language knows about. If you want to take either 1 or 2 arguments, you'll need to use some techniques we'll talk about, but you cannot define the function twice."
   ]
  },
  {
   "cell_type": "code",
   "execution_count": 23,
   "id": "26e89803-758a-4994-864f-006b1a056939",
   "metadata": {},
   "outputs": [
    {
     "name": "stdout",
     "output_type": "stream",
     "text": [
      "7\n"
     ]
    }
   ],
   "source": [
    "# think about this:\n",
    "\n",
    "x = 5\n",
    "x = 7\n",
    "\n",
    "print(x)"
   ]
  },
  {
   "cell_type": "code",
   "execution_count": 24,
   "id": "20ca71da-8b5c-494f-8829-fa86a2699397",
   "metadata": {},
   "outputs": [],
   "source": [
    "# can I define a function with more than one parameter? Yes!\n",
    "\n",
    "def hello(first, last):\n",
    "    print(f'Hello, {first} {last}!')"
   ]
  },
  {
   "cell_type": "code",
   "execution_count": 25,
   "id": "db1479e7-6b1e-4691-b5d1-a44e687ce7a2",
   "metadata": {},
   "outputs": [
    {
     "name": "stdout",
     "output_type": "stream",
     "text": [
      "Hello, Reuven Lerner!\n"
     ]
    }
   ],
   "source": [
    "# parameters: first last\n",
    "# arguments: 'Reuven' 'Lerner'\n",
    "\n",
    "hello('Reuven', 'Lerner')"
   ]
  },
  {
   "cell_type": "code",
   "execution_count": 26,
   "id": "35f76082-40c7-4517-8fe2-bf387cda87a6",
   "metadata": {},
   "outputs": [
    {
     "ename": "TypeError",
     "evalue": "hello() missing 1 required positional argument: 'last'",
     "output_type": "error",
     "traceback": [
      "\u001b[1;31m---------------------------------------------------------------------------\u001b[0m",
      "\u001b[1;31mTypeError\u001b[0m                                 Traceback (most recent call last)",
      "Cell \u001b[1;32mIn[26], line 1\u001b[0m\n\u001b[1;32m----> 1\u001b[0m \u001b[43mhello\u001b[49m\u001b[43m(\u001b[49m\u001b[38;5;124;43m'\u001b[39;49m\u001b[38;5;124;43mReuven\u001b[39;49m\u001b[38;5;124;43m'\u001b[39;49m\u001b[43m)\u001b[49m\n",
      "\u001b[1;31mTypeError\u001b[0m: hello() missing 1 required positional argument: 'last'"
     ]
    }
   ],
   "source": [
    "hello('Reuven')"
   ]
  },
  {
   "cell_type": "code",
   "execution_count": 27,
   "id": "7589b7e7-63a3-4464-bffa-17c53f6b99e9",
   "metadata": {},
   "outputs": [
    {
     "ename": "TypeError",
     "evalue": "hello() missing 2 required positional arguments: 'first' and 'last'",
     "output_type": "error",
     "traceback": [
      "\u001b[1;31m---------------------------------------------------------------------------\u001b[0m",
      "\u001b[1;31mTypeError\u001b[0m                                 Traceback (most recent call last)",
      "Cell \u001b[1;32mIn[27], line 1\u001b[0m\n\u001b[1;32m----> 1\u001b[0m \u001b[43mhello\u001b[49m\u001b[43m(\u001b[49m\u001b[43m)\u001b[49m\n",
      "\u001b[1;31mTypeError\u001b[0m: hello() missing 2 required positional arguments: 'first' and 'last'"
     ]
    }
   ],
   "source": [
    "hello()"
   ]
  },
  {
   "cell_type": "markdown",
   "id": "fa68d363-1369-4acb-93ce-85d0c8c5e8f1",
   "metadata": {},
   "source": [
    "# Exercise: `calc` with arguments\n",
    "\n",
    "Rewrite our `calc` function from before, such that you don't ask the user to enter any inputs when the function is run. Rather, the function takes *three* arguments, which be assigned to three parameters: `first`, `op`, and `second`. Otherwise, the functionality remains the same.\n",
    "\n"
   ]
  },
  {
   "cell_type": "code",
   "execution_count": 29,
   "id": "b3968839-8633-4500-995f-bc12720688a4",
   "metadata": {},
   "outputs": [],
   "source": [
    "def calc(first, op, second):\n",
    "    if op == '+':\n",
    "        result = first + second\n",
    "    elif op == '-':\n",
    "        result = first - second\n",
    "    else:\n",
    "        result = f'(Bad operator {op})'\n",
    "\n",
    "    print(f'{first} {op} {second} = {result}')"
   ]
  },
  {
   "cell_type": "code",
   "execution_count": 30,
   "id": "76a2205d-5adc-4a94-95b6-496eebe82d97",
   "metadata": {},
   "outputs": [
    {
     "name": "stdout",
     "output_type": "stream",
     "text": [
      "10 + 3 = 13\n"
     ]
    }
   ],
   "source": [
    "calc(10, '+', 3)"
   ]
  },
  {
   "cell_type": "code",
   "execution_count": 32,
   "id": "fd6cdd15-8290-4daf-ac5b-7980893195a1",
   "metadata": {},
   "outputs": [
    {
     "ename": "TypeError",
     "evalue": "unsupported operand type(s) for -: 'str' and 'str'",
     "output_type": "error",
     "traceback": [
      "\u001b[1;31m---------------------------------------------------------------------------\u001b[0m",
      "\u001b[1;31mTypeError\u001b[0m                                 Traceback (most recent call last)",
      "Cell \u001b[1;32mIn[32], line 1\u001b[0m\n\u001b[1;32m----> 1\u001b[0m \u001b[43mcalc\u001b[49m\u001b[43m(\u001b[49m\u001b[38;5;124;43m'\u001b[39;49m\u001b[38;5;124;43ma\u001b[39;49m\u001b[38;5;124;43m'\u001b[39;49m\u001b[43m,\u001b[49m\u001b[43m \u001b[49m\u001b[38;5;124;43m'\u001b[39;49m\u001b[38;5;124;43m-\u001b[39;49m\u001b[38;5;124;43m'\u001b[39;49m\u001b[43m,\u001b[49m\u001b[43m \u001b[49m\u001b[38;5;124;43m'\u001b[39;49m\u001b[38;5;124;43mc\u001b[39;49m\u001b[38;5;124;43m'\u001b[39;49m\u001b[43m)\u001b[49m\n",
      "Cell \u001b[1;32mIn[29], line 5\u001b[0m, in \u001b[0;36mcalc\u001b[1;34m(first, op, second)\u001b[0m\n\u001b[0;32m      3\u001b[0m     result \u001b[38;5;241m=\u001b[39m first \u001b[38;5;241m+\u001b[39m second\n\u001b[0;32m      4\u001b[0m \u001b[38;5;28;01melif\u001b[39;00m op \u001b[38;5;241m==\u001b[39m \u001b[38;5;124m'\u001b[39m\u001b[38;5;124m-\u001b[39m\u001b[38;5;124m'\u001b[39m:\n\u001b[1;32m----> 5\u001b[0m     result \u001b[38;5;241m=\u001b[39m \u001b[43mfirst\u001b[49m\u001b[43m \u001b[49m\u001b[38;5;241;43m-\u001b[39;49m\u001b[43m \u001b[49m\u001b[43msecond\u001b[49m\n\u001b[0;32m      6\u001b[0m \u001b[38;5;28;01melse\u001b[39;00m:\n\u001b[0;32m      7\u001b[0m     result \u001b[38;5;241m=\u001b[39m \u001b[38;5;124mf\u001b[39m\u001b[38;5;124m'\u001b[39m\u001b[38;5;124m(Bad operator \u001b[39m\u001b[38;5;132;01m{\u001b[39;00mop\u001b[38;5;132;01m}\u001b[39;00m\u001b[38;5;124m)\u001b[39m\u001b[38;5;124m'\u001b[39m\n",
      "\u001b[1;31mTypeError\u001b[0m: unsupported operand type(s) for -: 'str' and 'str'"
     ]
    }
   ],
   "source": [
    "calc('a', '-', 'c')"
   ]
  },
  {
   "cell_type": "code",
   "execution_count": 35,
   "id": "f699820a-7eaf-4311-b592-f5883db79a89",
   "metadata": {},
   "outputs": [
    {
     "name": "stdout",
     "output_type": "stream",
     "text": [
      "0 + 5 = 5\n",
      "1 + 5 = 6\n",
      "2 + 5 = 7\n",
      "3 + 5 = 8\n",
      "4 + 5 = 9\n",
      "5 + 5 = 10\n",
      "6 + 5 = 11\n",
      "7 + 5 = 12\n",
      "8 + 5 = 13\n",
      "9 + 5 = 14\n"
     ]
    }
   ],
   "source": [
    "# because the function \"calc\" no longer requires any interactive\n",
    "# inputs, I can put it inside of a \"for\" loop, and use it non-interactively.\n",
    "\n",
    "for one_number in range(10):\n",
    "    calc(one_number, '+', 5)"
   ]
  },
  {
   "cell_type": "code",
   "execution_count": 37,
   "id": "832d4ca5-26ec-4005-8f65-fff7c6022723",
   "metadata": {},
   "outputs": [
    {
     "name": "stdout",
     "output_type": "stream",
     "text": [
      "10 + 20 = 30\n"
     ]
    }
   ],
   "source": [
    "# AJ \n",
    "\n",
    "def calc(n1, op, n2):\n",
    "    if op == '+':\n",
    "        tot = int(n1) + int(n2)\n",
    "    elif op =='-':\n",
    "        tot = int(n1) - int(n2)\n",
    "    \n",
    "    print(f'{n1} {op} {n2} = {tot}')\n",
    "\n",
    "calc(10, '+', 20)"
   ]
  },
  {
   "cell_type": "code",
   "execution_count": 39,
   "id": "18eb041c-2465-49ea-8c5b-dffa1a7b3628",
   "metadata": {},
   "outputs": [
    {
     "name": "stdin",
     "output_type": "stream",
     "text": [
      "Enter 1st number:  10\n",
      "Enter 2nd number:  20\n",
      "Enter operator (+ or -):  -\n"
     ]
    },
    {
     "name": "stdout",
     "output_type": "stream",
     "text": [
      "Result of operator - is -10\n"
     ]
    }
   ],
   "source": [
    "# HS\n",
    "\n",
    "def calc(a, b, op):\n",
    "    if op == '+':\n",
    "        result = a + b\n",
    "    elif op == '-':\n",
    "        result = a - b\n",
    "    else:\n",
    "        result = f'Unrecognized operator: {op}'\n",
    "    return result\n",
    "\n",
    "a = int(input('Enter 1st number: '))\n",
    "b = int(input('Enter 2nd number: '))\n",
    "op = input('Enter operator (+ or -): ')\n",
    "\n",
    "result = calc(a, b, op)\n",
    "\n",
    "print(f'Result of operator {op} is {result}')"
   ]
  },
  {
   "cell_type": "code",
   "execution_count": 42,
   "id": "0f36cecc-50be-4c0c-8c0a-d8e971764553",
   "metadata": {},
   "outputs": [
    {
     "name": "stdin",
     "output_type": "stream",
     "text": [
      "enter 1st No 10\n",
      "enter the operator -\n",
      "enter 2nd No. 8\n"
     ]
    },
    {
     "name": "stdout",
     "output_type": "stream",
     "text": [
      "2\n"
     ]
    }
   ],
   "source": [
    "# PD\n",
    "\n",
    "a = int(input('enter 1st No').strip())\n",
    "b = input('enter the operator').strip()\n",
    "c = int(input('enter 2nd No.').strip())\n",
    "\n",
    "def calc(first,op,second):\n",
    "  if op == '+':\n",
    "    print(first+second)\n",
    "  elif op=='-':\n",
    "    print(first-second)\n",
    "  else:\n",
    "    print('Dont Know')\n",
    "      \n",
    "calc(a,b,c)"
   ]
  },
  {
   "cell_type": "markdown",
   "id": "44ef14b1-4c78-4fbb-8ae6-958af8fd3c7a",
   "metadata": {},
   "source": [
    "# Dynamic typing\n",
    "\n",
    "Remember that in Python, we don't need to \"declare\" our variables before we use them. That's because in Python any variable can refer to any value. If we first define `x` to refer to an integer, and then assign `x` to refer to a string, that's fine.\n",
    "\n",
    "In the same way, any parameter in a function can refer to any value of any type. Which means that you (might) need to do some checking inside of your function.\n",
    "\n",
    "People from statically typed languages, where a variable can only refer to values of a particular type, find this frustrating and baffling. Python increasingly does support this sort of type hinting, but we won't discuss it here. In general, though, people from the dynamic language world *love* this feature, because we can define a function once, and it'll work on many different types."
   ]
  },
  {
   "cell_type": "code",
   "execution_count": 43,
   "id": "c006aa0c-f339-4212-bf73-71950e207314",
   "metadata": {},
   "outputs": [],
   "source": [
    "def hello(name):\n",
    "    print(f'Hello, {name}!')"
   ]
  },
  {
   "cell_type": "code",
   "execution_count": 44,
   "id": "fae9a9c8-f22b-422b-b0e0-8b3ae628534a",
   "metadata": {},
   "outputs": [
    {
     "name": "stdout",
     "output_type": "stream",
     "text": [
      "Hello, world!\n"
     ]
    }
   ],
   "source": [
    "hello('world')"
   ]
  },
  {
   "cell_type": "code",
   "execution_count": 45,
   "id": "713afc25-3f9d-4121-bd9d-563212648c0a",
   "metadata": {},
   "outputs": [
    {
     "name": "stdout",
     "output_type": "stream",
     "text": [
      "Hello, 5!\n"
     ]
    }
   ],
   "source": [
    "hello(5)"
   ]
  },
  {
   "cell_type": "code",
   "execution_count": 46,
   "id": "c4ed77e6-6148-410d-abef-9846206911be",
   "metadata": {},
   "outputs": [
    {
     "name": "stdout",
     "output_type": "stream",
     "text": [
      "Hello, [10, 20, 30]!\n"
     ]
    }
   ],
   "source": [
    "hello([10, 20, 30])"
   ]
  },
  {
   "cell_type": "code",
   "execution_count": 47,
   "id": "40979ca1-6348-45be-9923-5fa32c281793",
   "metadata": {},
   "outputs": [
    {
     "name": "stdout",
     "output_type": "stream",
     "text": [
      "Hello, <function hello at 0x110b9e980>!\n"
     ]
    }
   ],
   "source": [
    "hello(hello)"
   ]
  },
  {
   "cell_type": "code",
   "execution_count": null,
   "id": "ffaf6da7-6478-426e-bc1e-4605a1a3169d",
   "metadata": {},
   "outputs": [],
   "source": [
    "# KP\n",
    "\n",
    "def calc():\n",
    "  firstnumber = input('Enter a number: ').strip()\n",
    "  operator = input('Enter an operator (+, -, *, /): ').strip()\n",
    "  secondnumber = input('Enter a second number: ').strip()\n",
    "\n",
    "  if firstnumber.isdigit():\n",
    "    firstnumber = int(firstnumber)  \n",
    "  else:\n",
    "    print(f'{firstnumber} is not a number.')\n",
    "    break\n",
    "\n",
    "  if secondnumber.isdigit():\n",
    "    secondnumber = int(secondnumber)  \n",
    "  else:\n",
    "    print(f'{secondnumber} is not a number.')\n",
    "    break\n",
    "\n",
    "  if operator == '+':\n",
    "    total = firstnumber + secondnumber\n",
    "  elif operator == '-':\n",
    "    total = firstnumber - secondnumber\n",
    "  elif operator == '*':\n",
    "    total = firstnumber * secondnumber\n",
    "  elif operator == '/':\n",
    "    total = firstnumber / secondnumber\n",
    "  else:\n",
    "    print('Incorrect Entry.')\n",
    "\n",
    "  print(f'{firstnumber} {operator} {secondnumber} = {total}')"
   ]
  },
  {
   "cell_type": "markdown",
   "id": "e7d2f851-a11c-4a88-bbf1-8cf4001e7430",
   "metadata": {},
   "source": [
    "# Next up:\n",
    "\n",
    "- Positional vs. keyword arguments\n",
    "- Return values\n",
    "- Default argument values\n",
    "\n"
   ]
  },
  {
   "cell_type": "markdown",
   "id": "5015c2e1-5660-4e01-a891-5c278b44e5c3",
   "metadata": {},
   "source": [
    "# Positional vs. keyword arguments\n",
    "\n",
    "When we call a function, our assumption is that the arguments will be matched up with the parameters in order: The first argument will be assigned to the first parameter, the second to the second, etc.\n",
    "\n",
    "But there is another type of argument, namely a *keyword* argument. Keyword arguments always have the form of `name=value`, with an `=` in the middle of them. We can use keyword arguments to specify which parameter should get which value assigned to it."
   ]
  },
  {
   "cell_type": "code",
   "execution_count": 48,
   "id": "ff68ac66-3df8-4404-a7f0-f1debffa398f",
   "metadata": {},
   "outputs": [],
   "source": [
    "def add(x, y):\n",
    "    print(f'{x} + {y} = {x+y}')   "
   ]
  },
  {
   "cell_type": "code",
   "execution_count": 49,
   "id": "c62b6f72-5076-4c6f-9b03-731c150962d0",
   "metadata": {},
   "outputs": [
    {
     "name": "stdout",
     "output_type": "stream",
     "text": [
      "3 + 5 = 8\n"
     ]
    }
   ],
   "source": [
    "# parameters: x  y\n",
    "# arguments   3  5   \n",
    "\n",
    "add(3, 5)    # positional arguments, because they're assigned based on their positions"
   ]
  },
  {
   "cell_type": "code",
   "execution_count": 50,
   "id": "1b35bb68-07d8-4fe5-bb8b-43f7c09087d4",
   "metadata": {},
   "outputs": [
    {
     "name": "stdout",
     "output_type": "stream",
     "text": [
      "3 + 5 = 8\n"
     ]
    }
   ],
   "source": [
    "# we can also use keyword arguments:\n",
    "\n",
    "# parameters:   x    y\n",
    "# arguments:    3    5\n",
    "\n",
    "add(x=3, y=5)   # these are both keyword arguments here"
   ]
  },
  {
   "cell_type": "code",
   "execution_count": 51,
   "id": "f84f34c8-3c1e-4d84-9275-b2f5ca36a605",
   "metadata": {},
   "outputs": [
    {
     "name": "stdout",
     "output_type": "stream",
     "text": [
      "4 + 8 = 12\n"
     ]
    }
   ],
   "source": [
    "# it's usually up to the caller (whoever is calling the function) to decide whether\n",
    "# to use positional or keyword arguments. Positional are easier, keyword are more explicit\n",
    "\n",
    "# can I change the order? (The answer: Yes!)\n",
    "\n",
    "# parameters: x  y\n",
    "# arguments:  4  8\n",
    "\n",
    "add(y=8, x=4)\n"
   ]
  },
  {
   "cell_type": "code",
   "execution_count": 52,
   "id": "1adaf775-edee-44fa-ae93-0b0c88e87ccc",
   "metadata": {},
   "outputs": [
    {
     "name": "stdout",
     "output_type": "stream",
     "text": [
      "5 + 10 = 15\n"
     ]
    }
   ],
   "source": [
    "# let's mix and match them\n",
    "\n",
    "# that's fine, so long as you follow the rule of: All positional before all keyword\n",
    "\n",
    "add(5, y=10)  "
   ]
  },
  {
   "cell_type": "code",
   "execution_count": 53,
   "id": "4e60b0e8-c8a2-4642-b71b-5ca1e7d4a3f3",
   "metadata": {},
   "outputs": [
    {
     "ename": "SyntaxError",
     "evalue": "positional argument follows keyword argument (2461464761.py, line 3)",
     "output_type": "error",
     "traceback": [
      "\u001b[1;36m  Cell \u001b[1;32mIn[53], line 3\u001b[1;36m\u001b[0m\n\u001b[1;33m    add(x=5, 10)\u001b[0m\n\u001b[1;37m               ^\u001b[0m\n\u001b[1;31mSyntaxError\u001b[0m\u001b[1;31m:\u001b[0m positional argument follows keyword argument\n"
     ]
    }
   ],
   "source": [
    "# what if I try the other way around?\n",
    "\n",
    "add(x=5, 10)"
   ]
  },
  {
   "cell_type": "code",
   "execution_count": 54,
   "id": "a6f9f8da-ca91-475d-b6f0-548740a74ff1",
   "metadata": {},
   "outputs": [
    {
     "ename": "TypeError",
     "evalue": "add() got an unexpected keyword argument 'first'",
     "output_type": "error",
     "traceback": [
      "\u001b[1;31m---------------------------------------------------------------------------\u001b[0m",
      "\u001b[1;31mTypeError\u001b[0m                                 Traceback (most recent call last)",
      "Cell \u001b[1;32mIn[54], line 1\u001b[0m\n\u001b[1;32m----> 1\u001b[0m \u001b[43madd\u001b[49m\u001b[43m(\u001b[49m\u001b[43mfirst\u001b[49m\u001b[38;5;241;43m=\u001b[39;49m\u001b[38;5;241;43m5\u001b[39;49m\u001b[43m,\u001b[49m\u001b[43m \u001b[49m\u001b[43msecond\u001b[49m\u001b[38;5;241;43m=\u001b[39;49m\u001b[38;5;241;43m10\u001b[39;49m\u001b[43m)\u001b[49m\n",
      "\u001b[1;31mTypeError\u001b[0m: add() got an unexpected keyword argument 'first'"
     ]
    }
   ],
   "source": [
    "# here, the keyword argument names were \"first\" and \"second\", but the \"add\" function\n",
    "# has parameters named \"x\" and \"y\"\n",
    "\n",
    "add(first=5, second=10)"
   ]
  },
  {
   "cell_type": "code",
   "execution_count": 55,
   "id": "a9f109ea-f83b-4a8d-b55c-e815e659a1bd",
   "metadata": {},
   "outputs": [],
   "source": [
    "# part of a function's \"signature\" in Python includes the names of the parameters\n",
    "# so that you can pass them in keyword arguments."
   ]
  },
  {
   "cell_type": "code",
   "execution_count": 57,
   "id": "e8f2db6b-7258-47fd-b158-b901dc1f9dfc",
   "metadata": {},
   "outputs": [
    {
     "name": "stdout",
     "output_type": "stream",
     "text": [
      "abc + def = abcdef\n"
     ]
    }
   ],
   "source": [
    "# notice that the keyword argument itself (the variable name) comes before\n",
    "# the =, and doesn't have any quotes around it. The string value (after the =)\n",
    "# can have quotes.\n",
    "\n",
    "add(x='abc', y='def')"
   ]
  },
  {
   "cell_type": "code",
   "execution_count": 59,
   "id": "b63ca944-a5fe-4fc5-a690-27967dfde472",
   "metadata": {},
   "outputs": [
    {
     "name": "stdout",
     "output_type": "stream",
     "text": [
      "5 + 10 = 15\n"
     ]
    }
   ],
   "source": [
    "# parameters: x  y\n",
    "# arguments:  5 10\n",
    "add(5, 10)"
   ]
  },
  {
   "cell_type": "code",
   "execution_count": 60,
   "id": "4e301e72-41ff-4f57-b86d-540f6cc2b86d",
   "metadata": {},
   "outputs": [
    {
     "name": "stdout",
     "output_type": "stream",
     "text": [
      "5 + 10 = 15\n"
     ]
    }
   ],
   "source": [
    "# if, with add, I want to pass x as a keyword argument, then y *must* be a keyword argument, too.\n",
    "\n",
    "add(x=5, y=10)"
   ]
  },
  {
   "cell_type": "code",
   "execution_count": 61,
   "id": "b90fcd0c-7847-445a-842f-17c2c6e96083",
   "metadata": {},
   "outputs": [
    {
     "ename": "TypeError",
     "evalue": "add() missing 2 required positional arguments: 'x' and 'y'",
     "output_type": "error",
     "traceback": [
      "\u001b[1;31m---------------------------------------------------------------------------\u001b[0m",
      "\u001b[1;31mTypeError\u001b[0m                                 Traceback (most recent call last)",
      "Cell \u001b[1;32mIn[61], line 1\u001b[0m\n\u001b[1;32m----> 1\u001b[0m \u001b[43madd\u001b[49m\u001b[43m(\u001b[49m\u001b[43m)\u001b[49m\n",
      "\u001b[1;31mTypeError\u001b[0m: add() missing 2 required positional arguments: 'x' and 'y'"
     ]
    }
   ],
   "source": [
    "add()"
   ]
  },
  {
   "cell_type": "markdown",
   "id": "a16d6511-1325-4588-ad37-e11a429a44f1",
   "metadata": {},
   "source": [
    "# Return values\n",
    "\n",
    "So far, our functions have printed things on the screen, but they haven't done the most important thing that a function does, namely return a value to the caller.\n",
    "\n",
    "It might seem like these are the same, but they are *VERY* different:\n",
    "\n",
    "- A function gets to return a value once, and only once. We do this with the `return` statement in our function. When Python encounters `return`, it immediately exits from the function.\n",
    "- You can have many different times in a function when you have the `return` statement, but only the first time it executes will have an effect.\n",
    "- If you want to return a value, just give the value to `return`, as in: `return 5` or `return 'hello'`\n",
    "- The value that you return from a function can be put on the right side of assignment, or passed as an argument to another function.\n",
    "\n",
    "What about printing in a function?\n",
    "- You can `print` as often as you want in a function\n",
    "- It doesn't affect when the function ends\n",
    "- Something printed goes on the user's screen, but *cannot* be assigned to a variable, and cannot be passed as an argument to another function.\n",
    "\n",
    "A function that doesn't explicitly return a value actually returns the special value `None`. \n",
    "\n",
    "As a general rule, it's *far* more flexible and elegant for a function to `return` a value than for it to `print` a value. You can always `print` a returned value. But you cannot capture a printed value."
   ]
  },
  {
   "cell_type": "code",
   "execution_count": 62,
   "id": "3c858840-93a8-41b1-9bfa-8992fc36ef95",
   "metadata": {},
   "outputs": [
    {
     "name": "stdout",
     "output_type": "stream",
     "text": [
      "Hello, world!\n"
     ]
    }
   ],
   "source": [
    "def hello(name):\n",
    "    print(f'Hello, {name}!')\n",
    "\n",
    "hello('world')"
   ]
  },
  {
   "cell_type": "code",
   "execution_count": 63,
   "id": "68c5c0da-607a-4a48-a9f4-6de86a0bd7df",
   "metadata": {},
   "outputs": [
    {
     "name": "stdout",
     "output_type": "stream",
     "text": [
      "Hello, world!\n"
     ]
    },
    {
     "ename": "TypeError",
     "evalue": "object of type 'NoneType' has no len()",
     "output_type": "error",
     "traceback": [
      "\u001b[1;31m---------------------------------------------------------------------------\u001b[0m",
      "\u001b[1;31mTypeError\u001b[0m                                 Traceback (most recent call last)",
      "Cell \u001b[1;32mIn[63], line 3\u001b[0m\n\u001b[0;32m      1\u001b[0m \u001b[38;5;66;03m# how many characters are in the output from hello('world')?\u001b[39;00m\n\u001b[1;32m----> 3\u001b[0m \u001b[38;5;28;43mlen\u001b[39;49m\u001b[43m(\u001b[49m\u001b[43mhello\u001b[49m\u001b[43m(\u001b[49m\u001b[38;5;124;43m'\u001b[39;49m\u001b[38;5;124;43mworld\u001b[39;49m\u001b[38;5;124;43m'\u001b[39;49m\u001b[43m)\u001b[49m\u001b[43m)\u001b[49m\n",
      "\u001b[1;31mTypeError\u001b[0m: object of type 'NoneType' has no len()"
     ]
    }
   ],
   "source": [
    "# how many characters are in the output from hello('world')?\n",
    "\n",
    "len(hello('world'))"
   ]
  },
  {
   "cell_type": "code",
   "execution_count": 65,
   "id": "67e99bcd-0ea4-4a07-854e-ddb866dd6c63",
   "metadata": {},
   "outputs": [
    {
     "data": {
      "text/plain": [
       "'Hello, world!'"
      ]
     },
     "execution_count": 65,
     "metadata": {},
     "output_type": "execute_result"
    }
   ],
   "source": [
    "# let's use return instead:\n",
    "\n",
    "def hello(name):\n",
    "    return f'Hello, {name}!'\n",
    "\n",
    "hello('world')   # we see the value in Jupyter, which then prints it - -but the function didn't print it"
   ]
  },
  {
   "cell_type": "code",
   "execution_count": 66,
   "id": "a9eebb40-ba29-4fe6-bd26-a7176fc7e4a9",
   "metadata": {},
   "outputs": [
    {
     "data": {
      "text/plain": [
       "13"
      ]
     },
     "execution_count": 66,
     "metadata": {},
     "output_type": "execute_result"
    }
   ],
   "source": [
    "len(hello('world'))   # hello returns a string, which then becomes the input to len"
   ]
  },
  {
   "cell_type": "code",
   "execution_count": 68,
   "id": "be60a15e-14c2-425f-ba94-c98226d52ada",
   "metadata": {},
   "outputs": [
    {
     "data": {
      "text/plain": [
       "'HELLO, WORLD!'"
      ]
     },
     "execution_count": 68,
     "metadata": {},
     "output_type": "execute_result"
    }
   ],
   "source": [
    "s = hello('world')   # assign the result to a variable\n",
    "\n",
    "s.upper()"
   ]
  },
  {
   "cell_type": "markdown",
   "id": "cd9a2ff5-aaaf-4bdf-8646-cbf0451989b9",
   "metadata": {},
   "source": [
    "# Exercise: Calculator return values\n",
    "\n",
    "1. Modify our `calc` function, such that it doesn't `print` the result, but rather returns it to the caller as a string.\n",
    "2. Modify it further, such that if we have non-numeric inputs for our `first` and `second` variables (i.e., if they aren't integers), then we `return` prematurely. Note: You can check if they are integers by comparing `type(first)` with `int`. "
   ]
  },
  {
   "cell_type": "code",
   "execution_count": 69,
   "id": "1c4e3927-3431-43d2-bc77-1be7ba7c2874",
   "metadata": {},
   "outputs": [],
   "source": [
    "def calc(first, op, second):\n",
    "    if op == '+':\n",
    "        result = first + second\n",
    "    elif op == '-':\n",
    "        result = first - second\n",
    "    else:\n",
    "        result = f'(Bad operator {op})'\n",
    "\n",
    "    return f'{first} {op} {second} = {result}'\n",
    "\n",
    "x = calc(10, '+', 3)"
   ]
  },
  {
   "cell_type": "code",
   "execution_count": 70,
   "id": "c1800310-3d79-4c23-87be-5aea4f9af787",
   "metadata": {},
   "outputs": [
    {
     "data": {
      "text/plain": [
       "'10 + 3 = 13'"
      ]
     },
     "execution_count": 70,
     "metadata": {},
     "output_type": "execute_result"
    }
   ],
   "source": [
    "x"
   ]
  },
  {
   "cell_type": "code",
   "execution_count": 72,
   "id": "77b056f0-9e24-45e9-afa7-35e0daf42e8f",
   "metadata": {},
   "outputs": [
    {
     "data": {
      "text/plain": [
       "'10 + 3 = 13'"
      ]
     },
     "execution_count": 72,
     "metadata": {},
     "output_type": "execute_result"
    }
   ],
   "source": [
    "# add a check for non-integers \n",
    "# (not the best way to do it)\n",
    "\n",
    "def calc(first, op, second):\n",
    "    if type(first) != int:\n",
    "        return f'{first} is not an integer'\n",
    "\n",
    "    if type(second) != int:\n",
    "        return f'{second} is not an integer'\n",
    "\n",
    "    if op == '+':\n",
    "        result = first + second\n",
    "    elif op == '-':\n",
    "        result = first - second\n",
    "    else:\n",
    "        result = f'(Bad operator {op})'\n",
    "\n",
    "    return f'{first} {op} {second} = {result}'\n",
    "\n",
    "calc(10, '+', 3)"
   ]
  },
  {
   "cell_type": "code",
   "execution_count": 73,
   "id": "f110edde-bc92-467c-a71f-b7d6cd1969dc",
   "metadata": {},
   "outputs": [
    {
     "data": {
      "text/plain": [
       "'abcd is not an integer'"
      ]
     },
     "execution_count": 73,
     "metadata": {},
     "output_type": "execute_result"
    }
   ],
   "source": [
    "calc('abcd', '+', [10, 20, 30])"
   ]
  },
  {
   "cell_type": "code",
   "execution_count": 77,
   "id": "1ead79c8-f444-4c10-8889-3961da1fe43d",
   "metadata": {},
   "outputs": [
    {
     "name": "stdin",
     "output_type": "stream",
     "text": [
      "Enter the First Number : 10\n",
      "Enter the Second Number : 20\n",
      "Enter the operator +, - +\n"
     ]
    }
   ],
   "source": [
    "First = int(input('Enter the First Number :').strip())\n",
    "Second = int(input('Enter the Second Number :').strip())\n",
    "Oper = input('Enter the operator +, -').strip()\n",
    "\n",
    "def calc(n1, op, n2):\n",
    "  if type(n1) == int and type(n2) == int:\n",
    "    if op == '+':\n",
    "      result = n1 + n2\n",
    "    elif op == '-':\n",
    "      result = n1-n2\n",
    "    else:\n",
    "      result = f'Operator is undefined'\n",
    "  else:\n",
    "    result = f'Either of inputs are non-numeric'\n",
    "      \n",
    "  return(f'{n1} {op} {n2} = {result}')"
   ]
  },
  {
   "cell_type": "code",
   "execution_count": 78,
   "id": "1bd6a702-fa98-4160-a008-3bb0ab96a285",
   "metadata": {},
   "outputs": [
    {
     "data": {
      "text/plain": [
       "'10 20 + = Either of inputs are non-numeric'"
      ]
     },
     "execution_count": 78,
     "metadata": {},
     "output_type": "execute_result"
    }
   ],
   "source": [
    "calc(First, Second, Oper)"
   ]
  },
  {
   "cell_type": "code",
   "execution_count": 80,
   "id": "1181d801-2515-47bc-843a-50e803df50f7",
   "metadata": {},
   "outputs": [
    {
     "name": "stdin",
     "output_type": "stream",
     "text": [
      "Enter first number:  hello\n",
      "Enter operator:  +\n",
      "Enter second number:  out\n"
     ]
    },
    {
     "data": {
      "text/plain": [
       "'Entry is not a digit'"
      ]
     },
     "execution_count": 80,
     "metadata": {},
     "output_type": "execute_result"
    }
   ],
   "source": [
    "# isdigit -- is a string method, that you can only run on strings\n",
    "# but I wanted to pass integers as arguments...\n",
    "\n",
    "# VC\n",
    "\n",
    "def calc(first,operator,second):\n",
    "\n",
    "    if first.isdigit() == False or second.isdigit() == False:\n",
    "        return f'Entry is not a digit'\n",
    "\n",
    "    first = int(first)\n",
    "    second = int(second)\n",
    "\n",
    "    if op == '+':\n",
    "        result = first + second\n",
    "    elif op == '-':\n",
    "        result = first - second\n",
    "    else:\n",
    "        result = f'(Bad operator {op})'\n",
    "    \n",
    "    return f'{first} {op} {second} = {result}'\n",
    "\n",
    "first = input('Enter first number: ').strip()\n",
    "op = input('Enter operator: ').strip()\n",
    "second = input('Enter second number: ').strip()\n",
    "\n",
    "calc(first,op,second)"
   ]
  },
  {
   "cell_type": "code",
   "execution_count": 81,
   "id": "43781e30-0b71-49e9-bc79-3a82ae6d1ea2",
   "metadata": {},
   "outputs": [
    {
     "name": "stdin",
     "output_type": "stream",
     "text": [
      "Enter First Number:  10\n",
      "Enter Operator:  +\n",
      "Enter Second Number:  15\n"
     ]
    },
    {
     "name": "stdout",
     "output_type": "stream",
     "text": [
      "Invalid Operands\n"
     ]
    }
   ],
   "source": [
    "# AD\n",
    "\n",
    "def calc(op1, op, op2):\n",
    "    if (type(op1) != int) or (type(op2) != int):\n",
    "        return 'Invalid Operands'\n",
    "    else:        \n",
    "        op1 = int(op1)\n",
    "        op2 = int(op2)\n",
    "        if op == '+':\n",
    "            result = op1 + op2\n",
    "        elif op == '-':\n",
    "            result = op1 - op2\n",
    "        else:\n",
    "            return 'Invalid Operator'\n",
    "        return result\n",
    "\n",
    "op1 = input(\"Enter First Number: \").strip()\n",
    "op = input(\"Enter Operator: \").strip()\n",
    "op2 = input(\"Enter Second Number: \").strip()    \n",
    "print(calc(op1, op, op2))"
   ]
  },
  {
   "cell_type": "markdown",
   "id": "6c8fe479-fccf-497b-a771-cd119060a7ca",
   "metadata": {},
   "source": [
    "# The story so far\n",
    "\n",
    "We can define a function that implements a bunch of actions, and lets us run them by calling the function -- under a single name. A function can contain as many lines as we want, although it's usually a good idea to keep functions short for easier debugging and maintenance.\n",
    "\n",
    "A function's inputs come via the caller's arguments, which are assigned to our parameters.\n",
    "\n",
    "We can return any value we want from our function, using `return`.\n",
    "\n",
    "- If a function doesn't explicitly `return`, then it returns the special value `None`\n",
    "- If a function uses `return` without giving it a value, then it returns `None` as well."
   ]
  },
  {
   "cell_type": "markdown",
   "id": "c43a1d75-4069-4c12-a0bc-c721f3e59b32",
   "metadata": {},
   "source": [
    "# The digit stuff from just now\n",
    "\n",
    "If we call a function with an integer argument, then the parameter in the function gets an integer value. This means that we can perform int operations on it. But we *cannot* call string methods -- not `str.upper`, and not `str.isdigit` -- on the integer. If we call a string method on an integer, we'll get an error.\n",
    "\n",
    "```python\n",
    "def add(x, y):\n",
    "    if not x.isdigit():\n",
    "        return f'{x} is not numeric!'  \n",
    "\n",
    "add(5, 3)   # this will fail! Because x is an integer, and ints doesn't support .isdigit!\n",
    "```\n",
    "\n",
    "We can try it a different way, which is what I meant:\n",
    "\n",
    "```python\n",
    "def add(x, y):\n",
    "    if type(x) != int:\n",
    "        return f'{x} is not an int'  \n",
    "\n",
    "add('5', '3')   #  this is what I mean -- we pass values that aren't integers, and they are caught by the function\n",
    "```\n"
   ]
  },
  {
   "cell_type": "markdown",
   "id": "167dab03-9929-4bc2-b595-2f7b5e7a6115",
   "metadata": {},
   "source": [
    "# You can't run `isdigit` on an integer\n",
    "\n",
    "`str.isdigit` is a method that returns `True` if a string contains only the digits 0-9.\n",
    "\n",
    "- If you try to run `isdigit` on an integer, it'll fail -- because there is no such method for integers\n",
    "- If you have a function that expects to get a string, then yes, sure, go ahead, run `isdigit` on your argument\n",
    "- If you have a function that expects to get an integer, then it'll crash if you do this, though\n",
    "\n",
    "In the previous exercise, I expected you to accept an integer as an argument, and double check that the argument was an integer *NOT* by calling `isdigit`, but rather by checking the type:\n",
    "\n",
    "```python\n",
    "if type(x) != int:\n",
    "    return 'Bad input! Try again'\n",
    "```\n",
    "\n",
    "The above works in *all* cases, making sure that you have an integer. "
   ]
  },
  {
   "cell_type": "markdown",
   "id": "d3c15f11-9e47-4e41-9af6-01755e453c14",
   "metadata": {},
   "source": [
    "# Exercise: Smallest number\n",
    "\n",
    "1. Write a function, `smallest`, that takes one argument, a list of integers. (You can assume that you got a list, and that the list contains only integers.)\n",
    "2. The function should return the smallest integer in the list.\n",
    "3. Do *not* use the builtin Python function `min`, which would also do this.\n",
    "4. Instead, you'll want to use a `for` loop, going through the list, checking if the current value is lower than the smallest value you've found so far.\n",
    "\n",
    "Example:\n",
    "\n",
    "    smallest([10, 20, -5, 30, 7, 2])\n",
    "    -5"
   ]
  },
  {
   "cell_type": "code",
   "execution_count": 90,
   "id": "4266a822-1147-41ae-9b2b-2437f5bded62",
   "metadata": {},
   "outputs": [],
   "source": [
    "def smallest(numbers):\n",
    "    output = numbers[0]          # pretend the first element is the smallest\n",
    "\n",
    "    for one_number in numbers:\n",
    "        if one_number < output:   # is the current number smaller than our planned output?\n",
    "            output = one_number   # if so, then update the planned output to be one_number\n",
    "\n",
    "    return output\n",
    "    "
   ]
  },
  {
   "cell_type": "code",
   "execution_count": 84,
   "id": "e2f78a1f-4ff9-4cec-82c0-aa5a619acf63",
   "metadata": {},
   "outputs": [
    {
     "data": {
      "text/plain": [
       "-5"
      ]
     },
     "execution_count": 84,
     "metadata": {},
     "output_type": "execute_result"
    }
   ],
   "source": [
    "smallest([10, 20, 30, -5, 40, 50])"
   ]
  },
  {
   "cell_type": "code",
   "execution_count": 85,
   "id": "3a831ea2-fcba-4461-9fb7-48814ed1635e",
   "metadata": {},
   "outputs": [
    {
     "name": "stdout",
     "output_type": "stream",
     "text": [
      "-210\n"
     ]
    }
   ],
   "source": [
    "# AD\n",
    "\n",
    "def smallest(mylist):\n",
    "    small = mylist[0]\n",
    "    for num in mylist[1:]:\n",
    "        if num < small:\n",
    "            small = num\n",
    "    return small\n",
    "print(smallest([-12, -210, 20, 8, -9, 30, 9]))"
   ]
  },
  {
   "cell_type": "code",
   "execution_count": 86,
   "id": "5bade09c-1586-4855-86b6-0a2380980061",
   "metadata": {},
   "outputs": [
    {
     "name": "stdout",
     "output_type": "stream",
     "text": [
      "s=-5\n"
     ]
    }
   ],
   "source": [
    "# AJ\n",
    "\n",
    "def smallest(lst):\n",
    "    sm = lst[0]   # don't start with 0, in case you have only positive numbers!\n",
    "    \n",
    "    for each_num in lst:\n",
    "        if each_num < sm:\n",
    "            sm = each_num\n",
    "            \n",
    "    return sm\n",
    "    \n",
    "s = smallest([10, 20, -5, 30, 7, 8, -2])\n",
    "print(f'{s=}')"
   ]
  },
  {
   "cell_type": "code",
   "execution_count": 88,
   "id": "5d8d9d55-bc59-4f75-b2ce-9991b7a015a6",
   "metadata": {},
   "outputs": [
    {
     "data": {
      "text/plain": [
       "-2"
      ]
     },
     "execution_count": 88,
     "metadata": {},
     "output_type": "execute_result"
    }
   ],
   "source": [
    "# VC\n",
    "\n",
    "def smallest(entry):\n",
    "  min = 0\n",
    "\n",
    "  for digit in entry:\n",
    "    if min > digit:\n",
    "      min = digit\n",
    "  return min\n",
    "\n",
    "smallest([3,35,-2,7]) "
   ]
  },
  {
   "cell_type": "code",
   "execution_count": 89,
   "id": "7ee5ce63-9a7b-4763-b657-f70ae52cbf0b",
   "metadata": {},
   "outputs": [
    {
     "name": "stdin",
     "output_type": "stream",
     "text": [
      "Enter elements of the list separated by spaces:  10 20 -5 30 15\n"
     ]
    },
    {
     "name": "stdout",
     "output_type": "stream",
     "text": [
      "The smallest integer in the list is: -5\n"
     ]
    }
   ],
   "source": [
    "# HS\n",
    "\n",
    "user_input = input(\"Enter elements of the list separated by spaces: \")\n",
    "lst_of_int = list(map(int, user_input.split()))\n",
    "\n",
    "def smallest_integer(lst_of_int):\n",
    "    smallest = lst_of_int[0]\n",
    "    for number in lst_of_int:\n",
    "        if number < smallest:\n",
    "            smallest = number\n",
    "    return smallest\n",
    "\n",
    "result = smallest_integer(lst_of_int)\n",
    "\n",
    "print(f\"The smallest integer in the list is: {result}\")"
   ]
  },
  {
   "cell_type": "markdown",
   "id": "8509d1a1-9f9c-46d4-a071-7565aad19dca",
   "metadata": {},
   "source": [
    "# Next up\n",
    "\n",
    "1. Complex return values\n",
    "2. Default argument values\n",
    "3. Function signatures and docstrings\n",
    "4. Local vs. global variables"
   ]
  },
  {
   "cell_type": "markdown",
   "id": "514335af-761d-4efa-873c-8b2cd0a94d38",
   "metadata": {},
   "source": [
    "# Return values\n",
    "\n",
    "So far, we have returned simple values from our functions:\n",
    "\n",
    "- Integers\n",
    "- Strings\n",
    "\n",
    "But we can return *any* Python value at all:\n",
    "\n",
    "- List\n",
    "- Tuple\n",
    "- Dictionary"
   ]
  },
  {
   "cell_type": "code",
   "execution_count": 91,
   "id": "38996dae-70f2-4027-be23-8f9acf706d05",
   "metadata": {},
   "outputs": [],
   "source": [
    "# here's a function that takes a list of integers as its input, \n",
    "# and returns a dict whose keys are \"odds\" and \"evens\", and whose values\n",
    "# are lists of integers -- the odd and even values from our input\n",
    "\n",
    "def odds_and_evens(numbers):   # numbers is a parameter -- a variable -- that we expect will contain a list of ints\n",
    "    output = {'odds':[], 'evens':[]}\n",
    "\n",
    "    for one_number in numbers:\n",
    "        if one_number % 2 == 0:    # if the remainder after dividing by 2 is 0\n",
    "            output['evens'].append(one_number)\n",
    "        else:\n",
    "            output['odds'].append(one_number)\n",
    "\n",
    "    return output"
   ]
  },
  {
   "cell_type": "code",
   "execution_count": 93,
   "id": "c05b719c-5053-4e95-ad10-84d5307dd8c8",
   "metadata": {},
   "outputs": [
    {
     "name": "stdout",
     "output_type": "stream",
     "text": [
      "odds: [15, 25, 35]\n",
      "evens: [10, 20, 30]\n"
     ]
    }
   ],
   "source": [
    "d = odds_and_evens([10, 15, 20, 25, 30, 35])\n",
    "\n",
    "for key, value in d.items():   # here, I use the dict.items method to get every key-value pair\n",
    "    print(f'{key}: {value}')"
   ]
  },
  {
   "cell_type": "code",
   "execution_count": 97,
   "id": "e941e615-25e1-40cd-823b-2b5fdbb16fd9",
   "metadata": {},
   "outputs": [
    {
     "ename": "TypeError",
     "evalue": "'int' object is not iterable",
     "output_type": "error",
     "traceback": [
      "\u001b[1;31m---------------------------------------------------------------------------\u001b[0m",
      "\u001b[1;31mTypeError\u001b[0m                                 Traceback (most recent call last)",
      "Cell \u001b[1;32mIn[97], line 1\u001b[0m\n\u001b[1;32m----> 1\u001b[0m \u001b[43modds_and_evens\u001b[49m\u001b[43m(\u001b[49m\u001b[38;5;241;43m5\u001b[39;49m\u001b[43m)\u001b[49m\n",
      "Cell \u001b[1;32mIn[91], line 8\u001b[0m, in \u001b[0;36modds_and_evens\u001b[1;34m(numbers)\u001b[0m\n\u001b[0;32m      5\u001b[0m \u001b[38;5;28;01mdef\u001b[39;00m \u001b[38;5;21modds_and_evens\u001b[39m(numbers):\n\u001b[0;32m      6\u001b[0m     output \u001b[38;5;241m=\u001b[39m {\u001b[38;5;124m'\u001b[39m\u001b[38;5;124modds\u001b[39m\u001b[38;5;124m'\u001b[39m:[], \u001b[38;5;124m'\u001b[39m\u001b[38;5;124mevens\u001b[39m\u001b[38;5;124m'\u001b[39m:[]}\n\u001b[1;32m----> 8\u001b[0m     \u001b[38;5;28;01mfor\u001b[39;00m one_number \u001b[38;5;129;01min\u001b[39;00m numbers:\n\u001b[0;32m      9\u001b[0m         \u001b[38;5;28;01mif\u001b[39;00m one_number \u001b[38;5;241m%\u001b[39m \u001b[38;5;241m2\u001b[39m \u001b[38;5;241m==\u001b[39m \u001b[38;5;241m0\u001b[39m:    \u001b[38;5;66;03m# if the remainder after dividing by 2 is 0\u001b[39;00m\n\u001b[0;32m     10\u001b[0m             output[\u001b[38;5;124m'\u001b[39m\u001b[38;5;124mevens\u001b[39m\u001b[38;5;124m'\u001b[39m]\u001b[38;5;241m.\u001b[39mappend(one_number)\n",
      "\u001b[1;31mTypeError\u001b[0m: 'int' object is not iterable"
     ]
    }
   ],
   "source": [
    "odds_and_evens(5)"
   ]
  },
  {
   "cell_type": "code",
   "execution_count": 94,
   "id": "f415d2f4-1d9f-4d04-a7f2-f4af7920e0e2",
   "metadata": {},
   "outputs": [
    {
     "data": {
      "text/plain": [
       "(10, 'hello', [10, 20, 30])"
      ]
     },
     "execution_count": 94,
     "metadata": {},
     "output_type": "execute_result"
    }
   ],
   "source": [
    "# I can return a tuple, as well\n",
    "\n",
    "def myfunc():\n",
    "    return (10, 'hello', [10, 20, 30])   # returning a tuple from our function\n",
    "\n",
    "myfunc()"
   ]
  },
  {
   "cell_type": "code",
   "execution_count": 95,
   "id": "309d287d-fd95-4139-92a3-df2961bfaf47",
   "metadata": {},
   "outputs": [
    {
     "data": {
      "text/plain": [
       "(10, 'hello', [10, 20, 30])"
      ]
     },
     "execution_count": 95,
     "metadata": {},
     "output_type": "execute_result"
    }
   ],
   "source": [
    "# we don't need to put parentheses around a tuple -- the commas are enough\n",
    "# it's traditional when returning a tuple from a function not to put them there\n",
    "\n",
    "# this helps us feel like the function is returning multiple values\n",
    "\n",
    "def myfunc():\n",
    "    return 10, 'hello', [10, 20, 30]   # still returning a tuple from our function!\n",
    "\n",
    "myfunc()"
   ]
  },
  {
   "cell_type": "code",
   "execution_count": 96,
   "id": "992fa832-5566-411f-a70c-91154a1dd0db",
   "metadata": {},
   "outputs": [
    {
     "data": {
      "text/plain": [
       "[10, 20, 30, 40]"
      ]
     },
     "execution_count": 96,
     "metadata": {},
     "output_type": "execute_result"
    }
   ],
   "source": [
    "mylist = [10, 20, 30]\n",
    "mylist.append(40)   # I have now added 40 to the end of mylist\n",
    "\n",
    "mylist"
   ]
  },
  {
   "cell_type": "code",
   "execution_count": 98,
   "id": "cb246ecf-8125-4d30-abed-4ce5be7974d4",
   "metadata": {},
   "outputs": [
    {
     "data": {
      "text/plain": [
       "(10, 'hello', [10, 20, 30])"
      ]
     },
     "execution_count": 98,
     "metadata": {},
     "output_type": "execute_result"
    }
   ],
   "source": [
    "# remember unpacking? That's where we take an interable on the right, and multiple variables\n",
    "# on the left of assignment\n",
    "\n",
    "myfunc()"
   ]
  },
  {
   "cell_type": "code",
   "execution_count": 99,
   "id": "fce784fa-4d7a-4b73-9f40-8a150ca857c3",
   "metadata": {},
   "outputs": [],
   "source": [
    "# we can combine our function that returns a tuple with several variables,\n",
    "# and thus effectively get multiple values back from our function\n",
    "\n",
    "x, y, z = myfunc()"
   ]
  },
  {
   "cell_type": "code",
   "execution_count": 100,
   "id": "d174cab4-b64c-44a2-9b81-ccfbc9bf3cb5",
   "metadata": {},
   "outputs": [
    {
     "data": {
      "text/plain": [
       "10"
      ]
     },
     "execution_count": 100,
     "metadata": {},
     "output_type": "execute_result"
    }
   ],
   "source": [
    "x"
   ]
  },
  {
   "cell_type": "code",
   "execution_count": 101,
   "id": "78682cb2-50c1-4700-9767-9820a1eedef2",
   "metadata": {},
   "outputs": [
    {
     "data": {
      "text/plain": [
       "'hello'"
      ]
     },
     "execution_count": 101,
     "metadata": {},
     "output_type": "execute_result"
    }
   ],
   "source": [
    "y"
   ]
  },
  {
   "cell_type": "code",
   "execution_count": 102,
   "id": "dae63a51-b9e6-4e32-9739-1627f899129a",
   "metadata": {
    "scrolled": true
   },
   "outputs": [
    {
     "data": {
      "text/plain": [
       "[10, 20, 30]"
      ]
     },
     "execution_count": 102,
     "metadata": {},
     "output_type": "execute_result"
    }
   ],
   "source": [
    "z"
   ]
  },
  {
   "cell_type": "code",
   "execution_count": 103,
   "id": "c5a91f7d-fac5-4560-9c2c-8559260943e5",
   "metadata": {},
   "outputs": [
    {
     "data": {
      "text/plain": [
       "'this'"
      ]
     },
     "execution_count": 103,
     "metadata": {},
     "output_type": "execute_result"
    }
   ],
   "source": [
    "# If a function returns a value, then that value can be used as the argument for another function\n",
    "\n",
    "def first_word(s):\n",
    "    return s.split()[0]   # turn s into a list of strings, and return the first word\n",
    "\n",
    "first_word('this is a test')"
   ]
  },
  {
   "cell_type": "code",
   "execution_count": 104,
   "id": "0dca86cd-6a57-4b59-8309-3817f69b85d8",
   "metadata": {},
   "outputs": [
    {
     "data": {
      "text/plain": [
       "4"
      ]
     },
     "execution_count": 104,
     "metadata": {},
     "output_type": "execute_result"
    }
   ],
   "source": [
    "len(first_word('this is a test'))   # the returned value from first_word is the argument to len"
   ]
  },
  {
   "cell_type": "markdown",
   "id": "df6c4aec-7d4b-4de2-9865-67d986314098",
   "metadata": {},
   "source": [
    "# Exercise: Biggest and smallest\n",
    "\n",
    "Earlier, we wrote `smallest`, a function that takes a list of integers and returns the smallest integer it found. Now, I want you to write `biggest_and_smallest`, a function that takes a list of integer and returns a tuple of two integers -- the largest one it found, and the smallest one it found.\n",
    "\n",
    "Example:\n",
    "\n",
    "```python\n",
    "biggest_and_smallest([10, 20, -5, -3, 12])\n",
    "(20, -5)\n",
    "```\n",
    "\n",
    "1. Define this function\n",
    "2. Run it with two numbers\n",
    "3. Use unpacking to assign the results to two separate variables."
   ]
  },
  {
   "cell_type": "code",
   "execution_count": null,
   "id": "9ec13efb-16d8-4c76-ab61-976f3fa0be25",
   "metadata": {},
   "outputs": [],
   "source": [
    "def biggest_and_smallest(numbers):\n",
    "    "
   ]
  }
 ],
 "metadata": {
  "kernelspec": {
   "display_name": "Python 3 (ipykernel)",
   "language": "python",
   "name": "python3"
  },
  "language_info": {
   "codemirror_mode": {
    "name": "ipython",
    "version": 3
   },
   "file_extension": ".py",
   "mimetype": "text/x-python",
   "name": "python",
   "nbconvert_exporter": "python",
   "pygments_lexer": "ipython3",
   "version": "3.11.7"
  }
 },
 "nbformat": 4,
 "nbformat_minor": 5
}
