{
 "cells": [
  {
   "cell_type": "markdown",
   "id": "9c3d6743-839e-4e53-a34f-592f3bfa88ee",
   "metadata": {},
   "source": [
    "# Agenda: Functions!\n",
    "\n",
    "1. Q&A\n",
    "2. What are functions?\n",
    "3. Writing simple functions\n",
    "4. Arguments and parameters\n",
    "5. Return values\n",
    "6. Default argument values\n",
    "7. Complex return values and unpacking\n",
    "8. Local and global variables"
   ]
  },
  {
   "cell_type": "markdown",
   "id": "daf40dda-3fe4-4e5a-a6f1-c77324732d87",
   "metadata": {},
   "source": [
    "# Other notebook options\n",
    "\n",
    "- Google colab (https://colab.research.google.com/)\n",
    "- A list of notebooks: https://www.kdnuggets.com/2022/04/top-5-free-cloud-notebooks-2022.html\n",
    "- Another list of notebooks: https://www.dataschool.io/cloud-services-for-jupyter-notebook/\n",
    "- How to install Jupyter on your own computer: https://www.youtube.com/watch?v=i2zM8OwxZok\n",
    "- VSCode has Jupyter/notebook support built into it!"
   ]
  },
  {
   "cell_type": "code",
   "execution_count": 1,
   "id": "33762706-5260-402e-b42c-b1493840d695",
   "metadata": {},
   "outputs": [
    {
     "name": "stdout",
     "output_type": "stream",
     "text": [
      "x=10, y=[10, 20, 30], z={'a': 10, 'b': 20, 'c': 30}\n"
     ]
    }
   ],
   "source": [
    "# f-strings and printing values\n",
    "\n",
    "x = 10\n",
    "y = [10, 20, 30]\n",
    "z = {'a':10, 'b':20, 'c':30}\n",
    "\n",
    "# how can I print x, y, and z -- both the variable names and their values?\n",
    "print(f'x={x}, y={y}, z={z}')"
   ]
  },
  {
   "cell_type": "code",
   "execution_count": 2,
   "id": "85d5386f-88b2-4eba-805c-3a4a9e40271f",
   "metadata": {},
   "outputs": [
    {
     "name": "stdout",
     "output_type": "stream",
     "text": [
      "x=10, y=[10, 20, 30], z={'a': 10, 'b': 20, 'c': 30}\n"
     ]
    }
   ],
   "source": [
    "# in modern versions of Python, you can use special syntax as a shortcut to the above:\n",
    "print(f'{x=}, {y=}, {z=}')"
   ]
  },
  {
   "cell_type": "markdown",
   "id": "a07fef1e-f089-4898-80f8-9e7762e5840f",
   "metadata": {},
   "source": [
    "# What are functions?\n",
    "\n",
    "Functions are the verbs in a programming language. (I'm going to mix \"functions\" and \"methods\" together when I talk about them.) But do we need them? Especially: Do we need to define new functions?\n",
    "\n",
    "Answer: No, we don't need to. But we want to.\n",
    "\n",
    "Why? Because it allows us to express complex ideas in a small space/time. This is known as \"abstraction\" -- where we ignore the details, and thus can communicate at a higher level.\n",
    "\n",
    "Abstraction buys us several things:\n",
    "\n",
    "- It allows us to build higher and higher abstractions on top of the conceptual infrastructure we've already put in place.\n",
    "- It also allows us to concentrate on the parts of a problem that are most important and relevant\n",
    "\n",
    "When we define a function, we're abstracting away many different steps, so that we can think at that higher level. Then we can use our function as a step in another function, and that function in a higher one, etc."
   ]
  },
  {
   "cell_type": "markdown",
   "id": "43395a17-66ef-4e3c-b419-17a05a220942",
   "metadata": {},
   "source": [
    "# Defining a function\n",
    "\n",
    "To define a new function in Python, we use the `def` statement. (Short for \"define.\") A function has:\n",
    "\n",
    "- `def` followed by the name of the function you want to define\n",
    "- After the function name, put `()` parentheses, which will be empty for now\n",
    "- A colon (`:`) at the end of the line\n",
    "- One or more indented lines, as a block. This is the \"function body.\"\n",
    "- As soon as that indentation ends, the function definintion is complete.\n",
    "- Inside of the function body, you can have any code you want:\n",
    "    - `if`/`elif`/`else`\n",
    "    - Variable assignment\n",
    "    - Inputs and outputs\n",
    "    - `for` and `while` loops\n",
    "    - Call other functions!"
   ]
  },
  {
   "cell_type": "code",
   "execution_count": 3,
   "id": "32bde073-e981-49e6-8716-8a9dca53d03a",
   "metadata": {},
   "outputs": [],
   "source": [
    "def hello():\n",
    "    print('Hello!')"
   ]
  },
  {
   "cell_type": "code",
   "execution_count": 4,
   "id": "b8e4e5d5-40c9-430c-9220-f90544524045",
   "metadata": {},
   "outputs": [
    {
     "name": "stdout",
     "output_type": "stream",
     "text": [
      "Hello!\n"
     ]
    }
   ],
   "source": [
    "# once I have defined a function, I can run it -- also \"call it\" or \"execute it\" with parentheses\n",
    "\n",
    "hello()"
   ]
  },
  {
   "cell_type": "code",
   "execution_count": 5,
   "id": "a5efd5e1-f34d-4739-bfde-246fed406211",
   "metadata": {},
   "outputs": [
    {
     "data": {
      "text/plain": [
       "<function __main__.hello()>"
      ]
     },
     "execution_count": 5,
     "metadata": {},
     "output_type": "execute_result"
    }
   ],
   "source": [
    "# You *must* put the parentheses there -- otherwise, you get the function itself, not the result of running it\n",
    "\n",
    "hello"
   ]
  },
  {
   "cell_type": "markdown",
   "id": "eac7c1f3-073d-4916-8435-47c3a5233d12",
   "metadata": {},
   "source": [
    "# Function names\n",
    "\n",
    "Function names are actually variable names! For that reason, we usually stick with the same conventions as variable names:\n",
    "\n",
    "- all lowercase letters\n",
    "- `_` between words\n",
    "- Don't use `_` at the start or the end, except for certain special functions.\n",
    "    - If a function or variable name starts with `_`, it's considered to be \"private,\" or shouldn't be used by others\n",
    "    - If it starts and ends with `__`, that's called a \"dunder function\" or \"dunder method\" (for double underscore), and Python expects to see these defined in particular places. You won't do any harm defining it with this sort of name, but your colleagues will be confused, and Python might mistakenly think you want to do something special there.\n",
    "- Your function name can contain any combination of letters, numbers, and `_`, so long as it doesn't start with a number\n",
    "\n",
    "Because defining a function means that you're defining a variable, defining a function a second time overwrites the first definition.\n",
    "\n",
    "In fact, using `def` means that we're doing two things:\n",
    "- Creating a new function object, i.e., the plans/instructions needed to execute our function\n",
    "- Assigning that function object to a variable\n",
    "\n",
    "In many programming languages, we say that there are two \"namespaces,\" meaning groups of names: One for data (variables) and one for functions. In Python, we have a single namespace. You cannot have both a variable `x` referring to data and a function `x` that executes. The last one that was defined keeps the definition."
   ]
  },
  {
   "cell_type": "code",
   "execution_count": 6,
   "id": "a062d196-889f-4d10-96ef-45ea137cba1e",
   "metadata": {},
   "outputs": [],
   "source": [
    "# let's redefine our function\n",
    "\n",
    "def hello():\n",
    "    print('Hello?')"
   ]
  },
  {
   "cell_type": "code",
   "execution_count": 7,
   "id": "875fc0a9-3a90-423b-b41f-4c7601f20858",
   "metadata": {},
   "outputs": [
    {
     "name": "stdout",
     "output_type": "stream",
     "text": [
      "Hello?\n"
     ]
    }
   ],
   "source": [
    "hello()"
   ]
  },
  {
   "cell_type": "code",
   "execution_count": 8,
   "id": "84591bb2-7013-4d61-aceb-056539779cbd",
   "metadata": {},
   "outputs": [
    {
     "data": {
      "text/plain": [
       "function"
      ]
     },
     "execution_count": 8,
     "metadata": {},
     "output_type": "execute_result"
    }
   ],
   "source": [
    "type(hello)"
   ]
  },
  {
   "cell_type": "code",
   "execution_count": 9,
   "id": "89c7ba23-12e6-4483-aec6-cc33c58552e1",
   "metadata": {},
   "outputs": [
    {
     "name": "stdout",
     "output_type": "stream",
     "text": [
      "Hello?\n",
      "Hello?\n",
      "Hello?\n",
      "Hello?\n",
      "Hello?\n"
     ]
    }
   ],
   "source": [
    "# I can now use my function in other code\n",
    "\n",
    "for i in range(5):\n",
    "    hello()"
   ]
  },
  {
   "cell_type": "markdown",
   "id": "b668b51a-9341-443a-90e8-b1d2038ceeaf",
   "metadata": {},
   "source": [
    "# Exercise: Calculator\n",
    "\n",
    "1. Define a function, `calc`, that will ask the user to enter two numbers and an operator, and will perform the calculation.\n",
    "2. When the function runs, it should ask the user for three inputs:\n",
    "    - A first number\n",
    "    - An operator (should be `+` or `-`)\n",
    "    - A second number\n",
    "3. Get the result of running this operation\n",
    "4. Print the full set of inputs, plus the result.\n",
    "\n",
    "Example:\n",
    "\n",
    "    >>> calc()\n",
    "    Enter first number: 10\n",
    "    Enter operator: +\n",
    "    Enter second number: 3\n",
    "    10 + 3 = 13"
   ]
  },
  {
   "cell_type": "code",
   "execution_count": 10,
   "id": "181e8e47-32a6-42bf-8cfa-74b56c8e5d2a",
   "metadata": {},
   "outputs": [],
   "source": [
    "def calc():\n",
    "    first = input('Enter first number: ').strip()\n",
    "    op = input('Enter operator: ').strip()\n",
    "    second = input('Enter second number: ').strip()\n",
    "\n",
    "    first = int(first)\n",
    "    second = int(second)\n",
    "\n",
    "    if op == '+':\n",
    "        result = first + second\n",
    "    elif op == '-':\n",
    "        result = first - second\n",
    "    else:\n",
    "        result = f'(Bad operator {op})'\n",
    "\n",
    "    print(f'{first} {op} {second} = {result}')"
   ]
  },
  {
   "cell_type": "code",
   "execution_count": 11,
   "id": "62e090b1-6b28-40cd-ad65-f44f829f3acd",
   "metadata": {},
   "outputs": [
    {
     "name": "stdin",
     "output_type": "stream",
     "text": [
      "Enter first number:  10\n",
      "Enter operator:  +\n",
      "Enter second number:  3\n"
     ]
    },
    {
     "name": "stdout",
     "output_type": "stream",
     "text": [
      "10 + 3 = 13\n"
     ]
    }
   ],
   "source": [
    "calc()"
   ]
  },
  {
   "cell_type": "code",
   "execution_count": 12,
   "id": "5baf3e07-5962-4114-a552-132d89953fc7",
   "metadata": {},
   "outputs": [
    {
     "name": "stdin",
     "output_type": "stream",
     "text": [
      "Enter first number:  20\n",
      "Enter operator:  -\n",
      "Enter second number:  2\n"
     ]
    },
    {
     "name": "stdout",
     "output_type": "stream",
     "text": [
      "20 - 2 = 18\n"
     ]
    }
   ],
   "source": [
    "calc()"
   ]
  },
  {
   "cell_type": "code",
   "execution_count": 14,
   "id": "936b670b-0183-49c9-aa31-9379da0c2ff9",
   "metadata": {},
   "outputs": [
    {
     "name": "stdin",
     "output_type": "stream",
     "text": [
      "Enter the first number:  10\n",
      "Enter an operator:  +\n",
      "Enter the second number:  3\n"
     ]
    },
    {
     "name": "stdout",
     "output_type": "stream",
     "text": [
      "output=13\n"
     ]
    }
   ],
   "source": [
    "# CD\n",
    "\n",
    "def calc():\n",
    "\n",
    "  first_num = input(\"Enter the first number: \").strip()\n",
    "  if first_num.isdigit():\n",
    "    first_num = int(first_num)\n",
    "\n",
    "  operator = input(\"Enter an operator: \").strip()\n",
    "\n",
    "  second_num = input(\"Enter the second number: \").strip()\n",
    "  if second_num.isdigit():\n",
    "    second_num = int(second_num)\n",
    "\n",
    "  if operator == '+':\n",
    "    output = first_num + second_num\n",
    "\n",
    "  if operator == '-':\n",
    "    output = first_num - second_num\n",
    "\n",
    "  if operator == '*':\n",
    "    output = first_num * second_num\n",
    "\n",
    "  if operator == '/':\n",
    "    output = first_num / second_num\n",
    "\n",
    "\n",
    "  print(f'{output=}')\n",
    "\n",
    "calc()"
   ]
  },
  {
   "cell_type": "code",
   "execution_count": 15,
   "id": "c761f9a2-c35d-4ddb-a55c-b3f57a0fc18a",
   "metadata": {},
   "outputs": [
    {
     "name": "stdin",
     "output_type": "stream",
     "text": [
      "enter num1 10\n",
      "enter num2 20\n"
     ]
    },
    {
     "name": "stdout",
     "output_type": "stream",
     "text": [
      "30\n"
     ]
    }
   ],
   "source": [
    "# SJ\n",
    "def calc():\n",
    "    first_num=int(input(\"enter num1\"))\n",
    "    second_num=int(input(\"enter num2\"))\n",
    "    print(first_num+second_num)\n",
    "\n",
    "calc()"
   ]
  },
  {
   "cell_type": "code",
   "execution_count": 16,
   "id": "6eb1b4f2-a020-41a2-865c-e56accba728f",
   "metadata": {},
   "outputs": [
    {
     "ename": "SyntaxError",
     "evalue": "'break' outside loop (1288334240.py, line 10)",
     "output_type": "error",
     "traceback": [
      "\u001b[1;36m  Cell \u001b[1;32mIn[16], line 10\u001b[1;36m\u001b[0m\n\u001b[1;33m    break\u001b[0m\n\u001b[1;37m    ^\u001b[0m\n\u001b[1;31mSyntaxError\u001b[0m\u001b[1;31m:\u001b[0m 'break' outside loop\n"
     ]
    }
   ],
   "source": [
    "# AJ\n",
    "\n",
    "def calc():\n",
    "    num1 = input('Enter first number: ').strip()\n",
    "    oper = input('Enter the operator (+/-)').strip()\n",
    "    num2 = input('Enter second number: ').strip()\n",
    "    \n",
    "    if not num1.isdigit() or not num2.isdigit():\n",
    "        print('Please enter numbers')\n",
    "        break\n",
    "    \n",
    "    if not oper in ('+-'):\n",
    "        print('Please enter correct operator')\n",
    "        break\n",
    "    \n",
    "    if oper == '+':\n",
    "        tot = int(num1) + int(num2)\n",
    "    else:\n",
    "        tot = int(num1) - int(num2)\n",
    "    \n",
    "    print(f'{num1} {oper} {num2} = {tot}')\n",
    "\n",
    "calc()"
   ]
  },
  {
   "cell_type": "markdown",
   "id": "57fed315-1a63-4257-a069-fc4df3a75248",
   "metadata": {},
   "source": [
    "# Arguments and parameters\n",
    "\n",
    "If we had to type the values we want to pass to a function, we would quickly get very frustrated! We want to be able to print the value of a variable, not be asked by `print` (each time!) what we want to display.\n",
    "\n",
    "In order to handle this, functions take *arguments*, values that we pass to them. We've seen this a lot:\n",
    "\n",
    "- `print('abc')` -- here, `'abc'` is an argument\n",
    "- `len('abc')` -- here, `'abc'` is an argument\n",
    "\n",
    "Arguments are values that go inside of the parentheses. In order to accept those arguments, a function needs to have *parameters*, variables to which the arguments will be assigned.\n",
    "\n",
    "## Quick aside: \n",
    "\n",
    "- Arguments are the values we pass to a function\n",
    "- Parameters are the variables to which the arguments are assigned\n",
    "\n",
    "Almost every programmer I know mixes this up, and that's pretty much OK.\n",
    "\n",
    "## How can our function accept arguments?\n",
    "\n",
    "We can name one or more parameters inside of the parentheses when we define our function. Each parameter will effectively require that the caller pass an argument."
   ]
  },
  {
   "cell_type": "code",
   "execution_count": 19,
   "id": "418a2c3e-f3fa-41cc-9c8e-909c354d80ba",
   "metadata": {},
   "outputs": [],
   "source": [
    "def hello(name):    # this function requires one argument, which will be assigned to name\n",
    "    print(f'Hello, {name}')"
   ]
  },
  {
   "cell_type": "code",
   "execution_count": 21,
   "id": "3ca1137b-3aa3-4eed-9384-4dac252844f3",
   "metadata": {},
   "outputs": [
    {
     "name": "stdout",
     "output_type": "stream",
     "text": [
      "Hello, world\n"
     ]
    }
   ],
   "source": [
    "# parameters:  name\n",
    "# arguments:  'world'\n",
    "\n",
    "hello('world')"
   ]
  },
  {
   "cell_type": "code",
   "execution_count": 22,
   "id": "15f352a6-e377-41ef-a9f2-61bf959b12d0",
   "metadata": {},
   "outputs": [
    {
     "ename": "TypeError",
     "evalue": "hello() missing 1 required positional argument: 'name'",
     "output_type": "error",
     "traceback": [
      "\u001b[1;31m---------------------------------------------------------------------------\u001b[0m",
      "\u001b[1;31mTypeError\u001b[0m                                 Traceback (most recent call last)",
      "Cell \u001b[1;32mIn[22], line 3\u001b[0m\n\u001b[0;32m      1\u001b[0m \u001b[38;5;66;03m# what happens if I want to call it without any argument?\u001b[39;00m\n\u001b[1;32m----> 3\u001b[0m \u001b[43mhello\u001b[49m\u001b[43m(\u001b[49m\u001b[43m)\u001b[49m\n",
      "\u001b[1;31mTypeError\u001b[0m: hello() missing 1 required positional argument: 'name'"
     ]
    }
   ],
   "source": [
    "# what happens if I want to call it without any argument?\n",
    "\n",
    "hello()"
   ]
  },
  {
   "cell_type": "markdown",
   "id": "4c43d137-f37c-4386-ad6f-a350bde9589b",
   "metadata": {},
   "source": [
    "# Each function is defined *once*\n",
    "\n",
    "In many programming languages, you can define a function multiple times, each time taking a different number or type of argument. Then, when you call the function, the language tries to figure out which version of the function matches the argument you're passing. \n",
    "\n",
    "This is *not* the case in Python. You have a single chance to define a function in Python. The most recent definition is the one that the language knows about. If you want to take either 1 or 2 arguments, you'll need to use some techniques we'll talk about, but you cannot define the function twice."
   ]
  },
  {
   "cell_type": "code",
   "execution_count": 23,
   "id": "26e89803-758a-4994-864f-006b1a056939",
   "metadata": {},
   "outputs": [
    {
     "name": "stdout",
     "output_type": "stream",
     "text": [
      "7\n"
     ]
    }
   ],
   "source": [
    "# think about this:\n",
    "\n",
    "x = 5\n",
    "x = 7\n",
    "\n",
    "print(x)"
   ]
  },
  {
   "cell_type": "code",
   "execution_count": 24,
   "id": "20ca71da-8b5c-494f-8829-fa86a2699397",
   "metadata": {},
   "outputs": [],
   "source": [
    "# can I define a function with more than one parameter? Yes!\n",
    "\n",
    "def hello(first, last):\n",
    "    print(f'Hello, {first} {last}!')"
   ]
  },
  {
   "cell_type": "code",
   "execution_count": 25,
   "id": "db1479e7-6b1e-4691-b5d1-a44e687ce7a2",
   "metadata": {},
   "outputs": [
    {
     "name": "stdout",
     "output_type": "stream",
     "text": [
      "Hello, Reuven Lerner!\n"
     ]
    }
   ],
   "source": [
    "# parameters: first last\n",
    "# arguments: 'Reuven' 'Lerner'\n",
    "\n",
    "hello('Reuven', 'Lerner')"
   ]
  },
  {
   "cell_type": "code",
   "execution_count": 26,
   "id": "35f76082-40c7-4517-8fe2-bf387cda87a6",
   "metadata": {},
   "outputs": [
    {
     "ename": "TypeError",
     "evalue": "hello() missing 1 required positional argument: 'last'",
     "output_type": "error",
     "traceback": [
      "\u001b[1;31m---------------------------------------------------------------------------\u001b[0m",
      "\u001b[1;31mTypeError\u001b[0m                                 Traceback (most recent call last)",
      "Cell \u001b[1;32mIn[26], line 1\u001b[0m\n\u001b[1;32m----> 1\u001b[0m \u001b[43mhello\u001b[49m\u001b[43m(\u001b[49m\u001b[38;5;124;43m'\u001b[39;49m\u001b[38;5;124;43mReuven\u001b[39;49m\u001b[38;5;124;43m'\u001b[39;49m\u001b[43m)\u001b[49m\n",
      "\u001b[1;31mTypeError\u001b[0m: hello() missing 1 required positional argument: 'last'"
     ]
    }
   ],
   "source": [
    "hello('Reuven')"
   ]
  },
  {
   "cell_type": "code",
   "execution_count": 27,
   "id": "7589b7e7-63a3-4464-bffa-17c53f6b99e9",
   "metadata": {},
   "outputs": [
    {
     "ename": "TypeError",
     "evalue": "hello() missing 2 required positional arguments: 'first' and 'last'",
     "output_type": "error",
     "traceback": [
      "\u001b[1;31m---------------------------------------------------------------------------\u001b[0m",
      "\u001b[1;31mTypeError\u001b[0m                                 Traceback (most recent call last)",
      "Cell \u001b[1;32mIn[27], line 1\u001b[0m\n\u001b[1;32m----> 1\u001b[0m \u001b[43mhello\u001b[49m\u001b[43m(\u001b[49m\u001b[43m)\u001b[49m\n",
      "\u001b[1;31mTypeError\u001b[0m: hello() missing 2 required positional arguments: 'first' and 'last'"
     ]
    }
   ],
   "source": [
    "hello()"
   ]
  },
  {
   "cell_type": "markdown",
   "id": "fa68d363-1369-4acb-93ce-85d0c8c5e8f1",
   "metadata": {},
   "source": [
    "# Exercise: `calc` with arguments\n",
    "\n",
    "Rewrite our `calc` function from before, such that you don't ask the user to enter any inputs when the function is run. Rather, the function takes *three* arguments, which be assigned to three parameters: `first`, `op`, and `second`. Otherwise, the functionality remains the same.\n",
    "\n"
   ]
  },
  {
   "cell_type": "code",
   "execution_count": 29,
   "id": "b3968839-8633-4500-995f-bc12720688a4",
   "metadata": {},
   "outputs": [],
   "source": [
    "def calc(first, op, second):\n",
    "    if op == '+':\n",
    "        result = first + second\n",
    "    elif op == '-':\n",
    "        result = first - second\n",
    "    else:\n",
    "        result = f'(Bad operator {op})'\n",
    "\n",
    "    print(f'{first} {op} {second} = {result}')"
   ]
  },
  {
   "cell_type": "code",
   "execution_count": 30,
   "id": "76a2205d-5adc-4a94-95b6-496eebe82d97",
   "metadata": {},
   "outputs": [
    {
     "name": "stdout",
     "output_type": "stream",
     "text": [
      "10 + 3 = 13\n"
     ]
    }
   ],
   "source": [
    "calc(10, '+', 3)"
   ]
  },
  {
   "cell_type": "code",
   "execution_count": 32,
   "id": "fd6cdd15-8290-4daf-ac5b-7980893195a1",
   "metadata": {},
   "outputs": [
    {
     "ename": "TypeError",
     "evalue": "unsupported operand type(s) for -: 'str' and 'str'",
     "output_type": "error",
     "traceback": [
      "\u001b[1;31m---------------------------------------------------------------------------\u001b[0m",
      "\u001b[1;31mTypeError\u001b[0m                                 Traceback (most recent call last)",
      "Cell \u001b[1;32mIn[32], line 1\u001b[0m\n\u001b[1;32m----> 1\u001b[0m \u001b[43mcalc\u001b[49m\u001b[43m(\u001b[49m\u001b[38;5;124;43m'\u001b[39;49m\u001b[38;5;124;43ma\u001b[39;49m\u001b[38;5;124;43m'\u001b[39;49m\u001b[43m,\u001b[49m\u001b[43m \u001b[49m\u001b[38;5;124;43m'\u001b[39;49m\u001b[38;5;124;43m-\u001b[39;49m\u001b[38;5;124;43m'\u001b[39;49m\u001b[43m,\u001b[49m\u001b[43m \u001b[49m\u001b[38;5;124;43m'\u001b[39;49m\u001b[38;5;124;43mc\u001b[39;49m\u001b[38;5;124;43m'\u001b[39;49m\u001b[43m)\u001b[49m\n",
      "Cell \u001b[1;32mIn[29], line 5\u001b[0m, in \u001b[0;36mcalc\u001b[1;34m(first, op, second)\u001b[0m\n\u001b[0;32m      3\u001b[0m     result \u001b[38;5;241m=\u001b[39m first \u001b[38;5;241m+\u001b[39m second\n\u001b[0;32m      4\u001b[0m \u001b[38;5;28;01melif\u001b[39;00m op \u001b[38;5;241m==\u001b[39m \u001b[38;5;124m'\u001b[39m\u001b[38;5;124m-\u001b[39m\u001b[38;5;124m'\u001b[39m:\n\u001b[1;32m----> 5\u001b[0m     result \u001b[38;5;241m=\u001b[39m \u001b[43mfirst\u001b[49m\u001b[43m \u001b[49m\u001b[38;5;241;43m-\u001b[39;49m\u001b[43m \u001b[49m\u001b[43msecond\u001b[49m\n\u001b[0;32m      6\u001b[0m \u001b[38;5;28;01melse\u001b[39;00m:\n\u001b[0;32m      7\u001b[0m     result \u001b[38;5;241m=\u001b[39m \u001b[38;5;124mf\u001b[39m\u001b[38;5;124m'\u001b[39m\u001b[38;5;124m(Bad operator \u001b[39m\u001b[38;5;132;01m{\u001b[39;00mop\u001b[38;5;132;01m}\u001b[39;00m\u001b[38;5;124m)\u001b[39m\u001b[38;5;124m'\u001b[39m\n",
      "\u001b[1;31mTypeError\u001b[0m: unsupported operand type(s) for -: 'str' and 'str'"
     ]
    }
   ],
   "source": [
    "calc('a', '-', 'c')"
   ]
  },
  {
   "cell_type": "code",
   "execution_count": 35,
   "id": "f699820a-7eaf-4311-b592-f5883db79a89",
   "metadata": {},
   "outputs": [
    {
     "name": "stdout",
     "output_type": "stream",
     "text": [
      "0 + 5 = 5\n",
      "1 + 5 = 6\n",
      "2 + 5 = 7\n",
      "3 + 5 = 8\n",
      "4 + 5 = 9\n",
      "5 + 5 = 10\n",
      "6 + 5 = 11\n",
      "7 + 5 = 12\n",
      "8 + 5 = 13\n",
      "9 + 5 = 14\n"
     ]
    }
   ],
   "source": [
    "# because the function \"calc\" no longer requires any interactive\n",
    "# inputs, I can put it inside of a \"for\" loop, and use it non-interactively.\n",
    "\n",
    "for one_number in range(10):\n",
    "    calc(one_number, '+', 5)"
   ]
  },
  {
   "cell_type": "code",
   "execution_count": 37,
   "id": "832d4ca5-26ec-4005-8f65-fff7c6022723",
   "metadata": {},
   "outputs": [
    {
     "name": "stdout",
     "output_type": "stream",
     "text": [
      "10 + 20 = 30\n"
     ]
    }
   ],
   "source": [
    "# AJ \n",
    "\n",
    "def calc(n1, op, n2):\n",
    "    if op == '+':\n",
    "        tot = int(n1) + int(n2)\n",
    "    elif op =='-':\n",
    "        tot = int(n1) - int(n2)\n",
    "    \n",
    "    print(f'{n1} {op} {n2} = {tot}')\n",
    "\n",
    "calc(10, '+', 20)"
   ]
  },
  {
   "cell_type": "code",
   "execution_count": 39,
   "id": "18eb041c-2465-49ea-8c5b-dffa1a7b3628",
   "metadata": {},
   "outputs": [
    {
     "name": "stdin",
     "output_type": "stream",
     "text": [
      "Enter 1st number:  10\n",
      "Enter 2nd number:  20\n",
      "Enter operator (+ or -):  -\n"
     ]
    },
    {
     "name": "stdout",
     "output_type": "stream",
     "text": [
      "Result of operator - is -10\n"
     ]
    }
   ],
   "source": [
    "# HS\n",
    "\n",
    "def calc(a, b, op):\n",
    "    if op == '+':\n",
    "        result = a + b\n",
    "    elif op == '-':\n",
    "        result = a - b\n",
    "    else:\n",
    "        result = f'Unrecognized operator: {op}'\n",
    "    return result\n",
    "\n",
    "a = int(input('Enter 1st number: '))\n",
    "b = int(input('Enter 2nd number: '))\n",
    "op = input('Enter operator (+ or -): ')\n",
    "\n",
    "result = calc(a, b, op)\n",
    "\n",
    "print(f'Result of operator {op} is {result}')"
   ]
  },
  {
   "cell_type": "code",
   "execution_count": 42,
   "id": "0f36cecc-50be-4c0c-8c0a-d8e971764553",
   "metadata": {},
   "outputs": [
    {
     "name": "stdin",
     "output_type": "stream",
     "text": [
      "enter 1st No 10\n",
      "enter the operator -\n",
      "enter 2nd No. 8\n"
     ]
    },
    {
     "name": "stdout",
     "output_type": "stream",
     "text": [
      "2\n"
     ]
    }
   ],
   "source": [
    "# PD\n",
    "\n",
    "a = int(input('enter 1st No').strip())\n",
    "b = input('enter the operator').strip()\n",
    "c = int(input('enter 2nd No.').strip())\n",
    "\n",
    "def calc(first,op,second):\n",
    "  if op == '+':\n",
    "    print(first+second)\n",
    "  elif op=='-':\n",
    "    print(first-second)\n",
    "  else:\n",
    "    print('Dont Know')\n",
    "      \n",
    "calc(a,b,c)"
   ]
  },
  {
   "cell_type": "markdown",
   "id": "44ef14b1-4c78-4fbb-8ae6-958af8fd3c7a",
   "metadata": {},
   "source": [
    "# Dynamic typing\n",
    "\n",
    "Remember that in Python, we don't need to \"declare\" our variables before we use them. That's because in Python any variable can refer to any value. If we first define `x` to refer to an integer, and then assign `x` to refer to a string, that's fine.\n",
    "\n",
    "In the same way, any parameter in a function can refer to any value of any type. Which means that you (might) need to do some checking inside of your function.\n",
    "\n",
    "People from statically typed languages, where a variable can only refer to values of a particular type, find this frustrating and baffling. Python increasingly does support this sort of type hinting, but we won't discuss it here. In general, though, people from the dynamic language world *love* this feature, because we can define a function once, and it'll work on many different types."
   ]
  },
  {
   "cell_type": "code",
   "execution_count": 43,
   "id": "c006aa0c-f339-4212-bf73-71950e207314",
   "metadata": {},
   "outputs": [],
   "source": [
    "def hello(name):\n",
    "    print(f'Hello, {name}!')"
   ]
  },
  {
   "cell_type": "code",
   "execution_count": 44,
   "id": "fae9a9c8-f22b-422b-b0e0-8b3ae628534a",
   "metadata": {},
   "outputs": [
    {
     "name": "stdout",
     "output_type": "stream",
     "text": [
      "Hello, world!\n"
     ]
    }
   ],
   "source": [
    "hello('world')"
   ]
  },
  {
   "cell_type": "code",
   "execution_count": 45,
   "id": "713afc25-3f9d-4121-bd9d-563212648c0a",
   "metadata": {},
   "outputs": [
    {
     "name": "stdout",
     "output_type": "stream",
     "text": [
      "Hello, 5!\n"
     ]
    }
   ],
   "source": [
    "hello(5)"
   ]
  },
  {
   "cell_type": "code",
   "execution_count": 46,
   "id": "c4ed77e6-6148-410d-abef-9846206911be",
   "metadata": {},
   "outputs": [
    {
     "name": "stdout",
     "output_type": "stream",
     "text": [
      "Hello, [10, 20, 30]!\n"
     ]
    }
   ],
   "source": [
    "hello([10, 20, 30])"
   ]
  },
  {
   "cell_type": "code",
   "execution_count": 47,
   "id": "40979ca1-6348-45be-9923-5fa32c281793",
   "metadata": {},
   "outputs": [
    {
     "name": "stdout",
     "output_type": "stream",
     "text": [
      "Hello, <function hello at 0x110b9e980>!\n"
     ]
    }
   ],
   "source": [
    "hello(hello)"
   ]
  },
  {
   "cell_type": "code",
   "execution_count": null,
   "id": "93fd1926-8cac-4460-83fb-a51ab7d81d4b",
   "metadata": {},
   "outputs": [],
   "source": []
  }
 ],
 "metadata": {
  "kernelspec": {
   "display_name": "Python 3 (ipykernel)",
   "language": "python",
   "name": "python3"
  },
  "language_info": {
   "codemirror_mode": {
    "name": "ipython",
    "version": 3
   },
   "file_extension": ".py",
   "mimetype": "text/x-python",
   "name": "python",
   "nbconvert_exporter": "python",
   "pygments_lexer": "ipython3",
   "version": "3.11.7"
  }
 },
 "nbformat": 4,
 "nbformat_minor": 5
}
