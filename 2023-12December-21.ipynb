{
 "cells": [
  {
   "cell_type": "markdown",
   "id": "4d0f9ee0-4c1d-4b48-94c8-e8230c972ba1",
   "metadata": {},
   "source": [
    "# Agenda\n",
    "\n",
    "1. Noteable update\n",
    "2. Q&A\n",
    "3. Tuples and unpacking\n",
    "4. Dictionaries\n",
    "5. Files\n",
    "\n",
    "This will update on GitHub in the next minute or two or three....\n"
   ]
  },
  {
   "cell_type": "code",
   "execution_count": null,
   "id": "68e04eb3-a4ec-40c3-b8cd-9201a064663f",
   "metadata": {},
   "outputs": [],
   "source": []
  }
 ],
 "metadata": {
  "kernelspec": {
   "display_name": "Python 3 (ipykernel)",
   "language": "python",
   "name": "python3"
  },
  "language_info": {
   "codemirror_mode": {
    "name": "ipython",
    "version": 3
   },
   "file_extension": ".py",
   "mimetype": "text/x-python",
   "name": "python",
   "nbconvert_exporter": "python",
   "pygments_lexer": "ipython3",
   "version": "3.11.6"
  }
 },
 "nbformat": 4,
 "nbformat_minor": 5
}
