{
 "cells": [
  {
   "cell_type": "markdown",
   "id": "4d0f9ee0-4c1d-4b48-94c8-e8230c972ba1",
   "metadata": {},
   "source": [
    "# Agenda\n",
    "\n",
    "1. Noteable update\n",
    "2. Q&A\n",
    "3. Tuples and unpacking\n",
    "4. Dictionaries\n",
    "5. Files\n",
    "\n",
    "This will update on GitHub in the next minute or two or three....\n"
   ]
  },
  {
   "cell_type": "markdown",
   "id": "57275841-2ff8-484c-a1fb-cfd9d31f0fbd",
   "metadata": {},
   "source": [
    "# Tuples\n",
    "\n",
    "We have seen in previous sessions that there are two basic \"sequence\" data types.\n",
    "\n",
    "- Strings, which contain characters and are immutable\n",
    "- Lists, which contain anything at all and are mutable\n",
    "\n",
    "There are three sequence types in Python: Strings, lists, and tuples.\n",
    "\n",
    "- Tuples can contain anything (like lists) but are immutable (like strings)\n",
    "\n",
    "Some people like to say that tuples are \"locked lists\" or \"immutable lists.\" That's not a bad way to think about them when you're starting off.\n",
    "\n",
    "But... that's not how we're supposed to think about them in the world of Python. Rather:\n",
    "\n",
    "- Lists are for sequences where all values are of the same type\n",
    "- Tuples are for sequences where the values are of different types\n",
    "\n"
   ]
  }
 ],
 "metadata": {
  "kernelspec": {
   "display_name": "Python 3 (ipykernel)",
   "language": "python",
   "name": "python3"
  },
  "language_info": {
   "codemirror_mode": {
    "name": "ipython",
    "version": 3
   },
   "file_extension": ".py",
   "mimetype": "text/x-python",
   "name": "python",
   "nbconvert_exporter": "python",
   "pygments_lexer": "ipython3",
   "version": "3.11.6"
  }
 },
 "nbformat": 4,
 "nbformat_minor": 5
}
