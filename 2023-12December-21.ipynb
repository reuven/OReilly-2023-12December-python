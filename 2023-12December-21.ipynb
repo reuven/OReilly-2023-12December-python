{
 "cells": [
  {
   "cell_type": "markdown",
   "id": "4d0f9ee0-4c1d-4b48-94c8-e8230c972ba1",
   "metadata": {},
   "source": [
    "# Agenda\n",
    "\n",
    "1. Noteable update\n",
    "2. Q&A\n",
    "3. Tuples and unpacking\n",
    "4. Dictionaries\n",
    "5. Files\n",
    "\n",
    "This will update on GitHub in the next minute or two or three....\n"
   ]
  },
  {
   "cell_type": "markdown",
   "id": "57275841-2ff8-484c-a1fb-cfd9d31f0fbd",
   "metadata": {},
   "source": [
    "# Tuples\n",
    "\n",
    "We have seen in previous sessions that there are two basic \"sequence\" data types.\n",
    "\n",
    "- Strings, which contain characters and are immutable\n",
    "- Lists, which contain anything at all and are mutable\n",
    "\n",
    "There are three sequence types in Python: Strings, lists, and tuples.\n",
    "\n",
    "- Tuples can contain anything (like lists) but are immutable (like strings)\n",
    "\n",
    "Some people like to say that tuples are \"locked lists\" or \"immutable lists.\" That's not a bad way to think about them when you're starting off.\n",
    "\n",
    "But... that's not how we're supposed to think about them in the world of Python. Rather:\n",
    "\n",
    "- Lists are for sequences where all values are of the same type\n",
    "- Tuples are for sequences where the values are of different types\n",
    "\n",
    "Tuples are Python's records or structs.\n",
    "\n",
    "Can you use a list with different types? Yes. Can you use a tuple with the same type? Yes. But the convention is there, and it's worth paying attention to, especially for lists."
   ]
  },
  {
   "cell_type": "code",
   "execution_count": 1,
   "id": "ebe51dea-7305-4eb2-9bc5-02f861b378a0",
   "metadata": {},
   "outputs": [
    {
     "data": {
      "text/plain": [
       "10"
      ]
     },
     "execution_count": 1,
     "metadata": {},
     "output_type": "execute_result"
    }
   ],
   "source": [
    "# defining tuples with ()\n",
    "\n",
    "t = (10, 20, 30, 40, 50, 60, 70, 80, 90, 100)\n",
    "\n",
    "# many of the things we've done with strings and lists also work on tuples!\n",
    "len(t)"
   ]
  },
  {
   "cell_type": "code",
   "execution_count": 2,
   "id": "6985e4b7-ce39-4a9f-aefc-33d075565d33",
   "metadata": {},
   "outputs": [
    {
     "data": {
      "text/plain": [
       "10"
      ]
     },
     "execution_count": 2,
     "metadata": {},
     "output_type": "execute_result"
    }
   ],
   "source": [
    "t[0]   # first element"
   ]
  },
  {
   "cell_type": "code",
   "execution_count": 3,
   "id": "e48b56b5-5af6-4cbd-a8ec-d39d03bb0006",
   "metadata": {},
   "outputs": [
    {
     "data": {
      "text/plain": [
       "20"
      ]
     },
     "execution_count": 3,
     "metadata": {},
     "output_type": "execute_result"
    }
   ],
   "source": [
    "t[1]   # second element"
   ]
  },
  {
   "cell_type": "code",
   "execution_count": 4,
   "id": "8bfa6dec-9764-469e-afe5-695b00799eff",
   "metadata": {},
   "outputs": [
    {
     "data": {
      "text/plain": [
       "100"
      ]
     },
     "execution_count": 4,
     "metadata": {},
     "output_type": "execute_result"
    }
   ],
   "source": [
    "t[-1]  # final element"
   ]
  },
  {
   "cell_type": "code",
   "execution_count": 5,
   "id": "21e113da-8546-49bd-a95f-9eb0b61cf822",
   "metadata": {},
   "outputs": [
    {
     "data": {
      "text/plain": [
       "(40, 50, 60, 70)"
      ]
     },
     "execution_count": 5,
     "metadata": {},
     "output_type": "execute_result"
    }
   ],
   "source": [
    "t[3:7]   # slice, starting at t[3] up to and not including t[7]"
   ]
  },
  {
   "cell_type": "code",
   "execution_count": 6,
   "id": "8b96ad96-cd68-4816-b5b0-9f5508ad93fd",
   "metadata": {},
   "outputs": [
    {
     "name": "stdout",
     "output_type": "stream",
     "text": [
      "10\n",
      "20\n",
      "30\n",
      "40\n",
      "50\n",
      "60\n",
      "70\n",
      "80\n",
      "90\n",
      "100\n"
     ]
    }
   ],
   "source": [
    "# I can iterate over a tuple with a for loop\n",
    "\n",
    "for one_item in t:\n",
    "    print(one_item)"
   ]
  },
  {
   "cell_type": "code",
   "execution_count": 7,
   "id": "50e6306f-1bee-435c-9691-f10c118e8d90",
   "metadata": {},
   "outputs": [
    {
     "data": {
      "text/plain": [
       "True"
      ]
     },
     "execution_count": 7,
     "metadata": {},
     "output_type": "execute_result"
    }
   ],
   "source": [
    "40 in t   # search with the \"in\" operator"
   ]
  },
  {
   "cell_type": "code",
   "execution_count": 8,
   "id": "4d803a15-11f6-4645-ad40-b59f200d7938",
   "metadata": {},
   "outputs": [
    {
     "ename": "TypeError",
     "evalue": "'tuple' object does not support item assignment",
     "output_type": "error",
     "traceback": [
      "\u001b[1;31m---------------------------------------------------------------------------\u001b[0m",
      "\u001b[1;31mTypeError\u001b[0m                                 Traceback (most recent call last)",
      "Cell \u001b[1;32mIn[8], line 3\u001b[0m\n\u001b[0;32m      1\u001b[0m \u001b[38;5;66;03m# what if I try to change my tuple?\u001b[39;00m\n\u001b[1;32m----> 3\u001b[0m \u001b[43mt\u001b[49m\u001b[43m[\u001b[49m\u001b[38;5;241;43m3\u001b[39;49m\u001b[43m]\u001b[49m \u001b[38;5;241m=\u001b[39m \u001b[38;5;124m'\u001b[39m\u001b[38;5;124m!\u001b[39m\u001b[38;5;124m'\u001b[39m\n",
      "\u001b[1;31mTypeError\u001b[0m: 'tuple' object does not support item assignment"
     ]
    }
   ],
   "source": [
    "# what if I try to change my tuple?\n",
    "\n",
    "t[3] = '!'"
   ]
  },
  {
   "cell_type": "markdown",
   "id": "c4ca4af9-1a43-4821-88da-c5ef94f5a780",
   "metadata": {},
   "source": [
    "# Why do we need tuples?\n",
    "\n",
    "The big reason: They're immutable, and thus much more efficient than lists.\n",
    "\n",
    "Tuples are used behind the scenes in many places in Python. For example, when we invoke a function, the arguments are passed as a tuple. \n",
    "\n",
    "We're not going to use tuples very much, but you should know what they are, and how to define them."
   ]
  },
  {
   "cell_type": "markdown",
   "id": "1d0d6860-ace6-4340-bc00-44c6647da513",
   "metadata": {},
   "source": [
    "# Mutable vs. immutable\n",
    "\n",
    "I can always create a new value and assign it to a variable:\n",
    "\n",
    "```python\n",
    "x = 5\n",
    "x = x + 3    # here, we create the int 8 and assign to x\n",
    "print(x)     # 8\n",
    "```\n",
    "\n",
    "I cannot change the value of 5 to something else; it'll always be 5.  That's because an integer value is immutable. It always stays the same.\n",
    "\n",
    "Strings are similar; once we define them, they cannot be changed:\n",
    "\n",
    "```python\n",
    "s = 'abcd'\n",
    "s = s + 'efgh'    # here, we create a new string 'abcdefg' and assign to s\n",
    "print(s)          # 'abcdefgh'  \n",
    "```\n",
    "\n",
    "The important thing to remember here is that we did *not* change the string. We created a new string here.\n",
    "\n",
    "Lists *are* mutable! Even if I change some elements and change the length of the list, it's not a new, different list:\n",
    "\n",
    "```python\n",
    "mylist = [10, 20, 30]\n",
    "mylist[0] = '!'\n",
    "mylist.append(40)\n",
    "print(mylist)     # ['!', 20, 30, 40]\n",
    "```\n",
    "\n",
    "Never in the above code did I say `mylist = ` something. It's the same list all the time, it just changed.\n",
    "\n",
    "Integers, strings and tuples are immutable; once we have defined them, we cannot change them. But lists can be changed, and are known as \"mutable.\"  This means that if you have two variables referring to the same list, changing the list for one will also change it for the other. "
   ]
  },
  {
   "cell_type": "code",
   "execution_count": 9,
   "id": "d2008920-1536-41c9-adf5-c2149a048965",
   "metadata": {},
   "outputs": [],
   "source": [
    "# here, let's define a tuple for a person:\n",
    "\n",
    "person = ('Reuven', 'Lerner', 46)   "
   ]
  },
  {
   "cell_type": "code",
   "execution_count": 10,
   "id": "10f0933a-c6f4-4970-8df5-8756894a707d",
   "metadata": {},
   "outputs": [
    {
     "data": {
      "text/plain": [
       "'Reuven'"
      ]
     },
     "execution_count": 10,
     "metadata": {},
     "output_type": "execute_result"
    }
   ],
   "source": [
    "person[0]"
   ]
  },
  {
   "cell_type": "code",
   "execution_count": 11,
   "id": "59fff3d2-41ad-406a-b17c-3c5125a837d2",
   "metadata": {},
   "outputs": [
    {
     "data": {
      "text/plain": [
       "'Lerner'"
      ]
     },
     "execution_count": 11,
     "metadata": {},
     "output_type": "execute_result"
    }
   ],
   "source": [
    "person[1]"
   ]
  },
  {
   "cell_type": "code",
   "execution_count": 12,
   "id": "ebeec4d3-4a79-45fd-b040-3f1fccf72dc6",
   "metadata": {},
   "outputs": [
    {
     "data": {
      "text/plain": [
       "46"
      ]
     },
     "execution_count": 12,
     "metadata": {},
     "output_type": "execute_result"
    }
   ],
   "source": [
    "person[2]"
   ]
  },
  {
   "cell_type": "markdown",
   "id": "f9efa18a-beff-4b34-941d-80e3aec696a1",
   "metadata": {},
   "source": [
    "# Lists vs. tuples\n",
    "\n",
    "When you use one vs. the other has to do with the data stored inside, not whether you want to modify it. Some examples of when you might use each:\n",
    "\n",
    "## Lists\n",
    "- Files in a directory\n",
    "- People in a company\n",
    "- Database records\n",
    "- IP addresses\n",
    "\n",
    "## Tuples\n",
    "- The attributes of a given file (name, size, permissions)\n",
    "- The attributes of a person (name, ID number, shoe size)\n",
    "- The individual fields of a given database record\n",
    "- the IP address, the netmask, etc.\n",
    "\n",
    "When you retrieve from a database in Python, it's almost always going to be a list of tuples. The list is because it has many items of the same type, but the tuple is because each field is of a different type."
   ]
  },
  {
   "cell_type": "code",
   "execution_count": 13,
   "id": "f53aeb17-71d6-47b2-a508-77bb725ac06f",
   "metadata": {},
   "outputs": [
    {
     "data": {
      "text/plain": [
       "[10, 20, 30]"
      ]
     },
     "execution_count": 13,
     "metadata": {},
     "output_type": "execute_result"
    }
   ],
   "source": [
    "# The most common use of tuples is in something called \"unpacking\"\n",
    "\n",
    "mylist = [10, 20, 30]   # yes, a list\n",
    "x = mylist    # what is the value of x?\n",
    "\n",
    "x"
   ]
  },
  {
   "cell_type": "code",
   "execution_count": 14,
   "id": "da0c2cdb-fa73-43a3-86b6-bb5b564e4412",
   "metadata": {},
   "outputs": [],
   "source": [
    "# what if I do this, though?\n",
    "\n",
    "x,y,z = mylist   # this is known as unpacking! \n"
   ]
  },
  {
   "cell_type": "code",
   "execution_count": 15,
   "id": "d43aec73-a89d-48de-b975-d7b9dec2451b",
   "metadata": {},
   "outputs": [
    {
     "name": "stdout",
     "output_type": "stream",
     "text": [
      "x=10, y=20, z=30\n"
     ]
    }
   ],
   "source": [
    "print(f'{x=}, {y=}, {z=}')    # this is new-ish Python syntax, where {x=} prints x and x's value"
   ]
  },
  {
   "cell_type": "markdown",
   "id": "90cc0e5f-1003-42c5-be43-997d619c9cf3",
   "metadata": {},
   "source": [
    "Unpacking means that:\n",
    "\n",
    "- We have a sequence on the right of assignment\n",
    "- We have a tuple of variables, separated by commas, on the left of assignment\n",
    "- We have the same number of variables as elements in the sequence\n",
    "\n",
    "We end up with each element of the sequence assigned to a different variable\n",
    "\n",
    "Where's the tuple? The answer is: You can create a tuple without parentheses! The variables on the left are actually in a tuple."
   ]
  },
  {
   "cell_type": "code",
   "execution_count": 16,
   "id": "ceec7154-eeca-4ff1-b347-c6947e4650ac",
   "metadata": {},
   "outputs": [
    {
     "data": {
      "text/plain": [
       "(10, 20, 30)"
      ]
     },
     "execution_count": 16,
     "metadata": {},
     "output_type": "execute_result"
    }
   ],
   "source": [
    "10,20,30"
   ]
  },
  {
   "cell_type": "code",
   "execution_count": 17,
   "id": "ba4409cb-f661-4eb3-b13b-9bd283ef27a3",
   "metadata": {},
   "outputs": [
    {
     "data": {
      "text/plain": [
       "(1234, 5678)"
      ]
     },
     "execution_count": 17,
     "metadata": {},
     "output_type": "execute_result"
    }
   ],
   "source": [
    "# unpacking is really common!\n",
    "# the most common demo is to swap variable values.\n",
    "\n",
    "x = 1234\n",
    "y = 5678\n",
    "\n",
    "x,y"
   ]
  },
  {
   "cell_type": "code",
   "execution_count": 18,
   "id": "def3d2b8-e10f-40a6-b49e-ed4823bee2f0",
   "metadata": {},
   "outputs": [
    {
     "name": "stdout",
     "output_type": "stream",
     "text": [
      "5678\n",
      "1234\n"
     ]
    }
   ],
   "source": [
    "x,y = y,x    # now, we're going to assign x to y and in parallel assign y to x\n",
    "\n",
    "print(x)\n",
    "print(y)"
   ]
  },
  {
   "cell_type": "code",
   "execution_count": 19,
   "id": "d6af714c-cb8b-476a-8737-9a827461eb88",
   "metadata": {},
   "outputs": [
    {
     "data": {
      "text/plain": [
       "[10, 20, 30]"
      ]
     },
     "execution_count": 19,
     "metadata": {},
     "output_type": "execute_result"
    }
   ],
   "source": [
    "mylist"
   ]
  },
  {
   "cell_type": "code",
   "execution_count": 20,
   "id": "96f8825f-851d-49b4-8900-adc69d9afaa6",
   "metadata": {},
   "outputs": [
    {
     "ename": "ValueError",
     "evalue": "not enough values to unpack (expected 4, got 3)",
     "output_type": "error",
     "traceback": [
      "\u001b[1;31m---------------------------------------------------------------------------\u001b[0m",
      "\u001b[1;31mValueError\u001b[0m                                Traceback (most recent call last)",
      "Cell \u001b[1;32mIn[20], line 1\u001b[0m\n\u001b[1;32m----> 1\u001b[0m w,x,y,z \u001b[38;5;241m=\u001b[39m mylist\n",
      "\u001b[1;31mValueError\u001b[0m: not enough values to unpack (expected 4, got 3)"
     ]
    }
   ],
   "source": [
    "w,x,y,z = mylist"
   ]
  },
  {
   "cell_type": "code",
   "execution_count": 21,
   "id": "c559c521-8fb2-428e-bc3d-457520ae195e",
   "metadata": {},
   "outputs": [
    {
     "ename": "ValueError",
     "evalue": "too many values to unpack (expected 2)",
     "output_type": "error",
     "traceback": [
      "\u001b[1;31m---------------------------------------------------------------------------\u001b[0m",
      "\u001b[1;31mValueError\u001b[0m                                Traceback (most recent call last)",
      "Cell \u001b[1;32mIn[21], line 1\u001b[0m\n\u001b[1;32m----> 1\u001b[0m x,y \u001b[38;5;241m=\u001b[39m mylist\n",
      "\u001b[1;31mValueError\u001b[0m: too many values to unpack (expected 2)"
     ]
    }
   ],
   "source": [
    "x,y = mylist"
   ]
  },
  {
   "cell_type": "code",
   "execution_count": 22,
   "id": "0cdcdd8d-0482-410b-9ae8-901afa8c1a9c",
   "metadata": {},
   "outputs": [
    {
     "name": "stdout",
     "output_type": "stream",
     "text": [
      "a\n",
      "b\n",
      "c\n",
      "d\n"
     ]
    }
   ],
   "source": [
    "# where do we see this? \n",
    "# another example: enumerate, when we're iterating\n",
    "\n",
    "s = 'abcd'\n",
    "\n",
    "for one_character in s:\n",
    "    print(one_character)"
   ]
  },
  {
   "cell_type": "code",
   "execution_count": 23,
   "id": "74b185e6-c35b-4232-8c9a-7553958f7241",
   "metadata": {},
   "outputs": [
    {
     "name": "stdout",
     "output_type": "stream",
     "text": [
      "0: a\n",
      "1: b\n",
      "2: c\n",
      "3: d\n"
     ]
    }
   ],
   "source": [
    "# what if I also want the index of each character?\n",
    "# I can use enumerate!\n",
    "\n",
    "for index, one_character in enumerate(s):   # enumerate gives us both the index and the character\n",
    "    print(f'{index}: {one_character}')"
   ]
  },
  {
   "cell_type": "code",
   "execution_count": 24,
   "id": "8ad1aaaf-2a1b-4a97-9ea9-f0fe74352368",
   "metadata": {},
   "outputs": [
    {
     "name": "stdout",
     "output_type": "stream",
     "text": [
      "(0, 'a')\n",
      "(1, 'b')\n",
      "(2, 'c')\n",
      "(3, 'd')\n"
     ]
    }
   ],
   "source": [
    "# what if I just have one variable in my \"for\" loop?\n",
    "\n",
    "for one_thing in enumerate(s):\n",
    "    print(one_thing)"
   ]
  },
  {
   "cell_type": "code",
   "execution_count": 25,
   "id": "3737337e-d659-49fa-9c74-4e259cc4e838",
   "metadata": {},
   "outputs": [
    {
     "name": "stdout",
     "output_type": "stream",
     "text": [
      "0: a\n",
      "1: b\n",
      "2: c\n",
      "3: d\n"
     ]
    }
   ],
   "source": [
    "# I could use unpacking in this way:\n",
    "\n",
    "for one_thing in enumerate(s):\n",
    "    index, one_character = one_thing   # because I know one_thing is a 2-element tuple\n",
    "    print(f'{index}: {one_character}')"
   ]
  },
  {
   "cell_type": "code",
   "execution_count": 26,
   "id": "b3ac1181-4d47-46c0-863d-43d4ea3b9410",
   "metadata": {},
   "outputs": [
    {
     "name": "stdout",
     "output_type": "stream",
     "text": [
      "0: a\n",
      "1: b\n",
      "2: c\n",
      "3: d\n"
     ]
    }
   ],
   "source": [
    "# Python lets me get a shortcut, combining the \"for\" loop with the unpacking line\n",
    "\n",
    "for index, one_character in enumerate(s):   # enumerate gives us both the index and the character\n",
    "    print(f'{index}: {one_character}')"
   ]
  },
  {
   "cell_type": "code",
   "execution_count": 27,
   "id": "0dd7818f-1895-4c85-92b9-52d63aebc554",
   "metadata": {},
   "outputs": [],
   "source": [
    "# what if I have a tuple of lists?\n",
    "\n",
    "t = ([10, 20, 30], [40, 50, 60])"
   ]
  },
  {
   "cell_type": "code",
   "execution_count": 28,
   "id": "963d5914-b420-4693-897b-eb7a7082eeb0",
   "metadata": {},
   "outputs": [
    {
     "ename": "AttributeError",
     "evalue": "'tuple' object has no attribute 'append'",
     "output_type": "error",
     "traceback": [
      "\u001b[1;31m---------------------------------------------------------------------------\u001b[0m",
      "\u001b[1;31mAttributeError\u001b[0m                            Traceback (most recent call last)",
      "Cell \u001b[1;32mIn[28], line 3\u001b[0m\n\u001b[0;32m      1\u001b[0m \u001b[38;5;66;03m# can I change the tuple? No, it is immutable\u001b[39;00m\n\u001b[1;32m----> 3\u001b[0m \u001b[43mt\u001b[49m\u001b[38;5;241;43m.\u001b[39;49m\u001b[43mappend\u001b[49m([\u001b[38;5;241m70\u001b[39m, \u001b[38;5;241m80\u001b[39m, \u001b[38;5;241m90\u001b[39m, \u001b[38;5;241m100\u001b[39m])\n",
      "\u001b[1;31mAttributeError\u001b[0m: 'tuple' object has no attribute 'append'"
     ]
    }
   ],
   "source": [
    "# can I change the tuple? No, it is immutable\n",
    "\n",
    "t.append([70, 80, 90, 100])"
   ]
  },
  {
   "cell_type": "code",
   "execution_count": 29,
   "id": "bd3be9b0-b5da-4359-8b2a-3dea036972e9",
   "metadata": {},
   "outputs": [
    {
     "ename": "TypeError",
     "evalue": "'tuple' object does not support item assignment",
     "output_type": "error",
     "traceback": [
      "\u001b[1;31m---------------------------------------------------------------------------\u001b[0m",
      "\u001b[1;31mTypeError\u001b[0m                                 Traceback (most recent call last)",
      "Cell \u001b[1;32mIn[29], line 3\u001b[0m\n\u001b[0;32m      1\u001b[0m \u001b[38;5;66;03m# can I change an element?\u001b[39;00m\n\u001b[1;32m----> 3\u001b[0m \u001b[43mt\u001b[49m\u001b[43m[\u001b[49m\u001b[38;5;241;43m0\u001b[39;49m\u001b[43m]\u001b[49m \u001b[38;5;241m=\u001b[39m [\u001b[38;5;241m1\u001b[39m,\u001b[38;5;241m2\u001b[39m,\u001b[38;5;241m3\u001b[39m,\u001b[38;5;241m4\u001b[39m]\n",
      "\u001b[1;31mTypeError\u001b[0m: 'tuple' object does not support item assignment"
     ]
    }
   ],
   "source": [
    "# can I change an element?\n",
    "\n",
    "t[0] = [1,2,3,4]"
   ]
  },
  {
   "cell_type": "code",
   "execution_count": 30,
   "id": "a7225801-2680-4c12-918f-7ec1f1a7daa0",
   "metadata": {},
   "outputs": [
    {
     "data": {
      "text/plain": [
       "([10, 20, 30, 35], [40, 50, 60])"
      ]
     },
     "execution_count": 30,
     "metadata": {},
     "output_type": "execute_result"
    }
   ],
   "source": [
    "# the tuple is permanently defined to refer to those two lists\n",
    "# but... the lists can change!\n",
    "\n",
    "t[0].append(35)\n",
    "t"
   ]
  },
  {
   "cell_type": "markdown",
   "id": "53b9e103-5ed3-4420-b096-2a3feffd6cdf",
   "metadata": {},
   "source": [
    "# Dictionaries\n",
    "\n",
    "Dictionaries (\"dicts\" in the Python world) are the most important data structure. We use them all the time, and so does Python! Dicts aren't unique to Python; they have other names in other languages:\n",
    "\n",
    "- Hash tables\n",
    "- Hash maps\n",
    "- Hashes\n",
    "- Maps\n",
    "- Associative arrays\n",
    "- Key-value stores\n",
    "- Name-value stores\n",
    "\n",
    "There are several ways to think of dictionaries:\n",
    "\n",
    "1. They are just like lists, except that we can define the index (known as the \"key\"), rather than accept the standard 0, 1, 2, 3, etc.\n",
    "2. They are pairs of data (keys and values), where we can define both of those\n",
    "\n",
    "It turns out that there are *many* places in programming where having key-value stores is extremely useful:\n",
    "\n",
    "- Names of months + numbers of months\n",
    "- Numbers of months + names of months\n",
    "- Usernames and passwords\n",
    "- Usernames and user info\n",
    "- Filenames and file info\n",
    "- Stock ticker symbol and company history\n",
    "\n",
    "In a Python dict:\n",
    "- The key must be immutable (normally a number or string) and unique in the dict\n",
    "- The value can be anything at all\n",
    "\n",
    "We define dictionaries with `{}`:\n",
    "- Each key-value pair has a `:` between the key and value\n",
    "- Between pairs, we have `,`\n"
   ]
  },
  {
   "cell_type": "code",
   "execution_count": 31,
   "id": "ea3f9ae5-101a-4911-8f23-cc3391136576",
   "metadata": {},
   "outputs": [],
   "source": [
    "# here is a simple dictionary: \n",
    "d = {'a':10, 'b':20, 'c':30}"
   ]
  },
  {
   "cell_type": "code",
   "execution_count": 32,
   "id": "6c527eb6-8114-4698-8486-964e87f739cd",
   "metadata": {},
   "outputs": [
    {
     "data": {
      "text/plain": [
       "dict"
      ]
     },
     "execution_count": 32,
     "metadata": {},
     "output_type": "execute_result"
    }
   ],
   "source": [
    "type(d)   # what kind of value is d storing?"
   ]
  },
  {
   "cell_type": "code",
   "execution_count": 33,
   "id": "fe24385e-d41c-4272-a5ed-6dcd83504c2b",
   "metadata": {},
   "outputs": [
    {
     "data": {
      "text/plain": [
       "10"
      ]
     },
     "execution_count": 33,
     "metadata": {},
     "output_type": "execute_result"
    }
   ],
   "source": [
    "# how can I retrieve a value based on a key\n",
    "# the answer: Use []\n",
    "\n",
    "d['a']   # use the 'a' key to get the value 10"
   ]
  },
  {
   "cell_type": "code",
   "execution_count": 34,
   "id": "0e7c9b62-135b-452e-abc6-2e1538930deb",
   "metadata": {},
   "outputs": [
    {
     "data": {
      "text/plain": [
       "20"
      ]
     },
     "execution_count": 34,
     "metadata": {},
     "output_type": "execute_result"
    }
   ],
   "source": [
    "# I can use a variable instead of a literal string\n",
    "key = 'b'\n",
    "d[key]  "
   ]
  },
  {
   "cell_type": "code",
   "execution_count": 35,
   "id": "64255bbe-845d-4b2c-bd10-bd0da4b264f5",
   "metadata": {},
   "outputs": [
    {
     "ename": "KeyError",
     "evalue": "'x'",
     "output_type": "error",
     "traceback": [
      "\u001b[1;31m---------------------------------------------------------------------------\u001b[0m",
      "\u001b[1;31mKeyError\u001b[0m                                  Traceback (most recent call last)",
      "Cell \u001b[1;32mIn[35], line 4\u001b[0m\n\u001b[0;32m      1\u001b[0m \u001b[38;5;66;03m# what if I try to retrieve a key that doesn't exist?\u001b[39;00m\n\u001b[0;32m      2\u001b[0m \u001b[38;5;66;03m# bad news -- I get a KeyError\u001b[39;00m\n\u001b[1;32m----> 4\u001b[0m \u001b[43md\u001b[49m\u001b[43m[\u001b[49m\u001b[38;5;124;43m'\u001b[39;49m\u001b[38;5;124;43mx\u001b[39;49m\u001b[38;5;124;43m'\u001b[39;49m\u001b[43m]\u001b[49m\n",
      "\u001b[1;31mKeyError\u001b[0m: 'x'"
     ]
    }
   ],
   "source": [
    "# what if I try to retrieve a key that doesn't exist?\n",
    "# bad news -- I get a KeyError\n",
    "\n",
    "d['x']"
   ]
  },
  {
   "cell_type": "code",
   "execution_count": 36,
   "id": "fa7a7337-8b5f-41d4-95d4-f6434e210ef9",
   "metadata": {},
   "outputs": [
    {
     "data": {
      "text/plain": [
       "True"
      ]
     },
     "execution_count": 36,
     "metadata": {},
     "output_type": "execute_result"
    }
   ],
   "source": [
    "# we can protect ourselves a bit by checking if a key is in the dict first\n",
    "# we can use the \"in\" operator\n",
    "# but in the case of a dict, \"in\" only searches the keys!\n",
    "\n",
    "'a' in d"
   ]
  },
  {
   "cell_type": "code",
   "execution_count": 37,
   "id": "aa9af2b2-5fc1-43d5-8d34-c7c595d306cd",
   "metadata": {},
   "outputs": [
    {
     "data": {
      "text/plain": [
       "False"
      ]
     },
     "execution_count": 37,
     "metadata": {},
     "output_type": "execute_result"
    }
   ],
   "source": [
    "10 in d"
   ]
  },
  {
   "cell_type": "code",
   "execution_count": 38,
   "id": "fbe16ea6-d930-492c-83e6-31fae4805cac",
   "metadata": {},
   "outputs": [],
   "source": [
    "# a dict is a one-way street -- we can get the value via the key, but not vice versa"
   ]
  },
  {
   "cell_type": "markdown",
   "id": "87f1dea7-663a-44a9-9002-96fea8f0fa49",
   "metadata": {},
   "source": [
    "# Exercise: Restaurant\n",
    "\n",
    "1. Define a dict, `menu`, whose keys are strings (items on a restaurant menu) and whose values are integers (the prices of those items).\n",
    "2. Define `total` to be 0.\n",
    "3. Ask the user, again and again (using a `while` loop) to order something on the menu\n",
    "    - If they give an empty string (`''`), then stop asking and print the total\n",
    "    - If they name something on the menu (i.e., a key in the dict), then add the price to `total` and print the new total\n",
    "    - If they name something *not* on the menu, then scold them and have them try again\n",
    "4. Print the total\n",
    "\n",
    "Example:\n",
    "\n",
    "    Order: sandwich\n",
    "    sandwich is 10, total is 10\n",
    "    Order: tea\n",
    "    tea is 8, total is 18\n",
    "    Order: elephant\n",
    "    Sorry, we are out of elephant today!\n",
    "    Order: [ENTER]\n",
    "    Total is 18"
   ]
  },
  {
   "cell_type": "code",
   "execution_count": 39,
   "id": "5c587ea1-5b4a-41ec-9636-85baf017671c",
   "metadata": {},
   "outputs": [
    {
     "name": "stdin",
     "output_type": "stream",
     "text": [
      "Order:  sandwich\n"
     ]
    },
    {
     "name": "stdout",
     "output_type": "stream",
     "text": [
      "sandwich is 10; total is now 10\n"
     ]
    },
    {
     "name": "stdin",
     "output_type": "stream",
     "text": [
      "Order:  tea\n"
     ]
    },
    {
     "name": "stdout",
     "output_type": "stream",
     "text": [
      "tea is 8; total is now 18\n"
     ]
    },
    {
     "name": "stdin",
     "output_type": "stream",
     "text": [
      "Order:  elephant\n"
     ]
    },
    {
     "name": "stdout",
     "output_type": "stream",
     "text": [
      "We are out of elephant today!\n"
     ]
    },
    {
     "name": "stdin",
     "output_type": "stream",
     "text": [
      "Order:  \n"
     ]
    },
    {
     "name": "stdout",
     "output_type": "stream",
     "text": [
      "total=18\n"
     ]
    }
   ],
   "source": [
    "menu = {'sandwich':10, 'tea':8, 'apple':2, 'cake':5}\n",
    "total = 0\n",
    "\n",
    "while True:\n",
    "    order = input('Order: ').strip()\n",
    "\n",
    "    if order == '':    # we didn't get any input? break out of the while loop\n",
    "        break\n",
    "\n",
    "    if order in menu:          # if the user's input is a key in our \"menu\" dict\n",
    "        price = menu[order]    # get the price via the dict + its key (from the user)\n",
    "        total += price         # add the price to the total\n",
    "        print(f'{order} is {price}; total is now {total}')\n",
    "    else:\n",
    "        print(f'We are out of {order} today!')\n",
    "\n",
    "print(f'{total=}')   # use the new-ish Python f-string = trick"
   ]
  },
  {
   "cell_type": "code",
   "execution_count": 40,
   "id": "54b42e6e-e6a6-44e7-b3b0-1e07ec486f3a",
   "metadata": {},
   "outputs": [
    {
     "data": {
      "text/plain": [
       "False"
      ]
     },
     "execution_count": 40,
     "metadata": {},
     "output_type": "execute_result"
    }
   ],
   "source": [
    "'abc' == 'Abc'"
   ]
  },
  {
   "cell_type": "code",
   "execution_count": 41,
   "id": "0dfb57fb-49af-486a-8309-1e10096c584f",
   "metadata": {},
   "outputs": [
    {
     "name": "stdout",
     "output_type": "stream",
     "text": [
      "0\n"
     ]
    }
   ],
   "source": [
    "menu = {\"Sandwhich\":200,\"C milkshake\": 120,\"Tea\":20,\"Coffee\":30,\"Bun maska\":36,\"Pizza\":120}\n",
    "total =0\n",
    "while order!=\"\":\n",
    "    if order in menu:\n",
    "        total += menu[order]\n",
    "    else:\n",
    "        print(\"Not in memnu\")\n",
    "print(total)"
   ]
  },
  {
   "cell_type": "code",
   "execution_count": 42,
   "id": "0b73f3cc-9468-4187-ac17-804105c6fe74",
   "metadata": {},
   "outputs": [
    {
     "data": {
      "text/plain": [
       "{'Sandwhich': 200,\n",
       " 'C milkshake': 120,\n",
       " 'Tea': 20,\n",
       " 'Coffee': 30,\n",
       " 'Bun maska': 36,\n",
       " 'Pizza': 120}"
      ]
     },
     "execution_count": 42,
     "metadata": {},
     "output_type": "execute_result"
    }
   ],
   "source": [
    "menu"
   ]
  },
  {
   "cell_type": "code",
   "execution_count": 43,
   "id": "07f5c1c9-925d-42d9-b462-b7eaef61c2e0",
   "metadata": {},
   "outputs": [
    {
     "data": {
      "text/plain": [
       "True"
      ]
     },
     "execution_count": 43,
     "metadata": {},
     "output_type": "execute_result"
    }
   ],
   "source": [
    "'Tea' in menu    # notice the capital T "
   ]
  },
  {
   "cell_type": "code",
   "execution_count": 44,
   "id": "8afb0275-0080-49af-b57a-f8c5dfbb2461",
   "metadata": {},
   "outputs": [
    {
     "data": {
      "text/plain": [
       "False"
      ]
     },
     "execution_count": 44,
     "metadata": {},
     "output_type": "execute_result"
    }
   ],
   "source": [
    "'tea' in menu   # notice the lowercase t"
   ]
  },
  {
   "cell_type": "code",
   "execution_count": 45,
   "id": "0809d01a-0772-4ebe-a72c-e45dd341e6a3",
   "metadata": {},
   "outputs": [
    {
     "data": {
      "text/plain": [
       "False"
      ]
     },
     "execution_count": 45,
     "metadata": {},
     "output_type": "execute_result"
    }
   ],
   "source": [
    "' Tea' in menu   # space before T"
   ]
  },
  {
   "cell_type": "code",
   "execution_count": 47,
   "id": "9586d298-6c39-4b72-94d8-6843e8114ec5",
   "metadata": {},
   "outputs": [
    {
     "data": {
      "text/plain": [
       "False"
      ]
     },
     "execution_count": 47,
     "metadata": {},
     "output_type": "execute_result"
    }
   ],
   "source": [
    "'e' in menu   # 'e' is in several items, but this will *not* match"
   ]
  },
  {
   "cell_type": "code",
   "execution_count": null,
   "id": "cac882df-0441-4f31-bb3b-05a5110974e4",
   "metadata": {},
   "outputs": [],
   "source": []
  },
  {
   "cell_type": "markdown",
   "id": "f532519c-776a-4ff1-9f60-6ad8fe09a7d1",
   "metadata": {},
   "source": [
    "# Next up:\n",
    "\n",
    "1. Modifying dictionaries\n",
    "2. Other paradigms for working with them"
   ]
  },
  {
   "cell_type": "code",
   "execution_count": 46,
   "id": "1f03bc2e-4105-4635-90df-6235484e68e6",
   "metadata": {},
   "outputs": [
    {
     "data": {
      "text/plain": [
       "{'a': 12345, 'b': 20, 'c': 30}"
      ]
     },
     "execution_count": 46,
     "metadata": {},
     "output_type": "execute_result"
    }
   ],
   "source": [
    "d = {'a':10, 'b':20, 'c':30}\n",
    "\n",
    "# how can I modify a value in this dict?\n",
    "# meaning: keep the key the same, but update the value\n",
    "\n",
    "# answer: assign to it\n",
    "d['a'] = 12345\n",
    "d"
   ]
  },
  {
   "cell_type": "code",
   "execution_count": 48,
   "id": "ee5c9643-3d1b-46c1-b75e-f250195340e6",
   "metadata": {},
   "outputs": [
    {
     "data": {
      "text/plain": [
       "{'a': 12345, 'b': 20, 'c': 30, 'x': 98765}"
      ]
     },
     "execution_count": 48,
     "metadata": {},
     "output_type": "execute_result"
    }
   ],
   "source": [
    "# in a list, if we want to add a new element, we can use .append or +=\n",
    "# in a dict, we just ... assign the new key-value pair\n",
    "\n",
    "d['x'] = 98765\n",
    "d"
   ]
  },
  {
   "cell_type": "markdown",
   "id": "d87f484c-dc47-4ecf-b50b-4a59249dfcb3",
   "metadata": {},
   "source": [
    "If we assign to a key in a dict, then one of two things can happen:\n",
    "\n",
    "- If the key is new, then the new key-value pair is added\n",
    "- If the key already exists, then the value is updated"
   ]
  },
  {
   "cell_type": "code",
   "execution_count": 49,
   "id": "68b40aea-8250-42b3-ae83-bcd56a99bbbc",
   "metadata": {},
   "outputs": [
    {
     "data": {
      "text/plain": [
       "{'a': 12350, 'b': 20, 'c': 30, 'x': 98765}"
      ]
     },
     "execution_count": 49,
     "metadata": {},
     "output_type": "execute_result"
    }
   ],
   "source": [
    "d['a'] += 5   # this adds 5 to whatever the previous value was for d['a']\n",
    "d"
   ]
  },
  {
   "cell_type": "code",
   "execution_count": 50,
   "id": "8c4e6e61-58cb-42a0-b6a1-597330628044",
   "metadata": {},
   "outputs": [
    {
     "ename": "KeyError",
     "evalue": "'z'",
     "output_type": "error",
     "traceback": [
      "\u001b[1;31m---------------------------------------------------------------------------\u001b[0m",
      "\u001b[1;31mKeyError\u001b[0m                                  Traceback (most recent call last)",
      "Cell \u001b[1;32mIn[50], line 1\u001b[0m\n\u001b[1;32m----> 1\u001b[0m \u001b[43md\u001b[49m\u001b[43m[\u001b[49m\u001b[38;5;124;43m'\u001b[39;49m\u001b[38;5;124;43mz\u001b[39;49m\u001b[38;5;124;43m'\u001b[39;49m\u001b[43m]\u001b[49m \u001b[38;5;241m+\u001b[39m\u001b[38;5;241m=\u001b[39m \u001b[38;5;241m10\u001b[39m   \u001b[38;5;66;03m# try to add 10 to d['z'], which doesn't exist...\u001b[39;00m\n",
      "\u001b[1;31mKeyError\u001b[0m: 'z'"
     ]
    }
   ],
   "source": [
    "d['z'] += 10   # try to add 10 to d['z'], which doesn't exist..."
   ]
  },
  {
   "cell_type": "markdown",
   "id": "39ed9c1c-1b1c-4927-acab-88a4b6caa32d",
   "metadata": {},
   "source": [
    "# Paradigms of dict use\n",
    "\n",
    "1. We define a dict and never change it throughout the program -- we just use it as a database in memory\n",
    "2. We define a dict, and never change its keys, but we do update its values\n",
    "3. We define an empty dict, and update both its keys and its values over time"
   ]
  },
  {
   "cell_type": "code",
   "execution_count": 52,
   "id": "e22a4965-84ff-49fe-89e2-d57841f37556",
   "metadata": {},
   "outputs": [
    {
     "name": "stdout",
     "output_type": "stream",
     "text": [
      "\t10 is even\n",
      "\t15 is odd\n",
      "\t20 is even\n",
      "\t21 is odd\n",
      "\t30 is even\n",
      "\t35 is odd\n",
      "{'odds': 3, 'evens': 3}\n"
     ]
    }
   ],
   "source": [
    "# paradigm 2: we define a dict with keys and default/starter values\n",
    "# over time, we modify/update those values to reflect what we have seen\n",
    "# great for keeping track of counting different things, if we know what we're counting from the start\n",
    "\n",
    "# example: odds and evens\n",
    "\n",
    "mylist = [10, 15, 20, 21, 30, 35]\n",
    "counts = {'odds': 0, 'evens':0}    # dict in which I'll keep track of the count\n",
    "\n",
    "for one_value in mylist:\n",
    "    if one_value % 2 == 0:    # if there's no remainder after dividing by 2, it must be even\n",
    "        counts['evens'] += 1\n",
    "        print(f'\\t{one_value} is even')\n",
    "    else:\n",
    "        counts['odds'] += 1\n",
    "        print(f'\\t{one_value} is odd')\n",
    "\n",
    "print(counts)  # print the dict"
   ]
  },
  {
   "cell_type": "markdown",
   "id": "d7108ad5-59bb-4eeb-8e27-027a3141a2f1",
   "metadata": {},
   "source": [
    "# Exercise: Vowels, digits, and others (dict edition)\n",
    "\n",
    "1. Define a dict with three keys: `vowels`, `digits`, and `others`, whose values should all be 0.\n",
    "2. Ask the user, repeatedly, to enter a string.\n",
    "    - If you get an empty string, stop asking\n",
    "3. Go through the user's input string, one character at a time:\n",
    "    - If it's a digit, add one to the `digits` value\n",
    "    - If it's a vowel (a, e, i, o, or u) then add one to the `vowels` value\n",
    "    - Otherwise, add 1 to `others`\n",
    "4. When we're done asking, print the dict\n",
    "\n",
    "Notes:\n",
    "- Use a `while` loop to ask the user repeatedly\n",
    "- Compare with `''` to `break` when needed\n",
    "- Use a `for` loop inside of the `while` loop to go through each character\n",
    "- Don't forget the `str.isdigit` method, which tells you if a string contains only digits 0-9"
   ]
  },
  {
   "cell_type": "code",
   "execution_count": null,
   "id": "e1d76a43-df31-49b1-bae4-acaf46a97f95",
   "metadata": {},
   "outputs": [],
   "source": []
  }
 ],
 "metadata": {
  "kernelspec": {
   "display_name": "Python 3 (ipykernel)",
   "language": "python",
   "name": "python3"
  },
  "language_info": {
   "codemirror_mode": {
    "name": "ipython",
    "version": 3
   },
   "file_extension": ".py",
   "mimetype": "text/x-python",
   "name": "python",
   "nbconvert_exporter": "python",
   "pygments_lexer": "ipython3",
   "version": "3.11.6"
  }
 },
 "nbformat": 4,
 "nbformat_minor": 5
}
