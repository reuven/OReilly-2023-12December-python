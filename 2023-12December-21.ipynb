{
 "cells": [
  {
   "cell_type": "markdown",
   "id": "4d0f9ee0-4c1d-4b48-94c8-e8230c972ba1",
   "metadata": {},
   "source": [
    "# Agenda\n",
    "\n",
    "1. Noteable update\n",
    "2. Q&A\n",
    "3. Tuples and unpacking\n",
    "4. Dictionaries\n",
    "5. Files\n",
    "\n",
    "This will update on GitHub in the next minute or two or three....\n"
   ]
  },
  {
   "cell_type": "markdown",
   "id": "57275841-2ff8-484c-a1fb-cfd9d31f0fbd",
   "metadata": {},
   "source": [
    "# Tuples\n",
    "\n",
    "We have seen in previous sessions that there are two basic \"sequence\" data types.\n",
    "\n",
    "- Strings, which contain characters and are immutable\n",
    "- Lists, which contain anything at all and are mutable\n",
    "\n",
    "There are three sequence types in Python: Strings, lists, and tuples.\n",
    "\n",
    "- Tuples can contain anything (like lists) but are immutable (like strings)\n",
    "\n",
    "Some people like to say that tuples are \"locked lists\" or \"immutable lists.\" That's not a bad way to think about them when you're starting off.\n",
    "\n",
    "But... that's not how we're supposed to think about them in the world of Python. Rather:\n",
    "\n",
    "- Lists are for sequences where all values are of the same type\n",
    "- Tuples are for sequences where the values are of different types\n",
    "\n",
    "Tuples are Python's records or structs.\n",
    "\n",
    "Can you use a list with different types? Yes. Can you use a tuple with the same type? Yes. But the convention is there, and it's worth paying attention to, especially for lists."
   ]
  },
  {
   "cell_type": "code",
   "execution_count": 1,
   "id": "ebe51dea-7305-4eb2-9bc5-02f861b378a0",
   "metadata": {},
   "outputs": [
    {
     "data": {
      "text/plain": [
       "10"
      ]
     },
     "execution_count": 1,
     "metadata": {},
     "output_type": "execute_result"
    }
   ],
   "source": [
    "# defining tuples with ()\n",
    "\n",
    "t = (10, 20, 30, 40, 50, 60, 70, 80, 90, 100)\n",
    "\n",
    "# many of the things we've done with strings and lists also work on tuples!\n",
    "len(t)"
   ]
  },
  {
   "cell_type": "code",
   "execution_count": 2,
   "id": "6985e4b7-ce39-4a9f-aefc-33d075565d33",
   "metadata": {},
   "outputs": [
    {
     "data": {
      "text/plain": [
       "10"
      ]
     },
     "execution_count": 2,
     "metadata": {},
     "output_type": "execute_result"
    }
   ],
   "source": [
    "t[0]   # first element"
   ]
  },
  {
   "cell_type": "code",
   "execution_count": 3,
   "id": "e48b56b5-5af6-4cbd-a8ec-d39d03bb0006",
   "metadata": {},
   "outputs": [
    {
     "data": {
      "text/plain": [
       "20"
      ]
     },
     "execution_count": 3,
     "metadata": {},
     "output_type": "execute_result"
    }
   ],
   "source": [
    "t[1]   # second element"
   ]
  },
  {
   "cell_type": "code",
   "execution_count": 4,
   "id": "8bfa6dec-9764-469e-afe5-695b00799eff",
   "metadata": {},
   "outputs": [
    {
     "data": {
      "text/plain": [
       "100"
      ]
     },
     "execution_count": 4,
     "metadata": {},
     "output_type": "execute_result"
    }
   ],
   "source": [
    "t[-1]  # final element"
   ]
  },
  {
   "cell_type": "code",
   "execution_count": 5,
   "id": "21e113da-8546-49bd-a95f-9eb0b61cf822",
   "metadata": {},
   "outputs": [
    {
     "data": {
      "text/plain": [
       "(40, 50, 60, 70)"
      ]
     },
     "execution_count": 5,
     "metadata": {},
     "output_type": "execute_result"
    }
   ],
   "source": [
    "t[3:7]   # slice, starting at t[3] up to and not including t[7]"
   ]
  },
  {
   "cell_type": "code",
   "execution_count": 6,
   "id": "8b96ad96-cd68-4816-b5b0-9f5508ad93fd",
   "metadata": {},
   "outputs": [
    {
     "name": "stdout",
     "output_type": "stream",
     "text": [
      "10\n",
      "20\n",
      "30\n",
      "40\n",
      "50\n",
      "60\n",
      "70\n",
      "80\n",
      "90\n",
      "100\n"
     ]
    }
   ],
   "source": [
    "# I can iterate over a tuple with a for loop\n",
    "\n",
    "for one_item in t:\n",
    "    print(one_item)"
   ]
  },
  {
   "cell_type": "code",
   "execution_count": 7,
   "id": "50e6306f-1bee-435c-9691-f10c118e8d90",
   "metadata": {},
   "outputs": [
    {
     "data": {
      "text/plain": [
       "True"
      ]
     },
     "execution_count": 7,
     "metadata": {},
     "output_type": "execute_result"
    }
   ],
   "source": [
    "40 in t   # search with the \"in\" operator"
   ]
  },
  {
   "cell_type": "code",
   "execution_count": 8,
   "id": "4d803a15-11f6-4645-ad40-b59f200d7938",
   "metadata": {},
   "outputs": [
    {
     "ename": "TypeError",
     "evalue": "'tuple' object does not support item assignment",
     "output_type": "error",
     "traceback": [
      "\u001b[1;31m---------------------------------------------------------------------------\u001b[0m",
      "\u001b[1;31mTypeError\u001b[0m                                 Traceback (most recent call last)",
      "Cell \u001b[1;32mIn[8], line 3\u001b[0m\n\u001b[0;32m      1\u001b[0m \u001b[38;5;66;03m# what if I try to change my tuple?\u001b[39;00m\n\u001b[1;32m----> 3\u001b[0m \u001b[43mt\u001b[49m\u001b[43m[\u001b[49m\u001b[38;5;241;43m3\u001b[39;49m\u001b[43m]\u001b[49m \u001b[38;5;241m=\u001b[39m \u001b[38;5;124m'\u001b[39m\u001b[38;5;124m!\u001b[39m\u001b[38;5;124m'\u001b[39m\n",
      "\u001b[1;31mTypeError\u001b[0m: 'tuple' object does not support item assignment"
     ]
    }
   ],
   "source": [
    "# what if I try to change my tuple?\n",
    "\n",
    "t[3] = '!'"
   ]
  },
  {
   "cell_type": "markdown",
   "id": "c4ca4af9-1a43-4821-88da-c5ef94f5a780",
   "metadata": {},
   "source": [
    "# Why do we need tuples?\n",
    "\n",
    "The big reason: They're immutable, and thus much more efficient than lists.\n",
    "\n",
    "Tuples are used behind the scenes in many places in Python. For example, when we invoke a function, the arguments are passed as a tuple. \n",
    "\n",
    "We're not going to use tuples very much, but you should know what they are, and how to define them."
   ]
  },
  {
   "cell_type": "markdown",
   "id": "1d0d6860-ace6-4340-bc00-44c6647da513",
   "metadata": {},
   "source": [
    "# Mutable vs. immutable\n",
    "\n",
    "I can always create a new value and assign it to a variable:\n",
    "\n",
    "```python\n",
    "x = 5\n",
    "x = x + 3    # here, we create the int 8 and assign to x\n",
    "print(x)     # 8\n",
    "```\n",
    "\n",
    "I cannot change the value of 5 to something else; it'll always be 5.  That's because an integer value is immutable. It always stays the same.\n",
    "\n",
    "Strings are similar; once we define them, they cannot be changed:\n",
    "\n",
    "```python\n",
    "s = 'abcd'\n",
    "s = s + 'efgh'    # here, we create a new string 'abcdefg' and assign to s\n",
    "print(s)          # 'abcdefgh'  \n",
    "```\n",
    "\n",
    "The important thing to remember here is that we did *not* change the string. We created a new string here.\n",
    "\n",
    "Lists *are* mutable! Even if I change some elements and change the length of the list, it's not a new, different list:\n",
    "\n",
    "```python\n",
    "mylist = [10, 20, 30]\n",
    "mylist[0] = '!'\n",
    "mylist.append(40)\n",
    "print(mylist)     # ['!', 20, 30, 40]\n",
    "```\n",
    "\n",
    "Never in the above code did I say `mylist = ` something. It's the same list all the time, it just changed.\n",
    "\n",
    "Integers, strings and tuples are immutable; once we have defined them, we cannot change them. But lists can be changed, and are known as \"mutable.\"  This means that if you have two variables referring to the same list, changing the list for one will also change it for the other. "
   ]
  },
  {
   "cell_type": "code",
   "execution_count": null,
   "id": "d2008920-1536-41c9-adf5-c2149a048965",
   "metadata": {},
   "outputs": [],
   "source": []
  }
 ],
 "metadata": {
  "kernelspec": {
   "display_name": "Python 3 (ipykernel)",
   "language": "python",
   "name": "python3"
  },
  "language_info": {
   "codemirror_mode": {
    "name": "ipython",
    "version": 3
   },
   "file_extension": ".py",
   "mimetype": "text/x-python",
   "name": "python",
   "nbconvert_exporter": "python",
   "pygments_lexer": "ipython3",
   "version": "3.11.6"
  }
 },
 "nbformat": 4,
 "nbformat_minor": 5
}
