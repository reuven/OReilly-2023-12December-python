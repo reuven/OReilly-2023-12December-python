{
 "cells": [
  {
   "cell_type": "markdown",
   "id": "9574932d",
   "metadata": {
    "tags": [
     "show_line_numbers"
    ]
   },
   "source": [
    "# Week 2: Loops, list, and tuples\n",
    "\n",
    "- Quick Q&A\n",
    "- Loops\n",
    "    - `for` loops\n",
    "    - Looping a number of times\n",
    "    - Where's the index?\n",
    "    - `while` loops\n",
    "- Lists\n",
    "    - Create lists\n",
    "    - Retrieve from them\n",
    "    - Mutability\n",
    "- Strings to lists, and back\n",
    "    - Splitting strings into lists\n",
    "    - Joining lists into strings\n",
    "- Tuples\n",
    "    - What are tuples?\n",
    "    - Tuple unpacking\n",
    "    \n",
    "    "
   ]
  },
  {
   "cell_type": "markdown",
   "id": "c659c492-bc48-43c6-a283-46bf0b8e5095",
   "metadata": {
    "noteable": {
     "cell_type": "markdown"
    },
    "tags": [
     "show_line_numbers"
    ]
   },
   "source": [
    "# Remember from last time\n",
    "- Values (strings and integers)\n",
    "- Assignment with `=`\n",
    "- Assign into variables\n",
    "- Compare two values with `==` (and a bunch of other operators)\n",
    "- Use `if`/`elif`/`else` as conditionals\n",
    "- Numbers (integers + floats)\n",
    "- Strings\n",
    "    - Use either `'` or `\"`\n",
    "    - Retrieve one item with `[]` and a numeric index\n",
    "    - Slice with `[]` and two numbers, separated by `:`\n",
    "    - Indexing in Python is zero-based\n",
    "    - Methods, functions that are welded to the object (e.g., `s.strip()`)"
   ]
  },
  {
   "cell_type": "markdown",
   "id": "df090e61-4db7-4bd5-a873-fe56d85b63b8",
   "metadata": {
    "tags": [
     "show_line_numbers"
    ]
   },
   "source": [
    "# DRY -- don't repeat yourself\n",
    "\n",
    "The DRY rule (Pragmatic Programmers) is: If you are repeating code in your program, then you're probably doing something wrong. You should \"DRY up\" your code."
   ]
  },
  {
   "cell_type": "code",
   "execution_count": null,
   "id": "6b594b6d-ccfd-4f4d-8c54-ebbad6b13ff6",
   "metadata": {
    "ExecuteTime": {
     "end_time": "2023-12-14T03:39:17.094026+00:00",
     "start_time": "2023-12-14T03:39:16.936456+00:00"
    },
    "noteable": {
     "cell_type": "python",
     "output_collection_id": "aeed49bb-77fc-4f1c-957a-f138a01c6425"
    },
    "tags": [
     "show_line_numbers"
    ]
   },
   "outputs": [],
   "source": [
    "s = 'abcd'\n",
    "\n",
    "# I want to print every character in s\n",
    "\n",
    "print(s[0])\n",
    "print(s[1])\n",
    "print(s[2])\n",
    "print(s[3])"
   ]
  },
  {
   "cell_type": "code",
   "execution_count": null,
   "id": "eefc3206-f39f-46a7-a4df-e916ac395b9b",
   "metadata": {
    "ExecuteTime": {
     "end_time": "2023-12-14T03:40:55.377482+00:00",
     "start_time": "2023-12-14T03:40:55.222423+00:00"
    },
    "collapsed": false,
    "jupyter": {
     "outputs_hidden": false,
     "source_hidden": false
    },
    "noteable": {
     "cell_type": "code",
     "output_collection_id": "287817bf-8ae8-4e50-b067-9ec1e913ffb1"
    },
    "tags": [
     "show_line_numbers"
    ]
   },
   "outputs": [],
   "source": [
    "# unfortunately, this works! But we could \"DRY up\" our code here,\n",
    "# reducing the repetition\n",
    "\n",
    "# using a loop raises the abstraction level, allowing us to think\n",
    "# bigger, higher thoughts and not concentrate as much on the details\n",
    "\n",
    "# a loop is all about repeating something several times\n",
    "\n",
    "# this is a \"for\" loop:\n",
    "\n",
    "for one_character in s:\n",
    "    print(one_character)"
   ]
  },
  {
   "cell_type": "markdown",
   "id": "001004f2-dbe9-4ba5-bb36-f5608f5b58df",
   "metadata": {
    "tags": [
     "show_line_numbers"
    ]
   },
   "source": [
    "# `for` loops\n",
    "\n",
    "1. It starts with the word `for`, then a variable, then the word `in`, then the object we want to iterate over -- in this case, the variable `s`, and then a colon (`:`) at the end of the line.\n",
    "2. `for` turns to the object (`s`) and asks it: Are you iterable? That is, do you know how to behave in a `for` loop?\n",
    "    - If the answer is \"no,\" the loop exits right away.\n",
    "3. The `for` loop asks the object for its next value.\n",
    "    - if there are no more values to share, then the loop exits\n",
    "4. The next value is assigned to `one_character` (our loop variable)\n",
    "5. The loop body (indented, after the `:`) executes\n",
    "6. We go back to stage 3.\n",
    "\n",
    "What kind of code can go into our loop body? *ANYTHING AT ALL*:\n",
    "- assignment\n",
    "- `if`\n",
    "- `print`\n",
    "- `input`\n",
    "- Even have another `for` loop (known as a \"nested\" for loop) inside of our loop"
   ]
  },
  {
   "cell_type": "markdown",
   "id": "d52d700f-81c9-40a0-a63d-22f7493b0907",
   "metadata": {
    "tags": [
     "show_line_numbers"
    ]
   },
   "source": []
  },
  {
   "cell_type": "markdown",
   "id": "eab78db8-5793-4adf-80d3-fea208e237ee",
   "metadata": {
    "noteable": {
     "cell_type": "markdown"
    },
    "tags": [
     "show_line_numbers"
    ]
   },
   "source": [
    "# Exercise: Vowels, digits, and others\n",
    "\n",
    "1. Define three variables -- `vowels`, `digits`, and `others`, and set them all to 0.\n",
    "2. Ask the user (using `input`) to enter a string, and assign it to `s`.\n",
    "3. Go through the string, one character at a time.\n",
    "    - If the current character is a digit (0-9), then add 1 to `digits`\n",
    "    - If the current character is a vowel (a, e, i, o, u), then add 1 to `vowels`\n",
    "    - Otherwise, add 1 to `others`\n",
    "4. Print `vowels`, `digits`, and `others`.\n",
    "\n",
    "Example:\n",
    "\n",
    "    Enter a string: hello!! 123\n",
    "    vowels: 2\n",
    "    digits: 3\n",
    "    others: 6"
   ]
  },
  {
   "cell_type": "code",
   "execution_count": null,
   "id": "d611378d-a6bc-4641-b647-e8eab9efe824",
   "metadata": {
    "ExecuteTime": {
     "end_time": "2023-12-14T04:02:03.601351+00:00",
     "start_time": "2023-12-14T04:02:03.442668+00:00"
    },
    "noteable": {
     "cell_type": "python",
     "output_collection_id": "f8b8d086-07ff-4305-806a-bf3a5289b0bd"
    },
    "tags": [
     "show_line_numbers"
    ]
   },
   "outputs": [],
   "source": [
    "vowels = 0\n",
    "digits = 0\n",
    "others = 0\n",
    "\n",
    "s = input('Enter a string: ').strip()\n",
    "\n",
    "for one_character in s.lower():\n",
    "    if one_character.isdigit(): \n",
    "        digits += 1   # this is the same as: digits = digits + 1\n",
    "    elif one_character in 'aeiou':    # is it a vowel?\n",
    "        vowels += 1\n",
    "    else:\n",
    "        others += 1\n",
    "        \n",
    "print(f'vowels = {vowels}')        \n",
    "print(f'digits = {digits}')\n",
    "print(f'others = {others}')"
   ]
  },
  {
   "cell_type": "code",
   "execution_count": null,
   "id": "b24366b0-eb2c-4ad1-b960-a364917034a5",
   "metadata": {
    "ExecuteTime": {
     "end_time": "2023-12-14T04:03:52.262562+00:00",
     "start_time": "2023-12-14T04:03:50.394959+00:00"
    },
    "collapsed": false,
    "jupyter": {
     "outputs_hidden": false,
     "source_hidden": false
    },
    "noteable": {
     "cell_type": "code",
     "output_collection_id": "65c84d2f-9714-492a-9bff-490a82e91764"
    },
    "tags": [
     "show_line_numbers"
    ]
   },
   "outputs": [],
   "source": [
    "# VC\n",
    "\n",
    "vowels = 0\n",
    "digits = 0\n",
    "others = 0\n",
    "\n",
    "s = input('Please enter a phrase: ').strip()\n",
    "\n",
    "for x in s:\n",
    "    if x in 'aeiou':\n",
    "        vowels = vowels + 1\n",
    "    elif x in '0123456789':\n",
    "        digits = digits + 1\n",
    "    else:\n",
    "        others = others + 1 \n",
    "        \n",
    "print(f'vowels: {vowels}')\n",
    "print(f'digits: {digits}')\n",
    "print(f'others: {others}')"
   ]
  },
  {
   "cell_type": "code",
   "execution_count": null,
   "id": "3aae7559-c339-47d0-b471-75538ad9756b",
   "metadata": {
    "ExecuteTime": {
     "end_time": "2023-12-14T04:05:33.717413+00:00",
     "start_time": "2023-12-14T04:05:28.702373+00:00"
    },
    "collapsed": false,
    "jupyter": {
     "outputs_hidden": false,
     "source_hidden": false
    },
    "noteable": {
     "cell_type": "code",
     "output_collection_id": "f3df8a12-c60c-424c-99c9-4057933428cc"
    },
    "tags": [
     "show_line_numbers"
    ]
   },
   "outputs": [],
   "source": [
    "# SK\n",
    "\n",
    "vowels='aeiou'\n",
    "digits='0123456789'\n",
    "v_cnt = 0\n",
    "d_cnt = 0\n",
    "o_cnt = 0\n",
    "\n",
    "text=input(\"Enter a text:\")\n",
    "print(f'Entered Text: {text}')\n",
    "\n",
    "for chars in text:\n",
    " if chars.lower() in vowels:\n",
    "  v_cnt+=1\n",
    " elif chars.lower() in digits:\n",
    "  d_cnt+=1\n",
    " else:\n",
    "  o_cnt+=1\n",
    "\n",
    "print(f'Vowel count: {v_cnt}')\n",
    "print(f'Digits count: {d_cnt}')\n",
    "print(f'Others count: {o_cnt}')"
   ]
  },
  {
   "cell_type": "code",
   "execution_count": null,
   "id": "a0fe3fa5-496d-4286-9ec5-6b85f96216ae",
   "metadata": {
    "ExecuteTime": {
     "end_time": "2023-12-14T04:06:29.872429+00:00",
     "start_time": "2023-12-14T04:06:26.838443+00:00"
    },
    "collapsed": false,
    "jupyter": {
     "outputs_hidden": false,
     "source_hidden": false
    },
    "noteable": {
     "cell_type": "code",
     "output_collection_id": "882256d9-680a-40e7-b1b7-3c1cecec9097"
    },
    "tags": [
     "show_line_numbers"
    ]
   },
   "outputs": [],
   "source": [
    "vowels = 0\n",
    "digits = 0\n",
    "others = 0\n",
    "\n",
    "s = input('Enter a string: ').strip()\n",
    "\n",
    "for one_character in s.lower():\n",
    "    if one_character.isdigit(): \n",
    "        digits += 1   # this is the same as: digits = digits + 1\n",
    "    elif one_character in 'aeiou':    # is it a vowel?\n",
    "        vowels += 1\n",
    "    else:\n",
    "        others += 1\n",
    "        \n",
    "print(f'vowels = {vowels}')        \n",
    "print(f'digits = {digits}')\n",
    "print(f'others = {others}')"
   ]
  },
  {
   "cell_type": "code",
   "execution_count": null,
   "id": "190fd648-221b-4e41-9ee4-45abe69ed3c7",
   "metadata": {
    "ExecuteTime": {
     "end_time": "2023-12-14T04:07:14.876351+00:00",
     "start_time": "2023-12-14T04:07:14.719926+00:00"
    },
    "collapsed": false,
    "jupyter": {
     "outputs_hidden": false,
     "source_hidden": false
    },
    "noteable": {
     "cell_type": "code",
     "output_collection_id": "7fe282c1-9599-4b0b-9965-95c140112633"
    },
    "tags": [
     "show_line_numbers"
    ]
   },
   "outputs": [],
   "source": [
    "vowels = 0\n",
    "digits = 0\n",
    "others = 0\n",
    "\n",
    "s = input(\"Please enter a string: \").strip()\n",
    "\n",
    "for one_character in s:\n",
    "    if one_character in 'aeiou':\n",
    "        vowels = vowels + 1\n",
    "    else:\n",
    "        \n",
    "\n",
    "print(f'vowels = {vowels}')"
   ]
  },
  {
   "cell_type": "code",
   "execution_count": null,
   "id": "8b261dbd-703b-4945-ac3b-ac7fb9e7d1b9",
   "metadata": {
    "ExecuteTime": {
     "end_time": "2023-12-14T04:08:30.656526+00:00",
     "start_time": "2023-12-14T04:08:30.500365+00:00"
    },
    "collapsed": false,
    "jupyter": {
     "outputs_hidden": false,
     "source_hidden": false
    },
    "noteable": {
     "cell_type": "code",
     "output_collection_id": "9c1b02b8-d1ae-4fcd-8a58-e59b10061607"
    },
    "tags": [
     "show_line_numbers"
    ]
   },
   "outputs": [],
   "source": [
    "s = 'abcdefghijklmnopqrstuvwxyz'\n",
    "\n",
    "# start looping at index 9 in s\n",
    "for one_character in s[9:]:\n",
    "    print(one_character)"
   ]
  },
  {
   "cell_type": "code",
   "execution_count": null,
   "id": "1d7eeb5f-960b-4229-9ba9-1fa9836b44ec",
   "metadata": {
    "ExecuteTime": {
     "end_time": "2023-12-14T04:09:23.918233+00:00",
     "start_time": "2023-12-14T04:09:23.762125+00:00"
    },
    "collapsed": false,
    "jupyter": {
     "outputs_hidden": false,
     "source_hidden": false
    },
    "noteable": {
     "cell_type": "code",
     "output_collection_id": "c5801dfd-d048-4f90-b06a-795a920d35c3"
    },
    "tags": [
     "show_line_numbers"
    ]
   },
   "outputs": [],
   "source": [
    "# slices are normally [start:end]\n",
    "# but they can also be [start:end:step]\n",
    "\n",
    "s = 'abcdefghijklmnopqrstuvwxyz'\n",
    "\n",
    "# start looping at index 9 in s\n",
    "for one_character in s[9:20:2]:   # from index 9, to 20, skipping every other\n",
    "    print(one_character)"
   ]
  },
  {
   "cell_type": "code",
   "execution_count": null,
   "id": "e796ea27-54d6-4232-8d8e-27812fd161e1",
   "metadata": {
    "collapsed": false,
    "jupyter": {
     "outputs_hidden": false,
     "source_hidden": false
    },
    "noteable": {
     "cell_type": "code"
    },
    "tags": [
     "show_line_numbers"
    ]
   },
   "outputs": [],
   "source": [
    "vowels = 0\n",
    "digits = 0\n",
    "others = 0\n",
    "\n",
    "s = input('Enter a string: ').strip()\n",
    "\n",
    "for one_character in s.lower():\n",
    "    if one_character.isdigit(): \n",
    "        digits += 1   # this is the same as: digits = digits + 1\n",
    "    elif one_character in 'aeiou':    # is it a vowel?\n",
    "        vowels += 1\n",
    "    else:\n",
    "        others += 1\n",
    "        \n",
    "print(f'vowels = {vowels}')        \n",
    "print(f'digits = {digits}')\n",
    "print(f'others = {others}')"
   ]
  },
  {
   "cell_type": "code",
   "execution_count": null,
   "id": "77381cda-4a9c-4ae5-baed-492603887b54",
   "metadata": {
    "ExecuteTime": {
     "end_time": "2023-12-14T04:11:43.202636+00:00",
     "start_time": "2023-12-14T04:11:40.281745+00:00"
    },
    "collapsed": false,
    "jupyter": {
     "outputs_hidden": false,
     "source_hidden": false
    },
    "noteable": {
     "cell_type": "code",
     "output_collection_id": "56d8369b-bbdc-4aeb-afff-63f75e83fbe0"
    },
    "tags": [
     "show_line_numbers"
    ]
   },
   "outputs": [],
   "source": [
    "for one_character in str1:\n",
    "  if one_character in 'aeiou':\n",
    "    Vowel== vowel+1\n",
    "  elif one_character in '0123456789':\n",
    "    digit == digit+1\n",
    "  else:\n",
    "    other== other+1\n"
   ]
  },
  {
   "cell_type": "code",
   "execution_count": null,
   "id": "bd2a7b02-5985-4b7d-9529-1dc7f6a7c34d",
   "metadata": {
    "ExecuteTime": {
     "end_time": "2023-12-14T04:14:22.552096+00:00",
     "start_time": "2023-12-14T04:14:22.396867+00:00"
    },
    "collapsed": false,
    "jupyter": {
     "outputs_hidden": false,
     "source_hidden": false
    },
    "noteable": {
     "cell_type": "code",
     "output_collection_id": "c15b41de-ccb1-48ce-b62b-f241a7a683c7"
    },
    "tags": [
     "show_line_numbers"
    ]
   },
   "outputs": [],
   "source": [
    "# how can I repeat code several times?\n",
    "\n",
    "print('Hooray!')\n",
    "print('Hooray!')\n",
    "print('Hooray!')\n"
   ]
  },
  {
   "cell_type": "code",
   "execution_count": null,
   "id": "f2698007-fb4d-4627-bedf-482869415aa4",
   "metadata": {
    "ExecuteTime": {
     "end_time": "2023-12-14T04:14:38.508482+00:00",
     "start_time": "2023-12-14T04:14:38.341283+00:00"
    },
    "collapsed": false,
    "jupyter": {
     "outputs_hidden": false,
     "source_hidden": false
    },
    "noteable": {
     "cell_type": "code",
     "output_collection_id": "030560d1-60e0-4136-acf3-0fb70800c14e"
    },
    "tags": [
     "show_line_numbers"
    ]
   },
   "outputs": [],
   "source": [
    "# wait -- can I dry up that code?\n",
    "\n",
    "for index in 3:\n",
    "    print('Hooray!')"
   ]
  },
  {
   "cell_type": "code",
   "execution_count": null,
   "id": "e77b01b6-85c5-4871-8f2d-4e828e6f4f26",
   "metadata": {
    "ExecuteTime": {
     "end_time": "2023-12-14T04:15:29.380903+00:00",
     "start_time": "2023-12-14T04:15:29.225663+00:00"
    },
    "collapsed": false,
    "jupyter": {
     "outputs_hidden": false,
     "source_hidden": false
    },
    "noteable": {
     "cell_type": "code",
     "output_collection_id": "17c0a502-e028-42fa-ad00-17853798fe9b"
    },
    "tags": [
     "show_line_numbers"
    ]
   },
   "outputs": [],
   "source": [
    "# we can iterate a number of times if we use the \"range\" function\n",
    "# we can tell range how many times we want to run\n",
    "\n",
    "for index in range(3):\n",
    "    print('Hooray!')"
   ]
  },
  {
   "cell_type": "code",
   "execution_count": null,
   "id": "a80c204f-b2ec-4d0a-864d-3118a6cf5549",
   "metadata": {
    "ExecuteTime": {
     "end_time": "2023-12-14T04:16:06.085980+00:00",
     "start_time": "2023-12-14T04:16:05.930953+00:00"
    },
    "collapsed": false,
    "jupyter": {
     "outputs_hidden": false,
     "source_hidden": false
    },
    "noteable": {
     "cell_type": "code",
     "output_collection_id": "77e671c1-c737-4c3c-bf8c-203b1f24ad5b"
    },
    "tags": [
     "show_line_numbers"
    ]
   },
   "outputs": [],
   "source": [
    "# range(n) is iterable n times\n",
    "# each time (each iteration) will have an integer starting with 0\n",
    "# and ending with n-1\n",
    "\n",
    "for index in range(3):\n",
    "    print(f'{index} Hooray!')"
   ]
  },
  {
   "cell_type": "code",
   "execution_count": null,
   "id": "18dbfc3f-3008-4ee9-bcc4-2ba75dd452b7",
   "metadata": {
    "ExecuteTime": {
     "end_time": "2023-12-14T04:16:52.134169+00:00",
     "start_time": "2023-12-14T04:16:51.979011+00:00"
    },
    "collapsed": false,
    "jupyter": {
     "outputs_hidden": false,
     "source_hidden": false
    },
    "noteable": {
     "cell_type": "code",
     "output_collection_id": "81172703-a7be-4a8e-b50a-cf1e8a190a82"
    },
    "tags": [
     "show_line_numbers"
    ]
   },
   "outputs": [],
   "source": [
    "for tomato in range(3):\n",
    "    print(f'{tomato} Hooray!')"
   ]
  },
  {
   "cell_type": "code",
   "execution_count": null,
   "id": "90220127-3d62-4625-996b-57aceb496c07",
   "metadata": {
    "ExecuteTime": {
     "end_time": "2023-12-14T04:18:16.579367+00:00",
     "start_time": "2023-12-14T04:18:16.424334+00:00"
    },
    "collapsed": false,
    "jupyter": {
     "outputs_hidden": false,
     "source_hidden": false
    },
    "noteable": {
     "cell_type": "code",
     "output_collection_id": "e87fc33f-5c38-4a62-96d0-f9f89238a611"
    },
    "tags": [
     "show_line_numbers"
    ]
   },
   "outputs": [],
   "source": [
    "# we can use range for a C-like for loop\n",
    "\n",
    "s = 'abcde'\n",
    "\n",
    "# how ugly! but it works...\n",
    "for index in range(len(s)):\n",
    "    print(s[index])"
   ]
  },
  {
   "cell_type": "markdown",
   "id": "2f2b2fd2-3baf-4479-8629-4263bc2ee0c1",
   "metadata": {
    "tags": [
     "show_line_numbers"
    ]
   },
   "source": []
  },
  {
   "cell_type": "markdown",
   "id": "2e9c1129-2e03-48ee-985e-36480dc37c87",
   "metadata": {
    "noteable": {
     "cell_type": "markdown"
    },
    "tags": [
     "show_line_numbers"
    ]
   },
   "source": [
    "# Exercise: Name triangles\n",
    "\n",
    "1. Ask the user to enter their name\n",
    "2. Print the name as a triangle:\n",
    "    - First character on the first line\n",
    "    - First 2 characters on the 2nd\n",
    "    - First 3 characters on the 3rd.\n",
    "    - (until) the full name\n",
    "    \n",
    "Example:\n",
    "\n",
    "    Enter your name: Reuven\n",
    "    R\n",
    "    Re\n",
    "    Reu\n",
    "    Reuv\n",
    "    Reuve\n",
    "    Reuven\n",
    "    \n",
    "Hints:\n",
    "1. Remember that a slice goes from [start:finish]\n",
    "2. Slices aren't picky about the end index -- so if you go off the end of the string, you won't get an error."
   ]
  },
  {
   "cell_type": "code",
   "execution_count": null,
   "id": "7e826930-f0c1-4f6e-afa2-a06a815332ec",
   "metadata": {
    "ExecuteTime": {
     "end_time": "2023-12-14T04:29:02.730198+00:00",
     "start_time": "2023-12-14T04:29:00.831843+00:00"
    },
    "noteable": {
     "output_collection_id": "ea34c56d-9d9e-48cd-a598-c8a4b0750214"
    },
    "tags": [
     "show_line_numbers"
    ]
   },
   "outputs": [],
   "source": [
    "name = input('Enter your name: ').strip()\n",
    "\n",
    "# print(name[:1])\n",
    "# print(name[:2])\n",
    "# print(name[:3])\n",
    "# print(name[:4])\n",
    "# print(name[:5])\n",
    "# print(name[:6])\n",
    "\n",
    "for max_index in range(len(name)):\n",
    "    print(name[:max_index+1])\n"
   ]
  },
  {
   "cell_type": "code",
   "execution_count": null,
   "id": "04cdfd55-79e2-4803-b1f9-10d898f6b7c7",
   "metadata": {
    "ExecuteTime": {
     "end_time": "2023-12-14T04:30:03.561045+00:00",
     "start_time": "2023-12-14T04:30:00.030449+00:00"
    },
    "collapsed": false,
    "jupyter": {
     "outputs_hidden": false,
     "source_hidden": false
    },
    "noteable": {
     "cell_type": "code",
     "output_collection_id": "2a271816-c535-4424-bec1-3efed8fea1b4"
    },
    "tags": [
     "show_line_numbers"
    ]
   },
   "outputs": [],
   "source": [
    "name = input('Enter your name: ').strip()\n",
    "output = ''   # empty string\n",
    "\n",
    "for one_character in name:\n",
    "    output += one_character  # add the current char to output\n",
    "    print(output)"
   ]
  },
  {
   "cell_type": "code",
   "execution_count": null,
   "id": "93e0a653-24c1-4a68-91ce-20777fb697c9",
   "metadata": {
    "ExecuteTime": {
     "end_time": "2023-12-14T04:31:21.997502+00:00",
     "start_time": "2023-12-14T04:31:17.922387+00:00"
    },
    "collapsed": false,
    "jupyter": {
     "outputs_hidden": false,
     "source_hidden": false
    },
    "noteable": {
     "cell_type": "code",
     "output_collection_id": "c818eee3-5cde-445d-af0a-ad25e8b0ad01"
    },
    "tags": [
     "show_line_numbers"
    ]
   },
   "outputs": [],
   "source": [
    "# KP\n",
    "\n",
    "name = input(\"Enter your name: \")\n",
    "\n",
    "for index in range(len(name)+1):\n",
    "    print(name[:index])"
   ]
  },
  {
   "cell_type": "markdown",
   "id": "4ab8de20-8e90-4993-844e-c6aa8f710fbc",
   "metadata": {
    "tags": [
     "show_line_numbers"
    ]
   },
   "source": [
    "# Next up\n",
    "\n",
    "1. Indexes -- where is the loop index?\n",
    "2. `while` loops\n",
    "3. Exiting our loops early"
   ]
  },
  {
   "cell_type": "code",
   "execution_count": null,
   "id": "3951e565-dfde-424e-858f-6ac3f401ce88",
   "metadata": {
    "ExecuteTime": {
     "end_time": "2023-12-14T04:40:30.826740+00:00",
     "start_time": "2023-12-14T04:40:28.889678+00:00"
    },
    "noteable": {
     "cell_type": "python",
     "output_collection_id": "31dbf5b9-c2a8-454b-8a75-8636a1fb6fb3"
    },
    "tags": [
     "show_line_numbers"
    ]
   },
   "outputs": [],
   "source": [
    "# PD\n",
    "\n",
    "s = input('Enter a string: ').strip()\n",
    "for index in range(len(s)):\n",
    " print(s[:index+1])"
   ]
  },
  {
   "cell_type": "code",
   "execution_count": null,
   "id": "d34f63cd-cfdc-4912-8781-92e979e4197c",
   "metadata": {
    "ExecuteTime": {
     "end_time": "2023-12-14T04:43:23.938964+00:00",
     "start_time": "2023-12-14T04:43:23.783543+00:00"
    },
    "noteable": {
     "output_collection_id": "42ba2628-daab-4ff8-8b5d-759e80d14dcd"
    },
    "tags": [
     "show_line_numbers"
    ]
   },
   "outputs": [],
   "source": [
    "# in a C-like language, you iterate over a string indirectly --\n",
    "# you start at 0, then go up to the length of the string, and \n",
    "# grab character 0, then 1, then 2... this means that the loop is really\n",
    "# with an index, and the string is secondary to that.\n",
    "\n",
    "# but sometimes, we want to display the index along with the character\n",
    "# how can I do that?\n",
    "\n",
    "# option 1: manually\n",
    "s = 'abcde'\n",
    "index = 0\n",
    "\n",
    "for one_character in s:\n",
    "    print(f'{index}: {one_character}')\n",
    "    index += 1       # same as index = index + 1"
   ]
  },
  {
   "cell_type": "code",
   "execution_count": null,
   "id": "dd63b1c9-acdc-45c4-a73c-cba309e77490",
   "metadata": {
    "ExecuteTime": {
     "end_time": "2023-12-14T04:45:11.996087+00:00",
     "start_time": "2023-12-14T04:45:11.840532+00:00"
    },
    "collapsed": false,
    "jupyter": {
     "outputs_hidden": false,
     "source_hidden": false
    },
    "noteable": {
     "cell_type": "code",
     "output_collection_id": "c9dff557-fdfc-4487-8d08-bf5ff6030395"
    },
    "tags": [
     "show_line_numbers"
    ]
   },
   "outputs": [],
   "source": [
    "# option 2: automatically, using enumerate\n",
    "# enumerate is a function that takes an iterable as an argument\n",
    "# it is meant to be used in loops, and returns an index (starting with 0)\n",
    "# along with the original individual element\n",
    "\n",
    "s = 'abcde'\n",
    "\n",
    "for index, one_character in enumerate(s):\n",
    "    print(f'{index}: {one_character}')"
   ]
  },
  {
   "cell_type": "code",
   "execution_count": null,
   "id": "9c05cd9f-1db3-4a63-88de-d26e0d2d1cf6",
   "metadata": {
    "ExecuteTime": {
     "end_time": "2023-12-14T04:46:32.085629+00:00",
     "start_time": "2023-12-14T04:46:25.352012+00:00"
    },
    "collapsed": false,
    "jupyter": {
     "outputs_hidden": false,
     "source_hidden": false
    },
    "noteable": {
     "cell_type": "code",
     "output_collection_id": "6387cd61-09d9-49d3-93d1-61a4db4b575c"
    },
    "tags": [
     "show_line_numbers"
    ]
   },
   "outputs": [],
   "source": [
    "# let's say I want to display only those elements \n",
    "# whose index is even\n",
    "\n",
    "s = input('Enter a string: ').strip()\n",
    "\n",
    "for index, one_character in enumerate(s):\n",
    "    if index % 2 == 0:   # if the index, when / 2, has no remainder\n",
    "        print(f'{index}: {one_character}')"
   ]
  },
  {
   "cell_type": "markdown",
   "id": "3df9430a-e3e4-4aa2-afc9-6f325a8dfcac",
   "metadata": {
    "tags": [
     "show_line_numbers"
    ]
   },
   "source": [
    "# `while` loops\n",
    "\n",
    "A `for` loop is perfect for when we want to iterate over every element of a sequence.  We finish the loop when we get to the end of the sequence.\n",
    "\n",
    "Sometimes, we don't know how many times we're going to want to iterate. Sometimes, the end will come sooner and sometimes later.\n",
    "\n",
    "In many cases, we only know when we have reached the end of the loop by checking a condition.\n",
    "\n",
    "For this kind of loop, we have `while`.\n",
    "\n",
    "A `while` loop is basically an `if` statement: It has a condition to the right of the word `while`, and that condition returns either `True` or `False`:\n",
    "- The `while` loop checks its condition\n",
    "- If the value is `True`, then the loop body executes.\n",
    "- When the body is done running, we go back up to the `while` and check the condition again -- and if it's `True`, the body runs again, ad infinitum.\n",
    "\n",
    "If the condition never becomes `False`, then we have an infinite loop. Make sure that your loop has an \"escape hatch,\" that it can end at some time."
   ]
  },
  {
   "cell_type": "markdown",
   "id": "72497a17-68a2-4397-821b-a12f60354fd5",
   "metadata": {
    "noteable": {
     "cell_type": "markdown"
    },
    "tags": [
     "show_line_numbers"
    ]
   },
   "source": [
    "# `for` vs. `while`\n",
    "\n",
    "- If you know how many times you want to run your loop, then you should use `for`.\n",
    "- If you don't know how many times you want to run it, but you do know under what conditions you want to stop, then use `while`."
   ]
  },
  {
   "cell_type": "code",
   "execution_count": null,
   "id": "5ae0acbc-2a8a-42fb-9ffb-e582959e3d98",
   "metadata": {
    "ExecuteTime": {
     "end_time": "2023-12-14T04:56:02.811575+00:00",
     "start_time": "2023-12-14T04:56:02.655272+00:00"
    },
    "noteable": {
     "output_collection_id": "6ae898cf-0aa8-485d-9921-46f1b57d60ed"
    },
    "tags": [
     "show_line_numbers"
    ]
   },
   "outputs": [],
   "source": [
    "x = 5\n",
    "\n",
    "while x > 0:\n",
    "    print(x)\n",
    "    x -= 1    # meaning: x = x - 1"
   ]
  },
  {
   "cell_type": "markdown",
   "id": "36bac37c-f98f-452c-a5b9-4c2d8d819095",
   "metadata": {
    "tags": [
     "show_line_numbers"
    ]
   },
   "source": [
    "# Exercise: Sum to 100\n",
    "\n",
    "1. Define `total` to be 0.\n",
    "2. Ask the user, again and again, to enter a number.\n",
    "3. Whatever number the user gives, add to `total`.  Print `total` after adding to it.\n",
    "4. Keep asking, until `total` is at least 100. At that point, exit the loop and print the total.\n",
    "\n",
    "Hints/ideas:\n",
    "- Remember that `input` returns a string, and you'll need to convert it into an integer using `int`.\n",
    "- You can run `isdigit` on a string, and find out if it can be turned into an integer. You can optionally add a check for this in your program.\n",
    "\n",
    "Example:\n",
    "\n",
    "    Enter a number: 20\n",
    "    total is 20\n",
    "    Enter a number: 30\n",
    "    total is 50\n",
    "    Enter a number: hello\n",
    "    hello is not a number!\n",
    "    Enter a number: 100\n",
    "    total is 150"
   ]
  },
  {
   "cell_type": "code",
   "execution_count": null,
   "id": "8dbdf6ac-3046-4188-909a-c604fee6872a",
   "metadata": {
    "ExecuteTime": {
     "end_time": "2023-12-14T05:10:13.359471+00:00",
     "start_time": "2023-12-14T05:09:55.906502+00:00"
    },
    "noteable": {
     "output_collection_id": "a95cab09-3031-4260-ad0c-9cb53e052e38"
    },
    "tags": [
     "show_line_numbers"
    ]
   },
   "outputs": [],
   "source": [
    "total = 0\n",
    "\n",
    "while total < 100:\n",
    "    s = input('Enter a number: ').strip()\n",
    "    \n",
    "    if s.isdigit():\n",
    "        total += int(s)\n",
    "        print(f'total = {total}')\n",
    "    else:\n",
    "        print(f'{s} is not numeric')\n",
    "    \n",
    "print(f'End total = {total}')    "
   ]
  },
  {
   "cell_type": "markdown",
   "id": "c68fa992-30ec-4c17-b7f1-a100177c1a9f",
   "metadata": {
    "tags": [
     "show_line_numbers"
    ]
   },
   "source": [
    "# Stopping a loop early\n",
    "\n",
    "So far, we've seen that `for` loops run through all elements in the sequence, and `while` loops runs until the condition is `False`. What if we want to end the loop early?\n",
    "\n",
    "The way we handle this is with two different statements:\n",
    "\n",
    "- `break` -- end the loop right away\n",
    "- `continue` -- end the current iteration right away, but continue with the next one in the loop"
   ]
  },
  {
   "cell_type": "code",
   "execution_count": null,
   "id": "b09a49b3-c5e4-492a-8cf7-e71eeb409363",
   "metadata": {
    "ExecuteTime": {
     "end_time": "2023-12-14T05:13:48.385644+00:00",
     "start_time": "2023-12-14T05:13:48.229871+00:00"
    },
    "noteable": {
     "output_collection_id": "a9aeff13-d01d-4da6-b1e9-bb1ad78e621f"
    },
    "tags": [
     "show_line_numbers"
    ]
   },
   "outputs": [],
   "source": [
    "# example: searching for something in a string\n",
    "# (let's pretend that \"in\" doesn't exist)\n",
    "\n",
    "s = 'abcde'\n",
    "look_for = 'c'\n",
    "\n",
    "for one_character in s:\n",
    "    print(one_character)\n",
    "    \n",
    "    if one_character == look_for:\n",
    "        print(f'\\tFound {one_character}; stopping')\n",
    "        break"
   ]
  },
  {
   "cell_type": "code",
   "execution_count": null,
   "id": "047196aa-58b2-4df0-8b37-8bcf32a89fff",
   "metadata": {
    "ExecuteTime": {
     "end_time": "2023-12-14T05:15:04.668896+00:00",
     "start_time": "2023-12-14T05:14:49.184013+00:00"
    },
    "collapsed": false,
    "jupyter": {
     "outputs_hidden": false,
     "source_hidden": false
    },
    "noteable": {
     "cell_type": "code",
     "output_collection_id": "7406f5ac-c96c-4803-83f6-c57f56b1ad33"
    },
    "tags": [
     "show_line_numbers"
    ]
   },
   "outputs": [],
   "source": [
    "# break also works with while loops:\n",
    "\n",
    "while True:    # yes, an infinite loop!\n",
    "    name = input('Enter your name: ').strip()\n",
    "    \n",
    "    if name == '':    # empty string? break!\n",
    "        break\n",
    "        \n",
    "    print(f'Hello, {name}!')"
   ]
  },
  {
   "cell_type": "code",
   "execution_count": null,
   "id": "6ab96db1-3e42-4783-8dc0-6506832ad850",
   "metadata": {
    "ExecuteTime": {
     "end_time": "2023-12-14T05:16:22.404170+00:00",
     "start_time": "2023-12-14T05:16:22.248761+00:00"
    },
    "collapsed": false,
    "jupyter": {
     "outputs_hidden": false,
     "source_hidden": false
    },
    "noteable": {
     "cell_type": "code",
     "output_collection_id": "faeb7082-6653-41ea-b03c-a97a29a757b0"
    },
    "tags": [
     "show_line_numbers"
    ]
   },
   "outputs": [],
   "source": [
    "# what about continue?\n",
    "# continue is (I think) perfect for when you get back input, or\n",
    "# want to ignore a value, but continue with the rest of the loop\n",
    "\n",
    "\n",
    "s = 'abcde'\n",
    "look_for = 'c'\n",
    "\n",
    "for one_character in s:\n",
    "    if one_character == look_for:\n",
    "        continue\n",
    "        \n",
    "    print(one_character)    \n"
   ]
  },
  {
   "cell_type": "code",
   "execution_count": null,
   "id": "2b55e0bc-2515-44a0-a78c-b4aeb5b362b0",
   "metadata": {
    "ExecuteTime": {
     "end_time": "2023-12-14T05:19:37.096355+00:00",
     "start_time": "2023-12-14T05:19:23.719789+00:00"
    },
    "collapsed": false,
    "jupyter": {
     "outputs_hidden": false,
     "source_hidden": false
    },
    "noteable": {
     "cell_type": "code",
     "output_collection_id": "39b2b27c-18a4-425f-ba4d-15ff82168339"
    },
    "tags": [
     "show_line_numbers"
    ]
   },
   "outputs": [],
   "source": [
    "value = 0\n",
    "\n",
    "while value < 100:\n",
    "    index = input('Input value: ').strip()\n",
    "\n",
    "    if not index.isdigit():\n",
    "        print(f'{index} is not numeric')\n",
    "        continue\n",
    "\n",
    "    index = int(index)\n",
    "    value = value + index\n",
    "    print(f'Sum of your inputs is {value}')\n",
    "\n",
    "print(f'You did it, the {value} is >= 100!')"
   ]
  },
  {
   "cell_type": "markdown",
   "id": "976e8909-2a85-434b-a3ca-ee11ce445056",
   "metadata": {
    "tags": [
     "show_line_numbers"
    ]
   },
   "source": []
  },
  {
   "cell_type": "markdown",
   "id": "70ea0637-8a40-4461-8187-43bab059fdb8",
   "metadata": {
    "noteable": {
     "cell_type": "markdown"
    },
    "tags": [
     "show_line_numbers"
    ]
   },
   "source": [
    "# Exercise: Vowels, digits, and others (extended edition)\n",
    "\n",
    "1. Define `vowels`, `digits`, and `others` all to be 0.\n",
    "2. Ask the user to enter a string.\n",
    "    - If the string is empty, then end the loop\n",
    "3. Go through each character in the string:\n",
    "    - If it's a vowel, add 1 to `vowels`\n",
    "    - If it's a digit, add 1 to `digits`\n",
    "    - Otherwise, add 1 to `others`\n",
    "4. When the loop ends, print all three variable totals.\n",
    "\n",
    "Example:\n",
    "\n",
    "    Enter a string: hello!\n",
    "    Enter a string: 1234\n",
    "    Enter a string: [ENTER]\n",
    "    vowels: 2\n",
    "    digits: 4\n",
    "    others: 4"
   ]
  },
  {
   "cell_type": "markdown",
   "id": "6d03e0e6-eaa2-42b9-8d9c-185b559fb57e",
   "metadata": {
    "noteable": {
     "cell_type": "markdown"
    },
    "tags": [
     "show_line_numbers"
    ]
   },
   "source": [
    "It's not `=<`, but rather `<=`"
   ]
  },
  {
   "cell_type": "code",
   "execution_count": null,
   "id": "5fda79d2-91bb-4e17-95b1-06565f5f3027",
   "metadata": {
    "ExecuteTime": {
     "end_time": "2023-12-14T05:36:02.378144+00:00",
     "start_time": "2023-12-14T05:35:48.083648+00:00"
    },
    "noteable": {
     "output_collection_id": "6193b818-d913-4464-ba9e-7b5851c610e5"
    },
    "tags": [
     "show_line_numbers"
    ]
   },
   "outputs": [],
   "source": [
    "vowels = 0\n",
    "digits = 0\n",
    "others = 0\n",
    "\n",
    "while True:\n",
    "\n",
    "    s = input('Enter a string: ').strip()\n",
    "\n",
    "    if s == '':    # you could say if len(s) == 0:\n",
    "        break\n",
    "\n",
    "    for one_character in s:\n",
    "        if one_character.isdigit():\n",
    "            digits += 1\n",
    "        elif one_character in 'aeiou':\n",
    "            vowels += 1\n",
    "        else:\n",
    "            others += 1\n",
    "        \n",
    "print(f'vowels = {vowels}')        \n",
    "print(f'digits = {digits}')\n",
    "print(f'others = {others}')\n"
   ]
  },
  {
   "cell_type": "code",
   "execution_count": null,
   "id": "8bb68587-8828-4198-b645-7f94d3c47d56",
   "metadata": {
    "collapsed": false,
    "jupyter": {
     "outputs_hidden": false,
     "source_hidden": false
    },
    "noteable": {
     "cell_type": "code"
    },
    "tags": [
     "show_line_numbers"
    ]
   },
   "outputs": [],
   "source": [
    "# RK\n",
    "\n",
    "vowels=0\n",
    "digits=0\n",
    "others=0\n",
    "\n",
    "while True:\n",
    "    inputString = input('Enter a string: ').strip()\n",
    "\n",
    "    if inputString =='':\n",
    "        break\n",
    "\n",
    "    for one_char in inputString:\n",
    "        if(one_char.isdigit()):\n",
    "            digits +=1\n",
    "        elif(one_char in 'aeiou'):\n",
    "            vowels +=1\n",
    "        else:\n",
    "            others +=1\n",
    "print(f'Total digits: {digits}, vowels: {vowels}, others: {others}')\n"
   ]
  },
  {
   "cell_type": "code",
   "execution_count": null,
   "id": "b425067e-1b5c-48b9-bed2-81c9c78b150a",
   "metadata": {
    "ExecuteTime": {
     "end_time": "2023-12-14T05:38:34.425737+00:00",
     "start_time": "2023-12-14T05:38:23.672013+00:00"
    },
    "collapsed": false,
    "jupyter": {
     "outputs_hidden": false,
     "source_hidden": false
    },
    "noteable": {
     "cell_type": "code",
     "output_collection_id": "59a19aa2-29ce-48b8-8178-120a9f1d8562"
    },
    "tags": [
     "show_line_numbers"
    ]
   },
   "outputs": [],
   "source": [
    "# KP\n",
    "\n",
    "while True:\n",
    "    s = input(\"Please enter a string: \").strip()\n",
    "\n",
    "    if s == \"\":\n",
    "        break\n",
    "        \n",
    "    for index, one_character in enumerate(s):\n",
    "        if one_character in 'aeiou':\n",
    "            vowels = vowels + 1\n",
    "        elif one_character.isdigit():\n",
    "            digits = digits + 1\n",
    "        else:\n",
    "            others = others + 1\n",
    "    print(f'Word {index} Registered.')\n",
    "\n",
    "print(f'Total Vowels = {vowels}')\n",
    "print(f'Total Digits = {digits}')\n",
    "print(f'Total Others = {others}')\n",
    "print(\"End\") "
   ]
  },
  {
   "cell_type": "code",
   "execution_count": null,
   "id": "7d2eaea6-f217-4801-982f-7bacc5a9f794",
   "metadata": {
    "ExecuteTime": {
     "end_time": "2023-12-14T05:39:19.999843+00:00",
     "start_time": "2023-12-14T05:39:15.324557+00:00"
    },
    "collapsed": false,
    "jupyter": {
     "outputs_hidden": false,
     "source_hidden": false
    },
    "noteable": {
     "cell_type": "code",
     "output_collection_id": "99a153c3-2c4d-494d-9f3c-6d8b8d31d0f1"
    },
    "tags": [
     "show_line_numbers"
    ]
   },
   "outputs": [],
   "source": [
    "# SN\n",
    "\n",
    "vowels = 0\n",
    "digits = 0\n",
    "others = 0\n",
    "\n",
    "s = input('Enter a string: ').strip()\n",
    "for one_character in s:\n",
    "    if one_character.isdigit(): \n",
    "        digits += 1   \n",
    "    elif one_character in 'aeiou': \n",
    "        vowels += 1\n",
    "    else:\n",
    "        others += 1\n",
    "        \n",
    "print(f'vowels = {vowels}')        \n",
    "print(f'digits = {digits}')\n",
    "print(f'others = {others}')\n",
    "total = vowels + digits + others\n",
    "print(f'total = {total}')"
   ]
  },
  {
   "cell_type": "code",
   "execution_count": null,
   "id": "b17264d4-3dde-4e3f-8cae-e1ef0aa074e8",
   "metadata": {
    "collapsed": false,
    "jupyter": {
     "outputs_hidden": false,
     "source_hidden": false
    },
    "noteable": {
     "cell_type": "code"
    }
   },
   "outputs": [],
   "source": [
    "# AL\n",
    "\n",
    "text = input('Input your text: ').strip()\n",
    "vowels = 0\n",
    "digits = 0\n",
    "other = 0\n",
    "\n",
    "for iteration in text:\n",
    "    if text == '':\n",
    "        print(f'The text is empty')\n",
    "        break\n",
    "    elif iteration in 'aeuoiAEUOI':\n",
    "        vowels += 1\n",
    "        continue\n",
    "    elif iteration.isdigit():\n",
    "        digits += 1\n",
    "        continue\n",
    "    else:\n",
    "        other += 1\n",
    "\n",
    "print(f'Vowels = {vowels}')\n",
    "print(f'Digits = {digits}')\n",
    "print(f'Other = {other}')"
   ]
  },
  {
   "cell_type": "markdown",
   "id": "840a4c78-a5b4-41d4-8210-5f61ef5bf134",
   "metadata": {},
   "source": [
    "# Next up\n",
    "\n",
    "1. Lists\n",
    "2. Strings to lists and back\n",
    "3. Tuples"
   ]
  },
  {
   "cell_type": "code",
   "execution_count": null,
   "id": "4f69fd15-6501-4469-87e1-7ad10df46313",
   "metadata": {
    "ExecuteTime": {
     "end_time": "2023-12-14T05:52:17.048521+00:00",
     "start_time": "2023-12-14T05:52:06.652264+00:00"
    },
    "noteable": {
     "cell_type": "python",
     "output_collection_id": "a4da01a0-d3f6-42b3-a6b6-09584b936c8c"
    }
   },
   "outputs": [],
   "source": [
    "vowels = 0\n",
    "digits = 0\n",
    "others = 0\n",
    "\n",
    "while True:\n",
    "\n",
    "    s = input('Enter a string: ').strip()\n",
    "\n",
    "    if s == '':\n",
    "        break\n",
    "\n",
    "    for one_character in s:\n",
    "        if one_character.isdigit():\n",
    "            digits += 1\n",
    "        elif one_character in 'aeiou':\n",
    "            vowels += 1\n",
    "        else:\n",
    "            others += 1\n",
    "        \n",
    "print(f'vowels = {vowels}')        \n",
    "print(f'digits = {digits}')\n",
    "print(f'others = {others}')"
   ]
  },
  {
   "cell_type": "markdown",
   "id": "ae23536a-d79e-4405-99a1-49dd3eb1bf6b",
   "metadata": {},
   "source": [
    "# Lists\n",
    "\n",
    "A list is a Python data structure that can contain any number of other objects. Each element of a list has a position (an indent), just like the characters in a string.\n",
    "\n",
    "Lists are similar to arrays that you might have seen in other languages. But they are different: A list can contain any number of values of any type (or mixed types). Plus, the length and contents of a list can change over time.\n",
    "\n",
    "We create lists with `[]`, and the elements have commas between them. A list can contain any number of values, and any type (or types) of values *but* it's traditional in Python for a list to contain only one type."
   ]
  },
  {
   "cell_type": "code",
   "execution_count": null,
   "id": "5da22842-313a-4fcd-8d13-72587c3c5c1c",
   "metadata": {
    "ExecuteTime": {
     "end_time": "2023-12-14T05:55:17.529304+00:00",
     "start_time": "2023-12-14T05:55:17.372121+00:00"
    },
    "noteable": {
     "output_collection_id": "d23bdf10-1744-490f-b617-f1310e46315e"
    }
   },
   "outputs": [],
   "source": [
    "mylist = [10, 20, 30, 40, 50, 60, 70, 80, 90, 100]\n",
    "\n",
    "len(mylist)  # how many elements?"
   ]
  },
  {
   "cell_type": "code",
   "execution_count": null,
   "id": "2ae75fe0-db40-4c92-9ca9-7524a7180dae",
   "metadata": {
    "ExecuteTime": {
     "end_time": "2023-12-14T05:55:25.746801+00:00",
     "start_time": "2023-12-14T05:55:25.590206+00:00"
    },
    "collapsed": false,
    "jupyter": {
     "outputs_hidden": false,
     "source_hidden": false
    },
    "noteable": {
     "cell_type": "code",
     "output_collection_id": "7ed45096-af35-4880-a0a2-fbd065e6ee6b"
    }
   },
   "outputs": [],
   "source": [
    "mylist[0]   # first element"
   ]
  },
  {
   "cell_type": "code",
   "execution_count": null,
   "id": "a01cff0f-0b1a-4dde-92fe-da3478b59f45",
   "metadata": {
    "ExecuteTime": {
     "end_time": "2023-12-14T05:55:31.381916+00:00",
     "start_time": "2023-12-14T05:55:31.225137+00:00"
    },
    "collapsed": false,
    "jupyter": {
     "outputs_hidden": false,
     "source_hidden": false
    },
    "noteable": {
     "cell_type": "code",
     "output_collection_id": "30c5db80-79fd-40fd-a701-4e13935fc798"
    }
   },
   "outputs": [],
   "source": [
    "mylist[1]"
   ]
  },
  {
   "cell_type": "code",
   "execution_count": null,
   "id": "a79b8ac7-1b12-4cd6-9ba9-854b10661ca3",
   "metadata": {
    "ExecuteTime": {
     "end_time": "2023-12-14T05:55:37.033982+00:00",
     "start_time": "2023-12-14T05:55:36.878032+00:00"
    },
    "collapsed": false,
    "jupyter": {
     "outputs_hidden": false,
     "source_hidden": false
    },
    "noteable": {
     "cell_type": "code",
     "output_collection_id": "bfc5c751-e7c3-45e5-b5a5-0b18ba313cae"
    }
   },
   "outputs": [],
   "source": [
    "mylist[-1]"
   ]
  },
  {
   "cell_type": "code",
   "execution_count": null,
   "id": "5612c330-8bea-4a0b-a842-9ec2c578a49a",
   "metadata": {
    "ExecuteTime": {
     "end_time": "2023-12-14T05:56:46.187089+00:00",
     "start_time": "2023-12-14T05:56:46.029178+00:00"
    },
    "collapsed": false,
    "jupyter": {
     "outputs_hidden": false,
     "source_hidden": false
    },
    "noteable": {
     "cell_type": "code",
     "output_collection_id": "092d7fd0-52bc-48b3-81c2-000544cf0143"
    }
   },
   "outputs": [],
   "source": [
    "# slice from a list\n",
    "\n",
    "mylist[2:7]   # from index 2 until (not including) index 7"
   ]
  },
  {
   "cell_type": "code",
   "execution_count": null,
   "id": "730fd3f8-325b-4bde-8a35-d9f97eb57675",
   "metadata": {
    "ExecuteTime": {
     "end_time": "2023-12-14T05:56:56.779351+00:00",
     "start_time": "2023-12-14T05:56:56.622666+00:00"
    },
    "collapsed": false,
    "jupyter": {
     "outputs_hidden": false,
     "source_hidden": false
    },
    "noteable": {
     "cell_type": "code",
     "output_collection_id": "06f58a6d-55bc-49b4-b7b3-149cfbcbcdf5"
    }
   },
   "outputs": [],
   "source": [
    "mylist[:5]  # from the start, until (not including) 5"
   ]
  },
  {
   "cell_type": "code",
   "execution_count": null,
   "id": "faaab960-d14b-4a31-9077-d0e30afe2933",
   "metadata": {
    "ExecuteTime": {
     "end_time": "2023-12-14T05:57:07.614018+00:00",
     "start_time": "2023-12-14T05:57:07.457419+00:00"
    },
    "collapsed": false,
    "jupyter": {
     "outputs_hidden": false,
     "source_hidden": false
    },
    "noteable": {
     "cell_type": "code",
     "output_collection_id": "237bd1cc-54f0-4b34-aa80-39ceb9806dbc"
    }
   },
   "outputs": [],
   "source": [
    "mylist[5:]   # from index 5, through the end"
   ]
  },
  {
   "cell_type": "code",
   "execution_count": null,
   "id": "21387ad8-8ea6-4087-bdd5-de2411fb1f68",
   "metadata": {
    "ExecuteTime": {
     "end_time": "2023-12-14T05:57:23.864466+00:00",
     "start_time": "2023-12-14T05:57:23.709255+00:00"
    },
    "collapsed": false,
    "jupyter": {
     "outputs_hidden": false,
     "source_hidden": false
    },
    "noteable": {
     "cell_type": "code",
     "output_collection_id": "b134f0ea-c85f-4d14-8e37-7422918a094d"
    }
   },
   "outputs": [],
   "source": [
    "# iterate over a list with \"for\"\n",
    "\n",
    "for one_item in mylist:\n",
    "    print(one_item)"
   ]
  },
  {
   "cell_type": "code",
   "execution_count": null,
   "id": "26efca4e-3e5e-467d-acfd-dd395ea174ed",
   "metadata": {
    "ExecuteTime": {
     "end_time": "2023-12-14T05:58:45.443184+00:00",
     "start_time": "2023-12-14T05:58:45.288137+00:00"
    },
    "collapsed": false,
    "jupyter": {
     "outputs_hidden": false,
     "source_hidden": false
    },
    "noteable": {
     "cell_type": "code",
     "output_collection_id": "12f03431-d6cb-4d64-a0bf-859e466ffb1c"
    }
   },
   "outputs": [],
   "source": [
    "mylist = ['this', 'is', 'a', 'test']\n",
    "\n",
    "for one_item in mylist:\n",
    "    print(one_item)"
   ]
  },
  {
   "cell_type": "code",
   "execution_count": null,
   "id": "7c310cb4-9fb5-4380-93b6-762a9dcb47c7",
   "metadata": {
    "ExecuteTime": {
     "end_time": "2023-12-14T05:59:05.628391+00:00",
     "start_time": "2023-12-14T05:59:05.472345+00:00"
    },
    "collapsed": false,
    "jupyter": {
     "outputs_hidden": false,
     "source_hidden": false
    },
    "noteable": {
     "cell_type": "code",
     "output_collection_id": "02f7d591-837f-45a7-bdba-08e5da8eb79d"
    }
   },
   "outputs": [],
   "source": [
    "# what if I search in a list?\n",
    "\n",
    "'a' in mylist   # is the string 'a' an element of mylist"
   ]
  },
  {
   "cell_type": "code",
   "execution_count": null,
   "id": "82c90767-5941-4278-9f2c-984e815b526f",
   "metadata": {
    "ExecuteTime": {
     "end_time": "2023-12-14T05:59:15.180653+00:00",
     "start_time": "2023-12-14T05:59:15.024233+00:00"
    },
    "collapsed": false,
    "jupyter": {
     "outputs_hidden": false,
     "source_hidden": false
    },
    "noteable": {
     "cell_type": "code",
     "output_collection_id": "e001a52f-60d8-42b0-ab34-3e49380972da"
    }
   },
   "outputs": [],
   "source": [
    "'e' in mylist  # is the string 'e' an element of mylist? No!"
   ]
  },
  {
   "cell_type": "code",
   "execution_count": null,
   "id": "c7fc23d6-742c-4060-ad4d-8e426c8e5603",
   "metadata": {
    "ExecuteTime": {
     "end_time": "2023-12-14T05:59:52.701937+00:00",
     "start_time": "2023-12-14T05:59:52.545162+00:00"
    },
    "collapsed": false,
    "jupyter": {
     "outputs_hidden": false,
     "source_hidden": false
    },
    "noteable": {
     "cell_type": "code",
     "output_collection_id": "444cd26a-4c79-4bc4-8152-2cd097b9ccc3"
    }
   },
   "outputs": [],
   "source": [
    "'test' in mylist"
   ]
  },
  {
   "cell_type": "code",
   "execution_count": null,
   "id": "a2989f00-4838-4233-9958-a8892d34d470",
   "metadata": {
    "ExecuteTime": {
     "end_time": "2023-12-14T06:00:30.424124+00:00",
     "start_time": "2023-12-14T06:00:30.266429+00:00"
    },
    "collapsed": false,
    "jupyter": {
     "outputs_hidden": false,
     "source_hidden": false
    },
    "noteable": {
     "cell_type": "code",
     "output_collection_id": "fdbc55d3-470a-4149-ae5d-c28b24bfe3d1"
    }
   },
   "outputs": [],
   "source": [
    "mylist = [10, 20, 30]\n",
    "biglist = [mylist, mylist, mylist]\n",
    "\n",
    "len(mylist)"
   ]
  },
  {
   "cell_type": "code",
   "execution_count": null,
   "id": "514b542c-b9ad-466c-9e7b-657ba4a31a63",
   "metadata": {
    "ExecuteTime": {
     "end_time": "2023-12-14T06:00:40.668201+00:00",
     "start_time": "2023-12-14T06:00:40.511828+00:00"
    },
    "collapsed": false,
    "jupyter": {
     "outputs_hidden": false,
     "source_hidden": false
    },
    "noteable": {
     "cell_type": "code",
     "output_collection_id": "3e12587b-6524-452a-b186-219681081973"
    }
   },
   "outputs": [],
   "source": [
    "len(biglist)"
   ]
  },
  {
   "cell_type": "code",
   "execution_count": null,
   "id": "29d879c9-6911-4ce9-bf84-659872275aca",
   "metadata": {
    "ExecuteTime": {
     "end_time": "2023-12-14T06:00:52.745458+00:00",
     "start_time": "2023-12-14T06:00:52.588919+00:00"
    },
    "collapsed": false,
    "jupyter": {
     "outputs_hidden": false,
     "source_hidden": false
    },
    "noteable": {
     "cell_type": "code",
     "output_collection_id": "c5339e69-e4e2-433b-bc47-d7060616e173"
    }
   },
   "outputs": [],
   "source": [
    "biglist"
   ]
  },
  {
   "cell_type": "code",
   "execution_count": null,
   "id": "5f13ac62-1dd5-4e84-8a71-cda5090d1ea2",
   "metadata": {
    "ExecuteTime": {
     "end_time": "2023-12-14T06:01:01.020601+00:00",
     "start_time": "2023-12-14T06:01:00.863177+00:00"
    },
    "collapsed": false,
    "jupyter": {
     "outputs_hidden": false,
     "source_hidden": false
    },
    "noteable": {
     "cell_type": "code",
     "output_collection_id": "58aa7870-7c21-44c8-ae9f-b97d4a66ae70"
    }
   },
   "outputs": [],
   "source": [
    "[10, 20, 30] in biglist"
   ]
  },
  {
   "cell_type": "code",
   "execution_count": null,
   "id": "83e57d5a-7257-42cc-b365-48df29bf8c28",
   "metadata": {
    "ExecuteTime": {
     "end_time": "2023-12-14T06:01:06.175376+00:00",
     "start_time": "2023-12-14T06:01:06.018011+00:00"
    },
    "collapsed": false,
    "jupyter": {
     "outputs_hidden": false,
     "source_hidden": false
    },
    "noteable": {
     "cell_type": "code",
     "output_collection_id": "20bb92b5-888f-4f4d-878b-a487ce022a0a"
    }
   },
   "outputs": [],
   "source": [
    "20 in biglist"
   ]
  },
  {
   "cell_type": "markdown",
   "id": "f4ad04b8-a06e-41a1-96fd-2be832cfb46a",
   "metadata": {},
   "source": [
    "# Exercise: Sum even numbers\n",
    "\n",
    "1. Define `total` to be 0.\n",
    "2. Define a list containing integers -- some even, and some odd.\n",
    "3. Go through the list, and add to `total` only those numbers that are even. Ignore numbers that are odd.\n",
    "4. Print `total`.\n"
   ]
  },
  {
   "cell_type": "code",
   "execution_count": null,
   "id": "41eadf96-9f06-4170-96df-02eb6d447374",
   "metadata": {
    "ExecuteTime": {
     "end_time": "2023-12-14T06:10:44.480400+00:00",
     "start_time": "2023-12-14T06:10:44.324480+00:00"
    },
    "noteable": {
     "output_collection_id": "50bd2727-39ba-4375-9e20-b58ef520099b"
    }
   },
   "outputs": [],
   "source": [
    "numbers = [10, 15, 38, 29, 14, 11, 6, 3]\n",
    "total = 0\n",
    "\n",
    "for one_number in numbers:\n",
    "    if one_number % 2 == 0:   # keep only even numbers\n",
    "        print(one_number)\n",
    "        total += one_number\n",
    "        \n",
    "print(f'total = {total}')        "
   ]
  },
  {
   "cell_type": "code",
   "execution_count": null,
   "id": "2e79448c-56f9-4b2a-b9d8-5a164f2b9502",
   "metadata": {
    "ExecuteTime": {
     "end_time": "2023-12-14T06:11:23.850758+00:00",
     "start_time": "2023-12-14T06:11:23.695544+00:00"
    },
    "collapsed": false,
    "jupyter": {
     "outputs_hidden": false,
     "source_hidden": false
    },
    "noteable": {
     "cell_type": "code",
     "output_collection_id": "7333200f-0567-4a64-919e-29ef00cf9879"
    }
   },
   "outputs": [],
   "source": [
    "mylist = [10, 20, 30]\n",
    "biglist = [mylist, mylist, mylist]"
   ]
  },
  {
   "cell_type": "code",
   "execution_count": null,
   "id": "b9789f0f-2e10-48ea-b105-799bf66a441c",
   "metadata": {
    "ExecuteTime": {
     "end_time": "2023-12-14T06:11:46.794388+00:00",
     "start_time": "2023-12-14T06:11:46.625401+00:00"
    },
    "collapsed": false,
    "jupyter": {
     "outputs_hidden": false,
     "source_hidden": false
    },
    "noteable": {
     "cell_type": "code",
     "output_collection_id": "bb5ca403-521a-42f0-9530-7c120299e3ff"
    }
   },
   "outputs": [],
   "source": [
    "# lists are mutable!\n",
    "\n",
    "# we've seen that strings are immutable -- we cannot change them\n",
    "s = 'abcde'\n",
    "s[0] = '!'   # can I do this?"
   ]
  },
  {
   "cell_type": "code",
   "execution_count": null,
   "id": "0d127039-b79f-4785-ba26-89b5183e43e5",
   "metadata": {
    "ExecuteTime": {
     "end_time": "2023-12-14T06:12:06.609978+00:00",
     "start_time": "2023-12-14T06:12:06.451899+00:00"
    },
    "collapsed": false,
    "jupyter": {
     "outputs_hidden": false,
     "source_hidden": false
    },
    "noteable": {
     "cell_type": "code",
     "output_collection_id": "e98743a0-a915-44a9-8764-b682c6ce9b60"
    }
   },
   "outputs": [],
   "source": [
    "# but it turns out that I *can* modify lists!\n",
    "\n",
    "mylist[0] = '!'\n",
    "mylist"
   ]
  },
  {
   "cell_type": "code",
   "execution_count": null,
   "id": "9af69885-241f-4233-8cd5-7f35c44e85fb",
   "metadata": {
    "ExecuteTime": {
     "end_time": "2023-12-14T06:12:51.480899+00:00",
     "start_time": "2023-12-14T06:12:51.324434+00:00"
    },
    "collapsed": false,
    "jupyter": {
     "outputs_hidden": false,
     "source_hidden": false
    },
    "noteable": {
     "cell_type": "code",
     "output_collection_id": "23050d04-8932-44de-9680-3ddefbb88dec"
    }
   },
   "outputs": [],
   "source": [
    "s = 'abcde'\n",
    "s = s + 'fghij'   # this means: create a new string and assign to s\n",
    "s"
   ]
  },
  {
   "cell_type": "code",
   "execution_count": null,
   "id": "857b3f66-5e24-42de-ae73-97f9f0182b57",
   "metadata": {
    "ExecuteTime": {
     "end_time": "2023-12-14T06:13:57.821083+00:00",
     "start_time": "2023-12-14T06:13:57.663642+00:00"
    },
    "collapsed": false,
    "jupyter": {
     "outputs_hidden": false,
     "source_hidden": false
    },
    "noteable": {
     "cell_type": "code",
     "output_collection_id": "e0cea34f-f388-4280-8b91-cfa0ac5f07f9"
    }
   },
   "outputs": [],
   "source": [
    "mylist"
   ]
  },
  {
   "cell_type": "code",
   "execution_count": null,
   "id": "96971767-837e-4506-b598-2918a2c80653",
   "metadata": {
    "ExecuteTime": {
     "end_time": "2023-12-14T06:14:06.570983+00:00",
     "start_time": "2023-12-14T06:14:06.414266+00:00"
    },
    "collapsed": false,
    "jupyter": {
     "outputs_hidden": false,
     "source_hidden": false
    },
    "noteable": {
     "cell_type": "code",
     "output_collection_id": "768eb58e-61cc-4b38-8c0a-1e0d936e6602"
    }
   },
   "outputs": [],
   "source": [
    "biglist"
   ]
  },
  {
   "cell_type": "markdown",
   "id": "6cb03781-c8a7-42be-b03c-854adc07210f",
   "metadata": {},
   "source": [
    "Python Tutor link to see this visualized:\n",
    "\n",
    "https://pythontutor.com/render.html#code=mylist%20%3D%20%5B10,%2020,%2030%5D%0Abiglist%20%3D%20%5Bmylist,%20mylist,%20mylist%5D%0A%0Amylist%5B0%5D%20%3D%20'!'%0Aprint%28mylist%29%0Aprint%28biglist%29%0A%0Abiglist%5B1%5D%5B2%5D%20%3D%20'%3F'%0Aprint%28mylist%29%0Aprint%28biglist%29&cumulative=false&curInstr=8&heapPrimitives=nevernest&mode=display&origin=opt-frontend.js&py=311&rawInputLstJSON=%5B%5D&textReferences=false\n",
    "\n",
    "Here's the vesion with the copied list:\n",
    "\n",
    "https://pythontutor.com/render.html#code=mylist%20%3D%20%5B10,%2020,%2030%5D%0Abiglist%20%3D%20%5Bmylist%5B%3A%5D,%20mylist%5B%3A%5D,%20mylist%5B%3A%5D%5D%0A%0Amylist%5B0%5D%20%3D%20'!'%0Aprint%28mylist%29%0Aprint%28biglist%29%0A%0Abiglist%5B1%5D%5B2%5D%20%3D%20'%3F'%0Aprint%28mylist%29%0Aprint%28biglist%29&cumulative=false&curInstr=8&heapPrimitives=nevernest&mode=display&origin=opt-frontend.js&py=311&rawInputLstJSON=%5B%5D&textReferences=false"
   ]
  },
  {
   "cell_type": "code",
   "execution_count": null,
   "id": "593912ab-48e6-479f-9e83-f45eaa67fed7",
   "metadata": {
    "ExecuteTime": {
     "end_time": "2023-12-14T06:22:57.181513+00:00",
     "start_time": "2023-12-14T06:22:57.024699+00:00"
    },
    "noteable": {
     "output_collection_id": "8a0b730d-5837-4d30-abe3-08825d845c04"
    }
   },
   "outputs": [],
   "source": [
    "biglist[1][2]"
   ]
  },
  {
   "cell_type": "markdown",
   "id": "334dcda2-3cb4-4d62-82d7-a8e0eda6e44d",
   "metadata": {},
   "source": [
    "# Next up\n",
    "\n",
    "1. Turning strings into lists\n",
    "2. Turning lists back into strings\n",
    "3. Tuples\n",
    "4. Tuple unpacking\n",
    "\n"
   ]
  },
  {
   "cell_type": "code",
   "execution_count": null,
   "id": "79ce8a3b-695a-41c8-8ef2-925c082c9f81",
   "metadata": {
    "ExecuteTime": {
     "end_time": "2023-12-14T06:31:25.304667+00:00",
     "start_time": "2023-12-14T06:31:25.147784+00:00"
    },
    "noteable": {
     "output_collection_id": "ec216ffc-bbb6-4131-9eab-8ccf97843ef3"
    }
   },
   "outputs": [],
   "source": [
    "# how can we convert values in Python?\n",
    "# the basic idea is that if I have a value x, and I want a new value\n",
    "# of type t based on x, I say t(x).  This doesn't change x, but does return\n",
    "# a new value.\n",
    "\n",
    "x = '1234'   # string\n",
    "int(x)       # get an integer based on the string"
   ]
  },
  {
   "cell_type": "code",
   "execution_count": null,
   "id": "61c342f9-e64f-4dea-afbd-6dbbe3448de4",
   "metadata": {
    "ExecuteTime": {
     "end_time": "2023-12-14T06:31:36.419718+00:00",
     "start_time": "2023-12-14T06:31:36.263575+00:00"
    },
    "collapsed": false,
    "jupyter": {
     "outputs_hidden": false,
     "source_hidden": false
    },
    "noteable": {
     "cell_type": "code",
     "output_collection_id": "2c10c065-b08c-4149-9683-b327bb47d937"
    }
   },
   "outputs": [],
   "source": [
    "float(x)     # get a float based on the string"
   ]
  },
  {
   "cell_type": "code",
   "execution_count": null,
   "id": "773d29d7-5367-4e83-9f68-b9bbb0f8c671",
   "metadata": {
    "ExecuteTime": {
     "end_time": "2023-12-14T06:31:49.446870+00:00",
     "start_time": "2023-12-14T06:31:49.289781+00:00"
    },
    "collapsed": false,
    "jupyter": {
     "outputs_hidden": false,
     "source_hidden": false
    },
    "noteable": {
     "cell_type": "code",
     "output_collection_id": "d39edd7b-ee52-4d4a-818f-4e1bc6fdcd79"
    }
   },
   "outputs": [],
   "source": [
    "x = 1234    # integer\n",
    "str(x)      # get a string based on x"
   ]
  },
  {
   "cell_type": "code",
   "execution_count": null,
   "id": "7c8bdf1d-3a6f-4c24-b832-757fde63f6b3",
   "metadata": {
    "ExecuteTime": {
     "end_time": "2023-12-14T06:32:13.280942+00:00",
     "start_time": "2023-12-14T06:32:13.124574+00:00"
    },
    "collapsed": false,
    "jupyter": {
     "outputs_hidden": false,
     "source_hidden": false
    },
    "noteable": {
     "cell_type": "code",
     "output_collection_id": "6fc9e51e-2426-4efe-bb80-42d344ee5c2f"
    }
   },
   "outputs": [],
   "source": [
    "# what about getting a list from a string?\n",
    "x = 'abcde'\n",
    "list(x)   # this returns a new list based on x"
   ]
  },
  {
   "cell_type": "code",
   "execution_count": null,
   "id": "e2ee2d0c-c9e0-4948-96ad-74585f60ccb7",
   "metadata": {
    "ExecuteTime": {
     "end_time": "2023-12-14T06:33:04.148380+00:00",
     "start_time": "2023-12-14T06:33:03.989752+00:00"
    },
    "collapsed": false,
    "jupyter": {
     "outputs_hidden": false,
     "source_hidden": false
    },
    "noteable": {
     "cell_type": "code",
     "output_collection_id": "cc9a84ac-ba3f-4f16-96b0-29477063aaf6"
    }
   },
   "outputs": [],
   "source": [
    "# what if this is my string:\n",
    "\n",
    "x = 'abc:de:fgh:ij'\n",
    "\n",
    "# we can see that this string is broken into fields\n",
    "# the fields are separated by :\n",
    "# if I want a list based on x, I don't want this:\n",
    "\n",
    "list(x)"
   ]
  },
  {
   "cell_type": "code",
   "execution_count": null,
   "id": "0e5b55d3-c12f-4f65-a546-7122b1531361",
   "metadata": {
    "ExecuteTime": {
     "end_time": "2023-12-14T06:33:59.580826+00:00",
     "start_time": "2023-12-14T06:33:59.423912+00:00"
    },
    "collapsed": false,
    "jupyter": {
     "outputs_hidden": false,
     "source_hidden": false
    },
    "noteable": {
     "cell_type": "code",
     "output_collection_id": "6b0629b1-8639-4a52-b63a-92b1f65c5acc"
    }
   },
   "outputs": [],
   "source": [
    "# how can we get what we want?\n",
    "# answer: the str.split method (i.e., the \"split\" method on strings)\n",
    "\n",
    "# str.split takes an argument, the delimiter -- separating fields \n",
    "# we get back a list of strings\n",
    "\n",
    "x.split(':')"
   ]
  },
  {
   "cell_type": "code",
   "execution_count": null,
   "id": "8f2989d8-8118-4750-bf0f-ed61e3050d5a",
   "metadata": {
    "ExecuteTime": {
     "end_time": "2023-12-14T06:34:42.181641+00:00",
     "start_time": "2023-12-14T06:34:42.024058+00:00"
    },
    "collapsed": false,
    "jupyter": {
     "outputs_hidden": false,
     "source_hidden": false
    },
    "noteable": {
     "cell_type": "code",
     "output_collection_id": "45391de2-c4f1-4771-9936-9b9a0842e91a"
    }
   },
   "outputs": [],
   "source": [
    "s = 'this is a bunch of words'\n",
    "s.split(' ')   # use space as a delimiter"
   ]
  },
  {
   "cell_type": "code",
   "execution_count": null,
   "id": "bb2c7ca9-b3df-4d13-86c5-b22dbd0e5ecc",
   "metadata": {
    "ExecuteTime": {
     "end_time": "2023-12-14T06:35:35.890053+00:00",
     "start_time": "2023-12-14T06:35:35.729842+00:00"
    },
    "collapsed": false,
    "jupyter": {
     "outputs_hidden": false,
     "source_hidden": false
    },
    "noteable": {
     "cell_type": "code",
     "output_collection_id": "694b5920-43f0-4cc4-b521-eb7508096884"
    }
   },
   "outputs": [],
   "source": [
    "# what if this is my string:\n",
    "\n",
    "s = 'this  is   a    bunch     of      words'\n",
    "s.split(' ')  # every time you see a ' ', cut"
   ]
  },
  {
   "cell_type": "code",
   "execution_count": null,
   "id": "8836913f-c267-4f9d-879d-de352b81d8fb",
   "metadata": {
    "ExecuteTime": {
     "end_time": "2023-12-14T06:37:20.815622+00:00",
     "start_time": "2023-12-14T06:37:20.659341+00:00"
    },
    "collapsed": false,
    "jupyter": {
     "outputs_hidden": false,
     "source_hidden": false
    },
    "noteable": {
     "cell_type": "code",
     "output_collection_id": "428b0ad2-bf62-47d2-af4e-79352bc5a3a4"
    }
   },
   "outputs": [],
   "source": [
    "# split gives us a great option for working with text\n",
    "# if we pass *NO* argument, then it takes any whitespace (space, \n",
    "# \\n, \\r, \\t, \\v) in any number and any combination, and splits\n",
    "# once based on them\n",
    "\n",
    "s.split()   # no argument -- flexible whitespace is the delimiter"
   ]
  },
  {
   "cell_type": "code",
   "execution_count": null,
   "id": "b6c783e5-0788-4a3f-a25d-9459e324bc65",
   "metadata": {
    "ExecuteTime": {
     "end_time": "2023-12-14T06:38:02.948354+00:00",
     "start_time": "2023-12-14T06:38:02.793297+00:00"
    },
    "collapsed": false,
    "jupyter": {
     "outputs_hidden": false,
     "source_hidden": false
    },
    "noteable": {
     "cell_type": "code",
     "output_collection_id": "942d0efe-55c3-4892-a8d6-f5e4fce876a5"
    }
   },
   "outputs": [],
   "source": [
    "for one_word in s.split():\n",
    "    print(one_word)"
   ]
  },
  {
   "cell_type": "markdown",
   "id": "e0083605-4aad-4dd4-a6e3-b2e9dc6063d7",
   "metadata": {},
   "source": [
    "# Exercise: Sum numbers\n",
    "\n",
    "1. Define `total` to be 0\n",
    "2. Ask the user to enter some integers, separated by spaces.\n",
    "3. Go through each integer\n",
    "    - If it's not an integer, then print a warning, and ignore\n",
    "4. Add each integer to `total`    \n",
    "5. In the end, print `total`\n",
    "\n",
    "Example:\n",
    "\n",
    "    Enter integers: 10 20 abcd 30\n",
    "    abcd is not numeric\n",
    "    total is 60"
   ]
  },
  {
   "cell_type": "code",
   "execution_count": null,
   "id": "a2997769-a053-4660-a623-1281fd530fcf",
   "metadata": {
    "ExecuteTime": {
     "end_time": "2023-12-14T06:50:03.325305+00:00",
     "start_time": "2023-12-14T06:50:01.105071+00:00"
    },
    "noteable": {
     "output_collection_id": "4a0e3f34-2c40-4c5a-910a-a100d20553ad"
    }
   },
   "outputs": [],
   "source": [
    "total = 0\n",
    "s = input('Enter integers: ').strip()\n",
    "\n",
    "for one_item in s.split():\n",
    "    if one_item.isdigit():\n",
    "        total += int(one_item)  \n",
    "    else:\n",
    "        print(f'{one_item} is not numeric')\n",
    "    \n",
    "print(f'Total = {total}')    "
   ]
  },
  {
   "cell_type": "code",
   "execution_count": null,
   "id": "716b9aca-7837-44e8-a8cd-249c5aaf0d14",
   "metadata": {
    "ExecuteTime": {
     "end_time": "2023-12-14T06:51:58.838023+00:00",
     "start_time": "2023-12-14T06:51:56.983988+00:00"
    },
    "collapsed": false,
    "jupyter": {
     "outputs_hidden": false,
     "source_hidden": false
    },
    "noteable": {
     "cell_type": "code",
     "output_collection_id": "199ed969-09e6-401a-87ad-bdca9efa6c6a"
    }
   },
   "outputs": [],
   "source": [
    "# KB\n",
    "\n",
    "total=0\n",
    "l=[]\n",
    "s=input('Enter numbers separated by spaces: ')\n",
    "for i in s.split():   #no argument to str.split means: any number of spaces\n",
    "    if i.isdigit():\n",
    "        total+=int(i)\n",
    "    else:\n",
    "        l.append(i)\n",
    "print(f'Total: {total}' )\n",
    "print(f'{l} is not a number')"
   ]
  },
  {
   "cell_type": "code",
   "execution_count": null,
   "id": "acb41ca8-f4e4-4b42-9e4b-4650b40e877e",
   "metadata": {
    "ExecuteTime": {
     "end_time": "2023-12-14T06:52:37.677076+00:00",
     "start_time": "2023-12-14T06:52:29.264928+00:00"
    },
    "collapsed": false,
    "jupyter": {
     "outputs_hidden": false,
     "source_hidden": false
    },
    "noteable": {
     "cell_type": "code",
     "output_collection_id": "a3306494-03d1-48e9-9599-d9da2421921f"
    }
   },
   "outputs": [],
   "source": [
    "total = 0\n",
    "s = input('Enter integers: ').strip()\n",
    "\n",
    "for one_item in s.split():\n",
    "    if one_item.isdigit():  # True if one_item only contains 0-9 \n",
    "        total += int(one_item)  \n",
    "    else:\n",
    "        print(f'{one_item} is not numeric')\n",
    "    \n",
    "print(f'Total = {total}')    "
   ]
  },
  {
   "cell_type": "code",
   "execution_count": null,
   "id": "4a45f499-9362-410c-9f51-e64d96995c4e",
   "metadata": {
    "ExecuteTime": {
     "end_time": "2023-12-14T06:55:30.279074+00:00",
     "start_time": "2023-12-14T06:55:25.502529+00:00"
    },
    "collapsed": false,
    "jupyter": {
     "outputs_hidden": false,
     "source_hidden": false
    },
    "noteable": {
     "cell_type": "code",
     "output_collection_id": "0e6e2701-ff2e-4fe1-808b-1928d780ae56"
    }
   },
   "outputs": [],
   "source": [
    "# AJ\n",
    "\n",
    "nums=input('Enter list of numbers separated by space: ').strip()\n",
    "numlist=nums.split()\n",
    "total=0\n",
    "i=0\n",
    "\n",
    "for one_number in numlist:\n",
    "    if one_number.isdigit():\n",
    "        total += int(one_number)\n",
    "    else:\n",
    "        print(f'{one_number} is not numeric')\n",
    "        \n",
    "print(f'Total is: {total}')"
   ]
  },
  {
   "cell_type": "code",
   "execution_count": null,
   "id": "cbffaea6-74ad-46a6-94d3-a8ad63f80ae3",
   "metadata": {
    "ExecuteTime": {
     "end_time": "2023-12-14T06:56:17.612393+00:00",
     "start_time": "2023-12-14T06:56:10.760404+00:00"
    },
    "collapsed": false,
    "jupyter": {
     "outputs_hidden": false,
     "source_hidden": false
    },
    "noteable": {
     "cell_type": "code",
     "output_collection_id": "43eb0970-1ee7-43aa-b5d5-5953c4ca6707"
    }
   },
   "outputs": [],
   "source": [
    "# PD\n",
    "\n",
    "total=0\n",
    "inp= input('Enter some nos. seperated by spaces')\n",
    "mylist = inp.split()  # no argument = any number of spaces\n",
    "for eachno in mylist:\n",
    "  if eachno.isdigit():\n",
    "      total+= int(eachno)\n",
    "  else:\n",
    "    print(f'{eachno} is a string')\n",
    "print(total)"
   ]
  },
  {
   "cell_type": "code",
   "execution_count": null,
   "id": "a53a3473-1e9b-4d19-9c6f-0cc1d71db974",
   "metadata": {
    "ExecuteTime": {
     "end_time": "2023-12-14T06:57:01.977569+00:00",
     "start_time": "2023-12-14T06:56:53.222962+00:00"
    },
    "collapsed": false,
    "jupyter": {
     "outputs_hidden": false,
     "source_hidden": false
    },
    "noteable": {
     "cell_type": "code",
     "output_collection_id": "d3d3fc7e-cee9-4783-ba6f-6697b77b96fa"
    }
   },
   "outputs": [],
   "source": [
    "total = 0\n",
    "s = input('Enter integers: ').strip()\n",
    "\n",
    "for one_item in s.split():\n",
    "    if one_item.isdigit():  # True if one_item only contains 0-9 \n",
    "        total += int(one_item)  \n",
    "    else:\n",
    "        print(f'{one_item} is not numeric')\n",
    "    \n",
    "print(f'Total = {total}')    "
   ]
  },
  {
   "cell_type": "code",
   "execution_count": null,
   "id": "9f365d2f-ce98-4b33-963e-27352afd6aa2",
   "metadata": {
    "ExecuteTime": {
     "end_time": "2023-12-14T06:58:03.378426+00:00",
     "start_time": "2023-12-14T06:57:58.505065+00:00"
    },
    "collapsed": false,
    "jupyter": {
     "outputs_hidden": false,
     "source_hidden": false
    },
    "noteable": {
     "cell_type": "code",
     "output_collection_id": "74fc3e26-1eac-42d7-add4-d266e123f1ad"
    }
   },
   "outputs": [],
   "source": [
    "# SJ\n",
    "\n",
    "numbers=input('Enter some integers, separated by spaces')\n",
    "mylist=numbers.split()\n",
    "total = 0\n",
    "for ele in mylist:\n",
    "    if ele.isdigit():\n",
    "        total +=int(ele)\n",
    "    else:\n",
    "        print(f'{ele} is not a Number')\n",
    "print(f'Total= {total}')"
   ]
  },
  {
   "cell_type": "markdown",
   "id": "b9aa3d48-4c2e-4064-ab91-6add75d9f554",
   "metadata": {},
   "source": [
    "# `str.join`\n",
    "\n",
    "Let's say that I have this list of strings:\n",
    "\n"
   ]
  },
  {
   "cell_type": "code",
   "execution_count": null,
   "id": "3b04a0db-dfe8-471a-91cc-99f5e0e4f211",
   "metadata": {
    "ExecuteTime": {
     "end_time": "2023-12-14T06:59:02.038250+00:00",
     "start_time": "2023-12-14T06:59:01.881753+00:00"
    },
    "noteable": {
     "output_collection_id": "1e9b8d4c-d6ee-4df8-84c3-70adfb2c05ab"
    }
   },
   "outputs": [],
   "source": [
    "mylist = ['abcd', 'ef', 'ghij']\n",
    "\n",
    "# I want to get a string based on them\n",
    "\n",
    "str(mylist)   # call str on something to get a string"
   ]
  },
  {
   "cell_type": "code",
   "execution_count": null,
   "id": "b3e4e2f9-4d22-4de6-aa6d-9f6ce1832376",
   "metadata": {
    "ExecuteTime": {
     "end_time": "2023-12-14T07:00:00.388803+00:00",
     "start_time": "2023-12-14T07:00:00.231513+00:00"
    },
    "collapsed": false,
    "jupyter": {
     "outputs_hidden": false,
     "source_hidden": false
    },
    "noteable": {
     "cell_type": "code",
     "output_collection_id": "9b0286bf-0e0c-4e4a-92d5-1d78d33dd0ad"
    }
   },
   "outputs": [],
   "source": [
    "# Really, I just want a single string with the contents of my list\n",
    "# the way we do this is with str.join\n",
    "\n",
    "# this is a very weird method:\n",
    "# - we call the method on the \"glue\" string we want between things\n",
    "# - the argument to join is the list of strings\n",
    "\n",
    "'*'.join(mylist)"
   ]
  },
  {
   "cell_type": "code",
   "execution_count": null,
   "id": "124f8910-4a9c-4620-b914-0fa9d61ec0db",
   "metadata": {
    "ExecuteTime": {
     "end_time": "2023-12-14T07:00:32.401053+00:00",
     "start_time": "2023-12-14T07:00:32.244315+00:00"
    },
    "collapsed": false,
    "jupyter": {
     "outputs_hidden": false,
     "source_hidden": false
    },
    "noteable": {
     "cell_type": "code",
     "output_collection_id": "cf4fa6aa-8215-4040-8b4a-23450e2013eb"
    }
   },
   "outputs": [],
   "source": [
    "# I can use any string I want as the glue\n",
    "\n",
    "' '.join(mylist)"
   ]
  },
  {
   "cell_type": "code",
   "execution_count": null,
   "id": "faedf727-f423-4278-9bff-78147813760c",
   "metadata": {
    "ExecuteTime": {
     "end_time": "2023-12-14T07:00:54.080350+00:00",
     "start_time": "2023-12-14T07:00:53.924859+00:00"
    },
    "collapsed": false,
    "jupyter": {
     "outputs_hidden": false,
     "source_hidden": false
    },
    "noteable": {
     "cell_type": "code",
     "output_collection_id": "4cc11fb4-3dfe-40ff-a162-227af770dbca"
    }
   },
   "outputs": [],
   "source": [
    "# if I use newline...\n",
    "print('\\n'.join(mylist))"
   ]
  },
  {
   "cell_type": "code",
   "execution_count": null,
   "id": "eb1c1288-c1d4-4220-a880-10ca7552b8a5",
   "metadata": {
    "ExecuteTime": {
     "end_time": "2023-12-14T07:02:23.518899+00:00",
     "start_time": "2023-12-14T07:02:23.351283+00:00"
    },
    "collapsed": false,
    "jupyter": {
     "outputs_hidden": false,
     "source_hidden": false
    },
    "noteable": {
     "cell_type": "code",
     "output_collection_id": "0b810db5-0da5-49b2-986d-47246395ff29"
    }
   },
   "outputs": [],
   "source": [
    "# what if I want to join together a list of integers?\n",
    "\n",
    "mylist = [10, 20, 30]\n",
    "\n",
    "'*'.join(mylist)  # the argument to join *must* be a list of strings"
   ]
  },
  {
   "cell_type": "code",
   "execution_count": null,
   "id": "f66c9aea-805c-49ef-818c-ed282b8ab803",
   "metadata": {
    "ExecuteTime": {
     "end_time": "2023-12-14T07:03:40.982601+00:00",
     "start_time": "2023-12-14T07:03:40.825460+00:00"
    },
    "collapsed": false,
    "jupyter": {
     "outputs_hidden": false,
     "source_hidden": false
    },
    "noteable": {
     "cell_type": "code",
     "output_collection_id": "2a666f1e-28d5-4183-9f13-8bcd406a6547"
    }
   },
   "outputs": [],
   "source": [
    "# did I show you how to add to a list?\n",
    "# you use the \"append\" method\n",
    "\n",
    "mylist = [10, 20, 30]\n",
    "mylist.append(40)\n",
    "mylist"
   ]
  },
  {
   "cell_type": "code",
   "execution_count": null,
   "id": "c89f7830-56ae-48e5-82e7-a258409cbea1",
   "metadata": {
    "ExecuteTime": {
     "end_time": "2023-12-14T07:03:48.181471+00:00",
     "start_time": "2023-12-14T07:03:48.025064+00:00"
    },
    "collapsed": false,
    "jupyter": {
     "outputs_hidden": false,
     "source_hidden": false
    },
    "noteable": {
     "cell_type": "code",
     "output_collection_id": "40a50dcb-9464-443e-8ab5-9c74967ceb3a"
    }
   },
   "outputs": [],
   "source": [
    "mylist.append('hello')\n",
    "mylist"
   ]
  },
  {
   "cell_type": "code",
   "execution_count": null,
   "id": "91d8d539-ea04-4a20-874d-32363000b8d7",
   "metadata": {
    "ExecuteTime": {
     "end_time": "2023-12-14T07:05:06.209042+00:00",
     "start_time": "2023-12-14T07:04:51.655545+00:00"
    },
    "collapsed": false,
    "jupyter": {
     "outputs_hidden": false,
     "source_hidden": false
    },
    "noteable": {
     "cell_type": "code",
     "output_collection_id": "02c7c0b1-205c-4c0a-9b36-d71a7e573780"
    }
   },
   "outputs": [],
   "source": [
    "# what if I do this:\n",
    "\n",
    "all_words = []\n",
    "while True:\n",
    "    word = input('Enter a word: ').strip()\n",
    "    \n",
    "    if word == '':\n",
    "        break\n",
    "        \n",
    "    all_words.append(word)\n",
    "    print(f'all_words = {all_words}')\n",
    "    \n",
    "print(' '.join(all_words))    "
   ]
  },
  {
   "cell_type": "code",
   "execution_count": null,
   "id": "104adffe-d917-4259-a36f-ba97e2660d85",
   "metadata": {
    "ExecuteTime": {
     "end_time": "2023-12-14T07:05:42.779846+00:00",
     "start_time": "2023-12-14T07:05:42.623493+00:00"
    },
    "collapsed": false,
    "jupyter": {
     "outputs_hidden": false,
     "source_hidden": false
    },
    "noteable": {
     "cell_type": "code",
     "output_collection_id": "58603f35-36b2-4a62-af6d-16d0365ff416"
    }
   },
   "outputs": [],
   "source": [
    "# the easiest and most common way to remove from a list is with \"pop\"\n",
    "mylist.pop()  # removes + returns the final element"
   ]
  },
  {
   "cell_type": "code",
   "execution_count": null,
   "id": "8075882a-3a26-46b4-82ef-269984d925a6",
   "metadata": {
    "ExecuteTime": {
     "end_time": "2023-12-14T07:05:55.228299+00:00",
     "start_time": "2023-12-14T07:05:55.071764+00:00"
    },
    "collapsed": false,
    "jupyter": {
     "outputs_hidden": false,
     "source_hidden": false
    },
    "noteable": {
     "cell_type": "code",
     "output_collection_id": "b3411df0-6af8-4b11-a455-dcc9792b87e6"
    }
   },
   "outputs": [],
   "source": [
    "# you can also specify an index with pop\n",
    "mylist.pop(2)"
   ]
  },
  {
   "cell_type": "code",
   "execution_count": null,
   "id": "379ddf92-f21f-48f7-b8ae-bcac4576a812",
   "metadata": {
    "ExecuteTime": {
     "end_time": "2023-12-14T07:06:24.082978+00:00",
     "start_time": "2023-12-14T07:06:23.924914+00:00"
    },
    "collapsed": false,
    "jupyter": {
     "outputs_hidden": false,
     "source_hidden": false
    },
    "noteable": {
     "cell_type": "code",
     "output_collection_id": "c4a9868d-89ba-4af3-9794-b72b1f4744f7"
    }
   },
   "outputs": [],
   "source": [
    "# if I run the strip method on a string, it returns\n",
    "# a new string without any whitespace at the front or back\n",
    "\n",
    "s = '     a     b     c       '\n",
    "s.strip()"
   ]
  },
  {
   "cell_type": "code",
   "execution_count": null,
   "id": "98605fd1-bfa8-4eb8-a031-4119d59511dc",
   "metadata": {
    "ExecuteTime": {
     "end_time": "2023-12-14T07:07:04.978331+00:00",
     "start_time": "2023-12-14T07:07:04.821571+00:00"
    },
    "collapsed": false,
    "jupyter": {
     "outputs_hidden": false,
     "source_hidden": false
    },
    "noteable": {
     "cell_type": "code",
     "output_collection_id": "9e2d0997-92fa-44da-ae7a-da4a2a95be60"
    }
   },
   "outputs": [],
   "source": [
    "mylist"
   ]
  },
  {
   "cell_type": "code",
   "execution_count": null,
   "id": "3e1b36d8-b59e-43f9-becb-0484392e6cb5",
   "metadata": {
    "ExecuteTime": {
     "end_time": "2023-12-14T07:07:12.381332+00:00",
     "start_time": "2023-12-14T07:07:12.224321+00:00"
    },
    "collapsed": false,
    "jupyter": {
     "outputs_hidden": false,
     "source_hidden": false
    },
    "noteable": {
     "cell_type": "code",
     "output_collection_id": "cfadc496-4b35-4afb-b83c-eda18f551eea"
    }
   },
   "outputs": [],
   "source": [
    "mylist.insert(2, 'hello')\n",
    "mylist"
   ]
  },
  {
   "cell_type": "markdown",
   "id": "09768cc4-1a0a-4c02-ab35-0cdf750531f1",
   "metadata": {},
   "source": [
    "# Exercise: Pig Latin sentence\n",
    "\n",
    "You might remember that last week, we did a Pig Latin translator, taking a word and turning it into Pig Latin. (That means: If the first letter is a vowel, add \"way\".  Otherwise, move the first letter to the end, and add \"ay\".)\n",
    "\n",
    "Today, I want you to translate an entire sentence.\n",
    "\n",
    "1. Ask the user to enter a sentence. (No punctuation, no capital letters.)\n",
    "2. Go through each word in the sentence, and translate it into Pig Latin.\n",
    "3. Print the translated sentence on a single line.\n",
    "\n",
    "Example:\n",
    "\n",
    "    Enter a sentence: this is a test\n",
    "    histay isway away esttay"
   ]
  },
  {
   "cell_type": "code",
   "execution_count": null,
   "id": "b718c224-452e-44fb-b4a5-d9a7d91f5a6b",
   "metadata": {
    "ExecuteTime": {
     "end_time": "2023-12-14T07:20:39.010646+00:00",
     "start_time": "2023-12-14T07:20:37.300785+00:00"
    },
    "noteable": {
     "cell_type": "python",
     "output_collection_id": "f7ded8cb-074e-41d4-9a0f-cac0793de8d1"
    }
   },
   "outputs": [],
   "source": [
    "sentence = input('Enter a sentence: ')\n",
    "output = [] \n",
    "\n",
    "for word in sentence.split():\n",
    "    if word[0] in 'aeiou':\n",
    "        output.append(word + 'way')\n",
    "    else:\n",
    "        output.append(word[1:] + word[0] + 'ay')\n",
    "        \n",
    "print(' '.join(output))"
   ]
  },
  {
   "cell_type": "markdown",
   "id": "e2a01030-1607-4d4f-9df4-ae384bbefe69",
   "metadata": {},
   "source": [
    "Link to Python Tutor visualization of what we did:\n",
    "\n",
    "https://pythontutor.com/render.html#code=sentence%20%3D%20input%28'Enter%20a%20sentence%3A%20'%29%0Aoutput%20%3D%20%5B%5D%20%0A%0Aall_words%20%3D%20sentence.split%28%29%0A%0Afor%20word%20in%20all_words%3A%0A%20%20%20%20if%20word%5B0%5D%20in%20'aeiou'%3A%0A%20%20%20%20%20%20%20%20output.append%28word%20%2B%20'way'%29%0A%20%20%20%20else%3A%0A%20%20%20%20%20%20%20%20output.append%28word%5B1%3A%5D%20%2B%20word%5B0%5D%20%2B%20'ay'%29%0A%20%20%20%20%20%20%20%20%0Aprint%28'%20'.join%28output%29%29&cumulative=false&curInstr=17&heapPrimitives=nevernest&mode=display&origin=opt-frontend.js&py=311&rawInputLstJSON=%5B%22this%20is%20a%20test%22%5D&textReferences=false"
   ]
  },
  {
   "cell_type": "markdown",
   "id": "a7f3110c-735f-4d64-8cca-8004727aa7f8",
   "metadata": {},
   "source": [
    "# Next time\n",
    "\n",
    "1. Tuples and unpacking\n",
    "2. Dictionaries\n",
    "3. Files\n"
   ]
  },
  {
   "cell_type": "code",
   "execution_count": null,
   "id": "7698171a-be0d-4345-8725-8f57dbbf71c8",
   "metadata": {
    "noteable": {
     "cell_type": "python"
    }
   },
   "outputs": [],
   "source": [
    "sentence = input ('Enter a sentence: ').strip().split()"
   ]
  }
 ],
 "metadata": {
  "kernel_info": {
   "name": "python3.9-noteable"
  },
  "kernelspec": {
   "display_name": "Python 3 (ipykernel)",
   "language": "python",
   "name": "python3"
  },
  "language_info": {
   "codemirror_mode": {
    "name": "ipython",
    "version": 3
   },
   "file_extension": ".py",
   "mimetype": "text/x-python",
   "name": "python",
   "nbconvert_exporter": "python",
   "pygments_lexer": "ipython3",
   "version": "3.11.6"
  },
  "selected_hardware_size": "small"
 },
 "nbformat": 4,
 "nbformat_minor": 5
}
