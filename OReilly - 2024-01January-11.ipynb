{
 "cells": [
  {
   "cell_type": "markdown",
   "id": "2bd70f2e-e54e-4a90-bbbd-ad0b002346fa",
   "metadata": {},
   "source": [
    "# Agenda: Modules and packages\n",
    "\n",
    "0. Q&A\n",
    "1. Challenge\n",
    "2. Modules -- what are they?\n",
    "3. Different forms of `import`\n",
    "4. Developing our own module\n",
    "5. Python standard library\n",
    "6. Modules vs. packages\n",
    "7. PyPI and `pip`\n",
    "8. Q&A - AMA -- what's next?"
   ]
  },
  {
   "cell_type": "code",
   "execution_count": null,
   "id": "831eb3c4-0d55-43a7-ac60-949a1c967fd4",
   "metadata": {},
   "outputs": [],
   "source": [
    "A "
   ]
  },
  {
   "cell_type": "code",
   "execution_count": null,
   "id": "0d903a85-fb83-4b51-85f5-12b5b39dd964",
   "metadata": {},
   "outputs": [],
   "source": []
  }
 ],
 "metadata": {
  "kernelspec": {
   "display_name": "Python 3 (ipykernel)",
   "language": "python",
   "name": "python3"
  },
  "language_info": {
   "codemirror_mode": {
    "name": "ipython",
    "version": 3
   },
   "file_extension": ".py",
   "mimetype": "text/x-python",
   "name": "python",
   "nbconvert_exporter": "python",
   "pygments_lexer": "ipython3",
   "version": "3.11.7"
  }
 },
 "nbformat": 4,
 "nbformat_minor": 5
}
