{
 "cells": [
  {
   "cell_type": "markdown",
   "id": "2bd70f2e-e54e-4a90-bbbd-ad0b002346fa",
   "metadata": {},
   "source": [
    "# Agenda: Modules and packages\n",
    "\n",
    "0. Q&A\n",
    "1. Challenge\n",
    "2. Modules -- what are they?\n",
    "3. Different forms of `import`\n",
    "4. Developing our own module\n",
    "5. Python standard library\n",
    "6. Modules vs. packages\n",
    "7. PyPI and `pip`\n",
    "8. Q&A - AMA -- what's next?"
   ]
  },
  {
   "cell_type": "code",
   "execution_count": 2,
   "id": "831eb3c4-0d55-43a7-ac60-949a1c967fd4",
   "metadata": {},
   "outputs": [
    {
     "name": "stdout",
     "output_type": "stream",
     "text": [
      "{'67.218.116.165': 2, '66.249.71.65': 3, '65.55.106.183': 2, '66.249.65.12': 32, '65.55.106.131': 2, '65.55.106.186': 2, '74.52.245.146': 2, '66.249.65.43': 3, '65.55.207.25': 2, '65.55.207.94': 2, '65.55.207.71': 1, '98.242.170.241': 1, '66.249.65.38': 100, '65.55.207.126': 2, '82.34.9.20': 2, '65.55.106.155': 2, '65.55.207.77': 2, '208.80.193.28': 1, '89.248.172.58': 22, '67.195.112.35': 16, '65.55.207.50': 3, '65.55.215.75': 2}\n"
     ]
    }
   ],
   "source": [
    "def count_ips(filename):\n",
    "    output = {}\n",
    "\n",
    "    for one_line in open(filename):\n",
    "        ip_address = one_line.split()[0]\n",
    "\n",
    "        if ip_address in output:\n",
    "            output[ip_address] += 1  # seen before? add 1\n",
    "        else:\n",
    "            output[ip_address] = 1   # first time? set to 1\n",
    "\n",
    "    return output\n",
    "\n",
    "print(count_ips('logfile.txt'))"
   ]
  },
  {
   "cell_type": "code",
   "execution_count": 4,
   "id": "0d903a85-fb83-4b51-85f5-12b5b39dd964",
   "metadata": {},
   "outputs": [],
   "source": [
    "for one_line in open('logfile.txt'):\n",
    "    pass   # do nothing"
   ]
  },
  {
   "cell_type": "code",
   "execution_count": 5,
   "id": "7d1767c2-2e16-4611-b77c-2c86ac74d790",
   "metadata": {},
   "outputs": [
    {
     "data": {
      "text/plain": [
       "'66.249.65.38 - - [31/Jan/2010:21:08:00 +0200] \"GET /browse/one_node/1892 HTTP/1.1\" 200 1296 \"-\" \"Mozilla/5.0 (compatible; Googlebot/2.1; +http://www.google.com/bot.html)\"\\n'"
      ]
     },
     "execution_count": 5,
     "metadata": {},
     "output_type": "execute_result"
    }
   ],
   "source": [
    "one_line"
   ]
  },
  {
   "cell_type": "code",
   "execution_count": 6,
   "id": "376e23f0-ec43-4219-87b5-79e5f80362fe",
   "metadata": {},
   "outputs": [
    {
     "data": {
      "text/plain": [
       "'66.249.65.38'"
      ]
     },
     "execution_count": 6,
     "metadata": {},
     "output_type": "execute_result"
    }
   ],
   "source": [
    "one_line[:12]"
   ]
  },
  {
   "cell_type": "code",
   "execution_count": 7,
   "id": "e84a26d1-a956-4a01-99be-ef35cab222bb",
   "metadata": {},
   "outputs": [
    {
     "data": {
      "text/plain": [
       "'-'"
      ]
     },
     "execution_count": 7,
     "metadata": {},
     "output_type": "execute_result"
    }
   ],
   "source": [
    "one_line[13:14]"
   ]
  },
  {
   "cell_type": "code",
   "execution_count": null,
   "id": "19df3a59-7223-4c6f-a742-278a052bad8c",
   "metadata": {},
   "outputs": [],
   "source": []
  }
 ],
 "metadata": {
  "kernelspec": {
   "display_name": "Python 3 (ipykernel)",
   "language": "python",
   "name": "python3"
  },
  "language_info": {
   "codemirror_mode": {
    "name": "ipython",
    "version": 3
   },
   "file_extension": ".py",
   "mimetype": "text/x-python",
   "name": "python",
   "nbconvert_exporter": "python",
   "pygments_lexer": "ipython3",
   "version": "3.11.7"
  }
 },
 "nbformat": 4,
 "nbformat_minor": 5
}
