{
 "cells": [
  {
   "cell_type": "markdown",
   "id": "2bd70f2e-e54e-4a90-bbbd-ad0b002346fa",
   "metadata": {},
   "source": [
    "# Agenda: Modules and packages\n",
    "\n",
    "0. Q&A\n",
    "1. Challenge\n",
    "2. Modules -- what are they?\n",
    "3. Different forms of `import`\n",
    "4. Developing our own module\n",
    "5. Python standard library\n",
    "6. Modules vs. packages\n",
    "7. PyPI and `pip`\n",
    "8. Q&A - AMA -- what's next?"
   ]
  },
  {
   "cell_type": "code",
   "execution_count": 2,
   "id": "831eb3c4-0d55-43a7-ac60-949a1c967fd4",
   "metadata": {},
   "outputs": [
    {
     "name": "stdout",
     "output_type": "stream",
     "text": [
      "{'67.218.116.165': 2, '66.249.71.65': 3, '65.55.106.183': 2, '66.249.65.12': 32, '65.55.106.131': 2, '65.55.106.186': 2, '74.52.245.146': 2, '66.249.65.43': 3, '65.55.207.25': 2, '65.55.207.94': 2, '65.55.207.71': 1, '98.242.170.241': 1, '66.249.65.38': 100, '65.55.207.126': 2, '82.34.9.20': 2, '65.55.106.155': 2, '65.55.207.77': 2, '208.80.193.28': 1, '89.248.172.58': 22, '67.195.112.35': 16, '65.55.207.50': 3, '65.55.215.75': 2}\n"
     ]
    }
   ],
   "source": [
    "def count_ips(filename):\n",
    "    output = {}\n",
    "\n",
    "    for one_line in open(filename):\n",
    "        ip_address = one_line.split()[0]\n",
    "\n",
    "        if ip_address in output:\n",
    "            output[ip_address] += 1  # seen before? add 1\n",
    "        else:\n",
    "            output[ip_address] = 1   # first time? set to 1\n",
    "\n",
    "    return output\n",
    "\n",
    "print(count_ips('logfile.txt'))"
   ]
  },
  {
   "cell_type": "code",
   "execution_count": 4,
   "id": "0d903a85-fb83-4b51-85f5-12b5b39dd964",
   "metadata": {},
   "outputs": [],
   "source": [
    "for one_line in open('logfile.txt'):\n",
    "    pass   # do nothing"
   ]
  },
  {
   "cell_type": "code",
   "execution_count": 5,
   "id": "7d1767c2-2e16-4611-b77c-2c86ac74d790",
   "metadata": {},
   "outputs": [
    {
     "data": {
      "text/plain": [
       "'66.249.65.38 - - [31/Jan/2010:21:08:00 +0200] \"GET /browse/one_node/1892 HTTP/1.1\" 200 1296 \"-\" \"Mozilla/5.0 (compatible; Googlebot/2.1; +http://www.google.com/bot.html)\"\\n'"
      ]
     },
     "execution_count": 5,
     "metadata": {},
     "output_type": "execute_result"
    }
   ],
   "source": [
    "one_line"
   ]
  },
  {
   "cell_type": "code",
   "execution_count": 6,
   "id": "376e23f0-ec43-4219-87b5-79e5f80362fe",
   "metadata": {},
   "outputs": [
    {
     "data": {
      "text/plain": [
       "'66.249.65.38'"
      ]
     },
     "execution_count": 6,
     "metadata": {},
     "output_type": "execute_result"
    }
   ],
   "source": [
    "one_line[:12]"
   ]
  },
  {
   "cell_type": "code",
   "execution_count": 7,
   "id": "e84a26d1-a956-4a01-99be-ef35cab222bb",
   "metadata": {},
   "outputs": [
    {
     "data": {
      "text/plain": [
       "'-'"
      ]
     },
     "execution_count": 7,
     "metadata": {},
     "output_type": "execute_result"
    }
   ],
   "source": [
    "one_line[13:14]"
   ]
  },
  {
   "cell_type": "markdown",
   "id": "abebae0c-cfc2-49d3-9b52-057a2660c8de",
   "metadata": {},
   "source": [
    "# DRY -- the \"don't repeat yourself\" rule\n",
    "\n",
    "1. If we have several lines in a row that repeat themselves, we can \"DRY up\" that code with a loop.\n",
    "2. If we have code that repeats in several places across a program, we can \"DRY up\" that code with a function.\n",
    "3. If we have code that repeats across several different programs, we can \"DRY up\" the code with a *library*.\n",
    "\n",
    "Every programming language supports libraries. This allows us to write functions and data once, and then access those functions/data from numerous programs:\n",
    "\n",
    "- Dictionary with the months of the year (names + numbers)\n",
    "- Function for logging into a system with a username and password\n",
    "- Function that retrieves the latest stock price, given a symbol\n",
    "- Function that reads from a file and returns the longest word\n",
    "\n",
    "In Python, we call our libraries \"modules.\" A module contains Python data + functions. But it does more than that. It's also a *namespace*, meaning that it walls off its variables from other variables you might define.\n",
    "\n",
    "Imagine that you write a program with a function `hello`, and then you load a module that also defines a function `hello`. You don't want to have a \"namespace collision,\" where it's unclear which `hello` is now defined. By putting any definitions in a namespace, you avoid this sort of problem. You can think of namespaces as last names, or surnames, for your variables. \n",
    "\n"
   ]
  },
  {
   "cell_type": "markdown",
   "id": "6a962563-770b-4f5c-b6e0-9fba728d2f0d",
   "metadata": {},
   "source": [
    "# How do we use modules?\n",
    "\n",
    "In Python, we load modules using the `import` statement. It looks a bit weird, but it's one of the most common things to put in a Python program.\n",
    "\n",
    "Some things to consider about `import`:\n",
    "\n",
    "- It's not a function. Don't use parentheses with it. You write `import`, a space, and then the module you want to import.\n",
    "- In other languages, you often pass the name of the library you want to load as a string, in quotes. Not so in Python! Here, the name of the module you give is actually the variable name you want to define."
   ]
  },
  {
   "cell_type": "code",
   "execution_count": 8,
   "id": "28388d6e-3ff3-49ec-9557-0d9c94b6d53e",
   "metadata": {},
   "outputs": [
    {
     "data": {
      "text/plain": [
       "module"
      ]
     },
     "execution_count": 8,
     "metadata": {},
     "output_type": "execute_result"
    }
   ],
   "source": [
    "# let's say I want a random integer\n",
    "# I can use the \"random\" module for that, and the \"randint\" function in that module\n",
    "\n",
    "import random\n",
    "\n",
    "# after this line runs, \"random\" is defined as a variable\n",
    "\n",
    "type(random)"
   ]
  },
  {
   "cell_type": "code",
   "execution_count": 9,
   "id": "4e64a87a-b15c-497a-830a-7b0f2275b876",
   "metadata": {},
   "outputs": [
    {
     "data": {
      "text/plain": [
       "41"
      ]
     },
     "execution_count": 9,
     "metadata": {},
     "output_type": "execute_result"
    }
   ],
   "source": [
    "# if I want to use a function defined in the random module, I say random.FUNCNAME()\n",
    "\n",
    "random.randint(0, 100)   # this returns a single random int in the range 0-100"
   ]
  },
  {
   "cell_type": "markdown",
   "id": "88b4e747-f3bc-440a-b591-f2c4c83ff7f1",
   "metadata": {},
   "source": [
    "There are a bunch of different forms of \"import\" that we can use:\n",
    "\n",
    "1. The standard form, where we say `import MODULENAME`"
   ]
  },
  {
   "cell_type": "code",
   "execution_count": 11,
   "id": "e17b997a-a2c4-4507-aa10-1e51bb3dd2cb",
   "metadata": {},
   "outputs": [
    {
     "ename": "NameError",
     "evalue": "name 'randint' is not defined",
     "output_type": "error",
     "traceback": [
      "\u001b[1;31m---------------------------------------------------------------------------\u001b[0m",
      "\u001b[1;31mNameError\u001b[0m                                 Traceback (most recent call last)",
      "Cell \u001b[1;32mIn[11], line 4\u001b[0m\n\u001b[0;32m      1\u001b[0m \u001b[38;5;66;03m# what happens if I tire of saying random.randint? What if I just want to say randint?\u001b[39;00m\n\u001b[0;32m      2\u001b[0m \u001b[38;5;66;03m# right now, randint doesn't exist as a variable. It exists as an attribute on the random module we loaded\u001b[39;00m\n\u001b[1;32m----> 4\u001b[0m \u001b[43mrandint\u001b[49m(\u001b[38;5;241m0\u001b[39m, \u001b[38;5;241m100\u001b[39m)\n",
      "\u001b[1;31mNameError\u001b[0m: name 'randint' is not defined"
     ]
    }
   ],
   "source": [
    "# what happens if I tire of saying random.randint? What if I just want to say randint?\n",
    "# right now, randint doesn't exist as a variable. It exists as an attribute on the random module we loaded\n",
    "\n",
    "randint(0, 100)"
   ]
  },
  {
   "cell_type": "code",
   "execution_count": null,
   "id": "bf6b31e6-85e5-4329-9e2a-dd820f038a7c",
   "metadata": {},
   "outputs": [],
   "source": [
    "# there are many times that we might be using a function so often that we tire of saying both\n",
    "# the module name and the function name. In such cases, we want the function to be loaded as a variable,\n",
    "# rather than the module\n",
    "\n",
    "# for that, we have this syntax:\n",
    "\n",
    "from random import randint\n",
    "\n",
    "# the above still loads the entire random module into memory\n",
    "# the above does *not* define random as a variable\n",
    "# but it *does* defin"
   ]
  }
 ],
 "metadata": {
  "kernelspec": {
   "display_name": "Python 3 (ipykernel)",
   "language": "python",
   "name": "python3"
  },
  "language_info": {
   "codemirror_mode": {
    "name": "ipython",
    "version": 3
   },
   "file_extension": ".py",
   "mimetype": "text/x-python",
   "name": "python",
   "nbconvert_exporter": "python",
   "pygments_lexer": "ipython3",
   "version": "3.11.7"
  }
 },
 "nbformat": 4,
 "nbformat_minor": 5
}
