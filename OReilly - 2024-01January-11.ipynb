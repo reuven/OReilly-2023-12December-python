{
 "cells": [
  {
   "cell_type": "markdown",
   "id": "2bd70f2e-e54e-4a90-bbbd-ad0b002346fa",
   "metadata": {},
   "source": [
    "# Agenda: Modules and packages"
   ]
  },
  {
   "cell_type": "code",
   "execution_count": null,
   "id": "831eb3c4-0d55-43a7-ac60-949a1c967fd4",
   "metadata": {},
   "outputs": [],
   "source": [
    "A "
   ]
  }
 ],
 "metadata": {
  "kernelspec": {
   "display_name": "Python 3 (ipykernel)",
   "language": "python",
   "name": "python3"
  },
  "language_info": {
   "codemirror_mode": {
    "name": "ipython",
    "version": 3
   },
   "file_extension": ".py",
   "mimetype": "text/x-python",
   "name": "python",
   "nbconvert_exporter": "python",
   "pygments_lexer": "ipython3",
   "version": "3.11.7"
  }
 },
 "nbformat": 4,
 "nbformat_minor": 5
}
