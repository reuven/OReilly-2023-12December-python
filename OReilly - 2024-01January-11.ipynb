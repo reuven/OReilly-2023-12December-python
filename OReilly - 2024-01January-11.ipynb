{
 "cells": [
  {
   "cell_type": "markdown",
   "id": "2bd70f2e-e54e-4a90-bbbd-ad0b002346fa",
   "metadata": {},
   "source": [
    "# Agenda: Modules and packages\n",
    "\n",
    "0. Q&A\n",
    "1. Challenge\n",
    "2. Modules -- what are they?\n",
    "3. Different forms of `import`\n",
    "4. Developing our own module\n",
    "5. Python standard library\n",
    "6. Modules vs. packages\n",
    "7. PyPI and `pip`\n",
    "8. Q&A - AMA -- what's next?"
   ]
  },
  {
   "cell_type": "code",
   "execution_count": 2,
   "id": "831eb3c4-0d55-43a7-ac60-949a1c967fd4",
   "metadata": {},
   "outputs": [
    {
     "name": "stdout",
     "output_type": "stream",
     "text": [
      "{'67.218.116.165': 2, '66.249.71.65': 3, '65.55.106.183': 2, '66.249.65.12': 32, '65.55.106.131': 2, '65.55.106.186': 2, '74.52.245.146': 2, '66.249.65.43': 3, '65.55.207.25': 2, '65.55.207.94': 2, '65.55.207.71': 1, '98.242.170.241': 1, '66.249.65.38': 100, '65.55.207.126': 2, '82.34.9.20': 2, '65.55.106.155': 2, '65.55.207.77': 2, '208.80.193.28': 1, '89.248.172.58': 22, '67.195.112.35': 16, '65.55.207.50': 3, '65.55.215.75': 2}\n"
     ]
    }
   ],
   "source": [
    "def count_ips(filename):\n",
    "    output = {}\n",
    "\n",
    "    for one_line in open(filename):\n",
    "        ip_address = one_line.split()[0]\n",
    "\n",
    "        if ip_address in output:\n",
    "            output[ip_address] += 1  # seen before? add 1\n",
    "        else:\n",
    "            output[ip_address] = 1   # first time? set to 1\n",
    "\n",
    "    return output\n",
    "\n",
    "print(count_ips('logfile.txt'))"
   ]
  },
  {
   "cell_type": "code",
   "execution_count": 4,
   "id": "0d903a85-fb83-4b51-85f5-12b5b39dd964",
   "metadata": {},
   "outputs": [],
   "source": [
    "for one_line in open('logfile.txt'):\n",
    "    pass   # do nothing"
   ]
  },
  {
   "cell_type": "code",
   "execution_count": 5,
   "id": "7d1767c2-2e16-4611-b77c-2c86ac74d790",
   "metadata": {},
   "outputs": [
    {
     "data": {
      "text/plain": [
       "'66.249.65.38 - - [31/Jan/2010:21:08:00 +0200] \"GET /browse/one_node/1892 HTTP/1.1\" 200 1296 \"-\" \"Mozilla/5.0 (compatible; Googlebot/2.1; +http://www.google.com/bot.html)\"\\n'"
      ]
     },
     "execution_count": 5,
     "metadata": {},
     "output_type": "execute_result"
    }
   ],
   "source": [
    "one_line"
   ]
  },
  {
   "cell_type": "code",
   "execution_count": 6,
   "id": "376e23f0-ec43-4219-87b5-79e5f80362fe",
   "metadata": {},
   "outputs": [
    {
     "data": {
      "text/plain": [
       "'66.249.65.38'"
      ]
     },
     "execution_count": 6,
     "metadata": {},
     "output_type": "execute_result"
    }
   ],
   "source": [
    "one_line[:12]"
   ]
  },
  {
   "cell_type": "code",
   "execution_count": 7,
   "id": "e84a26d1-a956-4a01-99be-ef35cab222bb",
   "metadata": {},
   "outputs": [
    {
     "data": {
      "text/plain": [
       "'-'"
      ]
     },
     "execution_count": 7,
     "metadata": {},
     "output_type": "execute_result"
    }
   ],
   "source": [
    "one_line[13:14]"
   ]
  },
  {
   "cell_type": "markdown",
   "id": "abebae0c-cfc2-49d3-9b52-057a2660c8de",
   "metadata": {},
   "source": [
    "# DRY -- the \"don't repeat yourself\" rule\n",
    "\n",
    "1. If we have several lines in a row that repeat themselves, we can \"DRY up\" that code with a loop.\n",
    "2. If we have code that repeats in several places across a program, we can \"DRY up\" that code with a function.\n",
    "3. If we have code that repeats across several different programs, we can \"DRY up\" the code with a *library*.\n",
    "\n",
    "Every programming language supports libraries. This allows us to write functions and data once, and then access those functions/data from numerous programs:\n",
    "\n",
    "- Dictionary with the months of the year (names + numbers)\n",
    "- Function for logging into a system with a username and password\n",
    "- Function that retrieves the latest stock price, given a symbol\n",
    "- Function that reads from a file and returns the longest word\n",
    "\n",
    "In Python, we call our libraries \"modules.\" A module contains Python data + functions. But it does more than that. It's also a *namespace*, meaning that it walls off its variables from other variables you might define.\n",
    "\n",
    "Imagine that you write a program with a function `hello`, and then you load a module that also defines a function `hello`. You don't want to have a \"namespace collision,\" where it's unclear which `hello` is now defined. By putting any definitions in a namespace, you avoid this sort of problem. You can think of namespaces as last names, or surnames, for your variables. \n",
    "\n"
   ]
  },
  {
   "cell_type": "markdown",
   "id": "6a962563-770b-4f5c-b6e0-9fba728d2f0d",
   "metadata": {},
   "source": [
    "# How do we use modules?\n",
    "\n",
    "In Python, we load modules using the `import` statement. It looks a bit weird, but it's one of the most common things to put in a Python program.\n",
    "\n",
    "Some things to consider about `import`:\n",
    "\n",
    "- It's not a function. Don't use parentheses with it. You write `import`, a space, and then the module you want to import.\n",
    "- In other languages, you often pass the name of the library you want to load as a string, in quotes. Not so in Python! Here, the name of the module you give is actually the variable name you want to define."
   ]
  },
  {
   "cell_type": "code",
   "execution_count": 8,
   "id": "28388d6e-3ff3-49ec-9557-0d9c94b6d53e",
   "metadata": {},
   "outputs": [
    {
     "data": {
      "text/plain": [
       "module"
      ]
     },
     "execution_count": 8,
     "metadata": {},
     "output_type": "execute_result"
    }
   ],
   "source": [
    "# let's say I want a random integer\n",
    "# I can use the \"random\" module for that, and the \"randint\" function in that module\n",
    "\n",
    "import random\n",
    "\n",
    "# after this line runs, \"random\" is defined as a variable\n",
    "\n",
    "type(random)"
   ]
  },
  {
   "cell_type": "code",
   "execution_count": 9,
   "id": "4e64a87a-b15c-497a-830a-7b0f2275b876",
   "metadata": {},
   "outputs": [
    {
     "data": {
      "text/plain": [
       "41"
      ]
     },
     "execution_count": 9,
     "metadata": {},
     "output_type": "execute_result"
    }
   ],
   "source": [
    "# if I want to use a function defined in the random module, I say random.FUNCNAME()\n",
    "\n",
    "random.randint(0, 100)   # this returns a single random int in the range 0-100"
   ]
  },
  {
   "cell_type": "markdown",
   "id": "88b4e747-f3bc-440a-b591-f2c4c83ff7f1",
   "metadata": {},
   "source": [
    "There are a bunch of different forms of `import` that we can use:\n",
    "\n",
    "1. The standard form, where we say `import MODULENAME`. This defines `MODULENAME` as a global variable, a module object whose attributes are the functions and values defined in the module.\n",
    "2. To define a single name from a module, use `from MODULENAME import NAME`. Note that this does *not* define `MODULENAME` as a global variable, but it does define `NAME`.\n",
    "3. To load a module but define a variable with a different name, use `import MODULENAME as ALIAS`.\n",
    "4. To define a single name from a module, but alias it to another name when you load it, use `from MODULENAME import NAME as ALIAS`.\n",
    "5. To define every name in a module as a global variable in your program, use `from MODULENAME import *`. **I beg you never to use use this!**"
   ]
  },
  {
   "cell_type": "code",
   "execution_count": 11,
   "id": "e17b997a-a2c4-4507-aa10-1e51bb3dd2cb",
   "metadata": {},
   "outputs": [
    {
     "ename": "NameError",
     "evalue": "name 'randint' is not defined",
     "output_type": "error",
     "traceback": [
      "\u001b[1;31m---------------------------------------------------------------------------\u001b[0m",
      "\u001b[1;31mNameError\u001b[0m                                 Traceback (most recent call last)",
      "Cell \u001b[1;32mIn[11], line 4\u001b[0m\n\u001b[0;32m      1\u001b[0m \u001b[38;5;66;03m# what happens if I tire of saying random.randint? What if I just want to say randint?\u001b[39;00m\n\u001b[0;32m      2\u001b[0m \u001b[38;5;66;03m# right now, randint doesn't exist as a variable. It exists as an attribute on the random module we loaded\u001b[39;00m\n\u001b[1;32m----> 4\u001b[0m \u001b[43mrandint\u001b[49m(\u001b[38;5;241m0\u001b[39m, \u001b[38;5;241m100\u001b[39m)\n",
      "\u001b[1;31mNameError\u001b[0m: name 'randint' is not defined"
     ]
    }
   ],
   "source": [
    "# what happens if I tire of saying random.randint? What if I just want to say randint?\n",
    "# right now, randint doesn't exist as a variable. It exists as an attribute on the random module we loaded\n",
    "\n",
    "randint(0, 100)"
   ]
  },
  {
   "cell_type": "code",
   "execution_count": 12,
   "id": "bf6b31e6-85e5-4329-9e2a-dd820f038a7c",
   "metadata": {},
   "outputs": [],
   "source": [
    "# there are many times that we might be using a function so often that we tire of saying both\n",
    "# the module name and the function name. In such cases, we want the function to be loaded as a variable,\n",
    "# rather than the module\n",
    "\n",
    "# for that, we have this syntax:\n",
    "\n",
    "from random import randint\n",
    "\n",
    "# the above still loads the entire random module into memory\n",
    "# the above does *not* define random as a variable\n",
    "# but it *does* define \"randint\" as a variable (function) name that we can use"
   ]
  },
  {
   "cell_type": "code",
   "execution_count": 13,
   "id": "aa0b8ffa-d44b-4839-a6f0-fe54aa96d81b",
   "metadata": {},
   "outputs": [
    {
     "data": {
      "text/plain": [
       "82"
      ]
     },
     "execution_count": 13,
     "metadata": {},
     "output_type": "execute_result"
    }
   ],
   "source": [
    "randint(0, 100)"
   ]
  },
  {
   "cell_type": "code",
   "execution_count": 14,
   "id": "72b516fa-73f1-4173-b108-d45148e67d96",
   "metadata": {},
   "outputs": [],
   "source": [
    "# are there other options?\n",
    "# if the module name is long, hard to spell, or just annoying, you can load the module\n",
    "# and give it an alias, an alternate name\n",
    "\n",
    "# this is *very* common in the world of data analysis, where everyone calls NumPy np and Pandas pd\n",
    "\n",
    "import random as r     # this loads the module, but doesn't define \"random\" as a variable. It defines \"r\" instead"
   ]
  },
  {
   "cell_type": "code",
   "execution_count": 15,
   "id": "2be5edfc-9c5e-49fa-9975-808f2c1c3ac3",
   "metadata": {},
   "outputs": [
    {
     "data": {
      "text/plain": [
       "9"
      ]
     },
     "execution_count": 15,
     "metadata": {},
     "output_type": "execute_result"
    }
   ],
   "source": [
    "r.randint(0, 100)"
   ]
  },
  {
   "cell_type": "code",
   "execution_count": 16,
   "id": "9be9731e-af8e-43d7-a6f6-f69468491c54",
   "metadata": {},
   "outputs": [],
   "source": [
    "# maybe there's already another \"randint\" that I don't want to clobber\n",
    "# maybe I just want a shorter alias\n",
    "\n",
    "from random import randint as ri     # now, randint won't be defined -- ri will"
   ]
  },
  {
   "cell_type": "code",
   "execution_count": 17,
   "id": "98132ebf-671a-47b8-a133-dae20e5869b2",
   "metadata": {},
   "outputs": [
    {
     "data": {
      "text/plain": [
       "53"
      ]
     },
     "execution_count": 17,
     "metadata": {},
     "output_type": "execute_result"
    }
   ],
   "source": [
    "ri(0, 100)"
   ]
  },
  {
   "cell_type": "code",
   "execution_count": 19,
   "id": "c4c2e20c-21b7-4d6c-acaf-740bf16f2bae",
   "metadata": {},
   "outputs": [],
   "source": [
    "# I can define multiple aliases within a single module, loading these two names\n",
    "\n",
    "from random import randint as ri, choice as ch"
   ]
  },
  {
   "cell_type": "markdown",
   "id": "f80b0297-ac7b-44cc-858c-480afb57555c",
   "metadata": {},
   "source": [
    "# Exercise: Number guessing game\n",
    "\n",
    "1. Use the `random.randint` function to choose a random integer between 0 and 100.\n",
    "2. Repeatedly ask the user to guess the number.\n",
    "    - If the user gets its right, then print \"You got it!\" and exit.\n",
    "    - Otherwise, tell the user that they're too high or too low, and let them try again.\n",
    "    - If they enter a non-numeric value, scold them and let them try again.\n",
    "  \n",
    "Example:\n",
    "\n",
    "    Guess the number: 50\n",
    "    Too low!\n",
    "    Guess the number: 75\n",
    "    Too high!\n",
    "    Guess the number: 70\n",
    "    Too low!\n",
    "    Guess the number: 72\n",
    "    You got it!\n",
    "    "
   ]
  },
  {
   "cell_type": "code",
   "execution_count": null,
   "id": "7eb7e27c-353a-42e4-96cd-1aef2381e294",
   "metadata": {},
   "outputs": [],
   "source": [
    "import random\n",
    "\n",
    "number = random.randint(0, 100)  \n",
    "\n",
    "while True:\n",
    "    s = input('Guess the number: ').strip()\n",
    "\n",
    "    if not s.isdigit():\n",
    "        print(f'{s} is not numeric; try again')\n",
    "        continue\n",
    "\n",
    "    guess = int(s)    # get an integer based on the user's input\n",
    "\n",
    "    if guess == number:\n",
    "        print('You got it!')\n",
    "        break\n",
    "    elif guess < number:\n",
    "        print('Too low')\n",
    "    else:\n",
    "        print('Too high')\n",
    "        \n",
    "        "
   ]
  },
  {
   "cell_type": "markdown",
   "id": "95af9b99-56df-4f53-994d-e7a716cd7b15",
   "metadata": {},
   "source": [
    "# How can you find the names defined in a module?\n",
    "\n",
    "1. Read the module's documentation. If it comes with Python, it'll be at https://docs.python.org. If it's on PyPI, then it's at https://pypi.org .\n",
    "2. Use the `help` function in Jupyter on the module, as in `help(random)`. That'll display the docstring, the documentation for users, including a list of names.\n",
    "3. If you're in an IDE such as PyCharm or VSCode, then hovering over a module name will often display its documentation, including a list of names.\n",
    "4. Use the `dir` function on the module in Jupyter, and get a list of strings -- the names defined on that module object. "
   ]
  },
  {
   "cell_type": "code",
   "execution_count": 21,
   "id": "8d5dc9bf-3dc7-42f9-ab83-54e1ebf1d6f1",
   "metadata": {},
   "outputs": [
    {
     "data": {
      "text/plain": [
       "['BPF',\n",
       " 'LOG4',\n",
       " 'NV_MAGICCONST',\n",
       " 'RECIP_BPF',\n",
       " 'Random',\n",
       " 'SG_MAGICCONST',\n",
       " 'SystemRandom',\n",
       " 'TWOPI',\n",
       " '_ONE',\n",
       " '_Sequence',\n",
       " '_Set',\n",
       " '__all__',\n",
       " '__builtins__',\n",
       " '__cached__',\n",
       " '__doc__',\n",
       " '__file__',\n",
       " '__loader__',\n",
       " '__name__',\n",
       " '__package__',\n",
       " '__spec__',\n",
       " '_accumulate',\n",
       " '_acos',\n",
       " '_bisect',\n",
       " '_ceil',\n",
       " '_cos',\n",
       " '_e',\n",
       " '_exp',\n",
       " '_floor',\n",
       " '_index',\n",
       " '_inst',\n",
       " '_isfinite',\n",
       " '_log',\n",
       " '_os',\n",
       " '_pi',\n",
       " '_random',\n",
       " '_repeat',\n",
       " '_sha512',\n",
       " '_sin',\n",
       " '_sqrt',\n",
       " '_test',\n",
       " '_test_generator',\n",
       " '_urandom',\n",
       " '_warn',\n",
       " 'betavariate',\n",
       " 'choice',\n",
       " 'choices',\n",
       " 'expovariate',\n",
       " 'gammavariate',\n",
       " 'gauss',\n",
       " 'getrandbits',\n",
       " 'getstate',\n",
       " 'lognormvariate',\n",
       " 'normalvariate',\n",
       " 'paretovariate',\n",
       " 'randbytes',\n",
       " 'randint',\n",
       " 'random',\n",
       " 'randrange',\n",
       " 'sample',\n",
       " 'seed',\n",
       " 'setstate',\n",
       " 'shuffle',\n",
       " 'triangular',\n",
       " 'uniform',\n",
       " 'vonmisesvariate',\n",
       " 'weibullvariate']"
      ]
     },
     "execution_count": 21,
     "metadata": {},
     "output_type": "execute_result"
    }
   ],
   "source": [
    "dir(random)"
   ]
  },
  {
   "cell_type": "code",
   "execution_count": 22,
   "id": "c9e1bf5a-04c4-40a5-9df9-92f068684767",
   "metadata": {},
   "outputs": [
    {
     "name": "stdout",
     "output_type": "stream",
     "text": [
      "Help on method triangular in module random:\n",
      "\n",
      "triangular(low=0.0, high=1.0, mode=None) method of random.Random instance\n",
      "    Triangular distribution.\n",
      "    \n",
      "    Continuous distribution bounded by given lower and upper limits,\n",
      "    and having a given mode value in-between.\n",
      "    \n",
      "    http://en.wikipedia.org/wiki/Triangular_distribution\n",
      "\n"
     ]
    }
   ],
   "source": [
    "# you can always run help on any one of these\n",
    "\n",
    "help(random.triangular)"
   ]
  },
  {
   "cell_type": "markdown",
   "id": "c016ca19-d352-4136-b0ac-984c7de2e9dd",
   "metadata": {},
   "source": [
    "# Next up\n",
    "\n",
    "1. Developing our own module\n",
    "2. What happens inside of a module file?\n",
    "3. Python's standard library"
   ]
  },
  {
   "cell_type": "code",
   "execution_count": 23,
   "id": "0ed2d6b6-ad40-4b20-b719-fefa5f75e649",
   "metadata": {},
   "outputs": [
    {
     "data": {
      "text/plain": [
       "<module 'random' from '/usr/local/Cellar/python@3.11/3.11.7/Frameworks/Python.framework/Versions/3.11/lib/python3.11/random.py'>"
      ]
     },
     "execution_count": 23,
     "metadata": {},
     "output_type": "execute_result"
    }
   ],
   "source": [
    "# where are modules getting loaded from?\n",
    "\n",
    "random   # ask the module to show me its printed representation"
   ]
  },
  {
   "cell_type": "code",
   "execution_count": 24,
   "id": "d1214b52-3f18-4392-b806-aae0112dcbb1",
   "metadata": {},
   "outputs": [
    {
     "data": {
      "text/plain": [
       "['/Users/reuven/Courses/Current/OReilly-2023-12December-python',\n",
       " '/usr/local/Cellar/python@3.11/3.11.7/Frameworks/Python.framework/Versions/3.11/lib/python311.zip',\n",
       " '/usr/local/Cellar/python@3.11/3.11.7/Frameworks/Python.framework/Versions/3.11/lib/python3.11',\n",
       " '/usr/local/Cellar/python@3.11/3.11.7/Frameworks/Python.framework/Versions/3.11/lib/python3.11/lib-dynload',\n",
       " '',\n",
       " '/Users/reuven/Library/Python/3.11/lib/python/site-packages',\n",
       " '/usr/local/lib/python3.11/site-packages',\n",
       " '/usr/local/Cellar/pybind11/2.11.1/libexec/lib/python3.11/site-packages',\n",
       " '/usr/local/opt/python-tk@3.11/libexec']"
      ]
     },
     "execution_count": 24,
     "metadata": {},
     "output_type": "execute_result"
    }
   ],
   "source": [
    "# where can these files live?\n",
    "\n",
    "import sys     # load the Python runtime system\n",
    "sys.path       # list of strings, directory names + zipfiles, where Python looks for modules"
   ]
  },
  {
   "cell_type": "code",
   "execution_count": 25,
   "id": "4325d3f6-4d04-410c-b991-fd3bbbb12063",
   "metadata": {},
   "outputs": [],
   "source": [
    "# when we say \"import ABCD\", Python looks for ABCD.py in each of these directories + zipfiles, one\n",
    "# at a time. The first one to have a match wins!\n",
    "\n",
    "import mymod"
   ]
  },
  {
   "cell_type": "code",
   "execution_count": 26,
   "id": "69a85a8e-06ad-484a-b0ab-2b42dfdcd501",
   "metadata": {},
   "outputs": [
    {
     "data": {
      "text/plain": [
       "<module 'mymod' from '/Users/reuven/Courses/Current/OReilly-2023-12December-python/mymod.py'>"
      ]
     },
     "execution_count": 26,
     "metadata": {},
     "output_type": "execute_result"
    }
   ],
   "source": [
    "mymod  # show me your printed representation"
   ]
  },
  {
   "cell_type": "code",
   "execution_count": 27,
   "id": "ce136eaa-e2b1-4b5a-914b-530935b059b1",
   "metadata": {},
   "outputs": [
    {
     "data": {
      "text/plain": [
       "['__builtins__',\n",
       " '__cached__',\n",
       " '__doc__',\n",
       " '__file__',\n",
       " '__loader__',\n",
       " '__name__',\n",
       " '__package__',\n",
       " '__spec__']"
      ]
     },
     "execution_count": 27,
     "metadata": {},
     "output_type": "execute_result"
    }
   ],
   "source": [
    "# what names are defined in this module?\n",
    "\n",
    "dir(mymod)"
   ]
  },
  {
   "cell_type": "code",
   "execution_count": 28,
   "id": "1486c5eb-9e0c-4a60-9d07-99b9b762a8b6",
   "metadata": {},
   "outputs": [
    {
     "data": {
      "text/plain": [
       "'/Users/reuven/Courses/Current/OReilly-2023-12December-python/mymod.py'"
      ]
     },
     "execution_count": 28,
     "metadata": {},
     "output_type": "execute_result"
    }
   ],
   "source": [
    "mymod.__file__"
   ]
  },
  {
   "cell_type": "code",
   "execution_count": 29,
   "id": "fdce9327-074b-474e-872a-8afaf0cf826f",
   "metadata": {},
   "outputs": [
    {
     "data": {
      "text/plain": [
       "'mymod'"
      ]
     },
     "execution_count": 29,
     "metadata": {},
     "output_type": "execute_result"
    }
   ],
   "source": [
    "mymod.__name__"
   ]
  },
  {
   "cell_type": "code",
   "execution_count": 30,
   "id": "c8e09ed8-8f2f-4bbc-8a93-49d0cba414c8",
   "metadata": {},
   "outputs": [],
   "source": [
    "import mymod"
   ]
  },
  {
   "cell_type": "code",
   "execution_count": 31,
   "id": "0c8365e9-d8b3-4476-a00f-4e8a2504d78e",
   "metadata": {},
   "outputs": [
    {
     "data": {
      "text/plain": [
       "['__builtins__',\n",
       " '__cached__',\n",
       " '__file__',\n",
       " '__loader__',\n",
       " '__name__',\n",
       " '__package__',\n",
       " '__spec__',\n",
       " 'hello',\n",
       " 'x',\n",
       " 'y',\n",
       " 'z']"
      ]
     },
     "execution_count": 31,
     "metadata": {},
     "output_type": "execute_result"
    }
   ],
   "source": [
    "dir(mymod)"
   ]
  },
  {
   "cell_type": "code",
   "execution_count": 32,
   "id": "b396c436-7843-4766-a3ba-66cc41e76ac0",
   "metadata": {},
   "outputs": [
    {
     "data": {
      "text/plain": [
       "<module 'mymod' from '/Users/reuven/Courses/Current/OReilly-2023-12December-python/mymod.py'>"
      ]
     },
     "execution_count": 32,
     "metadata": {},
     "output_type": "execute_result"
    }
   ],
   "source": [
    "# if you're running Jupyter, then you typically need to tell Python to reload a module\n",
    "# if you've already loaded it before. You can do that with\n",
    "\n",
    "import importlib           # yes, a module for working with modules!\n",
    "importlib.reload(mymod)    # reload a module "
   ]
  },
  {
   "cell_type": "code",
   "execution_count": 33,
   "id": "adf376ee-a2f2-4da8-a2f5-7c621869f4d9",
   "metadata": {},
   "outputs": [
    {
     "data": {
      "text/plain": [
       "100"
      ]
     },
     "execution_count": 33,
     "metadata": {},
     "output_type": "execute_result"
    }
   ],
   "source": [
    "mymod.x"
   ]
  },
  {
   "cell_type": "code",
   "execution_count": 34,
   "id": "398e520e-5cb8-4159-8b1a-6ddd3ca61f56",
   "metadata": {},
   "outputs": [
    {
     "data": {
      "text/plain": [
       "[10, 20, 30]"
      ]
     },
     "execution_count": 34,
     "metadata": {},
     "output_type": "execute_result"
    }
   ],
   "source": [
    "mymod.y"
   ]
  },
  {
   "cell_type": "code",
   "execution_count": 35,
   "id": "8d7468ca-4e74-4c5a-b413-25a28766d1a9",
   "metadata": {},
   "outputs": [
    {
     "data": {
      "text/plain": [
       "{'a': 100, 'b': 200, 'c': 300}"
      ]
     },
     "execution_count": 35,
     "metadata": {},
     "output_type": "execute_result"
    }
   ],
   "source": [
    "mymod.z"
   ]
  },
  {
   "cell_type": "code",
   "execution_count": 36,
   "id": "cca7c2c4-39f9-4613-ad1e-c80ee7ad1520",
   "metadata": {},
   "outputs": [
    {
     "data": {
      "text/plain": [
       "'Hello, world!'"
      ]
     },
     "execution_count": 36,
     "metadata": {},
     "output_type": "execute_result"
    }
   ],
   "source": [
    "mymod.hello('world')"
   ]
  },
  {
   "cell_type": "markdown",
   "id": "b4394ec8-5300-4f05-ad7e-2b7b068dd3bb",
   "metadata": {},
   "source": [
    "# Exercise: `menu` function\n",
    "\n",
    "1. Define a module called `menu`, meaning that the file will be `menu.py`, and put it in the same directory as your program / Jupyter.\n",
    "2. In that module, define a function called `menu`, which will take a list of strings as an argument. That list contains all of the options that the user can choose from.\n",
    "3. Ask the user to choose one of those options.\n",
    "    - If the user chooses one, then that value is returned from the function\n",
    "    - If the user enters an invalid choice, then have them try again\n",
    "  \n",
    "We should be able to write the following code:\n",
    "\n",
    "```python\n",
    "import menu\n",
    "user_choice = menu.menu(['a', 'b', 'c'])   # user must choose a, b, or c\n",
    "print(f'User chose {user_choice}')\n",
    "```"
   ]
  },
  {
   "cell_type": "code",
   "execution_count": 39,
   "id": "0f546f07-33e1-4473-b0d0-c52fd22b687b",
   "metadata": {
    "scrolled": true
   },
   "outputs": [
    {
     "name": "stdin",
     "output_type": "stream",
     "text": [
      "Enter your choice (['a', 'b', 'c']):  q\n",
      "Enter your choice (['a', 'b', 'c']):  p\n",
      "Enter your choice (['a', 'b', 'c']):  c\n"
     ]
    },
    {
     "name": "stdout",
     "output_type": "stream",
     "text": [
      "User chose c\n"
     ]
    }
   ],
   "source": [
    "import menu\n",
    "user_choice = menu.menu(['a', 'b', 'c'])   # user must choose a, b, or c\n",
    "print(f'User chose {user_choice}')"
   ]
  },
  {
   "cell_type": "code",
   "execution_count": 40,
   "id": "54bb9fab-a69d-4735-afa7-077132c88894",
   "metadata": {},
   "outputs": [
    {
     "name": "stdout",
     "output_type": "stream",
     "text": [
      "Hello from mymod!\n",
      "Goodbye from mymod!\n"
     ]
    }
   ],
   "source": [
    "import mymod"
   ]
  },
  {
   "cell_type": "markdown",
   "id": "9e187ec5-b9b4-4dff-80ab-7becaf27fa4a",
   "metadata": {},
   "source": [
    "# Names and attributes\n",
    "\n",
    "Inside of `mymod.py`, I've defined four variables: `x`, `y`, `z`, and `hello`. Inside of the module file, those are global variables, and I can use them as global variables.\n",
    "\n",
    "Outside of the module, when I import `mymod`. those are actually attributes, names that come after the module name and a dot: `mymod.x`, `mymod.y`, `mymod.z`, and `mymod.hello`. Always, when we `import` a module, its names are available to us as attributes on the module object.\n",
    "\n",
    "So: Anything that was a global variable in the module file is an attribute outside.\n",
    "\n",
    "Is the opposite true, too? If there is an attribute on the module object, then is it available as a global variable inside of the module? \n",
    "\n",
    "For example, we know that `__name__` contains the name of the module. Can I use `__name__` as a global variable inside of `mymod.py`?"
   ]
  },
  {
   "cell_type": "code",
   "execution_count": 41,
   "id": "8edc0770-30fe-496e-87db-12c55143fc1c",
   "metadata": {},
   "outputs": [
    {
     "name": "stdout",
     "output_type": "stream",
     "text": [
      "Hello from mymod!\n",
      "Goodbye from mymod!\n"
     ]
    }
   ],
   "source": [
    "import mymod"
   ]
  },
  {
   "cell_type": "markdown",
   "id": "f35352c6-f4de-4eaa-99e6-b90940b7c4eb",
   "metadata": {},
   "source": [
    "# What is `'__main__'`?\n",
    "\n",
    "`__name__` is available in two ways:\n",
    "\n",
    "- Inside of the module file, it's a variable, and it contains the name of the current module as a string.\n",
    "- Outside of the module file, it's an attribute on the module object, also containing the module's name as a string\n",
    "\n",
    "The thing is, the value of `__name__` isn't *always* the module name. It can be the string `'__main__'` if the module is the first part of a Python program to run.\n",
    "\n",
    "If you invoke `python mymod.py`, then the value of `__name__` inside of `mymod.py` will not be `'mymod'`, but will be `'__main__'`. \n",
    "\n",
    "Why? The answer is: This allows us to distinguish between when a module is being run as a program, and when it's being loaded by someone else via `import`. \n",
    "\n",
    "This leads us to one of the most famous, and most misunderstood lines in all of Python:\n",
    "\n",
    "```python\n",
    "if __name__ == '__main__':\n",
    "    something_here\n",
    "```\n",
    "\n",
    "This line, if put in a module file, basically means: Only execute the below code when the module is being run as a program. Ignore this code when we `import` the module.\n",
    "\n",
    "If you look at nearly any module in all of Python, it'll have this `if` statement at the bottom, followed by some code. This allows us to write a module that can also be run as an interactive program, with slightly different functionality.\n",
    "\n",
    "This comparison is *NOT* mandatory. It does *NOT* correspond to the `main` function in C."
   ]
  },
  {
   "cell_type": "code",
   "execution_count": 42,
   "id": "d7127818-b460-48ea-9bfe-21e4032c0a72",
   "metadata": {},
   "outputs": [],
   "source": [
    "import mymod"
   ]
  },
  {
   "cell_type": "markdown",
   "id": "691b9a89-ee83-46e0-8fb8-d4ab9614530b",
   "metadata": {},
   "source": [
    "# Python standard library\n",
    "\n",
    "Python comes with a very large number of modules already defined and ready for use. They're known as the \"Python standard library,\" and you are guaranteed that any installation of Python includes all of them.\n",
    "\n",
    "You still need to use `import` to use something from the standard library; these modules aren't imported by default (because they'll use up too much memory). But you can easily import them.\n",
    "\n",
    "The documentation for the standard library is here: https://docs.python.org/3/library/index.html"
   ]
  },
  {
   "cell_type": "markdown",
   "id": "ea80809e-1284-4bd2-aa13-7e8bdad55765",
   "metadata": {},
   "source": [
    "# Next up\n",
    "\n",
    "1. Exercise with the standard library\n",
    "2. PyPI and `pip`\n",
    "\n"
   ]
  },
  {
   "cell_type": "code",
   "execution_count": 44,
   "id": "05edc9fc-2705-4800-a5d1-4c09f042c58d",
   "metadata": {},
   "outputs": [
    {
     "data": {
      "text/plain": [
       "Counter({20: 4, 30: 3, 40: 2, 10: 1})"
      ]
     },
     "execution_count": 44,
     "metadata": {},
     "output_type": "execute_result"
    }
   ],
   "source": [
    "from collections import Counter\n",
    "\n",
    "Counter([10, 20, 30, 20, 30, 40, 20, 30, 40, 20])  # pass an iterable to Counter"
   ]
  },
  {
   "cell_type": "code",
   "execution_count": 45,
   "id": "2ddceb01-3ad2-462e-9916-cafebd3e5f92",
   "metadata": {},
   "outputs": [
    {
     "data": {
      "text/plain": [
       "Counter({'words': 3,\n",
       "         'is': 2,\n",
       "         'a': 2,\n",
       "         'bunch': 2,\n",
       "         'of': 2,\n",
       "         'and': 2,\n",
       "         'this': 1,\n",
       "         'it': 1,\n",
       "         'great': 1,\n",
       "         'I': 1,\n",
       "         'am': 1,\n",
       "         'writing': 1,\n",
       "         'too': 1,\n",
       "         'many': 1})"
      ]
     },
     "execution_count": 45,
     "metadata": {},
     "output_type": "execute_result"
    }
   ],
   "source": [
    "Counter('this is a bunch of words and it is a bunch of great words and I am writing too many words'.split())"
   ]
  },
  {
   "cell_type": "code",
   "execution_count": null,
   "id": "8aece746-a7c0-4359-9564-dc9e4ec22439",
   "metadata": {},
   "outputs": [],
   "source": [
    "# we can treat a Counter object like a dict, both retrieving values with []\n",
    "# and also invoking methods like .items() to iterate\n",
    "\n"
   ]
  },
  {
   "cell_type": "markdown",
   "id": "f2568a39-55a4-4acf-b5d5-543aa2df0d6b",
   "metadata": {},
   "source": [
    "# Exercise: `Counter`\n",
    "\n",
    "One of the most useful things in the standard library is the `collections` module, and the `Counter` data type in that module. You can think of `Counter` as a variation on dictionaries. A `Counter` object has keys and values, just like a dict. But you normally don't set it up in the same way. Rather, you create a `Counter` by passing it a list of values, normally strings or integers. The resulting `Counter` object's keys are the unique values that you passed to it, and its values are integers telling you how often each appeared.\n",
    "\n",
    "We are now going to rewrite our earlier program, counting IP addresses, using `Counter`.\n",
    "\n",
    "1. Create a list of the IP addresses used in `mini-access-log.txt`. If there are 100 lines in the file, then the list should contain 100 IP addresses, all strings.\n",
    "2. Use `Counter` to count how often each address appears.\n",
    "3. Iterate over the `Counter` object, printing each IP address and how often it appears."
   ]
  },
  {
   "cell_type": "code",
   "execution_count": null,
   "id": "3401a7c9-3d77-4654-8d4a-8aa6d3b84d18",
   "metadata": {},
   "outputs": [],
   "source": []
  }
 ],
 "metadata": {
  "kernelspec": {
   "display_name": "Python 3 (ipykernel)",
   "language": "python",
   "name": "python3"
  },
  "language_info": {
   "codemirror_mode": {
    "name": "ipython",
    "version": 3
   },
   "file_extension": ".py",
   "mimetype": "text/x-python",
   "name": "python",
   "nbconvert_exporter": "python",
   "pygments_lexer": "ipython3",
   "version": "3.11.7"
  }
 },
 "nbformat": 4,
 "nbformat_minor": 5
}
